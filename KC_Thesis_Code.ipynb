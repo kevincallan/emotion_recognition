{
  "nbformat": 4,
  "nbformat_minor": 0,
  "metadata": {
    "colab": {
      "name": "KC_Assignment_Code.ipynb",
      "provenance": [],
      "collapsed_sections": [],
      "toc_visible": true,
      "include_colab_link": true
    },
    "kernelspec": {
      "name": "python3",
      "display_name": "Python 3"
    }
  },
  "cells": [
    {
      "cell_type": "markdown",
      "metadata": {
        "id": "view-in-github",
        "colab_type": "text"
      },
      "source": [
        "<a href=\"https://colab.research.google.com/github/kevincallan/emotion_recognition/blob/main/KC_Thesis_Code.ipynb\" target=\"_parent\"><img src=\"https://colab.research.google.com/assets/colab-badge.svg\" alt=\"Open In Colab\"/></a>"
      ]
    },
    {
      "cell_type": "markdown",
      "metadata": {
        "id": "8oXiGSuJFO6O"
      },
      "source": [
        "# Process Description \n",
        "The best performing contributors in the MediaEval competion used captions heavily when predicting the memorability score of a given video. Armed with this information this notebook will aim to use captions fundamentally along with the other pre computed features avaialble. However using encoded captions in the same model as the other pre-computed features leads to junk output as the features are of a entirely differnt scale. \n",
        "\n",
        "\n",
        "### This aprroach aims to do the following: \n",
        "\n",
        "\n",
        "1.   Extract Captions as features\n",
        "2.   Use these encoded features in a simple neural net architecture to output a memorability score as a probability. \n",
        "3. Combine a model of caption and the other models of the other precomputed features with the aim of enhancing the prediction of memorability. \n",
        "\n",
        "\n",
        "\n",
        "\n"
      ]
    },
    {
      "cell_type": "markdown",
      "metadata": {
        "id": "KaSIxiNbfLhW"
      },
      "source": [
        "# Ground Truth Data Set Exploration\n",
        "\n",
        "Some exploration of the ground truth data set included analysis of the distribution of the memorability scores and the differences between long and short term memorability. "
      ]
    },
    {
      "cell_type": "markdown",
      "metadata": {
        "id": "6kmC7lerm1ws"
      },
      "source": [
        "First cells here cover the library dependencies "
      ]
    },
    {
      "cell_type": "code",
      "metadata": {
        "id": "ot4EyR8SnR_E",
        "colab": {
          "base_uri": "https://localhost:8080/",
          "height": 34
        },
        "outputId": "5aa1822e-f474-4f96-dbb1-7c3b197e184b"
      },
      "source": [
        "!pip install pyprind"
      ],
      "execution_count": null,
      "outputs": [
        {
          "output_type": "stream",
          "text": [
            "Requirement already satisfied: pyprind in /usr/local/lib/python3.6/dist-packages (2.11.2)\n"
          ],
          "name": "stdout"
        }
      ]
    },
    {
      "cell_type": "code",
      "metadata": {
        "id": "US9vcfljfssp",
        "colab": {
          "base_uri": "https://localhost:8080/",
          "height": 324
        },
        "outputId": "d83c918c-78e1-459d-8e2c-b6e761a19449"
      },
      "source": [
        "# data analysis packages\n",
        "import pandas as pd\n",
        "import numpy as np\n",
        "import matplotlib.pyplot as plt\n",
        "import seaborn as sns\n",
        "# loading bar\n",
        "# fix issue with tqdm and colab\n",
        "!pip install --force https://github.com/chengs/tqdm/archive/colab.zip\n",
        "from tqdm import tqdm_notebook as tqdm\n",
        "import pandas as pd\n",
        "from keras import Sequential\n",
        "from keras import layers\n",
        "from keras import regularizers\n",
        "import numpy as np\n",
        "from string import punctuation\n",
        "import pyprind\n",
        "from collections import Counter\n",
        "from keras.preprocessing.text import Tokenizer\n",
        "from sklearn.model_selection import train_test_split\n",
        "# for reproducability\n",
        "from numpy.random import seed\n",
        "seed(1)\n",
        "from tensorflow import set_random_seed\n",
        "set_random_seed(1)\n",
        "from pathlib import Path"
      ],
      "execution_count": null,
      "outputs": [
        {
          "output_type": "stream",
          "text": [
            "Collecting https://github.com/chengs/tqdm/archive/colab.zip\n",
            "\u001b[?25l  Downloading https://github.com/chengs/tqdm/archive/colab.zip\n",
            "\u001b[K     - 92kB 6.0MB/s\n",
            "\u001b[?25hBuilding wheels for collected packages: tqdm\n",
            "  Building wheel for tqdm (setup.py) ... \u001b[?25l\u001b[?25hdone\n",
            "  Stored in directory: /tmp/pip-ephem-wheel-cache-eobio3qe/wheels/41/18/ee/d5dd158441b27965855b1bbae03fa2d8a91fe645c01b419896\n",
            "Successfully built tqdm\n",
            "Installing collected packages: tqdm\n",
            "  Found existing installation: tqdm 4.28.1\n",
            "    Uninstalling tqdm-4.28.1:\n",
            "      Successfully uninstalled tqdm-4.28.1\n",
            "Successfully installed tqdm-4.28.1\n"
          ],
          "name": "stdout"
        },
        {
          "output_type": "display_data",
          "data": {
            "application/vnd.colab-display-data+json": {
              "pip_warning": {
                "packages": [
                  "tqdm"
                ]
              }
            }
          },
          "metadata": {
            "tags": []
          }
        },
        {
          "output_type": "stream",
          "text": [
            "Using TensorFlow backend.\n"
          ],
          "name": "stderr"
        }
      ]
    },
    {
      "cell_type": "code",
      "metadata": {
        "id": "w0G9MwV-f0Jm",
        "colab": {
          "base_uri": "https://localhost:8080/",
          "height": 119
        },
        "outputId": "ef5e77ed-416e-4cf6-daae-08c328d2da09"
      },
      "source": [
        "#Mount Google Drive \n",
        "from google.colab import drive\n",
        "drive.mount('/content/drive/')\n",
        "import os\n",
        "os.chdir(\"/content/drive/My Drive/CA684_Assignment_Data/\")\n",
        "!ls"
      ],
      "execution_count": null,
      "outputs": [
        {
          "output_type": "stream",
          "text": [
            "Drive already mounted at /content/drive/; to attempt to forcibly remount, call drive.mount(\"/content/drive/\", force_remount=True).\n",
            "dev-set\t\t\t\t     Memorability-Tutorial.ipynb\n",
            "dev-set_aesthetic-features.zip\t     Predictions_with_captions.ipynb\n",
            "dev-set.zip\t\t\t     sources.zip\n",
            "load_features_barebones.ipynb\t     test-set\n",
            "MemorabilityDataset2018_license.txt\n"
          ],
          "name": "stdout"
        }
      ]
    },
    {
      "cell_type": "code",
      "metadata": {
        "id": "n8VFuEcxgzX4",
        "colab": {
          "base_uri": "https://localhost:8080/",
          "height": 34
        },
        "outputId": "ff3e44ed-fc96-40b7-bbbe-9949ab0871ad"
      },
      "source": [
        "!pwd"
      ],
      "execution_count": null,
      "outputs": [
        {
          "output_type": "stream",
          "text": [
            "/content\n"
          ],
          "name": "stdout"
        }
      ]
    },
    {
      "cell_type": "code",
      "metadata": {
        "id": "gBOjOm4sgXO5",
        "colab": {
          "base_uri": "https://localhost:8080/",
          "height": 409
        },
        "outputId": "661f4743-8d82-45c7-c719-d1a4b95caa88"
      },
      "source": [
        "# ground_truth_file = 'dev-set/dev-set_ground-truth.csv'\n",
        "# ground_truth = pd.read_csv(ground_truth_file)\n",
        "\n",
        "ground_truth = pd.read_csv('dev-set/dev-set_ground-truth.csv', header = 0) \n",
        "ground_truth.head()"
      ],
      "execution_count": null,
      "outputs": [
        {
          "output_type": "error",
          "ename": "FileNotFoundError",
          "evalue": "ignored",
          "traceback": [
            "\u001b[0;31m---------------------------------------------------------------------------\u001b[0m",
            "\u001b[0;31mFileNotFoundError\u001b[0m                         Traceback (most recent call last)",
            "\u001b[0;32m<ipython-input-11-e23b7a40d90b>\u001b[0m in \u001b[0;36m<module>\u001b[0;34m()\u001b[0m\n\u001b[1;32m      1\u001b[0m \u001b[0;34m\u001b[0m\u001b[0m\n\u001b[0;32m----> 2\u001b[0;31m \u001b[0mground_truth\u001b[0m \u001b[0;34m=\u001b[0m \u001b[0mpd\u001b[0m\u001b[0;34m.\u001b[0m\u001b[0mread_csv\u001b[0m\u001b[0;34m(\u001b[0m\u001b[0;34m'dev-set/dev-set_ground-truth.csv'\u001b[0m\u001b[0;34m,\u001b[0m \u001b[0mheader\u001b[0m \u001b[0;34m=\u001b[0m \u001b[0;36m0\u001b[0m\u001b[0;34m)\u001b[0m\u001b[0;34m\u001b[0m\u001b[0;34m\u001b[0m\u001b[0m\n\u001b[0m\u001b[1;32m      3\u001b[0m \u001b[0mground_truth\u001b[0m\u001b[0;34m.\u001b[0m\u001b[0mhead\u001b[0m\u001b[0;34m(\u001b[0m\u001b[0;34m)\u001b[0m\u001b[0;34m\u001b[0m\u001b[0;34m\u001b[0m\u001b[0m\n",
            "\u001b[0;32m/usr/local/lib/python3.6/dist-packages/pandas/io/parsers.py\u001b[0m in \u001b[0;36mparser_f\u001b[0;34m(filepath_or_buffer, sep, delimiter, header, names, index_col, usecols, squeeze, prefix, mangle_dupe_cols, dtype, engine, converters, true_values, false_values, skipinitialspace, skiprows, skipfooter, nrows, na_values, keep_default_na, na_filter, verbose, skip_blank_lines, parse_dates, infer_datetime_format, keep_date_col, date_parser, dayfirst, iterator, chunksize, compression, thousands, decimal, lineterminator, quotechar, quoting, doublequote, escapechar, comment, encoding, dialect, tupleize_cols, error_bad_lines, warn_bad_lines, delim_whitespace, low_memory, memory_map, float_precision)\u001b[0m\n\u001b[1;32m    700\u001b[0m                     skip_blank_lines=skip_blank_lines)\n\u001b[1;32m    701\u001b[0m \u001b[0;34m\u001b[0m\u001b[0m\n\u001b[0;32m--> 702\u001b[0;31m         \u001b[0;32mreturn\u001b[0m \u001b[0m_read\u001b[0m\u001b[0;34m(\u001b[0m\u001b[0mfilepath_or_buffer\u001b[0m\u001b[0;34m,\u001b[0m \u001b[0mkwds\u001b[0m\u001b[0;34m)\u001b[0m\u001b[0;34m\u001b[0m\u001b[0;34m\u001b[0m\u001b[0m\n\u001b[0m\u001b[1;32m    703\u001b[0m \u001b[0;34m\u001b[0m\u001b[0m\n\u001b[1;32m    704\u001b[0m     \u001b[0mparser_f\u001b[0m\u001b[0;34m.\u001b[0m\u001b[0m__name__\u001b[0m \u001b[0;34m=\u001b[0m \u001b[0mname\u001b[0m\u001b[0;34m\u001b[0m\u001b[0;34m\u001b[0m\u001b[0m\n",
            "\u001b[0;32m/usr/local/lib/python3.6/dist-packages/pandas/io/parsers.py\u001b[0m in \u001b[0;36m_read\u001b[0;34m(filepath_or_buffer, kwds)\u001b[0m\n\u001b[1;32m    427\u001b[0m \u001b[0;34m\u001b[0m\u001b[0m\n\u001b[1;32m    428\u001b[0m     \u001b[0;31m# Create the parser.\u001b[0m\u001b[0;34m\u001b[0m\u001b[0;34m\u001b[0m\u001b[0;34m\u001b[0m\u001b[0m\n\u001b[0;32m--> 429\u001b[0;31m     \u001b[0mparser\u001b[0m \u001b[0;34m=\u001b[0m \u001b[0mTextFileReader\u001b[0m\u001b[0;34m(\u001b[0m\u001b[0mfilepath_or_buffer\u001b[0m\u001b[0;34m,\u001b[0m \u001b[0;34m**\u001b[0m\u001b[0mkwds\u001b[0m\u001b[0;34m)\u001b[0m\u001b[0;34m\u001b[0m\u001b[0;34m\u001b[0m\u001b[0m\n\u001b[0m\u001b[1;32m    430\u001b[0m \u001b[0;34m\u001b[0m\u001b[0m\n\u001b[1;32m    431\u001b[0m     \u001b[0;32mif\u001b[0m \u001b[0mchunksize\u001b[0m \u001b[0;32mor\u001b[0m \u001b[0miterator\u001b[0m\u001b[0;34m:\u001b[0m\u001b[0;34m\u001b[0m\u001b[0;34m\u001b[0m\u001b[0m\n",
            "\u001b[0;32m/usr/local/lib/python3.6/dist-packages/pandas/io/parsers.py\u001b[0m in \u001b[0;36m__init__\u001b[0;34m(self, f, engine, **kwds)\u001b[0m\n\u001b[1;32m    893\u001b[0m             \u001b[0mself\u001b[0m\u001b[0;34m.\u001b[0m\u001b[0moptions\u001b[0m\u001b[0;34m[\u001b[0m\u001b[0;34m'has_index_names'\u001b[0m\u001b[0;34m]\u001b[0m \u001b[0;34m=\u001b[0m \u001b[0mkwds\u001b[0m\u001b[0;34m[\u001b[0m\u001b[0;34m'has_index_names'\u001b[0m\u001b[0;34m]\u001b[0m\u001b[0;34m\u001b[0m\u001b[0;34m\u001b[0m\u001b[0m\n\u001b[1;32m    894\u001b[0m \u001b[0;34m\u001b[0m\u001b[0m\n\u001b[0;32m--> 895\u001b[0;31m         \u001b[0mself\u001b[0m\u001b[0;34m.\u001b[0m\u001b[0m_make_engine\u001b[0m\u001b[0;34m(\u001b[0m\u001b[0mself\u001b[0m\u001b[0;34m.\u001b[0m\u001b[0mengine\u001b[0m\u001b[0;34m)\u001b[0m\u001b[0;34m\u001b[0m\u001b[0;34m\u001b[0m\u001b[0m\n\u001b[0m\u001b[1;32m    896\u001b[0m \u001b[0;34m\u001b[0m\u001b[0m\n\u001b[1;32m    897\u001b[0m     \u001b[0;32mdef\u001b[0m \u001b[0mclose\u001b[0m\u001b[0;34m(\u001b[0m\u001b[0mself\u001b[0m\u001b[0;34m)\u001b[0m\u001b[0;34m:\u001b[0m\u001b[0;34m\u001b[0m\u001b[0;34m\u001b[0m\u001b[0m\n",
            "\u001b[0;32m/usr/local/lib/python3.6/dist-packages/pandas/io/parsers.py\u001b[0m in \u001b[0;36m_make_engine\u001b[0;34m(self, engine)\u001b[0m\n\u001b[1;32m   1120\u001b[0m     \u001b[0;32mdef\u001b[0m \u001b[0m_make_engine\u001b[0m\u001b[0;34m(\u001b[0m\u001b[0mself\u001b[0m\u001b[0;34m,\u001b[0m \u001b[0mengine\u001b[0m\u001b[0;34m=\u001b[0m\u001b[0;34m'c'\u001b[0m\u001b[0;34m)\u001b[0m\u001b[0;34m:\u001b[0m\u001b[0;34m\u001b[0m\u001b[0;34m\u001b[0m\u001b[0m\n\u001b[1;32m   1121\u001b[0m         \u001b[0;32mif\u001b[0m \u001b[0mengine\u001b[0m \u001b[0;34m==\u001b[0m \u001b[0;34m'c'\u001b[0m\u001b[0;34m:\u001b[0m\u001b[0;34m\u001b[0m\u001b[0;34m\u001b[0m\u001b[0m\n\u001b[0;32m-> 1122\u001b[0;31m             \u001b[0mself\u001b[0m\u001b[0;34m.\u001b[0m\u001b[0m_engine\u001b[0m \u001b[0;34m=\u001b[0m \u001b[0mCParserWrapper\u001b[0m\u001b[0;34m(\u001b[0m\u001b[0mself\u001b[0m\u001b[0;34m.\u001b[0m\u001b[0mf\u001b[0m\u001b[0;34m,\u001b[0m \u001b[0;34m**\u001b[0m\u001b[0mself\u001b[0m\u001b[0;34m.\u001b[0m\u001b[0moptions\u001b[0m\u001b[0;34m)\u001b[0m\u001b[0;34m\u001b[0m\u001b[0;34m\u001b[0m\u001b[0m\n\u001b[0m\u001b[1;32m   1123\u001b[0m         \u001b[0;32melse\u001b[0m\u001b[0;34m:\u001b[0m\u001b[0;34m\u001b[0m\u001b[0;34m\u001b[0m\u001b[0m\n\u001b[1;32m   1124\u001b[0m             \u001b[0;32mif\u001b[0m \u001b[0mengine\u001b[0m \u001b[0;34m==\u001b[0m \u001b[0;34m'python'\u001b[0m\u001b[0;34m:\u001b[0m\u001b[0;34m\u001b[0m\u001b[0;34m\u001b[0m\u001b[0m\n",
            "\u001b[0;32m/usr/local/lib/python3.6/dist-packages/pandas/io/parsers.py\u001b[0m in \u001b[0;36m__init__\u001b[0;34m(self, src, **kwds)\u001b[0m\n\u001b[1;32m   1851\u001b[0m         \u001b[0mkwds\u001b[0m\u001b[0;34m[\u001b[0m\u001b[0;34m'usecols'\u001b[0m\u001b[0;34m]\u001b[0m \u001b[0;34m=\u001b[0m \u001b[0mself\u001b[0m\u001b[0;34m.\u001b[0m\u001b[0musecols\u001b[0m\u001b[0;34m\u001b[0m\u001b[0;34m\u001b[0m\u001b[0m\n\u001b[1;32m   1852\u001b[0m \u001b[0;34m\u001b[0m\u001b[0m\n\u001b[0;32m-> 1853\u001b[0;31m         \u001b[0mself\u001b[0m\u001b[0;34m.\u001b[0m\u001b[0m_reader\u001b[0m \u001b[0;34m=\u001b[0m \u001b[0mparsers\u001b[0m\u001b[0;34m.\u001b[0m\u001b[0mTextReader\u001b[0m\u001b[0;34m(\u001b[0m\u001b[0msrc\u001b[0m\u001b[0;34m,\u001b[0m \u001b[0;34m**\u001b[0m\u001b[0mkwds\u001b[0m\u001b[0;34m)\u001b[0m\u001b[0;34m\u001b[0m\u001b[0;34m\u001b[0m\u001b[0m\n\u001b[0m\u001b[1;32m   1854\u001b[0m         \u001b[0mself\u001b[0m\u001b[0;34m.\u001b[0m\u001b[0munnamed_cols\u001b[0m \u001b[0;34m=\u001b[0m \u001b[0mself\u001b[0m\u001b[0;34m.\u001b[0m\u001b[0m_reader\u001b[0m\u001b[0;34m.\u001b[0m\u001b[0munnamed_cols\u001b[0m\u001b[0;34m\u001b[0m\u001b[0;34m\u001b[0m\u001b[0m\n\u001b[1;32m   1855\u001b[0m \u001b[0;34m\u001b[0m\u001b[0m\n",
            "\u001b[0;32mpandas/_libs/parsers.pyx\u001b[0m in \u001b[0;36mpandas._libs.parsers.TextReader.__cinit__\u001b[0;34m()\u001b[0m\n",
            "\u001b[0;32mpandas/_libs/parsers.pyx\u001b[0m in \u001b[0;36mpandas._libs.parsers.TextReader._setup_parser_source\u001b[0;34m()\u001b[0m\n",
            "\u001b[0;31mFileNotFoundError\u001b[0m: [Errno 2] File b'dev-set/dev-set_ground-truth.csv' does not exist: b'dev-set/dev-set_ground-truth.csv'"
          ]
        }
      ]
    },
    {
      "cell_type": "code",
      "metadata": {
        "id": "xdGkioVdhH6v"
      },
      "source": [
        ""
      ],
      "execution_count": null,
      "outputs": []
    },
    {
      "cell_type": "markdown",
      "metadata": {
        "id": "Li1_JVscgxeF"
      },
      "source": [
        "### Plotting the histograms of both long and short term memorability. \n",
        "\n",
        "\n",
        "**Interestingly shorter term recall is skewed slightly more right than longer term, possibly \n",
        "indicating that it's hard to etch stuff into longer term memory.** \n",
        "The code to put this together is similar to the examples but is important to illastrate and explore the problem we're trying to solve."
      ]
    },
    {
      "cell_type": "code",
      "metadata": {
        "id": "yEcsDS9igjAo",
        "colab": {
          "base_uri": "https://localhost:8080/",
          "height": 295
        },
        "outputId": "ed58c5c0-127c-4bb6-dae2-cef0dc328585"
      },
      "source": [
        "bins = 15\n",
        "figs = ground_truth[['short-term_memorability', 'long-term_memorability']].hist(bins=bins)\n",
        "\n",
        "for fig in figs[0]:\n",
        "  fig.set_xlabel('memorability')\n",
        "  fig.set_ylim(0, 1500)\n",
        "  fig.set_xlim(0, 1)\n",
        "  fig.set_xlabel('memorability')\n",
        "  fig.set_ylim(0, 1500)\n",
        "  fig.set_xlim(0, 1)\n",
        "\n",
        "# I put None at the end of any cell where the last statement is related to a plot\n",
        "# Just removes some noise\n",
        "# Remove the None to see what happens\n",
        "None"
      ],
      "execution_count": null,
      "outputs": [
        {
          "output_type": "display_data",
          "data": {
            "image/png": "[encoded data removed]",
            "text/plain": [
              "<Figure size 432x288 with 2 Axes>"
            ]
          },
          "metadata": {
            "tags": []
          }
        }
      ]
    },
    {
      "cell_type": "markdown",
      "metadata": {
        "id": "8sMGzmLIgQ_2"
      },
      "source": [
        "### Density Distribution of Memorability Scores"
      ]
    },
    {
      "cell_type": "code",
      "metadata": {
        "id": "4cBR8AzXgsrZ",
        "colab": {
          "base_uri": "https://localhost:8080/",
          "height": 295
        },
        "outputId": "d94f7b82-5210-4ada-9f45-964c7e4da511"
      },
      "source": [
        "for label in ['short-term_memorability', 'long-term_memorability']:\n",
        "  sns.distplot(ground_truth[label], hist=False, label=label)\n",
        "plt.xlabel('memorability')\n",
        "plt.title('memorability density plot')\n",
        "\n",
        "None"
      ],
      "execution_count": null,
      "outputs": [
        {
          "output_type": "display_data",
          "data": {
            "image/png": "[encoded data removed]",
            "text/plain": [
              "<Figure size 432x288 with 1 Axes>"
            ]
          },
          "metadata": {
            "tags": []
          }
        }
      ]
    },
    {
      "cell_type": "markdown",
      "metadata": {
        "id": "kpqvfPPLjGTt"
      },
      "source": [
        "### Scatter plot showing an inconclusive relationship between a videos short and long term memorability. "
      ]
    },
    {
      "cell_type": "code",
      "metadata": {
        "id": "lYLA5GZzjEa1",
        "colab": {
          "base_uri": "https://localhost:8080/",
          "height": 301
        },
        "outputId": "bbe49b43-7c7c-4cb0-fb73-5af68fd47828"
      },
      "source": [
        "(ground_truth[['short-term_memorability','long-term_memorability']]\n",
        "  .plot(kind='scatter',\n",
        "        x='short-term_memorability',\n",
        "        y='long-term_memorability'))"
      ],
      "execution_count": null,
      "outputs": [
        {
          "output_type": "execute_result",
          "data": {
            "text/plain": [
              "<matplotlib.axes._subplots.AxesSubplot at 0x7fc8f34fd3c8>"
            ]
          },
          "metadata": {
            "tags": []
          },
          "execution_count": 364
        },
        {
          "output_type": "display_data",
          "data": {
            "image/png": "[encoded data removed]",
            "text/plain": [
              "<Figure size 432x288 with 1 Axes>"
            ]
          },
          "metadata": {
            "tags": []
          }
        }
      ]
    },
    {
      "cell_type": "markdown",
      "metadata": {
        "id": "2wjMTaQDipM2"
      },
      "source": [
        "# Precomputed Feature Processing & Captions From theMediaEval Dataset\n",
        "\n",
        "Section Prepares the pre-computed features & Captions to prepare as inputs to various models\n",
        "\n",
        "1.    Captions\n",
        "\n",
        "5.   Fc7 layer from inception \n",
        "\n",
        "\n",
        "\n"
      ]
    },
    {
      "cell_type": "markdown",
      "metadata": {
        "id": "eHLnyv-ilDEd"
      },
      "source": [
        "# Captions Processing \n",
        "\n",
        "Videos are manully captioned with a brief description of the content of the video \n",
        "e.g. \"roulette table spinning with ball in closeup shot\"\n",
        "\n",
        "Use of captions by other participants in the MediaEval competition proved to be a very important feature in predicting memorability. \n"
      ]
    },
    {
      "cell_type": "code",
      "metadata": {
        "id": "wVMuUU9djbMN"
      },
      "source": [
        "# load labels and captions from the dev set.\n",
        "def read_caps(fname):\n",
        "    \"\"\"Load the captions into a dataframe\"\"\"\n",
        "    vn = []\n",
        "    cap = []\n",
        "    df = pd.DataFrame();\n",
        "    with open(fname) as f:\n",
        "        for line in f:\n",
        "            pairs = line.split()\n",
        "            vn.append(pairs[0])\n",
        "            cap.append(pairs[1])\n",
        "        df['video']=vn\n",
        "        df['caption']=cap\n",
        "    return df\n",
        "\n",
        "# load the captions\n",
        "cap_path = 'dev-set/dev-set_video-captions.txt'\n",
        "df_cap=read_caps(cap_path)\n",
        "\n",
        "# load the ground truth values\n",
        "label_path = 'dev-set/'\n",
        "labels=pd.read_csv(label_path+'dev-set_ground-truth.csv')"
      ],
      "execution_count": null,
      "outputs": []
    },
    {
      "cell_type": "code",
      "metadata": {
        "id": "59qtWOOWmvP1",
        "colab": {
          "base_uri": "https://localhost:8080/",
          "height": 68
        },
        "outputId": "6bc0621c-3db3-4e9f-c50f-4a6c15029e65"
      },
      "source": [
        "counts = Counter()\n",
        "# setup prograss tracker\n",
        "pbar = pyprind.ProgBar(len(df_cap['caption']), title='Counting word occurrences')\n",
        "for i, cap in enumerate(df_cap['caption']):\n",
        "    # replace punctuations with space\n",
        "    # convert words to lower case \n",
        "    text = ''.join([c if c not in punctuation else ' ' for c in cap]).lower()\n",
        "    df_cap.loc[i,'caption'] = text\n",
        "    pbar.update()\n",
        "    counts.update(text.split())"
      ],
      "execution_count": null,
      "outputs": [
        {
          "output_type": "stream",
          "text": [
            "Counting word occurrences\n",
            "0% [##############################] 100% | ETA: 00:00:00\n",
            "Total time elapsed: 00:00:04\n"
          ],
          "name": "stderr"
        }
      ]
    },
    {
      "cell_type": "code",
      "metadata": {
        "id": "DVC-GUtsn9Bz"
      },
      "source": [
        "print(labels)"
      ],
      "execution_count": null,
      "outputs": []
    },
    {
      "cell_type": "markdown",
      "metadata": {
        "id": "8D-0IszqoLsX"
      },
      "source": [
        "### Encoding of Each word. \n",
        "\n",
        "This encoding will act as preproscessing for the model. Without some form of encodeing or transformation from raw text the model input would not work. "
      ]
    },
    {
      "cell_type": "code",
      "metadata": {
        "id": "RSSU_wNkoGnS",
        "colab": {
          "base_uri": "https://localhost:8080/",
          "height": 34
        },
        "outputId": "131b241d-6a26-4709-c989-57c67b7d3183"
      },
      "source": [
        "# build the word index\n",
        "len_token = len(counts)\n",
        "tokenizer = Tokenizer(num_words=len_token)\n",
        "print(len_token)"
      ],
      "execution_count": null,
      "outputs": [
        {
          "output_type": "stream",
          "text": [
            "5191\n"
          ],
          "name": "stdout"
        }
      ]
    },
    {
      "cell_type": "code",
      "metadata": {
        "id": "OhU8v0LToktL"
      },
      "source": [
        "tokenizer.fit_on_texts(list(df_cap.caption.values)) \n",
        "#fit a list of captions to the tokenizer\n",
        "#the tokenizer vectorizes a text corpus, by turning each text into either a sequence of integers "
      ],
      "execution_count": null,
      "outputs": []
    },
    {
      "cell_type": "code",
      "metadata": {
        "id": "oFUZ7c2Joo6X",
        "colab": {
          "base_uri": "https://localhost:8080/",
          "height": 34
        },
        "outputId": "eed5cd9e-4f8e-4150-9198-69e46da7ca3b"
      },
      "source": [
        "print(len(tokenizer.word_index))"
      ],
      "execution_count": null,
      "outputs": [
        {
          "output_type": "stream",
          "text": [
            "5191\n"
          ],
          "name": "stdout"
        }
      ]
    },
    {
      "cell_type": "code",
      "metadata": {
        "id": "jcXCMeg_oo33"
      },
      "source": [
        "# Prints a huge array with a row for each video and one hot for each word\n",
        "one_hot_res = tokenizer.texts_to_matrix(list(df_cap.caption.values),mode='binary') \n",
        "\n",
        "sequences = tokenizer.texts_to_sequences(list(df_cap.caption.values))"
      ],
      "execution_count": null,
      "outputs": []
    },
    {
      "cell_type": "code",
      "metadata": {
        "id": "7oZ2wrbjoo1B",
        "colab": {
          "base_uri": "https://localhost:8080/",
          "height": 54
        },
        "outputId": "215276c3-5a70-49c1-bdb2-eea236b0fc39"
      },
      "source": [
        "print(sequences)"
      ],
      "execution_count": null,
      "outputs": [
        {
          "output_type": "stream",
          "text": [
            "[[724, 7, 35, 884, 384, 91], [2272, 85, 259, 6, 213, 1, 89, 27], [131, 312], [725, 993, 3098, 9, 165], [15, 118, 3, 515, 356, 27], [492, 31, 1478, 11, 146], [90, 726, 4, 62, 90, 65], [1796, 109, 29, 58, 385, 1797, 1, 1263], [3099, 2273, 313, 290], [18, 17, 994, 4, 118, 3, 2, 279], [995, 3, 2, 3100], [23, 21, 3, 3101, 8, 39, 469, 6, 1798, 386], [71, 53, 1799, 2274, 1479], [7, 2275, 3, 2, 59, 1, 2, 72, 115], [45, 5, 7, 1264, 35, 300, 3102, 1265, 14, 5, 493, 4, 660, 7, 2276, 21], [549, 3, 3103, 2277, 6, 3104, 1, 55], [30, 22, 82], [173, 8, 66, 147], [63, 3105, 885, 95, 8, 36], [1480, 550, 1800, 1801, 1481, 1, 1802, 3, 1266, 886], [15, 118, 1, 67, 81, 727], [18, 15, 118, 135, 2, 65, 996], [794, 229, 6, 25, 1125, 1, 5, 190, 3106, 1, 2, 1267, 24, 13, 470, 27], [73, 2278, 9, 2, 407], [38, 109, 68, 125, 4, 314, 3, 2, 148], [2279, 20, 661, 516], [165, 1268], [88, 8, 333, 42, 315, 1, 119], [53, 8, 191, 42, 3, 662], [887, 3107, 37, 66], [10, 11, 4, 7, 6, 5, 240, 8, 357, 48, 1, 2, 106, 60, 115], [149, 7, 1482, 3, 1269], [83, 8, 517, 149, 32, 6, 1483, 4, 1484, 29, 9, 24, 997, 280, 11, 33, 1485, 1803, 23, 21, 8, 142], [90, 373, 9, 3108, 2280, 2280, 2281, 3109], [795, 47, 291, 97, 169], [888, 244], [889, 36, 1, 5, 1804, 518, 441, 1, 12, 13, 387, 36, 889, 1, 5, 577, 3, 5, 102, 1126], [281, 290, 23, 21], [17, 150, 6, 25, 136], [143, 48, 14, 245, 26, 5, 34, 14, 1127, 25, 1805, 166, 998, 1, 2, 890, 4, 24, 1806], [471, 55, 2282, 1807, 621, 663, 43, 103, 423], [230, 2283, 519, 622, 3110, 37, 388, 36], [724, 7, 35, 884, 1486], [120, 244, 1808, 87, 2, 279, 9, 71, 2284, 279, 3111, 3112], [442, 5, 15, 1809, 5, 493, 33, 2, 183, 1267], [18, 301, 53, 664, 6, 67, 69, 84, 885, 14, 46, 98, 4, 494, 443, 5, 1810, 4, 5, 1128], [1811, 31, 2285, 223], [224, 192, 47, 3, 5, 389, 74, 89, 7, 220, 104, 495, 316, 520, 137, 12, 13, 202], [225, 8, 1812, 96, 622, 1, 2, 231], [442, 5, 7, 4, 5, 11, 390, 3113], [70, 63, 76, 76, 796, 2286, 317, 6, 76, 374, 4, 142, 232], [623, 3114, 3115], [99, 578, 2287, 2, 142, 8, 2, 99], [996, 8, 993, 1270, 78, 165, 999], [10, 15, 83, 391, 6, 728, 6, 81, 193, 1271, 58, 67, 81, 56], [281, 290], [224, 192, 47, 3, 5, 389, 74, 89, 7, 220, 104, 495, 316, 520, 137, 12, 13, 202], [100, 23, 122, 30, 197, 174, 444, 6, 292, 74, 233, 9, 43], [729, 665, 797, 290, 3116], [1813, 1487, 408], [18, 7, 57, 3, 2, 19], [11, 1814, 5, 198, 14, 1815], [2288, 1, 2, 3117, 8, 798, 3118], [12, 13, 302, 293, 160, 31, 521, 129], [799, 123, 1488], [666, 37, 2, 129], [70, 5, 10, 88, 8, 891, 303, 800, 317, 6, 67, 294, 374, 4, 142, 232], [23, 122, 7, 260, 118, 624, 334, 6, 318, 1272, 9, 445, 446, 801], [10, 11, 6, 1816, 151, 5, 1817, 135, 103, 730, 3, 2, 19, 14, 1818, 5, 358, 1129], [1819, 42], [10, 15, 6, 579, 8, 357, 57, 3, 72, 1, 2, 199], [522, 335, 95, 126, 8, 225, 200], [580, 1820, 3, 1489, 229, 248], [12, 13, 302, 293, 160, 194, 6, 96], [892, 447, 1, 2, 667], [7, 51, 197, 1273, 1, 2, 115], [523, 8, 5, 44, 10, 7], [1000, 8, 261, 1274, 9, 336, 337], [12, 13, 302, 1275, 1821, 78, 2289, 96], [1001, 116, 49, 2290, 165, 1490, 11, 3119, 3120], [161, 102, 4, 80, 1002, 1, 409, 9, 336, 337], [1276, 66, 304, 99, 1, 893], [214, 162, 384, 14, 99, 103, 3121], [261, 1, 667, 1, 392], [271, 1491, 315, 213, 1, 12, 13], [2285, 3122], [54, 4, 167, 16, 3, 2, 107, 4, 29, 9, 24], [73, 11, 57, 3, 2, 410, 6, 110, 356, 27], [11, 1822, 109, 33, 46, 295], [387, 15, 9, 375, 205, 62, 20], [45, 65, 2291, 3123, 33, 3124, 894, 31, 2292, 2293, 1, 1823, 1824, 1825, 62, 20], [53, 229, 37, 305, 524], [143, 4, 10, 7, 407, 9, 496], [11, 206, 3125, 1277, 87, 1003, 1, 94, 12, 13], [359, 18, 10, 1278, 1826, 109, 157, 1, 77, 6, 1130, 621, 1827], [1492, 1279, 6, 166, 2294], [1493, 1494, 2295, 516, 3126], [241, 668, 67, 54, 1004, 1131], [92, 26, 110, 9, 1273, 184], [1280, 551, 86, 87, 497, 3, 61, 176], [38, 260, 5, 338, 334], [15, 259, 1, 2, 472], [109, 93, 1005, 1, 2296, 669, 6, 3127, 85, 4, 1281, 6, 1000, 8, 129, 3128, 2, 3129], [282, 360, 552, 3130, 9, 2, 3131, 180, 35, 2297, 3, 359, 301, 2298], [88, 8, 32, 22, 1, 12, 13, 234, 49, 296, 2299], [53, 51, 5, 424, 163], [70, 5, 7, 1, 1828, 16, 3, 2, 148, 6, 39, 4, 358, 314, 6, 5, 581, 235, 93, 5, 670, 75, 48], [1132, 249, 376, 3132, 393, 472], [473, 3133, 498], [1495, 170, 14, 170, 671, 2300], [3134, 394, 1, 731], [732, 22, 37, 2301], [411, 9, 553, 1829], [89, 3, 192, 8, 1830, 157], [1006, 301, 3135, 3136, 3137, 3, 3138, 802], [30, 302, 1275, 803, 78, 169], [10, 7, 26, 34, 4, 28, 14, 2, 24, 3, 2302], [1831, 1282, 3139, 260, 1007, 14, 1496], [10, 18, 255, 15, 50, 6, 1008, 3, 448, 361, 215], [2303, 498, 203, 1], [191, 32, 1, 61, 36, 2304, 11, 216, 7, 4, 25, 84, 30, 301, 2305, 138, 1133, 895], [83, 8, 1134, 2306, 280, 11, 9, 177, 152, 449, 804, 1, 2, 94, 8, 166, 149, 115], [625, 626, 896, 26, 5, 2307, 1832], [387, 5, 10, 7, 68, 3140, 4, 118, 283], [11, 185, 5, 272, 1283, 3, 294, 74], [1833, 3141, 87, 231], [1284, 362, 3142, 3143, 2308, 5, 1497, 3, 5, 1498, 1, 2, 1135], [897, 554, 5, 2309, 16, 1, 107, 1834, 1009, 1010], [302, 293, 160, 31, 525, 1835], [7, 118, 4, 994, 2310, 1, 2, 72, 115], [15, 499, 1, 2, 19, 4, 314], [92, 50, 6, 41, 4, 395, 1, 106, 101], [296, 1011], [388, 36, 169], [30, 38, 109, 16, 3, 2, 107, 4, 48, 1836, 26, 41], [168, 3144, 377, 24], [76, 302, 293, 1136, 3, 526, 1499, 65, 802], [733, 8, 30, 32, 130, 527], [231, 2311, 169], [335, 386, 1, 81, 262, 49, 805], [2312, 5, 11, 139, 5, 378, 22, 3, 5, 582, 4, 390, 5, 1500], [131, 583], [23, 21, 120, 24, 200, 78, 627, 3, 1137], [898, 306, 176, 474, 1138, 176, 363], [273, 628, 1, 2, 1837], [11, 172, 584, 60, 3145, 26, 3146, 14, 3147, 5, 3148, 172, 142, 1, 5, 23, 21, 40], [528, 500, 78, 12], [18, 15, 292, 3, 5, 294, 74, 6, 103, 423, 3, 233, 806, 100, 27], [10, 425, 11, 6, 34, 39, 9, 56], [17, 6, 34, 16, 3, 148, 4, 195], [102, 447, 3, 2, 281, 152, 585, 35, 1285], [501, 17, 1, 672, 16, 3, 148, 26, 41, 29, 9, 24, 4], [45, 899, 10, 7, 2313, 1, 71, 1012, 9, 123, 105, 734, 2, 41, 4, 112, 194, 256, 4, 23, 25, 339], [52, 79, 260, 5, 1838, 9, 2, 3149, 900, 1, 2, 629], [17, 4, 136, 150, 248], [127, 40, 8, 99, 168, 207, 169, 1272, 274, 55], [45, 111, 318, 1839, 242, 3150, 5, 40, 8, 116, 1501, 1, 2, 3151, 116, 2314], [1502, 585, 275, 14, 124, 735, 1139], [64, 243, 7, 26, 34, 39, 807, 297, 426], [17, 340, 3152, 14, 3153, 4, 808, 3154], [160, 78, 450, 1140, 49], [244, 586, 117, 2315, 2316, 901, 127, 40], [10, 7, 35, 16, 1, 125, 555, 68, 125, 4, 396, 14, 109, 26, 3155, 1013, 37, 2, 673, 164], [623, 1286, 3156, 1287], [102, 136, 22, 130, 3157, 674], [675, 4, 3158], [3159, 284, 3160, 78, 1840, 587], [10, 280, 6, 34, 35, 3, 2, 59], [131, 529, 3161], [471, 630, 2317], [52, 17, 16, 9, 2, 85, 1, 2, 3162, 4, 42, 6, 3163, 556, 3164, 16, 676, 14, 25], [70, 30, 197, 174, 444, 319, 809, 6, 292, 74, 233, 9, 43], [45, 475, 3165, 1841], [364, 23, 122, 5, 11, 50, 1, 5, 476], [3166, 365, 250, 31, 2318, 147], [7, 35, 226, 736, 4, 2319, 89], [53, 234, 186, 1842, 231], [10, 15, 118, 3, 631, 4, 48], [1503, 902, 5, 198, 14, 46, 2320], [282, 5, 98, 4, 84, 160, 5, 677, 163], [1843, 117, 1, 1504], [236, 17, 1, 320, 16, 3, 176, 4, 26, 341], [45, 2, 88, 8, 3167, 4, 1014, 1844, 108, 2, 3168, 8, 2, 1141, 525, 4, 1845, 3169, 26, 2, 39], [588, 589, 737], [666, 108, 2321], [83, 17, 29, 9, 24, 4, 68, 321, 186, 2, 590, 1288], [1015, 15, 1016, 32, 10, 1017, 145, 903, 1018, 1019, 904, 591, 18, 251, 1, 1505], [11, 32, 271, 9, 177, 1, 305, 412, 469, 1008], [73, 7, 550, 1, 71, 105, 810, 1020, 530, 38, 139, 1, 531, 1289, 80, 678, 1290, 811, 1, 1846, 812, 25, 2322, 29, 1, 24, 6, 18, 391], [244, 738, 37, 147], [442, 5, 11, 4, 5, 7, 185, 679, 1, 2, 397], [11, 22, 91, 739, 99, 477], [18, 1506, 22, 6, 680, 740, 1, 153, 3, 46, 361, 215], [3170, 107, 342], [15, 1507, 502, 4, 2323, 2324, 2325, 58, 67, 2326, 58, 2, 81, 295, 56], [23, 122, 681, 1, 592, 1021, 6, 3171, 2327, 3172], [236, 10, 7, 1, 5, 80, 113, 322], [1847, 1848, 130, 628], [1849, 250, 1291, 1849, 1, 323, 61], [7, 16, 3, 2, 343, 4, 344, 478, 1292, 1, 2, 479], [630, 621, 173], [12, 813, 587], [206, 2328, 3, 2329, 151, 1022, 1293], [11, 905, 291, 593, 345, 906, 62, 20], [99, 741, 500, 91, 3173, 113, 632], [10, 15, 907, 108, 1126, 1, 2, 199, 7, 451, 2, 1294, 4, 206, 1850, 87, 1126, 346, 1851], [131, 529, 3174], [7, 146, 1797, 198, 1, 2, 72, 106], [18, 174, 140, 3, 1023, 4, 26, 71, 532, 128, 27], [3175, 121, 1852, 4, 2330, 263], [12, 347, 36, 3176, 8, 2, 908, 61], [103, 257, 37, 162, 364], [2331, 2332, 556, 2331], [30, 814, 140, 3, 631, 4, 50, 26, 532], [73, 15, 22, 4, 118, 3, 2, 19], [27, 8, 5, 225, 1295, 6, 633, 2333], [79, 217, 164, 1, 208], [10, 18, 11, 6, 34, 39, 16, 1, 106], [255, 98, 909, 84, 1, 1508, 1142, 8, 361, 413, 3, 67, 215], [98, 480, 167, 14, 379, 25, 594, 272, 100, 27], [38, 109, 1, 2334, 324, 4, 812, 2, 40, 12, 13], [73, 15, 1509, 452, 1, 2, 115, 100, 27], [2335, 595, 3177, 108, 80, 1510, 3, 533, 1291], [2336, 3178, 1021], [102, 742, 80, 242, 203], [71, 53, 1511, 84], [3179, 8, 30, 910], [99, 40, 8, 2, 231], [1024, 1853], [7, 3180, 5, 1025, 1, 240, 8, 36], [11, 534, 14, 49, 8, 3181], [145, 9, 2, 3182], [200, 21, 63, 76, 141, 114, 799, 2337, 1854], [54, 6, 25, 84, 3, 682, 9, 2, 40, 324, 12, 13], [81, 262, 81, 262, 49, 1855, 414, 2338, 3183, 1, 3184, 20, 9, 3185], [2, 7, 2, 362, 2339, 1856, 4, 743, 2, 1857], [64, 7, 68, 1512, 31, 2, 911, 1296, 123, 31, 2, 2340, 815, 33, 634, 816, 453, 441], [54, 3186, 2, 1858, 6, 2, 138, 817, 66], [912, 88, 8, 32, 26, 39, 48, 4, 28], [73, 32, 1513, 32, 3187, 3188, 71, 105, 535], [82, 229, 87, 5, 3189, 2341], [12, 13, 302, 293, 1, 552], [10, 744, 15, 42, 1143, 3, 2, 3190], [44, 52, 17, 16, 3, 176, 29, 87, 276, 1144, 216], [15, 259, 130, 3, 2, 19, 128, 27], [142, 8, 7, 152, 235, 743, 132, 1, 94], [818, 3191, 745, 215, 557], [32, 22, 91, 66, 304, 72], [73, 32, 22, 12, 13, 558, 1297, 596, 2342, 192], [15, 427, 1, 111, 172, 285], [237, 3192, 494, 1298, 14, 67, 333], [17, 340, 454, 481, 2, 24], [218, 227, 1514, 218, 1859, 683, 588, 4, 1860, 1, 2343, 145, 1, 559, 1861, 482, 209, 1299, 157, 4, 1145, 3193, 2344, 470, 27], [32, 2289, 1, 66, 393], [143, 1026, 14, 366, 4, 84, 1, 1295], [100, 3194, 63, 76, 73, 11, 1, 71, 240, 49], [27, 8, 684, 3195, 275, 37, 1515], [597, 86, 685, 274, 1, 1146, 121, 36], [742, 3, 120, 802], [45, 79, 6, 261], [415, 1300, 244, 1301, 9, 279], [78, 2, 1862, 127], [64, 243, 7, 1, 71, 94, 51, 819], [131, 312], [10, 32, 51, 1022, 1, 1516, 115], [366, 902, 5, 90, 1517], [73, 32, 6, 41, 34, 39, 4, 395, 101], [109, 455, 4, 307, 130, 49, 9, 123], [3196, 1518, 2345], [89, 3, 192, 8, 1830, 157], [364, 3197, 143, 60, 1147, 3198, 3199, 820, 1519, 1027, 14, 3200, 4, 3201, 5, 456, 820], [161, 102, 1302, 3202, 2346, 598, 409], [1863, 1148, 125, 14, 5, 11, 3, 5, 154, 59, 492, 2, 599, 78, 2, 1137, 152, 221, 1822, 5, 398, 23, 21, 8, 2, 69], [1149, 821, 686, 1150, 14, 10, 15, 56, 1151, 14, 1152, 525, 60, 1028, 1153], [10, 7, 16, 3, 5, 3203, 635, 26, 25, 41, 39, 152, 235, 1154, 2, 3204, 8, 207], [73, 15, 16, 3, 2, 19, 4, 50, 26, 532], [30, 145, 822, 135, 593, 345, 1303, 1029, 100], [23, 21, 8, 3205, 1, 2, 600], [282, 63, 76, 73, 11, 264, 1520, 6, 746, 1, 71, 105, 175], [536, 1521, 687, 1, 893], [296, 1011], [10, 15, 913, 286, 6, 1304], [457, 7, 308, 537, 87, 5, 240], [64, 10, 7, 688, 9, 5, 428, 416], [11, 47, 171, 5, 367, 19, 9, 2347, 6, 2, 103, 217, 443, 152, 221, 1522, 2, 24, 1, 2, 747, 36, 9, 2, 823, 8, 2, 61], [151, 2348, 1, 125, 325, 537, 120, 33, 3206, 4, 308, 318, 87, 2, 240], [7, 429, 3207, 135, 560, 36, 12, 13], [18, 10, 63, 7, 317, 90], [18, 1030, 1031, 136, 1, 147], [138, 2349, 14, 307, 3, 2, 1864, 1, 208, 66, 1305, 3, 2, 72], [44, 52, 17, 29, 9, 24, 28, 4, 195], [636, 17, 118, 3, 148, 26, 430, 59, 29, 9, 24, 4, 1865], [12, 13, 66, 1306, 2350], [387, 79, 26, 34, 914, 16, 9, 2, 85], [293, 803, 291, 169], [210, 561, 637], [18, 10, 15, 120, 1155, 67, 502, 75, 120, 87, 5, 81, 193], [18, 7, 48, 3, 110, 4, 16, 1, 2, 72, 106], [204, 21, 2288], [89, 3, 102, 11, 155, 915, 1307], [44, 10, 7, 1, 1032, 35, 1866, 25, 219, 3, 2, 61, 19, 133, 113, 31, 2, 61, 12, 13, 202], [7, 429, 111, 1523, 135, 560, 36, 12, 13], [52, 17, 6, 627, 2351, 29, 9, 24, 4, 195], [92, 50, 3, 34, 4, 28, 14, 2, 24], [1524, 91, 637, 74, 246, 388], [28, 7, 1, 5, 1296, 111, 1308, 348], [11, 16, 1, 2352, 1, 208, 4, 29, 87, 24, 4, 28], [23, 21, 8, 449, 69, 187, 4, 277, 132, 1, 115, 323, 94, 12, 13, 5, 592, 1309, 424, 35, 309, 1033, 31, 2, 449, 1, 5, 115, 60, 326, 94], [53, 265, 91, 14, 503, 126], [5, 88, 8, 910, 9, 2, 85, 1310], [131, 312], [3208, 310, 93, 3209, 6, 46, 1311], [83, 8, 28, 7, 68, 125, 1, 2, 2353, 101], [7, 1133, 4, 29, 3, 2354, 3, 2, 627, 373], [44, 17, 16, 3, 176, 146, 198, 68, 321, 4, 28], [10, 18, 255, 15, 50, 6, 1008, 3, 448, 361, 215], [124, 595, 3210, 81, 2355], [380, 1, 748, 378, 2356, 1525], [11, 2357, 66, 1867, 194, 916, 246, 917], [381, 10, 11, 22, 1, 2, 298, 291, 5, 1526, 586], [1034, 554, 30, 1527, 86, 1, 166, 483], [3211, 6, 193, 4, 32, 173], [231, 587, 1312, 104, 1313], [293, 803, 37, 2330, 80, 263], [70, 5, 10, 15, 4, 67, 84, 16, 31, 2, 61, 1868, 1314, 429, 67, 1035, 192, 7, 3212, 5, 3213, 1, 431, 4, 1315, 180, 14, 1316], [1134, 255, 98, 216, 84, 2, 215, 9, 43], [61, 1869, 6, 1156], [258, 519], [457, 7, 1, 3214, 504, 16, 3, 2, 2358, 9, 56, 235, 1528, 4, 3215, 918, 3216, 8, 5, 190], [23, 21, 102, 136, 1, 409], [89, 8, 181, 399, 367, 96, 31, 368], [81, 262, 49, 127, 40], [80, 261, 16, 1, 5, 409], [3217, 130, 1529, 3, 19, 458], [10, 7, 26, 34, 3, 2, 279, 4, 16, 3, 266], [10, 64, 267, 7, 16, 1, 2, 223, 3, 5, 1132, 249, 3218, 521, 3, 2, 164, 824, 13, 369, 825, 1036, 1870, 634, 1871, 1530], [138, 1, 1531, 432, 9, 24], [282, 181, 3219, 1317, 1, 2, 61], [11, 3220, 65, 1, 162, 6, 5, 1532], [1872, 62, 20, 3221, 286, 2359], [1157, 3222, 158, 601, 4, 216, 32, 826, 101], [11, 3223, 1, 96], [99, 578, 584, 2, 142, 8, 2, 99], [1318, 1873, 451, 2360, 8, 3224, 206, 633, 3225, 1533, 87, 180, 4, 734, 2360], [24, 749, 597, 291, 1146, 121, 36], [45, 5, 40, 29, 91, 5, 1158, 72, 685, 2, 61], [141, 114, 1534, 1874, 23, 21], [381, 123, 3226, 408, 184, 602], [1875, 31, 1876, 247, 1265, 919], [30, 273, 1, 343], [131, 529, 3227, 689], [10, 7, 226, 562, 690, 3, 34, 39, 1, 2, 20], [92, 68, 125, 126, 2, 106, 4, 26, 110], [143, 2361, 245, 1037, 23], [42, 6, 827, 3, 19], [161, 750, 140, 1, 77, 4, 28], [7, 9, 2, 211], [2, 234, 8, 2, 10, 17, 638, 3228, 1319, 1, 5, 327], [10, 7, 16, 9, 85, 1877, 154, 59, 828, 75, 50, 3], [3229, 1306, 3230, 112, 552, 33, 116, 14, 397], [1038, 1, 1320, 287, 186, 2, 1321, 8, 2, 1322, 639, 1535, 8, 1323, 1039, 1536, 31, 1324], [7, 499, 4, 140, 3, 222], [17, 57, 1, 2, 20, 4, 28, 14, 2, 24], [11, 3231, 21, 46, 3232, 60, 3233, 9, 43, 3, 5, 908, 231, 186, 5, 1878, 1879, 328, 159], [44, 18, 54, 259, 25, 190, 9, 505, 101, 1, 2, 178, 18, 920, 4, 506, 137, 12, 13, 202], [70, 10, 15, 93, 316, 3, 2, 19, 31, 2, 61, 212, 155, 1040, 75, 182, 14, 179, 1, 2362, 320, 4, 349, 93, 5, 1880, 29, 9, 61], [223, 1325, 363, 751, 173], [166, 63, 11, 1326, 5, 640, 213, 186, 5, 102, 55], [1005, 3, 5, 1327, 72, 563], [728, 54, 4, 138, 42, 1, 2, 208, 20, 3, 5, 133, 249], [1041, 829, 484, 32, 503, 1, 2, 106, 4, 1537, 21, 4, 91, 3, 2, 1881, 1, 1882, 306, 3, 484, 1, 1041, 829, 227], [3234, 8, 2, 3235, 1883, 305, 78, 121, 159, 3, 2, 55], [370, 2, 1884], [54, 4, 98, 151, 5, 417, 6, 167], [90, 691, 1538, 1042], [52, 17, 51, 3236, 33, 322, 8, 25, 603, 4, 216, 1288, 21], [1885, 1886, 171, 2, 74], [115, 132, 4, 692], [63, 76, 11, 68, 564, 670, 1, 71, 94], [12, 13, 641, 160, 186, 129], [200, 1887, 124, 173], [30, 1002, 642, 91], [218, 227, 921, 11, 4, 7, 93, 455, 3, 73, 16, 9, 2, 85, 2363, 1888, 1, 890, 517, 922, 830, 1159, 9, 1160, 1161], [42, 1819], [64, 243, 73, 7, 50, 3, 34, 39], [2364, 36, 1011], [82, 112, 5, 2365, 1, 631, 128, 27], [23, 21, 8, 2, 350, 1043, 238, 3237, 35, 226, 2, 3238], [3239, 1889, 49, 126, 8, 3240, 3241], [45, 475, 1539, 411, 313, 1, 5, 1000], [15, 185, 923, 37, 65, 304, 477], [7, 638, 693, 329, 375, 205, 62, 20], [1532, 1890, 1328, 643, 1540, 3242], [79, 3243, 58, 90], [89, 83, 17, 565, 1, 5, 222, 4, 28, 694], [433, 566, 1162, 112, 1163, 8, 5, 1891, 49, 12, 831, 44, 1044, 7, 1892, 1164, 8, 5, 284, 49, 9, 104, 3, 25, 360, 24, 566, 644, 423], [286, 523, 40, 8, 399, 376, 535], [66, 304, 72, 6, 32], [11, 146, 1, 924, 1, 1541], [553, 1165, 1, 1542], [143, 48, 14, 245, 4, 25, 1125, 26, 5, 34, 14, 673, 25, 1805, 1806, 14, 2, 1166], [7, 429, 258, 1523, 135, 560, 36, 12, 13], [10, 11, 4, 7, 209, 47, 481, 645, 556, 407, 4, 259, 1, 2, 306, 1, 351, 20, 55, 12, 13, 202], [63, 7, 1167, 170, 334], [675, 642, 91, 23, 21], [1045, 3244, 108, 44, 99, 1046], [2366, 2367, 1893, 1, 5, 1000], [7, 277, 424, 9, 2, 94, 12, 13, 1329, 7, 187, 1330, 1331, 3, 2, 1047, 200, 1168, 197, 56, 1013, 1332], [1149, 821, 686, 1150, 14, 10, 15, 56, 1151, 14, 1152, 525, 60, 1028, 1153], [10, 11, 16, 3, 2, 19, 12, 13], [54, 4, 167, 42, 6, 507, 1894], [695, 459, 4, 475, 498], [275, 37, 646, 117, 1, 3245], [185, 1895, 1, 62, 20], [15, 185, 923, 37, 65, 304, 477], [11, 485, 87, 2, 61, 12, 13], [90, 691, 1048], [11, 4, 7, 209, 16, 1, 106, 221, 35, 494, 25, 5, 3246, 8, 242, 4, 3247, 385], [10, 7, 1333, 16, 3, 2, 486, 3, 2, 19, 31, 2, 61], [12, 13, 4, 23, 122, 18, 54, 4, 52, 84, 29, 14, 2, 24, 366, 418, 2, 138, 283, 53, 83], [15, 28, 14, 2, 24, 4, 139, 2368, 1896, 128, 27], [11, 832, 3248, 3, 460, 3249, 469], [567, 582, 8, 376], [141, 114, 568, 1897, 473, 3250, 2369, 6, 2370], [38, 143, 216, 1334, 833, 551, 8, 1169, 26, 34], [2371, 204, 1, 2, 696, 5, 234, 8, 129], [3251, 4, 96, 86, 108, 604], [64, 10, 7, 234, 157, 101, 3, 5, 43, 6, 103, 257, 158, 217, 25, 3, 5, 419, 12, 13], [238, 11, 2372, 4, 146], [17, 51, 925, 201, 27], [434, 155, 915, 1307], [23, 21, 549, 1, 2, 1170], [54, 4, 167, 68, 197, 321, 4, 29, 9, 24, 1049, 21], [10, 796, 11, 68, 508, 36, 33, 2, 579, 1, 2, 133, 20, 1335, 1171, 12, 13, 202], [380, 752, 5, 1336, 14, 1337, 1050], [282, 5, 15, 182, 14, 179, 3, 5, 343], [44, 17, 3252, 1, 86, 211], [1898, 446, 14, 334], [380, 752, 1336, 14, 1337, 1050], [174, 2373, 1, 2374], [753, 474, 24, 3253, 694, 1, 754, 172, 697, 42, 3254, 6, 1899, 7, 1, 1051, 1543, 1145, 4, 30, 174, 57, 3, 3255, 834, 684, 388, 509], [10, 425, 11, 6, 34, 39, 9, 56], [2375, 229, 538, 1, 2, 162], [11, 1052, 21, 1, 2, 178, 128, 27], [82, 86, 3, 2, 19, 6, 3256, 3257, 4, 1900, 1053], [53, 265, 3, 111, 172, 676, 14, 3258, 3, 116], [15, 22, 3, 3259, 4, 156, 69, 1, 569, 178], [926, 755, 400, 835, 1, 330, 15, 93, 144, 163, 1, 77, 100, 27], [605, 340, 129, 4, 107], [3260, 1136, 1, 647, 65], [1901, 2376, 1, 5, 3261, 65], [756, 1054, 22, 130, 1268], [11, 150, 3, 2, 19, 4, 29, 14, 2, 24, 12, 13, 27], [757, 909, 1902, 3, 56, 1544, 2377], [7, 50, 33, 56, 1, 295], [278, 2378, 2, 696, 8, 2379, 2380, 325], [30, 10, 814, 6, 41, 4, 395, 1, 2, 105], [1338, 829, 227, 921, 7, 29, 3262, 300, 8, 5, 311, 3, 1172, 1173, 235, 740, 3263, 4, 203, 180, 3264, 6, 757, 758, 1545, 8, 71, 1339, 3, 3265, 3266, 3267], [510, 298], [401, 553, 411], [40, 8, 401, 553, 411, 33, 329], [90, 54, 4, 241, 1174, 21, 14, 5, 164, 4, 432, 3, 66], [11, 22, 1, 917, 6, 1340, 1175], [252, 1313, 352, 739, 147, 3268], [127, 927, 40], [45, 3269, 271, 1, 1903, 378, 156, 1904, 8, 639, 6, 181, 3270, 1, 397], [7, 226, 690, 3, 461, 75, 51, 1905], [1176, 1906, 3, 759, 1055, 1546], [88, 8, 648, 407, 9, 1907, 1, 496], [3271, 42], [129, 397, 162, 570, 207, 55, 505, 127, 40], [54, 35, 42, 6, 25, 190, 167, 101, 12, 13, 10, 366, 4, 25, 161, 52, 190, 17, 209, 93, 144, 1, 2, 133, 178, 18, 506, 4, 1908, 137, 10, 53], [149, 7, 1547, 25, 219], [313, 2381, 1, 211, 6, 485, 3272], [62, 90, 65, 203, 95], [487, 928, 8, 2, 929, 1548, 1, 760, 606, 607, 1341], [698, 699, 624, 117], [12, 347, 5, 7, 3273, 25, 11, 14, 2382, 25, 1, 511, 60, 3274, 14, 19, 31, 2, 231], [930, 700, 91, 462], [3275, 3276, 3277, 498], [1549, 9, 435, 62, 402], [52, 79, 1, 1056, 1550, 156, 1909, 4, 340, 2383, 9, 24, 1, 71, 228], [15, 229, 37, 2, 1314, 2384, 2385], [384, 91, 33, 458, 1, 375, 205, 62, 20], [30, 32, 6, 2386, 311, 209, 57, 31, 1526, 586, 4, 463, 58, 2, 97, 290, 204, 212, 209, 1910, 2387, 14, 2, 24], [12, 2388, 252, 392, 622, 14, 2, 894], [30, 1551, 264, 175, 836, 57, 108, 164], [83, 8, 28, 82, 6, 395, 1, 2, 105, 509], [2389, 1342, 290, 3, 2, 3278, 117], [1177, 17, 3, 2, 77, 6, 5, 761, 193, 29, 9, 24], [737, 8, 32, 9, 2, 810, 165], [141, 114, 3279, 4, 608], [7, 50, 6, 1172, 31, 2, 164, 186, 1552, 123, 3280, 1178, 1553, 14, 3281, 2390, 3282, 87, 1911, 34], [17, 3283, 132, 235, 638, 1057, 3284, 14, 503], [1179, 1057, 3285, 1537, 1912, 701], [10, 64, 267, 38, 156, 5, 240, 8, 111, 3286, 824, 13, 369, 825, 1913, 1914, 1915, 1916], [53, 229, 37, 305, 524], [200, 8, 124, 735], [931, 2391, 1547, 4, 3287, 2392, 2393], [1917, 5, 11, 48, 3, 2, 59, 1, 183, 8, 5, 71, 3288, 1312, 660, 175], [364, 23, 122, 5, 10, 7, 26, 5, 360, 34], [1918, 169, 6, 36], [7, 2394, 1554, 428, 9, 352, 762], [18, 7, 48, 3, 2, 110, 3, 2, 410], [837, 153, 561, 649, 3, 2, 85, 12, 13, 187, 4, 838, 464, 132, 464, 3, 2, 111, 94, 55], [5, 763, 7, 502, 186, 5, 102, 55], [11, 2395, 2, 805, 8, 105, 175], [38, 192, 9, 56, 1, 222, 23, 21, 12, 831, 518, 932, 197, 7, 284, 2396, 1180, 644, 423], [45, 5, 380, 3289, 2, 630, 29, 9, 2, 1343, 1344, 834, 27], [381, 310, 16, 1, 2, 20, 4, 155, 839], [2397, 539, 9, 764], [7, 47, 1, 252, 20, 1, 12, 13], [38, 143, 29, 9, 833, 551], [554, 764, 6, 147], [517, 434, 6, 540, 3290, 4, 3291, 149, 11, 6, 3292, 2398, 4, 3293], [10, 7, 22, 3, 2, 19, 4, 216, 3294, 14, 25, 1555], [11, 1345, 3295, 3296], [150, 9, 2, 19], [1518, 1919, 60, 3297, 1919], [840, 10, 7, 16, 288, 5, 452], [79, 485, 3, 3298, 1, 3299, 20, 1012, 1, 2, 199, 237, 226, 443], [488, 2399, 26, 1058, 420], [23, 122, 153, 451, 2, 2400, 8, 1141, 331, 3300, 8, 331, 1181, 598], [64, 10, 7, 16, 3, 148, 146, 198, 4, 28], [70, 98, 480, 84, 1346, 14, 1059, 46, 46, 841, 465, 3, 5, 20, 933], [18, 310, 48, 3, 110, 4, 216, 1049, 21, 14, 2, 24], [200, 49, 268, 6, 1556, 1557, 3301], [1060, 1061, 1347, 217, 368], [98, 480, 167, 14, 379, 25, 594, 272, 100, 27], [12, 347, 5, 10, 18, 17, 1558, 5, 80, 1348, 3, 934, 1920], [15, 48, 3, 5, 117], [571, 362, 232, 3, 2, 247, 3302, 27], [2401, 88, 160, 842, 12, 13, 117, 169, 116, 650], [124, 1, 2, 745], [22, 171, 1132, 72, 1, 695], [1349, 1519, 3303, 370, 8, 633, 71, 471, 532, 181, 1921, 8, 77, 2402, 2403, 754, 1, 2404, 2405, 5, 52, 2406, 1922, 4, 2407, 1552], [1559, 224], [526, 434, 40, 33, 329], [138, 259, 6, 843, 1, 2, 20, 17, 29, 9, 24, 644, 423], [1156, 344], [44, 17, 1, 320, 16, 3, 176, 26, 341, 4, 28, 9], [111, 918, 96], [488, 935, 2408, 633], [1560, 3304, 1561], [82, 22, 3, 2, 19, 128, 27], [1350, 11, 3305, 696, 9, 19], [739, 342], [1062, 8, 286, 44, 346, 43, 117, 1182, 103, 103, 423], [795, 47, 291, 147], [450, 1923, 600, 1351, 1924, 365, 403, 238, 541, 436, 371], [698, 699, 608, 765], [18, 82, 6, 936, 91, 3, 46, 2409, 3, 2, 19, 12, 13, 27], [3306, 3307, 30, 10, 32, 150, 1, 207, 3, 5, 844, 477], [92, 16, 126, 2, 175, 4, 151, 839, 128], [18, 11, 2275, 3, 188, 1, 2, 178, 128, 27], [23, 122, 1925, 3308, 417, 6, 2410, 4, 681, 592, 1168, 132, 187, 9, 56, 60, 1926, 1, 115], [1927, 66, 33, 598, 2, 193], [64, 10, 7, 234, 157, 101, 3, 5, 43, 6, 103, 257, 158, 217, 25, 3, 5, 419, 12, 13], [937, 168, 108, 2411, 542], [1928, 40], [10, 82, 6, 110, 16, 3, 2, 19, 139, 1900, 1053], [8, 149, 17, 28, 18, 10, 7, 142], [181, 399, 367, 96, 86, 1562, 274], [141, 114, 1063, 466, 331, 1929], [98, 4, 167, 22, 108, 650], [10, 1930, 7, 463, 58, 1563, 1, 106], [92, 16, 9, 2, 50, 353, 6, 239, 85, 189, 3, 2, 39, 38, 26, 154, 59, 4, 41, 48, 6, 1183, 60, 746, 18, 391, 17, 139, 1, 531, 258], [15, 16, 3, 266, 288, 938, 40, 8, 1064], [83, 8, 190, 17, 747, 3309, 1564], [102, 447], [1931, 1565, 1932, 766, 284, 388, 3310], [138, 4, 46, 54, 379, 3, 5, 651, 24, 1065], [238, 1566, 402], [261, 51, 5, 3311, 1, 2, 107], [225, 8, 1812, 1066, 86], [30, 38, 939, 3, 2412, 345, 733], [18, 3312, 340, 454], [38, 109, 68, 125, 4, 28, 14, 2, 24, 3, 2, 461], [10, 7, 396, 3, 188, 1, 2, 20], [158, 204, 207, 3313], [12, 13, 302, 293, 652, 338], [845, 29, 10, 7, 139, 256, 26, 341, 4, 1933, 6], [53, 1317], [10, 15, 83, 391, 6, 728, 6, 81, 193, 1271, 58, 67, 81, 56], [3314, 4, 5, 1125, 93, 144, 163, 1, 2, 86, 211], [1067, 77, 6, 242, 4, 129], [149, 17, 1286, 3, 3315], [10, 18, 255, 15, 1352, 2, 361, 413, 3, 67, 215], [3316, 500, 14, 3317, 1567, 1568], [2272, 85, 259, 6, 213, 1, 89, 27], [10, 15, 6, 357, 288, 938, 40, 8, 1064, 356, 27], [70, 5, 10, 15, 16, 3, 2, 19, 212, 155, 994, 1040, 75, 182, 14, 179, 1, 2362, 320], [136, 1934, 1, 116, 9, 43], [282, 63, 76, 11, 26, 34, 39, 58, 358, 1129, 75, 3, 5, 20, 1569, 9, 104], [45, 1570, 95, 33, 5, 250, 3, 2, 36, 8, 5, 162, 3318, 116], [54, 4, 84, 1184, 242, 3, 608], [1068, 273, 2413, 3, 1837], [737, 8, 32, 1301, 9, 510], [98, 4, 84, 1353, 5, 65, 104, 234, 6, 103, 423, 1, 351], [44, 4, 1571, 17, 157, 3, 846, 1572], [20, 3319], [206, 3320, 3, 2, 2329, 75, 187, 1022, 1293], [214, 147], [10, 11, 22, 3, 2, 19, 12, 13, 27], [45, 543, 60, 1185, 421, 60, 3321, 5, 3322, 1021, 1263, 3323, 4, 3324, 3, 2, 1573, 8, 166, 296, 352, 3325, 26, 360, 34], [1324, 2414, 112, 1069, 14, 287], [369, 72, 1282, 3326, 1935], [45, 492, 2, 183, 8, 3327, 1521, 3328, 35, 2415, 58, 3329, 60, 414, 3330], [7, 16, 3, 5, 266, 1, 541, 463], [1070, 702, 3, 94, 467, 354, 12, 13], [161, 190, 210, 42, 6, 46, 1936, 1, 489, 210, 62, 20, 134, 119], [3331, 29, 2416, 1179, 3332, 3, 3333], [11, 50, 9, 56, 33, 563], [11, 1186, 5, 703, 1574, 33, 5, 1575, 6, 2, 1575, 1187, 704, 2, 3334, 183, 8, 97, 468, 3335, 3336, 3337, 3338, 97, 468, 2417], [585, 390, 3339, 1567], [10, 17, 1576, 693, 1, 2, 284, 296, 55, 470, 27], [32, 3, 1327, 72], [488, 102, 7], [141, 114, 799, 1354], [82, 50, 9, 5, 41], [18, 17, 544, 5, 2418, 33, 69, 2418, 1354, 3340], [1, 330, 4, 18, 15, 22, 37, 107, 77, 1, 2, 605], [18, 490, 48, 3, 2, 59, 4, 156, 2, 1271, 14, 25, 81, 727], [1021, 3341, 173], [1177, 17, 340, 5, 1071, 23, 21, 83], [1188, 114, 3342, 459, 475, 415], [10, 7, 4, 11, 185, 5, 233, 9, 2, 437, 4, 93, 609, 144, 12, 13], [588, 589, 290], [100, 6, 1072, 697, 1, 404], [64, 7, 68, 125, 3, 2, 410], [1177, 18, 17, 1577, 242, 1, 2, 343], [562, 52, 79, 140, 3, 148, 4, 652, 2419, 8, 198], [30, 10, 174, 522, 57, 9, 2420, 1, 610, 4, 29, 58, 2421, 163, 349, 2422, 14, 24, 4, 391], [83, 8, 517, 149, 32, 6, 1483, 4, 1484, 29, 9, 24, 18, 10, 11, 33, 1485, 1803, 28, 89, 8, 142, 2423, 287], [11, 182, 179, 3, 34, 4, 68, 321, 128, 27], [18, 17, 112, 1355, 4, 42, 6, 180, 1, 2, 20], [23, 21, 33, 5, 1578, 3343, 9, 1356, 19, 1, 2, 940, 1357, 134, 119], [1278, 1579, 88, 8, 1358, 109, 157, 6, 3344, 847, 4, 195, 3, 389, 74], [888, 223, 275, 31, 3, 389, 281], [7, 1937, 2424, 87, 1359, 4, 51, 180], [451, 1580, 1, 2, 2425, 168, 2426], [611, 3345, 318, 1360, 3346], [102, 138, 1174, 332, 77], [241, 185, 91, 5, 66, 462, 3, 5, 2427], [32, 432, 9, 2428, 1, 305, 524], [89, 8, 225, 8, 367, 258, 96], [28, 7, 35, 344, 385, 1, 34, 75, 57, 31, 1490, 1, 2429, 1, 2, 165], [1048, 4, 1938], [10, 82, 6, 936, 3, 2, 19, 12, 13], [286, 160, 37, 1939, 1305], [111, 739, 205], [24, 1189, 1, 3, 3347, 11, 6, 2430, 112, 5, 3348, 6, 585, 1, 1940], [1581, 2431, 928, 6, 377, 24], [10, 15, 155, 289, 60, 941, 83, 58, 1292, 1, 448, 81, 295, 246, 120, 1], [2432, 508, 2433, 4, 3349], [1941, 115, 6, 1942, 653, 4, 911], [533, 942, 3350, 21, 3351, 283, 201, 27], [943, 7, 688, 186, 247], [1190, 649, 37, 1943, 12, 1191, 837, 1190, 1944, 649, 3, 5, 85, 187, 4, 838, 464, 132, 464, 3, 2, 111, 94, 55], [267, 38, 1361, 310, 146, 198, 1, 610, 6, 63, 76, 11, 112, 198, 33, 1945, 1, 55], [195, 17, 6, 5, 1946, 8, 242], [3352, 3353, 3, 231, 176], [1947, 1582], [818, 1583, 90, 691], [52, 79, 6, 54, 42, 3, 2, 19], [10, 2434, 2, 170, 35, 29, 9, 2, 49, 3, 5, 352, 324], [1073, 11, 1192, 194, 3, 654, 1074, 6, 43, 4, 111, 172, 458], [2435, 3, 1193, 3354, 4, 1065, 248], [1948, 120, 171, 1075], [44, 17, 47, 3, 844, 332, 77, 12, 13, 612, 137, 18, 7, 93, 144, 101, 1, 5, 332, 77, 3, 43, 60, 104, 1584, 705], [7, 47, 3, 2, 19], [70, 5, 52, 79, 57, 3, 2, 934, 1910, 170, 14, 2, 24, 1868, 1314, 35, 429, 46, 1035, 192], [1585, 63, 613, 572, 38, 276, 1836, 1, 105, 60, 56, 6, 239, 71, 1949, 195, 10, 17, 2436, 1362, 297, 1, 295, 64, 530, 300, 139, 1, 531, 322], [1586, 1, 2, 294], [1950, 3, 65, 802], [89, 8, 82, 189, 3, 41, 39, 128, 27], [255, 98, 944, 84, 915, 1508, 21, 462, 3, 67, 215, 9, 43], [30, 848, 945, 1587, 1, 12, 13], [44, 10, 7, 6, 1588, 1951, 259, 767, 319, 126, 12, 13, 202], [512, 89, 83, 17, 1952, 26, 430, 59, 4, 195, 3355], [32, 3, 567, 72, 1589, 353, 768, 2316], [601, 2437, 37, 258, 392, 3, 65, 802], [287, 1069, 277, 58, 1194], [17, 51, 925], [23, 122, 457, 7, 1528, 2, 1035, 918, 4, 1195, 98, 156, 1953, 46, 2438, 69, 1133, 1164, 8, 2439], [30, 138, 946, 3, 2, 213, 1, 2, 343], [88, 732, 1, 489, 210, 62, 20, 134, 119], [1157, 2440, 43, 947, 216, 30, 32, 118, 4, 150, 1, 207], [52, 79, 6, 98, 42, 3, 2, 19], [191, 2441, 379, 91, 285, 281], [23, 21, 38, 69, 1196, 1951, 6, 3356, 201, 12, 13, 201, 27], [287, 1069, 849, 3, 999], [153, 206, 5, 545, 193, 3, 181, 3357, 3, 1954, 611, 55, 517, 922, 294, 193, 60, 2442, 1197], [103, 257, 37, 492, 263], [359, 912, 1551, 4, 2443, 264, 175, 836, 60, 1955], [2444, 171, 655, 1956], [729, 665, 322, 8, 2445, 1076, 3358], [1363, 5, 15, 22, 67, 136, 171, 5, 19, 1, 2446, 1009], [500, 1590, 168, 208, 393], [10, 11, 4, 7, 848, 945, 157, 163, 1, 12, 13], [7, 9, 2, 211], [2295, 516], [888, 1554, 1364, 999], [7, 29, 78, 487, 2447, 8, 3359, 1, 2, 555, 2448, 8, 2449, 1, 3360, 4, 2450], [1060, 136, 404, 1591], [23, 21, 8, 92, 50, 6, 34, 39, 1, 2, 105], [1478, 11, 51, 769, 4, 146], [82, 850, 1198], [210, 1, 36], [83, 8, 5, 851, 73, 355, 11, 1, 5, 71, 2296, 49, 100, 27], [23, 21, 8, 449, 69, 187, 4, 277, 132, 1, 115, 323, 94, 12, 13, 5, 592, 1309, 424, 35, 309, 1033, 31, 2, 449, 1, 5, 115, 60, 326, 94], [273, 1, 3361, 5, 993], [810, 287, 279, 492, 78, 2451, 4, 3362], [7, 146, 198, 1, 2, 178, 3, 266], [10, 7, 6, 664, 2452, 9, 2, 19], [166, 63, 11, 1326, 5, 640, 213, 186, 5, 102, 55], [1077, 2453, 359, 809, 3, 682], [18, 10, 280, 7, 48, 3, 2, 59, 4, 195, 9, 2, 24], [310, 22, 170, 56], [1199, 169, 1200, 103, 173], [7, 22, 676, 14, 2, 2454, 4, 314, 3, 2, 59], [3363, 3364, 130, 1075, 51, 3365], [948, 82, 1, 433, 416, 48, 3, 110, 100, 27], [190, 549, 3, 894], [141, 114, 614, 284], [44, 17, 16, 3, 148, 26, 154, 59, 29, 9, 24, 4, 2455], [12, 13, 8, 5, 1532, 370, 2, 65, 14, 181, 1592, 23, 21], [131, 529, 3366, 689], [32, 812, 133, 208, 2456, 3, 2, 1887, 1, 20, 49, 542], [92, 28, 14, 2, 24, 1, 569, 353], [23, 21, 3, 471, 1593, 325, 1328, 1365, 1957], [98, 4, 84, 1353, 5, 65, 104, 234, 351], [2457, 6, 386, 1958, 95, 1366, 248], [38, 143, 1594, 6, 5, 245, 1, 1595, 228, 201, 27], [333, 2458, 482, 1, 168], [333, 494, 90, 1201, 14, 67, 237], [45, 1367, 2459, 1558, 318, 460, 87, 2, 72], [852, 3367, 1, 614], [2, 17, 1572, 3, 2, 117, 9, 43], [1368, 853, 1282, 635], [53, 265, 91, 14, 503, 5, 424], [706, 272, 1959, 6, 1960, 1369], [52, 17, 3368, 152, 25, 2460, 1202, 6, 1203], [45, 5, 98, 4, 84, 822, 9, 5, 515, 85, 1, 5, 536, 1829, 3, 2, 3369, 1357], [667, 949, 86, 1, 600, 1370], [53, 265, 91, 14, 503, 9, 115], [897, 554, 5, 61, 3370, 1, 166, 483], [47, 15, 3, 5, 632, 9, 104, 23, 21, 558, 100, 27], [30, 910, 264, 175, 836, 3, 507, 75, 29, 37, 2, 164], [111, 1141, 223, 89, 3, 2, 1550, 4, 1961, 324, 3, 2, 183, 1325, 1, 5, 137, 8, 3371, 840, 3372], [301, 210, 22, 1, 2, 770, 1, 489, 210, 62, 20, 134, 119], [52, 190, 1596, 14, 307, 12, 13, 54, 35, 480, 25, 138, 14, 707, 2, 854, 656, 3, 5, 97, 107, 1, 113, 23, 21, 3, 192, 18, 920, 4, 506, 137], [1560, 466, 1, 1204], [10, 64, 267, 38, 26, 25, 59, 1, 2461, 2462, 2463, 824, 13, 369, 825, 1913, 1914, 1915, 1916], [82, 6, 395, 22, 31, 86, 211, 3, 46, 511], [241, 668, 67, 54, 1004, 1131], [1962, 475, 3373, 342, 525, 3374, 652, 2464, 3375], [3376, 31, 36, 3377], [625, 626, 896, 950, 1371, 1372, 707], [1963, 1597, 4, 3378, 1373, 1598, 85], [210, 795, 1964], [1205, 1599, 50, 3, 71, 532, 1, 569, 353], [10, 82, 150, 3, 2, 1078, 6, 110, 12, 13], [23, 122, 5, 52, 79, 51, 438, 2351, 6, 30, 3379, 16, 9, 544, 85, 46, 142, 35, 1965, 6, 3380], [92, 189, 3, 479, 4, 28], [457, 7, 3381, 2, 918, 4, 2465, 180, 6, 69, 190, 2466, 1600, 330, 6, 3382, 25, 758], [3383, 3384, 1, 404], [488, 935, 555], [1038, 1, 1320, 287, 186, 2, 1321, 8, 2, 1322, 639, 1535, 8, 1323, 1039, 1536, 31, 1324], [15, 29, 87, 645, 1316, 339], [149, 64, 92, 16, 3, 2, 3385, 1815, 1079, 4, 395, 426, 297, 3, 2, 41, 931, 38, 822, 3, 2, 951, 6, 758, 468, 34, 109, 2467, 319, 184], [79, 812, 360, 34, 9, 123], [92, 16, 126, 2, 106, 4, 189, 3, 188], [2468, 458], [181, 770, 528], [355, 7, 550, 108, 301, 938, 105, 613, 572, 38, 189, 3, 2, 41, 16, 9, 2, 50, 353, 17, 139, 1, 531, 504, 6, 121, 3386], [82, 6, 34, 39, 57, 3, 563, 4, 50], [855, 8, 1206, 51, 526, 887], [11, 68, 452, 1, 2, 178], [250, 856, 1, 1374, 1601], [3387, 7, 400, 6, 399, 3388, 4, 102, 348, 47, 1, 2, 1207], [2469, 2470, 51, 771], [17, 112, 369, 6, 188, 1, 2, 772, 9, 2, 2471], [64, 243, 7, 26, 34, 39, 807, 297, 426], [18, 10, 15, 26, 1375, 3, 515, 499, 6, 136, 4, 1208], [11, 1, 1499, 65, 162, 29, 58, 90, 65], [161, 17, 118, 3, 148, 4, 26, 154, 59], [96, 1, 747, 36], [30, 615, 51], [399, 96, 1, 5, 368, 299], [187, 1022, 1376, 2328, 1, 239, 616, 44, 857, 6, 747, 2472], [88, 8, 333, 42, 315, 1, 119], [10, 92, 48, 3, 1377, 1, 2, 105, 1378], [1873, 155, 355, 334, 8, 38, 142, 9, 445, 801, 3389], [858, 64, 10, 7], [1379, 3390, 165, 1602], [615, 130, 5, 181, 1209, 1, 489, 210, 62, 20, 134, 119], [1080, 544, 1966, 78, 36], [236, 10, 7, 565, 1, 222, 451, 25, 339, 29, 9, 24, 3391], [1380, 475, 415, 6, 1081, 673, 1, 2, 497], [10, 7, 314, 3, 25, 154], [107, 77, 1, 1374, 1601], [1048, 30, 1, 3392, 819, 1056, 773, 55], [3393, 401, 596, 4, 1967, 1603], [11, 35, 499, 1, 5, 334, 486, 1, 1882, 306, 7, 35, 16, 1, 660, 486, 4, 1968, 58, 2, 334], [45, 32, 307, 31, 3394, 8, 1604, 1, 5, 1969, 373], [38, 143, 1594, 6, 1284, 245], [1188, 114, 466, 1174, 78, 462, 6, 2473], [536, 40, 8, 569, 19, 437, 6, 1276, 2474, 2475, 4, 1970, 61, 186, 1605, 121, 159, 113, 511, 1, 2476], [141, 114, 614, 187, 1971, 577], [53, 9, 653, 1145, 163], [23, 122, 5, 7, 93, 1335, 3395, 708, 6, 5, 771, 4, 29, 9, 61, 1606, 4, 113, 511], [45, 11, 139, 158, 111, 1607, 275, 2, 2477, 108, 2, 927, 283], [38, 109, 246, 276, 1608, 2, 1602, 12, 13], [1210, 5, 98, 206, 272, 465, 3, 46, 84], [23, 122, 7, 26, 758, 662, 58, 112, 1163, 8, 165, 674, 6, 2478, 4, 1211, 37, 2, 164], [2479, 559, 278], [63, 17, 6, 25, 366, 405, 2, 90, 65], [278, 6, 1972, 1189, 3396], [10, 7, 35, 206, 1609, 438, 3, 25, 142, 23, 21], [64, 10, 7, 234, 157, 101, 3, 5, 43, 6, 103, 257, 158, 217, 25, 3, 5, 419, 12, 13], [23, 21, 3, 1973, 3397, 33, 1058, 420], [30, 38, 109, 16, 1, 2, 115, 1, 2, 199], [7, 50, 3, 5, 39], [892, 447, 31, 274], [45, 733, 8, 466, 22, 3, 853, 4, 2337, 6, 2480], [63, 10, 17, 189, 3, 2, 39, 1212, 25, 338, 4, 391, 108, 92, 16, 25, 952, 9, 2, 177, 287, 613, 572, 2481, 139, 1, 531, 322, 195, 1610, 16], [2482, 516], [365, 31, 147, 152, 250, 1974, 31], [1208, 1611], [92, 189, 3, 5, 41, 4, 16, 9, 106], [12, 13, 641, 160, 186, 129], [434, 26, 46, 59, 1, 123, 772], [1927, 66, 33, 916, 246, 917], [553, 228], [2483, 11, 1213, 6, 374, 55], [3398, 1975, 798], [70, 5, 10, 88, 8, 891, 303, 800, 317, 6, 67, 294, 374, 4, 142, 232], [1976, 1977], [12, 13, 1612, 950, 58, 298], [224, 192, 47, 3, 5, 389, 74, 89, 7, 220, 104, 495, 316, 520, 137, 12, 13, 202], [1842, 204, 3, 231], [2484, 6, 3399, 170, 1, 372, 62, 20, 134, 119], [250, 365, 11, 7, 1285, 1082], [236, 17, 16, 1, 2, 72, 106, 4, 396, 3, 188], [302, 293, 849, 217, 168, 274], [38, 16, 3, 2, 1978, 311, 486, 4, 50, 3, 2, 41, 10, 17, 6, 401, 3400, 102, 219, 1, 3401, 180, 1979, 1178, 228, 1, 295, 105, 610, 60, 193, 217, 25, 3402, 92], [30, 251, 3, 796, 894, 151, 2485, 3403, 1, 2, 460, 335, 3, 303, 469], [522, 48, 31, 2333], [1980, 8, 533, 942, 913, 408, 3, 1173], [30, 145, 1926, 9, 2, 115, 4, 182, 14, 2, 271, 16, 9, 2, 676, 85], [7, 9, 1613, 1214, 375, 205, 62, 20], [2486, 2487, 2488, 2489, 2490, 10, 3404, 9, 177, 235, 494, 487, 1005, 14, 1054, 196, 552], [3405, 6, 919, 22, 91, 294, 74, 1, 2, 199], [1614, 42, 1981, 9, 412, 23, 21, 12, 13], [384, 21, 8, 5, 352, 225, 709, 516], [7, 42, 6, 80, 261], [953, 8, 76, 1615, 509, 203, 95], [127, 40, 8, 5, 38, 362, 139, 5, 2491, 57, 1, 25, 412, 232, 5, 1498, 3, 166, 1616, 1381, 31, 556, 304, 2492, 4, 305, 2493], [5, 11, 1982, 46, 2494, 14, 668, 3406, 3407, 1983], [63, 7, 1167, 170, 334], [1617, 928, 8, 5, 44, 654, 1074, 1, 2495], [657, 23, 21, 8, 11, 139, 661, 3408, 4, 1925, 661, 33, 153, 14, 153, 196, 661, 546, 101, 1, 77, 3, 133, 249, 1, 113], [1495, 10, 774, 32, 47, 14, 24, 4, 112, 607, 1163, 6, 67, 1375, 26, 3409], [1, 330, 4, 18, 15, 22, 37, 107, 77, 1, 2, 605], [141, 114, 568, 473, 1319, 78, 635, 4, 905, 194], [293, 803, 37, 66, 304, 169], [2496, 1360, 937, 1360, 416], [814, 29, 9, 395, 1, 2, 105], [501, 17, 51, 710, 26, 110, 4, 28], [1819, 42], [2497, 3410, 466, 307, 481, 24], [517, 922, 1888, 216, 2, 1984, 1, 2, 745, 3411, 15], [1157, 2498, 350, 271, 826, 101, 9, 43], [594, 263, 4, 121, 159], [18, 82, 157, 3, 2, 19, 12, 13, 27], [10, 7, 35, 954, 3, 3412, 3413, 261, 2499, 4, 112, 289, 2499, 209, 120, 3414, 3, 25, 3415], [623, 3416, 8, 2, 348], [3417], [2500, 4, 3418, 2501, 3, 2502, 3419], [1901, 22, 6, 132, 1, 1382, 1083], [32, 1, 323, 373], [32, 3420, 415, 1300, 244], [80, 1076, 901, 91, 859, 116, 74, 1, 3421], [166, 63, 11, 1326, 5, 640, 213, 186, 5, 102, 55], [43, 78, 5, 77, 1, 1383], [99, 741, 1985, 91, 3422, 3423, 632], [700, 6, 121, 1986], [1965, 3424, 8, 2503, 1, 2, 77], [18, 1384, 617, 7, 16, 2504], [298, 2505, 135, 129, 6, 90, 386], [2506, 1061, 1, 739, 3425], [63, 76, 17, 26, 34, 914, 9, 19], [269, 109, 57, 3, 462, 6, 357, 4, 1385, 9, 385], [10, 11, 118, 1, 2, 61, 12, 13], [7, 51, 197, 769, 2507, 6, 537, 4, 68, 328, 2508, 518, 441, 1, 12, 13, 44, 267, 7, 51, 4, 28, 1, 2, 284, 1, 5, 932, 94], [1024, 1853], [131, 312], [302, 1275, 3426, 3, 1141, 646], [11, 277, 2509, 31, 2, 85, 1, 2, 178], [1987, 114, 1618, 459, 23, 21], [70, 5, 10, 88, 8, 891, 800, 317, 6, 67, 294, 374, 4, 142, 232], [44, 10, 15, 16, 3, 266, 1, 49, 123, 100, 27], [10, 64, 38, 232, 571, 3, 2, 247], [10, 425, 11, 6, 34, 39, 9, 56], [647, 107, 1386, 141, 114, 568], [851, 73, 11, 48, 3, 46, 154, 59, 1, 71, 240, 49, 100, 27], [313, 9, 80, 193, 1, 208], [269, 380, 1, 748, 378, 550, 6, 1050], [7, 69, 1196, 1024, 87, 1988, 89], [181, 658, 519, 1215, 1, 388, 36], [1139, 3427, 695, 1619], [44, 104, 78, 99, 1199, 1216, 173], [173, 43, 108, 5, 726, 1, 1383], [92, 48, 3, 110, 4, 68, 708, 1, 2, 94], [3428], [310, 1217, 1311, 3, 41], [569, 207, 408, 61, 437, 6, 607, 2475, 4, 1605, 121, 36, 1, 890, 3, 158, 113, 249], [10, 7, 150, 1, 2, 1170, 171, 5, 3429, 329, 5, 116, 47, 481, 2, 24, 1, 5, 860, 4, 220, 137], [861, 1218, 11, 902, 2510, 1079, 9, 56, 23, 21, 6, 253, 2511], [741, 775, 1283, 657], [50, 126, 2, 56], [2512, 81, 262, 49, 81, 262, 49, 2284], [11, 3, 3430], [899, 310, 565, 3, 1084, 246, 1085, 9, 56], [64, 7, 68, 1512, 31, 2, 911, 1296, 123, 31, 2, 2340, 815, 33, 634, 816, 453, 441], [2513, 3, 392], [70, 5, 3431, 11, 3432, 2, 482, 9, 56, 221, 57, 31, 2, 301, 164, 6, 49, 1182], [449, 955, 5, 592, 1620], [30, 161, 52, 251, 16, 9, 85, 9, 106, 51, 925, 4, 28], [7, 112, 1621, 249, 711, 25, 105], [71, 53, 41, 201, 3433], [11, 57, 3, 99, 682, 112, 1, 40], [2486, 2487, 2488, 2489, 2490, 382, 956, 416, 19, 33, 61, 1989, 4, 1622, 1623, 6, 1175, 120, 217], [275, 1, 797, 1504], [7, 22, 538, 72], [127, 8, 81, 262, 535], [161, 17, 1, 80, 504, 6, 712, 3, 5, 651, 235, 35, 18, 4, 195, 9], [851, 73, 11, 48, 3, 46, 154, 59, 1, 71, 240, 49, 100, 27], [66, 3434, 9, 123], [932, 911], [237, 713, 4, 241], [153, 561, 3435, 3, 94, 467, 354, 12, 13], [471, 55, 1086, 630, 279, 1387, 73], [103, 1219, 78, 323, 2514, 173], [145, 22, 130, 935], [52, 79, 157, 14, 179, 8, 46, 2515, 42, 1291, 3436, 16, 91, 4, 909, 1902], [1034, 554, 1990, 6, 1991, 1992, 804, 1010], [1220, 642, 1, 776, 107], [44, 10, 7, 16, 9, 106, 29, 9, 24, 4, 28, 364], [7, 429, 714, 1087, 135, 560, 36, 12, 13], [1993, 1088, 8, 10, 7, 848, 945, 157, 1, 12, 13], [298, 130, 141, 114, 852], [777, 6, 80, 715, 3437, 309, 1033, 14, 3438, 180], [237, 713, 4, 241], [52, 17, 6, 166, 730, 1, 2, 472, 1, 2, 20, 138, 259, 6, 166], [3439, 335, 3, 1624, 65], [214, 147], [1849, 250, 31, 536, 99, 1370], [236, 17, 16, 1, 2, 72, 115, 4, 48, 3, 110], [214, 147], [141, 114, 527, 187], [44, 17, 93, 144, 1, 86, 211], [11, 1, 328, 547, 862, 3, 116, 6, 147, 1, 2, 497], [7, 155, 276, 4, 112, 369, 8, 97, 678, 31, 188], [2516, 68, 125, 6, 391], [5, 1625, 1982, 46, 2517, 2518, 14, 2519, 1983], [1962, 2520, 1994, 8, 1367, 1995], [2521, 1089, 63, 76, 490], [1626, 2522], [399, 778, 428, 1, 3440, 481, 120, 24], [12, 13, 302, 293, 803, 78, 2523], [580, 401, 2524, 2525, 286, 1, 1221, 65, 338, 3441], [513, 253, 290, 2526], [7, 1310, 3, 430, 59, 152, 11, 3442, 25, 6, 1201], [449, 743, 3443, 1627, 253, 3, 1627, 1, 2, 863, 40, 33, 2, 598, 8, 2, 863, 187, 1, 2, 863], [943, 17, 1, 5, 80, 504, 3, 35, 5, 651, 138, 29, 9, 24], [522, 396, 126, 225], [79, 752, 716, 779, 465, 3, 2, 1267, 9, 56], [141, 114, 568, 473, 3444, 3, 1628, 6, 1869], [201, 8, 32, 16, 9, 115, 669], [381, 214, 72], [7, 421, 59, 3, 266], [89, 8, 192, 42, 315, 1, 12, 13], [2527, 737, 1301, 9, 510], [3445, 2394, 4, 3446, 493, 203, 95], [1388, 74, 177, 127, 184, 602], [131, 312], [3447, 3448, 566, 2528, 1606, 511, 3449, 2529, 433, 373, 6, 2530, 1540, 6, 3450, 821, 3451, 1201, 2531, 3452, 2532, 3453, 1090, 32, 276], [217, 5, 1629, 1192, 194, 201, 27], [380, 1, 748, 378, 752, 1336, 14, 1337, 1050], [32, 16, 3, 2, 165, 676, 14, 1996, 319, 1997], [143, 216, 1334, 833, 551, 8, 1169], [10, 18, 7, 35, 47, 4, 485, 31, 2, 24, 121, 159, 4, 97, 107, 3, 2, 55, 12, 13, 612, 4, 728, 137], [303, 15, 151, 1630, 75, 112, 289, 1, 327], [898, 306, 176, 1138], [488, 1373, 4, 864], [73, 38, 3454, 1362, 297, 8, 1998, 228, 9, 2, 326, 6, 1999, 1091, 530, 278, 189, 2000, 3, 2, 39, 780, 17, 6, 401, 219, 3455, 25, 2001, 3456, 9, 2], [64, 10, 7, 157, 101, 3, 5, 121, 159, 55, 12, 13, 2533, 652, 130, 4, 28, 808, 18, 4, 319], [298, 1931, 1565, 1932, 22], [380, 1, 748, 378, 2356, 1525], [11, 862, 1, 1631, 26, 80, 36, 547], [54, 6, 84, 47, 3, 2, 19, 12, 13], [2534, 554, 11, 2002, 1, 168, 1, 2535], [948, 73, 15, 6, 41, 4, 395, 1, 2, 49, 128, 27], [263, 78, 172, 205, 458, 4, 147], [2283, 519, 3457, 1, 388, 36], [767, 319], [3458, 4, 942, 533, 1, 684, 516], [7, 429, 714, 1087, 135, 560, 36, 12, 13], [54, 4, 167, 3459, 98, 152, 221, 3460, 56], [161, 10, 63, 7, 1, 208, 2536], [17, 151, 289, 283], [399, 103, 423, 43, 66, 208, 162, 129], [1632, 1633, 1634, 2537], [1389, 1354, 33, 5, 65, 4, 229, 248, 1, 1390, 1391, 20, 134, 119], [18, 15, 182, 14, 179, 6, 320, 3, 97, 107, 329, 474, 27], [63, 38, 278, 1, 105, 486, 246, 3461, 26, 256, 8, 716, 779], [73, 535, 1020, 240, 957, 127, 40], [539, 275, 6, 308, 472], [1190, 649, 37, 1943, 12, 1191, 837, 1190, 1944, 649, 3, 5, 85, 187, 4, 838, 464, 132, 464, 3, 2, 111, 94, 55], [567, 1132, 72], [780, 3462, 3463, 3464, 1, 106, 6, 3465, 296, 1949, 1876, 247, 2538, 21, 3, 2539, 176, 38, 603, 6, 611, 1635, 2540, 2541, 3, 41, 811, 139, 1, 531], [10, 18, 255, 15, 1352, 2, 361, 413, 3, 67, 215], [1502, 2003], [64, 10, 7, 234, 157, 101, 3, 5, 43, 6, 103, 257, 158, 217, 25, 3, 5, 419, 12, 13], [1350, 2004, 1170], [54, 98, 4, 67, 52, 84, 93, 144, 1, 2, 745, 237, 157, 4, 79, 42, 6, 5, 401, 1193], [17, 1877, 2, 59, 4, 195], [296, 1011], [7, 146, 198, 4, 28], [64, 10, 7, 234, 157, 101, 3, 5, 43, 6, 103, 257, 158, 217, 25, 3, 5, 419, 12, 13], [52, 241, 1, 564, 3466, 93, 144, 3, 1864, 469, 283, 1636, 58, 241], [149, 38, 50, 3, 39, 1993, 322, 40, 10, 355, 17, 189, 3, 41, 1, 927, 105, 6, 239, 2542, 4, 3467, 1978, 311, 1281, 780, 300, 139, 1], [10, 79, 140, 3, 111, 461, 4, 28, 14, 2, 24], [7, 155, 2543, 6, 781, 213], [131, 312], [7, 229, 37, 305, 524], [2544, 465, 3, 953, 338, 422, 235, 2545, 14, 379, 25, 272, 100, 27], [100, 23, 122, 5, 1222, 277, 71, 725, 469, 58, 1059, 221, 2546, 1008, 14, 2, 2547], [12, 347, 5, 1392, 3468, 11, 6, 5, 1816, 1, 1223, 22, 3, 99, 74], [1022, 449, 383, 958, 3, 96], [12, 13, 252, 392, 702], [861, 1218, 11, 50, 6, 479, 1, 2, 20], [732, 1, 489, 210, 62, 20, 134, 119], [450, 865, 404, 173], [7, 47, 1, 252, 20, 1, 12, 13], [44, 66, 304, 99, 1216, 1, 893], [45, 2, 2548, 223, 1637, 3469, 1, 2, 3470, 193, 1344, 834, 27], [54, 4, 167, 6, 866, 101, 212, 2549, 1087, 4, 29], [11, 29, 58, 5, 90, 65, 1, 5, 214, 1499, 162], [200, 21, 8, 684, 2550, 225, 2005], [11, 57, 3, 99, 682, 112, 1, 40], [90, 691, 1538, 1042], [851, 73, 11, 2551, 46, 2552, 422, 5, 2006, 1, 2, 49, 100, 27], [92, 57, 6, 34, 914], [143, 29, 9, 833, 551, 1039, 8, 1393, 3, 5, 39, 201, 27], [23, 122, 1638, 52, 79, 6, 1899, 1540, 219, 1562, 2, 2553, 1092, 8, 2, 65, 1, 2, 20, 307, 3, 508, 460], [7, 6, 936, 1639, 3471, 3, 2, 19], [11, 57, 3, 2, 19, 4, 189, 398, 3, 188], [1077, 2453, 359, 809, 959, 682], [32, 22, 3, 582, 1, 2554], [567, 582, 8, 376], [233, 185, 1, 415], [276, 2555], [83, 8, 28, 7, 6, 41, 16, 3, 25, 563, 1, 2, 199], [81, 262, 49, 175, 33, 36], [18, 82, 157, 3, 2, 19, 12, 13], [45, 475, 11, 3472, 3, 1539, 411], [10, 18, 255, 7, 22, 6, 705, 1, 640, 3, 2, 215], [124, 382, 1640, 21, 72], [89, 8, 30, 3473, 157, 192, 1, 12, 13], [141, 114, 853, 960], [18, 15, 3474, 3475, 5, 56, 4, 2007, 1, 1641, 493, 467, 75, 120, 1], [40, 8, 456, 596, 22, 91, 2556, 19], [7, 1186, 864, 33, 3476], [10, 782, 151, 1224, 60, 1093, 1, 573], [513, 253, 8, 491, 1394, 1, 327], [1012, 123, 86, 436, 371, 211, 4, 669], [90, 691, 1048], [2008, 1342, 43, 127, 2009, 2010, 1082, 2557, 419], [32, 4, 796, 10, 102, 11, 826, 3477, 2310, 1, 3478, 772, 6, 32, 50, 95, 3, 2558, 923, 1, 55], [45, 1570, 171, 5, 436, 371, 1920], [1225, 261, 42, 6, 261, 1226, 9, 336, 337], [203, 33, 1094, 142, 8, 102, 11], [133, 249, 700], [30, 145, 822, 135, 593, 345, 1303, 1029, 203], [7, 151, 659, 4, 16, 1, 2, 72, 115], [10, 7, 140, 3, 148, 4, 26, 41], [45, 657, 8, 10, 15, 1642, 171, 1, 5, 2559, 6, 67, 219, 160, 1, 2, 605, 1, 5, 23, 21, 40], [18, 7, 16, 3, 2, 410, 4, 1599, 50, 3, 41, 39], [45, 5, 2371, 29, 232, 2011, 5, 247, 1, 1158], [10, 18, 7, 35, 47, 4, 485, 31, 2, 24, 121, 159, 4, 97, 107, 3, 2, 55, 12, 13, 612, 4, 728, 137], [161, 17, 16, 9, 94, 85, 51, 3479, 4, 68, 321], [10, 7, 83, 1, 208, 20, 657], [17, 22, 4, 28, 14, 2, 24, 3, 1378], [7, 1, 1032, 16, 3, 2, 19], [3480, 82, 29, 1, 395, 1, 105], [23, 21, 2560, 1095, 1395, 9, 2, 274, 1, 961, 324, 134, 119], [70, 5, 381, 11, 22, 3, 2, 72, 221, 35, 48, 3, 2, 59, 4, 226, 1, 34, 3, 2, 1096], [66, 3481, 99, 9, 962], [92, 51, 1273, 4, 146, 963, 126, 2, 175], [3482, 1, 36], [12, 13, 8, 457, 7, 4, 25, 2561, 1396, 1035, 918, 190, 2466, 2, 330, 4, 564, 8, 366, 4, 3483, 69, 53, 137], [10, 7, 29, 3, 2012, 467, 4, 28, 14, 2, 24], [3484, 733, 8, 607, 32, 3, 403, 1, 497, 9, 43, 36, 3485, 1, 2, 103, 1, 890], [121, 4, 258, 96, 2013, 132], [1227, 455, 246, 276, 31, 1643], [363, 2562, 37, 964, 738], [53, 1186, 3486, 3, 2321, 3487, 1, 170], [501, 52, 17, 1347, 217, 730, 1, 2, 20, 1049, 21, 664, 2563], [15, 1128, 1, 2, 472], [3488, 8, 1206, 160, 1, 965, 159], [45, 2564, 470, 40, 358, 8, 931, 269, 380, 1, 80, 1607, 22, 37, 3489, 6, 633, 2565, 4, 3490, 469, 3491], [1284, 7, 51, 710, 1, 2, 258, 94, 4, 29, 14, 2, 24], [236, 17, 16, 3, 461, 6, 41, 4, 29, 9, 24, 6, 391], [10, 210, 68, 33, 5, 1209, 1, 489, 210, 62, 20, 134, 119], [64, 10, 7, 164, 276, 1, 541], [18, 7, 6, 34, 39, 3, 2, 410], [45, 1397, 142, 8, 5, 3492, 1644], [2, 2566, 2014, 1398, 2567, 2568], [12, 13, 701, 185, 9, 731], [18, 53, 42, 3, 2, 19], [23, 122, 69, 151, 1645, 4, 44, 43, 78, 61, 1, 180], [131, 312], [44, 7, 189, 398, 3, 188, 126], [1930, 17, 16, 1, 2, 72, 106, 4, 463, 58, 1563], [111, 172, 345, 33, 2569], [30, 10, 251, 246, 150, 1, 113, 20, 356, 27], [1646, 4, 1855, 117], [7, 69, 405, 240, 8, 3493, 89], [2015, 12, 13], [98, 4, 167, 22, 135, 783], [92, 22, 6, 1647, 4, 155, 997, 432, 14, 2, 24, 2570], [1560, 3494, 170], [597, 86, 171, 823, 8, 483, 3495], [15, 670, 4, 455, 9, 106], [23, 122, 7, 93, 867, 1, 106, 4, 1068, 2, 297, 3, 439, 59, 235, 93, 1021, 6, 3496, 868, 4, 1399, 1604], [3497, 1648, 194, 172, 108, 36], [15, 182, 14, 179, 1814, 2571, 3, 439, 59, 1, 113, 3, 320, 75, 335, 95, 1, 20], [15, 1400, 6, 2572, 4, 418, 31, 2, 911, 346, 932, 123, 31, 2, 2573, 815, 33, 634, 816, 453, 441], [15, 48, 4, 68, 1, 86, 211, 128, 27], [238, 269, 3498], [136, 47, 3, 2004, 600], [45, 359, 782, 1, 80, 573, 2574, 57, 834, 4, 264, 966, 1649, 102, 11, 216, 3, 80, 467], [459, 1, 450, 1140], [7, 57, 4, 118, 128, 27], [625, 626, 896, 950, 1371, 1372, 707], [2016, 17, 35, 1385, 3, 385, 349, 28, 14, 2, 24, 12, 13, 161, 52, 18, 190, 17, 35, 57, 101, 1, 5, 133, 178, 18, 506, 137], [70, 30, 32, 50, 95, 1, 2, 327, 350, 11, 155, 3499, 3, 3500, 266, 75, 660, 350, 1228, 1169, 420, 246, 967], [968, 1, 2, 268, 8, 2, 3501, 306, 8, 3502, 2, 3503, 8, 2, 2575, 2576, 643, 3504], [580, 1650, 1, 65, 51, 1221, 392], [15, 156, 69, 3, 2, 19], [442, 5, 11, 4, 5, 7, 185, 679], [1227, 31, 1643, 117, 276], [2, 7, 2577, 242, 1, 2, 2578], [513, 253, 8, 491, 1394, 33, 1651], [1917, 5, 10, 7, 4, 5, 11, 140, 3, 97, 107, 4, 182, 6, 320], [12, 13, 302, 293, 849, 3, 646], [18, 7, 155, 289, 3, 110], [44, 7, 1, 2, 20, 1089, 490, 118, 1, 2, 97, 178, 101, 3, 5, 3505, 117, 29, 130, 349, 652, 14, 2, 24, 4, 28, 12, 831, 518, 113, 184], [2579, 86, 1, 36], [1652, 1653, 1097, 3, 1055, 1546, 354, 12, 13], [1060, 1061, 451, 1083, 1, 2580], [2581, 3506, 332, 1, 77], [145, 6, 276, 1144, 57, 1, 2, 1654, 4, 28, 14, 2, 24], [3507, 2514, 196, 1350, 393], [567, 283, 373], [73, 32, 244, 4, 3508, 3509, 3, 467, 4, 1655, 3, 34], [10, 18, 7, 35, 47, 4, 485, 31, 2, 24, 121, 159, 4, 97, 107, 3, 2, 55, 12, 13, 612, 4, 728, 137], [1210, 5, 15, 151, 5, 289, 1, 67, 81, 56], [714, 702, 1, 2582, 969, 354, 12, 13], [18, 53, 1, 80, 482, 42, 3, 2, 19], [598, 363, 223, 173], [181, 165, 23, 21], [70, 5, 7, 1162, 151, 970, 8, 2017, 57, 31, 2, 1643, 2018, 250, 1317, 31], [18, 744, 15, 717, 3, 19, 196, 104, 60, 2019], [3510, 91, 2583, 168, 127, 40], [15, 150, 3, 2, 1078, 12, 13], [45, 3511, 3, 5, 1213, 1818, 3512, 3513, 31, 309, 3514, 31, 607, 69], [131, 583], [296, 947, 1513, 32, 271, 49, 768, 43, 127, 40], [230, 1401, 585, 3515, 2584], [236, 17, 50, 3, 41, 1, 2, 72, 106, 4, 28, 14, 2, 24], [149, 92, 26, 2020, 3, 154, 59, 530, 280, 278, 396, 334, 3, 25, 3516, 64, 811, 426, 297, 3, 25, 439, 2021, 4, 28, 780, 300, 6], [70, 30, 197, 174, 444, 319, 809, 6, 292, 74, 233, 9, 43], [7, 189, 398, 3, 110, 4, 57, 1, 1589, 353], [238, 4, 861, 1218, 145, 1400, 4, 68, 111, 357, 9, 56], [7, 69, 396, 398, 3, 110, 3, 2, 266, 100, 27], [10, 15, 209, 26, 34, 914, 6, 97, 468, 9, 56, 9, 199, 184, 322, 40], [784, 2022, 3517, 61, 6, 19, 4, 783], [30, 910, 1, 1402, 1403, 2023, 48, 4, 226, 836, 8, 1195, 175], [11, 16, 3, 2, 19, 135, 771, 730, 4, 26, 41], [278, 383, 3, 841, 256, 4, 1972], [2585, 3518, 3519, 1404, 2586, 3520, 3521, 2585, 2024, 2554], [12, 13, 8, 5, 7, 6, 594, 590, 1, 219, 1167, 355, 170, 334, 1, 445, 446, 1088, 767, 4, 2587], [380, 1405, 1093, 1, 476, 58, 2025, 1340], [3522, 1656, 3523], [54, 6, 46, 84, 47, 3, 2, 19, 12, 13], [203, 95, 8, 3524, 548, 21, 3525, 3526], [44, 18, 54, 259, 25, 190, 9, 505, 101, 1, 2, 178, 18, 920, 4, 506, 137, 12, 13], [90, 726, 4, 62, 90, 65], [92, 1098, 1, 5, 1406, 4, 68, 452], [23, 21, 8, 449, 69, 187, 4, 277, 132, 1, 115, 323, 94, 12, 13, 5, 592, 1309, 424, 35, 309, 1033, 31, 2, 449, 1, 5, 115, 60, 326, 94], [10, 11, 4, 145, 946, 194, 111, 172, 458, 87, 36], [79, 785, 315, 213, 1, 460], [102, 261, 217, 1407], [258, 172, 99, 6, 285, 1, 55], [1657, 994, 598, 2588, 1408], [83, 8, 18, 92, 6, 41, 39, 1, 2, 105], [83, 8, 28, 11, 6, 34, 39, 3, 2, 72, 100, 27], [10, 7, 146, 718, 467, 3, 3527], [70, 501, 7, 2589, 5, 190, 340, 454, 1, 97, 2026, 20, 186, 158, 199, 2027, 18, 4, 197, 2439], [501, 17, 118, 3, 148, 26, 341, 4, 28, 9, 24], [10, 280, 185, 3, 5, 1858, 91, 2, 1862], [11, 3528, 1092, 194, 971], [161, 17, 16, 3, 2590, 26, 41, 29, 9, 24, 4, 28], [191, 741, 762, 3, 5, 536, 285, 281], [972, 7, 57, 463, 1, 166, 296, 1099], [11, 50, 33, 56], [3529, 86, 1, 323, 36], [218, 484, 1229, 42, 491, 1, 5, 49, 20, 184, 602, 9, 218, 351, 683, 1, 2028, 3, 484, 1, 218, 227], [32, 22, 1, 66, 393], [625, 626, 896, 950, 1371, 1372, 707], [54, 42, 6, 25, 84, 4, 93, 144], [7, 28, 4, 16, 3, 5, 266, 1, 2, 1891, 49, 12, 831, 18, 44, 1044, 17, 288, 2, 103, 4, 2, 973, 566, 1, 974, 644, 423], [526, 285, 65, 1, 318, 103], [298, 8, 32, 9, 208, 373], [858, 17, 1658, 2, 1076, 23, 21, 83], [97, 129, 4, 121, 1852], [1067, 77, 6, 242, 4, 129], [869, 973, 103, 2458], [63, 76, 11, 26, 34, 39, 1, 71, 94], [1659, 16, 3, 2, 74, 120, 46, 1660, 1, 489, 210, 62, 20, 134, 119], [749, 2029, 8, 1280, 551, 1230, 574, 24], [64, 17, 2591, 219], [250, 365, 586, 600, 168], [592, 417, 669], [52, 236, 161, 17, 6, 1828, 26, 360, 34, 786, 609, 358, 3, 2, 3530], [308, 2592, 3, 1070, 354, 12, 13], [73, 15, 246, 177, 118, 163, 1, 67, 295], [363, 276, 58, 132], [2593, 393, 813, 1, 78, 541], [18, 145, 48, 1, 2, 1654, 4, 26, 34], [387, 15, 9, 375, 205, 62, 20], [2550, 225, 975, 4, 333, 93, 144, 4, 42, 3531, 572, 1, 49, 20], [218, 227, 1514, 218, 1859, 683, 588, 4, 1860, 1, 2343, 30, 382, 209, 151, 5, 2594, 1, 5, 559, 974], [3532, 42, 6, 1661], [3533, 2030, 2595, 1194, 33, 552, 916], [131, 3534, 689], [387, 30, 3535, 1, 2, 105, 228, 264, 355, 3536, 6, 662, 3, 2, 85], [10, 7, 4, 11, 185, 5, 233, 9, 2, 437, 4, 93, 609, 144, 12, 13], [224, 7, 47, 1, 20, 826, 101, 100, 1662, 139, 220, 1663, 1664, 75, 270, 1, 2, 20, 12, 13, 644, 423], [32, 22, 91, 214, 72], [10, 15, 246, 276, 260, 95, 8, 3537, 100, 27], [141, 114, 102, 466], [111, 2596, 6, 166, 76, 374, 664, 217, 180], [11, 22, 3, 2, 19, 12, 13], [976, 8, 2, 870, 9, 2, 1231, 8, 2, 1232], [1665, 6, 5, 88, 8, 63, 3538, 1, 2, 55, 1, 372, 62, 20, 134, 119], [10, 18, 255, 15, 1352, 2, 361, 413, 3, 67, 215], [7, 47, 4, 907, 21, 9, 104, 1, 119], [3539, 1967, 1603, 1, 65, 3540, 9, 123], [1813, 1, 3541, 2, 3542, 938, 40], [940, 977, 1, 5, 77], [44, 104, 78, 97, 231, 127], [23, 122, 1148, 30, 3543, 3544, 6, 508, 417, 4, 1277, 3, 322], [10, 7, 50, 3, 71, 41, 1, 2, 20], [2031, 1, 66, 3, 2032, 200, 1409], [282, 103, 783, 4, 1410, 2033, 3, 2, 19], [1567, 978, 194, 33, 1194, 662], [15, 48, 1, 67, 94], [158, 399, 96, 130, 1075, 299], [387, 782, 9, 177, 1, 230, 476], [11, 2034, 87, 2, 61, 1, 5, 1199, 8, 3545, 3, 5, 318, 367, 113, 249, 152, 221, 2597, 14, 2035, 194], [18, 15, 292, 3, 5, 294, 74, 233, 806, 100, 27], [2598, 2276, 95, 8, 129, 156, 1854], [1411, 2036, 3, 65, 1092], [82, 50, 33, 56, 60, 941, 2599], [1666, 140, 3, 2, 19, 4, 15, 22, 1, 55, 128, 27], [1667, 1220], [255, 98, 944, 84, 915, 1508, 21, 462, 3, 67, 215, 9, 43], [12, 13, 23, 122, 206, 1022, 2600, 2037, 6, 2601, 87, 2602, 958, 1293, 1668, 3, 1365, 616, 1516, 132], [1605, 519, 86, 3546], [585, 2038, 1622], [82, 48, 3, 110, 3, 2, 72, 100, 27], [15, 22, 102, 136], [540, 3547, 578, 955, 369, 289, 3, 2, 172, 335, 3, 5, 682], [54, 2, 167, 4, 2, 84, 786, 358], [296, 947, 9, 43, 32, 271, 2039, 49, 254], [7, 979, 2603, 14, 339], [30, 174, 4, 17, 16, 3, 2, 148, 4, 42, 358, 546, 26, 2604, 17, 2605, 2319, 3548, 3, 2, 142], [2039, 22, 14, 2, 510], [15, 16, 3, 5, 239, 2606, 717, 418, 156, 2607, 453, 908, 184, 31, 2, 252, 116, 3, 5, 403, 10, 11, 4, 7, 1, 330, 118, 31, 2, 2608, 346, 521], [30, 145, 48, 283, 109, 60, 3549, 93, 1233], [3550, 112, 2, 2609, 8, 38, 245], [10, 7, 16, 1, 20, 4, 146, 1669], [11, 57, 6, 110, 1, 2, 178, 4, 260, 1531, 1079], [2610, 42, 1, 637], [45, 5, 7, 265, 3, 656, 31, 2, 168, 3551, 117, 9, 3552, 3553], [83, 8, 10, 18, 11, 6, 34, 39, 9, 56], [1100, 1386, 33, 5, 94, 1100, 1126, 857, 27], [83, 8, 82, 1, 433, 416, 28, 14, 2, 24], [230, 105, 1670], [937, 168, 1671, 108, 2411, 542], [54, 4, 84, 1184, 242, 3, 608], [10, 18, 254, 15, 47, 37, 67, 1101, 1, 2040, 8, 2, 352, 2041, 8, 413, 2042], [70, 5, 10, 88, 8, 891, 800, 317, 6, 67, 294, 374, 4, 142, 232], [784, 2022, 3554, 1942, 3555, 8, 3556], [376, 1388, 768, 127], [837, 153, 277, 649, 3, 2, 85, 14, 548, 980, 12, 13, 187, 4, 838, 464, 132, 464, 3, 2, 111, 94, 55], [7, 785, 4, 1102, 1, 183, 8, 5, 629], [2611, 1412, 3, 5, 1234, 6, 5, 97, 361, 1355, 23, 27], [1103, 6, 32, 157], [2043, 196, 2612], [136, 3557, 3, 635], [1104, 2044], [45, 79, 16, 6, 46, 136, 3, 849, 871, 9, 207, 116], [10, 11, 189, 398, 3, 662, 16, 3, 19, 4, 29, 130], [30, 251, 1413, 3, 507], [1672, 88, 8, 191, 1551, 264, 4, 3558, 81, 966, 1, 716, 779, 672, 3559, 108, 117, 4, 1673, 69], [333, 3, 2613, 379], [45, 899, 10, 63, 7, 2313, 1, 71, 1012, 9, 123, 105, 734, 2, 41, 4, 112, 194, 256, 4, 23, 25, 339], [10, 15, 1400, 2, 81, 1043, 6, 1512, 28, 6, 2614, 152, 212, 3560, 256, 186, 3561, 8, 3562, 981, 386], [44, 19, 99, 169], [2564, 40, 8, 2615, 4, 3563, 47, 171, 3564, 6, 44, 40], [2045, 356, 22, 37, 343], [131, 312], [66, 427, 22, 624, 656, 192, 12, 13], [83, 8, 5, 10, 267, 2046, 17, 6, 5, 71, 188, 824, 13, 369, 825, 1036], [131, 312], [63, 76, 79, 42, 6, 90, 386], [2363, 15, 16, 3, 2, 107, 1, 569, 178], [2616, 995, 1, 2047], [10, 613, 572, 15, 3, 2, 19], [10, 18, 254, 255, 15, 390, 36, 740, 4, 1414, 413, 422, 705], [427, 7, 433, 35, 22, 2617, 1, 147, 3, 5, 43, 6, 5, 257, 103, 7, 29, 170, 4, 711, 25, 2618, 109, 14, 2619, 21, 6, 25, 12, 13], [749, 23, 122, 5, 271, 99, 982], [7, 1674, 983, 3, 1415, 467, 1, 94, 12, 13], [23, 122, 5, 298, 8, 32, 22, 3, 2, 49, 72], [241, 668, 67, 54, 1004, 1131], [269, 4, 38, 848, 945, 157, 1, 12, 13], [10, 7, 979, 1269, 126], [70, 10, 11, 6, 773, 1034, 24, 1892, 3, 358, 535, 8, 238, 49], [501, 10, 7, 118, 1, 222, 68, 125, 26, 154, 59, 3565], [89, 83, 8, 44, 197, 28, 7, 6, 508, 820, 12, 13, 2048, 137, 10, 7, 6, 658, 820, 4, 158, 339, 445, 83, 3, 5, 121, 2049, 55], [241, 42, 315, 3, 2, 1235], [1386], [628, 2620, 1, 294], [15, 150, 91, 2, 74], [89, 8, 102, 11, 1102, 5, 111, 1102, 311], [10, 425, 11, 396, 26, 188, 9, 56], [83, 8, 5, 52, 79, 22, 959, 86, 211], [2548, 3566, 3, 655, 437], [191, 1675, 930, 54, 447, 37, 66], [2050, 226, 2051, 8, 1393, 1416], [960, 614, 200], [18, 15, 22, 3, 2, 19, 12, 13], [10, 7, 3, 2, 19, 48, 3, 25, 430], [15, 379, 1554, 3567, 1, 12, 13, 6, 111, 172, 458], [298, 22, 171, 2530], [10, 7, 29, 95, 2, 164, 4, 151, 2621, 126, 40, 6, 129, 1312, 1, 2, 240], [3568, 1417, 2052, 1835], [380, 752, 5, 1336, 14, 1337, 1050], [2622, 3, 5, 85], [38, 3569, 421, 21, 3, 136], [2623, 35, 2053, 2624, 1, 5, 765, 3570], [10, 11, 6, 41, 195], [2054, 185, 3, 477], [10, 280, 26, 430, 59, 23, 21, 83, 8, 5, 10, 280, 7], [86, 211, 872, 436, 371, 377], [11, 50, 3, 41, 3, 2, 19], [30, 38, 109, 16, 3, 2, 19, 4, 48], [117, 169, 1062, 8, 286, 160, 116, 650, 36, 12, 13], [3571, 655, 2625, 127], [873, 5, 38, 69, 189, 385, 3, 41, 3572, 528, 164, 35, 3, 2, 55], [161, 17, 6, 730, 28, 644, 423, 4, 601], [10, 237, 4, 67, 52, 84, 288, 113, 249, 31, 2, 61], [7, 9, 2, 19], [11, 2357, 66, 194, 916, 8, 193, 304, 1, 66, 246, 917], [1567, 1676, 14, 3573, 849, 735], [428, 99, 184, 602, 87, 249], [5, 11, 1982, 4, 383, 414, 3, 46, 2517, 2494, 14, 2519, 1983], [1633, 1634, 3574], [10, 18, 255, 15, 3575, 3576, 3577, 3, 448, 361, 413], [79, 47, 4, 785, 315, 213], [926, 755, 400, 835, 1, 330, 15, 93, 144, 163, 1, 77, 100, 27], [276, 2555, 363], [1901, 1052, 37, 66], [102, 4, 80, 1002, 1, 2, 67, 1274, 9, 336, 337], [149, 38, 16, 3, 2, 486, 1, 106, 60, 9, 56, 235, 391, 4, 812, 25, 455, 300, 139, 1, 972, 1418, 3578, 1178, 845, 1, 3579, 2626, 2467, 319, 184, 177, 9, 56, 1059, 3580], [3581, 1356, 4, 65, 2291], [3582, 544], [30, 251, 3, 5, 971, 1, 747, 36, 2055, 108], [2366, 63, 76, 6, 1200, 2627, 2056, 34, 39], [1419, 1420, 23, 21, 102, 4, 80], [7, 50, 33, 56], [490, 680, 570], [11, 3583, 1, 2, 208, 1, 893], [1629, 2057, 213, 6, 166, 2058], [448, 35, 3584, 1797, 3, 736, 7, 35, 226, 736, 4, 976, 736, 3585, 9, 56], [384, 4, 200, 23, 122, 446, 765, 334, 8, 38, 596, 9, 445, 1027, 801, 860, 4, 1088, 767], [18, 92, 22, 126, 4, 1219, 69, 6, 1647, 128, 27], [2628, 874, 3586, 203, 1], [1626, 1821, 1063, 1561], [1677, 2629, 1266, 69, 151, 5, 577, 1, 559, 974], [89, 83, 18, 17, 340, 454, 186, 2, 159, 4, 28, 9], [133, 1678, 4, 2630], [127, 8, 684, 19, 4, 19, 3587], [10, 64, 267, 38, 26, 25, 59, 1, 2461, 2462, 2463, 824, 13, 369, 825, 1913, 1914, 1915, 1916], [64, 10, 7, 234, 157, 101, 3, 5, 43, 6, 103, 257, 158, 217, 25, 3, 5, 419, 12, 13], [218, 227, 921, 7, 151, 1545, 14, 2, 1183, 1, 1861, 2059, 3, 810, 922, 830, 1159, 9, 1160, 1161], [10, 7, 16, 3, 2, 894, 101, 6, 5, 41, 39, 3, 25, 2631, 75, 314, 3, 25, 154, 59, 14, 5, 581, 2060, 31, 2, 199, 103, 861, 27], [1421, 641, 499, 3, 116], [623, 3, 46, 394, 534, 9, 5, 1029, 8, 498, 342], [500, 3588, 377, 24, 108, 587], [2460, 251, 146, 4, 155, 1311], [512, 23, 21, 8, 36, 47, 37, 3589], [1528, 2061, 2062, 1105], [210, 51, 392], [492, 78, 3590, 162], [11, 1345, 471, 3591, 420], [3592, 51, 242], [473, 498, 7], [53, 1910, 4, 29, 9, 2, 24, 54, 4, 167, 156, 69, 5], [70, 30, 197, 174, 444, 319, 809, 91, 462, 6, 292, 74, 233, 9, 43], [30, 10, 174, 42, 491], [2063, 1679, 1197], [675, 51, 23, 21], [11, 3593], [261, 42, 6, 1661, 261, 545], [774, 53, 8, 359, 1844, 9, 1489, 3, 2632, 117, 4, 1680, 152, 539, 1236, 2633], [275, 37, 181, 541], [5, 10, 7, 2064, 3, 654, 97, 6, 214, 147, 1, 497], [1105, 308, 87, 2634, 124, 735, 1139], [82, 314, 3, 154, 59, 22, 14, 105], [10, 2635, 6, 2065, 1085, 242, 6, 5, 3594, 240], [1106, 1, 323, 36], [3595, 96, 3596, 23, 21, 747, 1921, 8, 77], [76, 374, 4, 553, 1165], [997, 10, 425, 11, 29, 9, 24], [940, 977, 1, 36], [10, 32, 57, 3, 2, 19], [70, 268, 4, 663, 149, 124, 440, 719, 543, 787, 264, 1107, 3, 34, 39, 8, 81, 296, 720, 6, 267, 124, 440], [442, 5, 11, 4, 5, 7, 390, 5, 640], [473, 3597, 817, 134], [5, 763, 11, 2066, 5, 315, 213, 186, 5, 102, 55], [1614, 42, 1981, 9, 412, 23, 21], [184, 602, 3598, 662], [143, 48, 14, 245, 26, 5, 34, 14, 1127, 25, 1805, 201, 27], [224, 7, 47, 1, 20, 826, 101, 100, 1662, 139, 220, 1663, 1664, 75, 270, 1, 2, 20, 12, 13, 644, 423], [3599, 86, 1, 116, 349, 788, 135, 2, 36], [1681, 16, 4, 1841, 338], [2636, 365, 3, 168], [1070, 702, 87, 2582, 969, 354, 12, 13], [70, 268, 4, 663, 6, 149, 124, 440, 719, 543, 787, 264, 121, 1422, 8, 81, 296, 720, 6, 267, 124, 440, 9, 43], [7, 47, 907, 21, 9, 104], [17, 150, 248, 1, 20], [83, 17, 1952, 26, 430, 59, 4, 195, 694], [18, 7, 6, 514, 35, 3, 5, 651, 235, 35, 18, 4, 1154, 10, 3600], [23, 21, 3601, 236, 10, 17, 310, 6, 724, 219, 29, 37, 1090, 57, 217, 2637, 1, 610, 481, 1682, 120, 24], [70, 63, 76, 73, 11, 6, 41, 311, 3, 75, 618, 14, 177, 60, 165, 152, 221, 229, 1, 5, 71, 49, 72, 9, 104], [2638, 38, 362, 9, 177, 1, 25, 412, 979, 2639, 1683, 14, 5, 232, 3, 507, 60, 2640, 2641, 14, 166, 1616, 6, 5, 181, 3602], [721, 697, 9, 435, 62, 402], [102, 1684, 1409, 523, 29, 9, 24], [10, 7, 140, 1, 222, 717, 2642, 447, 29, 9, 24, 4, 28, 789], [10, 11, 226, 562, 690, 3, 34, 39, 1, 2, 20], [1006, 61, 1080, 3, 2, 19], [12, 347, 5, 52, 79, 1, 352, 486, 1973, 51, 132, 6, 681], [512, 23, 21, 8, 302, 293, 6, 2643, 3603], [302, 293, 2644, 753, 12, 13], [11, 3604, 1850, 1, 1492], [98, 4, 167, 160, 677, 3, 323, 77, 9, 43, 100, 27], [501, 3605, 17, 118, 3, 148, 26, 154, 59, 4, 28], [2645, 91, 33, 2646, 1833], [2067, 1358, 1319, 3, 2, 222, 184, 602, 470, 27], [7, 146, 5, 198, 3, 461], [10, 7, 196, 984, 3606, 1564], [70, 10, 457, 7, 93, 5, 2068, 184, 283, 1, 2, 20, 235, 340, 454, 4, 28, 158, 103, 257, 37, 2, 129], [7, 6, 2452, 9, 2, 40, 3607, 12, 13], [355, 10, 1237, 421, 836, 6, 3608, 2647, 3, 39, 63, 613, 572, 38, 29, 3, 468, 41, 4, 1224, 836, 8, 81, 175, 1610, 17, 155, 25, 177, 9, 2], [3609, 3610, 4, 1496, 763, 382, 789], [160, 87, 2, 204, 43, 49, 268, 517, 922, 2648], [456, 69, 1685, 1686, 33, 2, 1884], [52, 79, 16, 3, 3611, 2631, 4, 29, 95, 528, 164, 713, 954, 14, 3612, 443, 6, 507, 528, 53, 566, 31, 460], [30, 10, 814, 6, 41, 34, 4, 395, 1, 2, 105], [53, 229, 37, 305, 524], [53, 832, 5, 307, 3, 133, 249], [23, 122, 5, 54, 544, 5, 190, 6, 5, 2649, 75, 98, 156, 443, 769, 283], [7, 259, 730, 4, 28, 14, 2, 24], [15, 26, 71, 532, 3, 1023, 128, 27], [3613, 5, 10, 11, 5, 7, 150, 101, 1, 158, 601], [1875, 6, 919, 3614, 1, 1099], [536, 99, 1216, 43, 173], [144, 10, 7, 2069, 90, 2070, 3615], [1411, 3616, 3, 2, 19, 2650, 1687, 231], [224, 7, 47, 1, 20, 826, 101, 100, 1662, 139, 220, 1663, 1664, 75, 270, 1, 2, 20, 12, 13, 644, 423], [17, 226, 690, 3, 34, 4, 28, 14, 2, 24], [12, 13, 8, 22, 32, 88, 595, 271, 49, 296, 2299], [45, 2651, 3617, 1649, 3618, 313, 14, 2652, 209, 3619, 9, 5, 1082, 1, 3620], [54, 561, 66, 9, 25, 167, 235, 35, 16, 3, 5, 2653, 1, 2, 3621], [45, 2071, 310, 1576, 3, 5, 3622, 2654, 33, 217, 31, 46, 975, 6, 253, 14, 46, 153, 4, 1533], [601, 257, 377, 1188], [1306, 3, 3623, 116, 437], [478, 7, 140, 3, 97, 343, 4, 139, 44, 504], [2072, 11, 112, 1, 99, 40], [1688, 1889, 736, 3624, 3625, 1640, 1079, 3626, 14, 2655, 3627, 58, 3628, 130, 2, 1188], [38, 109, 317, 867, 3, 2, 410, 9, 123, 128, 27], [7, 118, 4, 68, 125, 1, 2, 446], [436, 371, 1689, 2033, 789], [1349, 1519, 370, 8, 633, 71, 471, 532, 181, 1921, 8, 77, 2402, 2403, 754, 1, 2404, 2405, 5, 52, 2406, 1922, 4, 2407, 1552], [359, 487, 1690, 109, 335, 95, 9, 389, 2073], [2074, 51], [384, 21, 33, 99, 244, 738], [38, 245, 9, 2, 648, 105, 201, 27], [526, 1066], [131, 529, 526], [985, 184], [44, 7, 1, 2, 20, 1089, 490, 118, 1, 2, 199, 178, 101], [1238, 643, 175], [875, 86, 4, 788, 108, 823, 8, 36], [724, 7, 35, 884, 915, 1], [929, 185, 5, 2656, 1, 760, 606, 5, 2656, 35, 5, 2075, 3629, 2657, 1957, 1691, 6, 350, 886, 2, 830, 2076, 353, 3, 1423, 1, 218, 227], [350, 267, 303, 38, 2077, 2078, 2079, 743, 4, 2658, 2058, 213, 3630], [10, 434, 6, 5, 41, 28], [43, 9, 2, 19], [45, 5, 15, 265, 3, 5, 1082, 3631, 87, 5, 116, 1, 893], [1389, 163, 6, 191, 732, 1, 372, 62, 20, 134, 119], [11, 2659, 525, 2660, 14, 1961, 1239, 3, 183, 687, 8, 1141, 223, 1, 2661], [88, 8, 10, 32], [3632, 726, 1065, 1, 1692, 4, 36], [2662, 3633, 112, 194, 33, 2080, 287, 306], [200, 8, 198, 1, 225, 610], [286, 3, 1693], [30, 145, 822, 135, 593, 345, 1303, 1029, 100], [18, 11, 50, 3, 41, 4, 68, 321, 1, 2, 178], [641, 4, 2579, 9, 2081, 116], [7, 155, 2663, 2082], [1930, 92, 463, 1, 2, 115], [2664, 3634, 377], [27, 8, 2665, 577, 3, 1971, 94, 176], [813, 995, 980], [2598, 22, 37, 893, 6, 1854], [695, 114, 459, 247], [790, 362, 548, 790, 1, 412, 23, 21], [120, 3635, 627, 616, 3, 94, 1137, 6, 7], [143, 1310, 14, 2, 245, 1806, 1166], [985, 184], [858, 17, 146, 198, 4, 1108, 3, 65, 1, 2, 20], [12, 13, 671, 2666, 2083], [2, 17, 2597, 14, 379, 5, 181, 233, 1, 760, 606, 2, 760, 606, 8, 157, 1240, 2667, 3636, 1, 2, 830, 2076, 353, 3, 1423, 1, 218, 227], [406, 375, 205, 62, 20, 384, 21, 33, 2668, 111, 2669], [53, 265, 91, 14, 503, 9, 115], [414, 677, 666], [364, 23, 122, 5, 10, 7, 139, 5, 348], [698, 699, 608, 765], [1070, 521, 1, 1694, 438, 969, 354, 12, 13, 27], [70, 18, 53, 93, 283, 307, 1, 97, 20, 52, 84, 185, 3, 2670, 1287, 457, 54, 390, 276, 1144], [70, 876, 3637, 112, 970, 8, 5, 53, 499, 3, 5, 19], [64, 10, 7, 16, 9, 85, 68, 36, 6, 391], [1318, 112, 350, 3638, 6, 3639, 4, 349, 206, 180, 170], [203, 33, 1238, 643, 175, 291, 376, 123], [1424, 877, 3, 2, 655], [1220, 1, 77], [18, 15, 182, 14, 179, 6, 320, 3, 97, 107, 329, 474, 27], [131, 986], [10, 82, 850, 1198, 3, 2, 410], [10, 7, 185, 773, 272, 1, 20, 4, 93, 609, 144, 12, 13], [1086, 2634, 1, 111, 172, 285], [10, 92, 48, 3, 1377, 1, 2, 3640], [64, 71, 73, 7, 1, 56, 105, 26, 34, 39], [10, 82, 150, 3, 2, 1078, 12, 13, 27], [521, 129, 6, 601, 3641, 37], [45, 5, 82, 1187, 14, 2, 1695, 2, 177, 1, 2, 927, 1344, 834, 27], [23, 122, 744, 15, 309, 18, 163, 61, 4, 159, 55], [30, 1043, 238, 79, 1202, 6, 46, 54, 4, 794], [143, 1026, 6, 366, 4, 84, 1, 1295], [888, 244], [23, 21, 33, 30, 2671, 51, 1, 372, 62, 20, 134, 119], [1009, 3642, 600, 426, 1139], [996, 99, 169], [7, 16, 1, 951, 4, 146, 1669, 9, 56], [223, 1241, 2672, 633, 1242, 8, 1425, 1, 1135], [617, 10, 7, 9, 166, 2673, 428, 416], [425, 434, 16, 3, 148, 68, 321, 4, 26, 110], [7, 47, 1, 252, 20, 1, 12, 13], [11, 370, 4, 120, 90, 65, 1, 214, 162], [1243, 1426, 3, 1498, 169, 305], [10, 7, 421, 25, 3643, 58, 2, 184], [536, 1995, 263], [10, 38, 22, 6, 1030, 1031, 136, 3, 61, 183, 12, 13], [241, 42, 315, 3, 2, 1235], [744, 617, 10, 15, 112, 5, 289, 3, 5, 154, 59, 152, 212, 1696, 1, 5, 23, 2674, 1, 5, 20, 6, 571, 1, 2, 55], [11, 2084, 3644, 3, 1171], [3645, 2085, 543], [23, 122, 153, 112, 1399, 1604, 4, 206, 180, 87, 438, 958], [45, 5, 3646, 14, 2, 2675, 2676, 1697, 3647, 2298, 2, 3648, 8, 5, 3649, 3650], [10, 54, 42, 6, 25, 84, 1, 252, 20, 128], [11, 3651, 65], [18, 972, 1089, 10, 15, 3652, 1, 2, 81, 1043, 6, 2677, 29, 9, 2, 24, 6, 564, 840, 1698, 186, 3653, 981, 386], [1897, 141, 114, 568, 473, 3654, 130, 65, 1092, 905, 194], [18, 7, 68, 708, 9, 106, 126], [23, 21, 83, 5, 52, 1699, 1, 2, 343], [218, 227, 878, 548, 21, 362, 1335, 1203, 8, 166, 2678, 42, 5, 2086, 8, 3655, 2679, 1, 533, 1057, 2087, 199, 31, 2088, 2089], [63, 76, 11, 68, 328, 321, 1, 71, 254, 94], [45, 2, 63, 380, 57, 3, 5, 630, 4, 26, 2, 34, 1344, 834, 27], [19, 15, 157], [2090, 9, 123], [2, 2091, 1181, 9, 1700, 1427, 2680, 2681], [64, 7, 277, 2, 65, 58, 90], [1898, 446, 14, 334], [64, 243, 7, 26, 34, 39, 807, 297, 426], [45, 475, 2092, 2682], [7, 68, 125, 4, 195, 9, 24], [7, 139, 80, 322, 4, 318, 1986], [1681, 140, 1, 2, 107], [141, 114, 614, 2683], [64, 10, 7, 234, 157, 101, 3, 5, 43, 6, 103, 257, 158, 217, 25, 3, 5, 419, 12, 13], [173, 1045, 90, 65], [123, 472, 275, 173], [2684, 2685, 921, 70, 5, 272, 3656, 390, 30, 313, 171, 2, 1515, 8, 2684], [23, 21, 8, 2686, 2687, 3, 5, 456, 170], [442, 5, 7, 4, 5, 11, 22, 1, 5, 215], [1015, 15, 1016, 32, 10, 1017, 145, 903, 1018, 1019, 904, 591, 149, 251, 2093, 494, 2688, 14, 791, 1056, 879, 4, 18, 38, 109, 717, 6, 2614], [624, 290, 598, 3657], [203, 1, 3, 741, 3, 285, 281], [10, 63, 76, 11, 29, 37, 2, 1090, 16, 3, 5, 164, 2689, 591, 2690, 1, 2, 610], [756, 1301, 9, 2691], [131, 583], [168, 169], [1428, 1244, 86, 171, 823, 8, 368, 299], [10, 11, 1026, 31, 59, 4, 195], [326, 416, 135, 124, 1, 285], [1644, 4, 1701, 99, 1701, 3658, 342, 3659, 3660, 1935], [17, 584, 172, 247, 789], [873, 2075, 69, 370, 2506, 1994, 33, 1245, 1365, 26, 2497, 370, 1702, 854, 871, 8, 1245, 1365, 300, 124], [3661, 69, 4, 758, 662], [7, 50, 3, 41, 4, 28, 14, 2, 24, 1, 2, 72, 106], [92, 50, 3, 34, 1, 569, 353], [200, 33, 5, 210, 22, 37, 2, 770, 1, 372, 62, 20, 134, 119], [797, 2094, 290, 539], [7, 2300, 5, 2692, 9, 1703, 3662, 85], [52, 17, 29, 3663], [83, 8, 5, 10, 267, 2046, 17, 6, 5, 599, 8, 125, 824, 13, 369, 825, 1036], [161, 712, 7, 1, 254, 408, 1, 80, 872, 792], [7, 48, 3, 2, 59, 4, 28], [66, 304, 493], [346, 4, 1, 330, 15, 156, 645, 556, 1, 107, 77], [10, 7, 118, 246, 1429, 3, 563], [18, 7, 1430, 25, 219, 6, 603, 4, 42, 6, 180, 101, 1, 133, 351, 60, 113, 12, 2095], [10, 15, 2096, 5, 198, 1704, 1, 448, 81, 295], [45, 40, 33, 5, 170, 2, 2097, 1014, 2, 11, 4, 2, 7, 1537, 591, 686, 3664], [10, 457, 54, 4, 52, 84, 26, 758, 662, 1, 2, 20, 212, 16, 3, 971, 8, 696, 4, 93, 2068, 184, 163], [749, 230, 367, 96, 3, 61, 176, 89], [1431, 384, 91], [732, 22, 37, 2301], [1432, 11, 6, 579, 8, 3665, 16, 3, 2, 266, 1, 2, 199], [472, 263, 813, 78, 2, 726], [32, 22, 1, 66, 393], [236, 17, 16, 3, 176, 26, 154, 59, 4, 28, 364, 24], [1384, 18, 1432, 11, 3666, 684, 579, 31, 527], [36], [141, 114, 568, 473, 905, 37, 647, 107, 14, 841], [218, 227, 878, 70, 5, 7, 6, 258, 2386, 311, 22, 1, 1996, 319, 674, 1, 2693, 165], [381, 310, 1085, 4, 344, 839], [70, 98, 480, 84, 1346, 14, 379, 46, 272, 3, 5, 20, 933, 6, 841, 465], [161, 17, 1705, 33, 24, 291, 2, 77, 138, 35, 1, 5, 80, 504, 986], [40, 33, 329, 23, 21, 8, 2, 69, 8, 2, 578, 1264, 1706, 3, 5, 172], [88, 8, 333, 42, 315, 1, 119], [7, 429, 3667, 135, 560, 36, 12, 13], [3668, 709, 1246, 967, 5, 2694, 4, 1174, 194], [3669], [88, 8, 333, 42, 315, 1, 119], [88, 265, 130, 527, 9, 962], [17, 565, 3, 2, 461, 4, 1707, 14, 179, 89], [7, 26, 34, 196, 3670, 518, 441, 1, 12, 13, 44, 267, 7, 26, 34, 1, 2, 284, 1, 5, 932, 94], [30, 2695, 1706, 4, 955, 3671], [3672, 6, 90, 2696], [149, 143, 9, 177, 196, 3673, 1595, 14, 280, 7, 1, 496, 201, 27], [53, 151, 3674, 350, 271, 494, 980, 556, 11, 4, 7, 3675, 895, 4, 48], [10, 11, 16, 3, 148, 26, 110, 4, 68, 321], [230, 3676, 3, 61, 176], [7, 26, 360, 34, 1, 2, 97, 20, 101, 44, 10, 490, 139, 5, 348, 4, 5, 504, 26, 5, 71, 34, 14, 3677, 58, 718, 4, 2697, 1, 113, 12, 831, 518], [1708, 5, 7, 1709, 1, 2, 61, 170, 40], [161, 712, 7, 1, 254, 408, 1, 80, 872, 792], [1433, 76, 7, 4, 30, 267, 952, 26, 34, 1, 105], [3678, 32, 6, 2698, 3679, 1630, 22, 130, 4, 463, 1, 301, 4, 204, 165, 509], [387, 5, 7, 429, 2, 1511, 1, 2, 94, 9, 56, 1, 2, 199], [64, 10, 7, 234, 157, 101, 3, 5, 43, 6, 103, 257, 158, 217, 25, 3, 5, 419, 12, 13], [11, 3680, 14, 323, 5, 1025, 579], [449, 955, 5, 592, 1620], [131, 312], [104, 124, 475, 415], [12, 347, 5, 425, 858, 11, 29, 248, 75, 57, 186, 74], [10, 11, 2699, 6, 46, 2098, 1434, 272, 959, 443], [2, 38, 1435, 1097, 3, 2, 1245, 305, 125, 4, 3681], [45, 5, 1106, 274, 1, 2, 2700, 8, 5, 3682, 1285, 5, 436, 371], [82, 50, 3, 41, 4, 16, 3, 2, 107], [10, 7, 151, 3683, 1696, 1, 2, 20], [52, 190, 1596, 14, 307, 23, 21, 3, 192, 12, 13, 54, 35, 480, 25, 138, 14, 707, 2, 854, 656, 3, 5, 97, 107, 1, 113, 2016, 35, 1655, 14, 307, 101, 3, 5, 97, 1436], [3684, 1312, 1, 2, 747, 36], [12, 13, 8, 702, 3685, 87, 649, 187, 4, 838, 464, 132, 464, 3, 2, 239, 4, 111, 94, 55], [387, 1222, 1, 1437, 151, 369, 8, 2, 1334, 391, 4, 216, 180, 14, 25], [271, 206, 1100, 1, 223], [10, 15, 2701, 319, 184, 3, 2, 97, 1436, 7, 26, 5, 341, 11, 146, 5, 198], [706, 2702, 80, 2703], [121, 583, 386, 1798], [170, 40, 8, 5, 11, 26, 1109, 420, 325, 260, 540, 4, 197, 35, 2704, 6, 71, 781, 3686], [82, 9, 85, 6, 395], [898, 306, 176, 474, 1138, 176, 363], [1142, 258, 1710, 257, 37, 263], [70, 63, 76, 73, 11, 6, 41, 311, 46, 766, 284, 125, 152, 221, 35, 618, 14, 177, 60, 165, 1, 5, 71, 49, 72, 9, 104], [1104, 2044], [3687, 17, 68, 537, 29, 9, 164, 4, 24, 4, 28, 3688], [784, 2022, 3689, 40, 86, 211, 3690], [45, 966, 811, 1127, 14, 278, 29, 9, 41, 4, 48, 349, 2422, 4, 3691], [191, 741, 3, 5, 2055, 285, 281], [30, 684, 97, 1410, 2033, 6, 85, 3, 2, 19, 283, 106, 6, 32, 1, 55, 113, 511], [11, 140, 3, 222, 4, 396, 3, 110], [70, 30, 197, 174, 68, 36, 4, 444, 3, 74, 292, 233, 9, 43], [1495, 382, 956, 19, 33, 61, 3692, 212, 1184, 1989, 87, 2, 1175, 2641, 14, 1623], [131, 529, 3693], [11, 1648, 7, 1, 472], [897, 554, 5, 2309, 6, 1990, 1834, 1009, 1010], [79, 155, 315, 2705, 1, 12, 13], [30, 10, 174, 42, 491], [30, 7, 3, 3694, 16, 1, 106, 4, 48, 163, 101], [3695, 3696, 2706, 30, 487, 32, 267, 4, 1433, 76, 48, 14, 645, 556, 2099, 125, 967, 350, 1315, 14, 660, 188, 761, 296, 55], [17, 1354, 2649, 6, 537, 4, 28], [99, 116, 947, 938, 207, 127, 40], [3697, 7, 69, 405, 5, 239, 247, 6, 2100, 90, 493, 9, 56, 6, 2707, 33, 3698], [601, 257, 37, 2101, 8, 129], [30, 38, 109, 16, 3, 2, 19, 4, 48], [10, 18, 7, 35, 47, 4, 485, 31, 2, 24, 121, 159, 4, 97, 107, 3, 2, 55, 12, 13, 612, 4, 728, 137], [261, 3, 5, 222], [2102, 8, 269, 4, 38, 3699, 1711, 264, 5, 1973, 232, 1, 305, 412], [930, 722, 700, 1328, 91, 2103], [23, 21, 8, 573, 1185, 26, 758, 468, 3, 34, 39], [32, 22, 14, 2, 510], [381, 471, 927, 6, 2104], [70, 30, 197, 174, 444, 722, 21, 2, 462, 6, 292, 74, 233, 9, 43], [70, 5, 10, 88, 8, 891, 303, 800, 317, 6, 67, 294, 374, 4, 142, 232], [12, 200, 1409, 78, 963, 2084, 2708, 141, 114, 1204], [30, 10, 251, 150, 1, 113, 20, 12, 13, 356, 27], [173, 8, 428, 978], [1609, 438, 3, 2105, 2106, 1426], [2469, 2470, 51, 771], [237, 713, 4, 241, 688, 58, 53, 761], [10, 18, 255, 15, 680, 361, 413, 3, 67, 215, 6, 103, 880], [45, 10, 11, 124, 278, 6, 474, 1712, 325, 1, 841, 2709, 3700, 4, 102, 2710, 678, 57, 4, 28], [2107, 103, 3, 285, 169, 3701], [2711, 23, 122, 5, 7, 50, 1, 5, 476], [7, 29, 3, 3702, 3, 2, 72, 373, 4, 2108, 180], [5, 44, 139, 348, 4, 688, 58, 24], [45, 559, 1529, 411, 5, 2032, 72, 1, 1158], [406, 97, 342, 6, 168], [10, 11, 4, 7, 112, 289, 6, 439, 59, 3, 2, 916, 75, 901, 31, 371, 313, 151, 761, 3, 55, 8, 323, 61], [10, 15, 42, 1, 2, 66, 9, 5, 428, 416], [1646, 117, 203, 1], [18, 7, 1, 80, 504, 3, 5, 651, 235, 35, 18, 4, 1154, 10, 280, 1177], [731, 1179, 3703, 194, 701], [273, 642, 1, 1713], [12, 13, 70, 10, 32, 150, 1, 2, 49, 212, 47, 14, 2, 1348, 1438, 160, 248], [588, 589, 3704, 4, 3705], [54, 370, 866, 58, 417], [45, 5, 153, 3706, 14, 2109, 166, 3707, 394], [18, 10, 7, 156, 25, 90, 879], [158, 61, 900, 33, 19], [38, 143, 2361, 245, 703], [76, 374, 3, 322, 8, 2, 1646, 117], [10, 7, 1707, 14, 179, 3, 25, 188, 1, 2, 20], [1038, 1, 1320, 287, 186, 2, 1321, 8, 2, 1322, 639, 1535, 8, 1323, 1039, 1536, 31, 1324], [282, 5, 3708, 15, 1, 5, 987, 77], [948, 92, 6, 110, 4, 395, 1, 2, 106], [70, 63, 76, 76, 796, 2286, 317, 6, 76, 374, 4, 142, 232], [23, 21, 4, 470, 1439, 5, 7, 1, 2, 528, 1714, 3, 2, 297, 26, 439, 59], [10, 7, 16, 1, 20, 4, 146, 1669], [2712, 466, 1715], [2713, 310, 93, 1247, 6, 1311], [2110, 37, 2714, 169, 14, 1639, 14, 223], [2715, 11, 16, 1, 1223, 4, 22, 3, 5, 2111, 961, 49, 72], [5, 44, 139, 348, 4, 688, 58, 24], [10, 11, 140, 3, 631, 4, 979, 103, 438], [3709, 136, 3, 2716], [30, 145, 9, 1613, 1214, 375, 205, 62, 20], [70, 30, 1110, 9, 1111, 345, 1112, 62, 20], [305, 524, 6, 2112], [89, 83, 17, 51, 3710, 4, 28, 9, 24, 138, 16, 3], [28, 15, 1, 1402, 1403, 93, 144, 3, 1716], [23, 21, 8, 17, 1035, 192, 22, 3, 5, 97, 107, 1, 2, 162], [63, 76, 7, 6, 1035, 2113], [2114, 8, 28, 3711, 4, 2615, 47, 171, 745, 74, 1, 133, 162], [3712, 10, 15, 3713, 4, 195, 152, 212, 1196, 2, 1056, 60, 2717, 819, 75, 317, 9, 5, 981, 6, 3714, 8, 1512], [210, 51], [10, 302, 293, 3, 3715], [45, 3716, 2115, 1, 5, 3717, 178, 31, 5, 72, 1, 1158], [11, 118, 4, 288, 5, 452, 31, 527, 1, 199], [286, 1, 5, 3718], [82, 2718, 14, 2, 110, 3, 2, 19, 12, 13], [52, 17, 6, 730, 1, 69, 485, 1, 2, 472], [7, 514, 59, 39, 175], [32, 4, 313, 1, 588, 589], [782, 1, 748, 378, 3719, 817, 3720, 14, 3721, 573, 1050], [7, 69, 2719, 277, 125, 1, 2, 325], [10, 82, 48, 3, 2, 59, 4, 28, 9, 24], [943, 136, 16, 1, 409, 9, 336, 337], [10, 15, 29, 9, 759, 3722, 1, 3723, 575, 7, 112, 5, 969, 4, 627, 708], [3724, 8, 80, 519, 3725, 3726], [376, 290], [280, 1482, 219, 4, 28], [30, 3727, 92, 1186, 3728, 33, 3729, 2116], [64, 243, 73, 7, 50, 3, 34, 39, 6, 1200, 256], [2720, 1831, 1282, 3730, 95, 3731], [54, 794, 4, 3732, 226, 79, 42, 546, 3, 341, 1503, 954, 14, 668], [926, 755, 400, 835, 1, 330, 15, 93, 144, 163, 1, 77, 100, 27], [814, 57, 1, 2, 20, 4, 48], [70, 5, 10, 11, 6, 3733, 432, 22, 171, 2, 74, 1, 2, 49, 4, 26, 662, 296, 254], [23, 21, 8, 931, 7, 4, 17, 277, 197, 132, 370, 2721, 4, 3734, 3, 2, 239, 1415, 3735, 329], [18, 53, 57, 3, 2, 19, 12, 13, 27], [44, 10, 7, 6, 1588, 1951, 259, 767, 319, 126, 12, 13, 202], [714, 702, 3, 3736, 969, 354, 12, 13, 27], [44, 1113, 261, 1, 409, 9, 336, 337], [965, 159, 2464], [44, 52, 17, 22, 37, 619, 332, 77, 4, 28], [3737, 7, 155, 276, 4, 29, 3, 3738, 482], [10, 15, 2096, 5, 198, 1704, 1, 448, 81, 295], [218, 227, 921, 381, 2722, 4, 2723, 3, 810, 922, 830, 1159, 9, 1160, 1161], [73, 278, 9, 164, 8, 2724], [52, 79, 140, 3, 148, 6, 198, 4, 28], [81, 262, 583, 2725, 493], [491, 1246, 3739, 1, 12, 13], [88, 8, 940, 977], [17, 47, 6, 111, 843, 3, 2, 77, 186, 2, 159, 4, 664, 153], [131, 529, 3740, 689], [10, 54, 93, 144, 6, 25, 84, 1, 44, 252, 20, 100, 27], [5, 15, 913, 2, 104, 9, 526, 394, 324, 643, 20, 542], [301, 210, 492, 31, 1, 372, 62, 20, 134, 119], [191, 10, 145, 3, 557, 2117, 291, 97, 343, 12, 13], [2118, 1043, 238, 17, 6, 3741, 1394], [181, 79, 35, 42, 6, 2430, 4, 431, 9, 2, 19, 1, 113], [3742, 2685, 484, 32, 22, 3, 2119, 1076, 279, 6, 360, 1440, 6, 3743, 329], [30, 38, 2726, 405, 5, 969, 151, 1217, 3744], [15, 913, 283, 1103, 1, 111, 172, 205], [225, 610, 522, 50], [83, 8, 2, 79, 42, 1, 2, 1441], [124, 278, 156, 1817, 493], [1657, 1, 336, 337], [3745, 1302], [636, 17, 16, 9, 106, 26, 154, 59, 29, 9, 24, 4, 2727], [237, 3, 5, 307, 6, 67, 167], [190, 17, 35, 155, 25, 854, 656, 6, 1600, 668, 12, 13, 161, 52, 2016, 35, 1655, 14, 307, 4, 25, 10, 366, 944, 25, 1, 2, 133, 178, 101, 18, 506, 137], [45, 11, 1, 2, 1325, 33, 46, 170, 16, 4, 3746, 3747, 3748, 58, 3749, 2728], [3750, 10, 7, 146, 5, 154, 398], [70, 63, 76, 11, 47, 4, 160, 677], [597, 86, 78, 368, 299], [12, 2120, 587], [478, 7, 16, 3, 2, 3751, 128, 27], [104, 173, 593, 345, 906, 62, 20], [515, 346, 18, 15, 317, 6, 357, 1, 133, 207, 356, 27], [2729, 909, 66, 1, 208], [143, 29, 9, 833, 551, 1039, 8, 1287, 3, 5, 39, 201, 27], [3752, 1691, 3753, 291, 285, 33, 674], [30, 3754, 2562, 481, 419], [562, 17, 1413, 190, 304, 1, 1717], [7, 35, 189, 3, 2, 1114, 564, 204, 426, 2, 297, 89], [1442, 92, 314, 3, 110, 704, 25, 276], [7, 2730, 25, 478, 581, 3, 2, 148], [466, 2546, 3755, 14, 3756], [10, 15, 907, 108, 1126, 1, 2, 199, 7, 451, 2, 1294, 4, 331, 3757, 67, 1630, 346, 1851], [64, 243, 73, 7, 50, 3, 34, 39, 6, 1200, 256], [141, 114, 527, 187], [183, 474, 8, 97, 1077, 275], [15, 26, 71, 532, 1, 2, 86, 211], [1718, 5, 15, 16, 1, 5, 987, 77], [988, 421, 998, 1443], [11, 1098, 3, 160, 3758], [359, 487, 1690, 109, 335, 95, 3, 117, 9, 43], [313, 1719, 135, 714, 2731, 196, 714, 1444, 683, 1, 475, 415], [594, 1645, 3759], [52, 149, 79, 405, 90, 2121, 1564], [19, 15, 157], [993, 3, 1720, 1721], [143, 29, 9, 833, 551, 1039, 8, 1169, 3, 5, 39, 201, 27], [2625, 1, 323, 36], [82, 50, 33, 56, 60, 941, 2599], [442, 5, 11, 4, 5, 7, 185, 679, 1, 2, 397], [131, 3760, 2732, 689], [44, 73, 7, 6, 256, 1115, 21, 5, 153, 14, 1445, 5, 1446, 60, 14, 1722, 67, 1723, 9, 5, 420, 989, 5, 88, 8, 1724, 9, 2, 420, 989], [30, 1447, 42, 315, 3, 637], [1710, 1219, 352, 329, 2122, 129], [3761, 93, 144, 1, 2, 162], [45, 5, 1213, 8, 2, 2675, 3762, 1115, 2, 3763, 138, 4, 35, 3764, 31, 30, 3765], [1672, 10, 11, 16, 3, 2, 97, 107, 4, 383, 5, 348, 3, 1448, 338], [131, 312], [90, 65, 1291, 3, 331], [12, 13, 671, 2083, 87, 3766], [1116, 22, 14, 272, 2733, 465], [83, 8, 569, 445, 3, 388, 55], [1298, 135, 90, 65], [98, 4, 167, 22, 108, 650], [594, 3767, 1066], [166, 63, 11, 1326, 5, 640, 213, 186, 5, 102, 55], [1297, 10, 7, 16, 463, 3, 5, 266], [338, 8, 301, 258, 1061], [7, 155, 1725, 316, 1, 327, 723, 228], [96, 3768, 3769, 1, 1146, 121, 36], [2335, 595, 3770, 574, 765, 3771, 3, 533, 1291], [131, 312], [840, 73, 7, 26, 2020, 3, 188, 4, 455, 6, 391, 3, 25, 142, 18, 38, 2734, 9, 2, 50, 353, 25, 1555, 64, 1579, 300, 6, 401, 102, 219, 139, 1, 1289], [3772, 3773, 111, 4, 258, 846, 964], [63, 795, 1449, 611, 1248, 3774], [18, 145, 57, 3, 2, 19, 128, 27], [3775, 261, 3776, 4, 3777, 23, 21], [45, 1397, 3778, 1644, 1, 5, 1938], [501, 10, 11, 16, 3, 176, 26, 41, 734, 180, 29, 9, 2735], [415, 498, 1081, 673, 2736], [70, 63, 76, 11, 1, 5, 49, 221, 35, 26, 34, 39, 75, 358, 711, 5, 73, 3779, 9, 104], [160, 78, 268, 968, 43, 127, 40, 2648], [478, 7, 182, 179, 31, 2, 86, 211], [53, 265, 91, 14, 503, 126], [3780, 269, 192, 22, 3, 2, 1117, 1, 2, 220, 306], [136, 22, 171, 1693, 6, 1249], [17, 29, 9, 2, 231, 75, 16, 31, 2, 211], [3781, 338, 3782, 78, 222, 8, 1713], [11, 86, 1, 742, 974, 1, 2, 61, 9, 43, 1667, 186, 2, 1879, 328, 111, 477, 8, 2, 1248, 103, 2737, 3, 2, 604, 8, 2, 231], [858, 64, 10, 7], [30, 64, 145, 22, 171, 5, 1920], [5, 44, 139, 348, 4, 688, 58, 24], [83, 8, 517, 149, 32, 6, 1483, 4, 1484, 29, 9, 24, 876, 7, 33, 1485, 1803, 28], [30, 236, 52, 251, 9, 20, 544, 949, 652, 130, 4, 664, 2], [54, 4, 30, 241, 29, 9, 34], [40, 8, 401, 553, 411, 33, 329], [648, 1, 496, 2123, 3783, 1416], [15, 2108, 414, 438], [18, 53, 8, 191, 3, 2, 19, 54, 4, 98, 151, 431, 2281, 67, 84, 2738, 36], [617, 7, 396], [1069, 3, 1194, 662], [241, 668, 67, 54, 1004, 1131], [2, 330, 1890], [1098, 3784, 14, 1848, 628], [657, 8, 359, 487, 1690, 109, 335, 95, 3, 117, 9, 389, 2073], [301, 990, 8, 615, 1, 489, 210, 62, 20, 134, 119], [340, 66], [30, 1726, 10, 145, 195, 4, 93, 144], [2739, 96, 377], [43, 9, 61, 8, 2124], [1419, 1420], [10, 11, 91, 3, 46, 2409, 3785, 14, 46, 3786, 350, 2740, 25, 2, 2741, 1, 5, 1408, 152, 235, 3787, 6, 1585, 2125], [7, 2126, 321, 95, 8, 1024, 87, 417, 1, 94, 9, 56], [3788, 145, 226, 3789, 690, 3790, 256, 3, 1263], [406, 700, 1328], [18, 17, 1068, 297, 3, 34, 1, 2, 20], [38, 69, 1293, 2742, 3791], [363, 598, 120, 244], [115, 132, 4, 692], [333, 185, 183, 8, 1716], [2743, 331, 1386, 1, 647, 107, 141, 114, 568, 23, 21], [764, 3792, 379, 6, 184, 602], [2, 7, 2577, 242, 1, 2, 2578], [10, 11, 6, 34, 39, 16, 31, 2, 65, 1, 20], [15, 317, 120, 87, 81, 56, 6, 1727, 881, 424], [1450, 1448, 1, 77], [38, 1728, 956, 25, 820, 422, 29, 21, 58, 3793, 1, 489, 210, 62, 20, 134, 119], [18, 10, 64, 7, 6, 34, 39, 9, 56], [1432, 1695, 2713, 6, 2698, 430, 1729], [797, 49, 43, 184, 602], [102, 447, 51, 3794], [238, 507, 200], [694, 1, 3, 11, 1451, 80, 36, 547, 12, 13, 1730, 78], [102, 3795, 3, 172], [949, 4, 1991], [1731, 1, 917], [10, 7, 48, 3, 25, 154, 1, 541], [10, 15, 1577, 21, 120, 502, 4, 22, 37, 67, 1294, 8, 81, 295, 75, 120, 1], [939, 307, 959, 1046, 1, 205, 3796], [10, 64, 7, 112, 369, 8, 44, 43, 3, 2, 19, 12, 13], [53, 383, 132, 3, 692, 9, 575, 85], [181, 136, 2069, 545], [818, 242, 590], [2127, 16, 3, 148, 4, 28], [12, 13, 8, 5, 10, 11, 4, 7, 29, 9, 645, 556, 6, 330, 196, 2, 3797, 1, 106, 17, 156, 80, 242, 346, 1164], [721, 614, 6, 374], [208, 74, 290, 3, 214, 281, 1283], [131, 3798], [224, 192, 47, 3, 5, 389, 74, 89, 7, 220, 104, 495, 316, 520, 137, 12, 13, 202], [1118, 4, 852], [771, 19, 783, 4, 3799, 9, 5, 367, 416, 3, 5, 2744, 19, 2128, 166, 3800, 121, 231, 3, 5, 318, 113, 249, 58, 5, 2129, 3801, 3802, 655], [3803, 1, 230, 483], [64, 243, 7, 26, 34, 39, 807, 297, 426], [131, 312], [11, 47, 6, 147, 1, 55], [103, 1219, 78, 162], [47, 795], [54, 2745, 2, 52, 167, 3, 5, 651, 3, 3804, 9, 56, 1, 890, 4, 601, 885, 37, 129], [12, 13, 8, 1071, 309, 1452, 31, 5, 10, 28, 2746, 518, 441, 1071, 1686, 209, 309, 1452, 31, 5, 7, 3, 5, 97, 55, 23, 21], [1480, 550, 1800, 1801, 1481, 1, 1802, 3, 1266, 886], [100, 21, 3805, 14, 1890, 4, 305, 524], [1073, 15, 9, 375, 205, 62, 20], [45, 3806, 261, 6, 97, 339, 584, 65], [11, 112, 761, 8, 1171, 6, 109, 16, 3, 470, 486, 26, 34, 39], [2, 373, 96, 2747, 35, 370, 2, 96, 9, 2, 2119, 373, 3, 484, 1, 729, 665, 1677, 2629], [10, 11, 808, 1621, 1, 2, 244, 221, 112, 5, 1025, 152, 221, 93, 5, 2748, 60, 3807], [30, 38, 109, 6, 110, 3, 2, 19], [15, 565, 3, 222, 1, 2, 178, 128, 27], [436, 1054, 722], [617, 10, 7, 101, 1, 113], [141, 114, 697, 3808], [10, 64, 7, 400, 1, 80, 482, 35, 47, 37, 5, 1250, 77, 808, 18, 4, 319, 12, 13, 202], [89, 83, 18, 17, 340, 454, 186, 2, 159], [64, 243, 7, 182, 14, 179, 4, 1453, 3, 2749, 222], [61, 882, 86, 21, 14, 604], [7, 314, 3, 110, 1, 2750, 228], [149, 17, 6, 39, 3, 148, 9, 56], [191, 10, 145, 3, 557, 2117, 291, 97, 343, 685, 24], [625, 626, 896, 950, 1371, 1372, 707], [10, 11, 1, 2, 327, 93, 5, 967, 1, 270, 221, 899, 4, 26, 3809, 14, 1639, 609, 508, 36], [45, 2, 927, 278, 216, 14, 2, 1695, 2018, 14, 20, 2, 585], [853, 2683], [10, 15, 22, 1, 984, 208, 66], [7, 51, 197, 769, 2507, 6, 537, 4, 68, 328, 2508, 518, 441, 1, 12, 13, 44, 267, 7, 51, 4, 28, 1, 2, 284, 1, 5, 932, 94], [10, 18, 255, 15, 680, 361, 413, 3, 67, 215, 6, 103, 880], [44, 17, 118, 3, 461, 28, 9, 24], [71, 53, 1056], [10, 7, 140, 3, 631, 4, 48, 3, 110], [1665, 217, 65], [2646, 1833, 3810, 14, 1710, 604], [749, 4, 1318, 624, 196, 3811, 3, 2751, 1251, 1438, 3812, 5, 360, 3813, 300, 944, 14, 548, 2129, 3814, 624, 3815], [66, 2130, 1667, 1, 552], [3816, 3817, 2131], [3818, 205, 116, 365, 250], [117, 4, 612, 646, 376, 127], [368, 1001, 36], [2752, 2273, 937, 3819, 3820], [92, 16, 126, 2, 106, 4, 151, 839], [23, 21, 8, 1206, 51, 526, 887, 3821], [236, 10, 7, 6, 5, 1638, 840, 391], [141, 114, 527, 187], [121, 2036, 1136, 3, 181, 802], [251, 3822, 1, 2, 178], [64, 7, 16, 3, 2, 19, 4, 48, 3, 110], [269, 143, 151, 5, 703], [38, 109, 22, 3, 2, 19, 12, 13], [43, 965, 159, 173], [12, 13, 70, 5, 15, 22, 171, 2, 72, 170, 14, 2, 24, 11, 813, 566, 311, 212, 209, 775, 58, 566], [858, 64, 10, 7], [89, 83, 17, 138, 182, 179, 1, 320, 4, 140, 3, 2], [512, 89, 83, 17, 340, 1119, 454, 1, 2, 107, 4, 28], [364, 40, 8, 510, 298], [82, 1, 378, 16, 9, 2132, 85, 126, 6, 41, 4, 110], [143, 4, 10, 7, 407, 9, 496], [742, 2277], [2753, 743, 3823, 1, 5, 125, 325], [12, 13, 66, 1306, 2350, 2754], [7, 189, 398, 3, 2, 59, 4, 28, 14, 2, 24], [2133, 3824, 3, 350, 1417], [3825, 415, 1081], [44, 10, 15, 22, 1, 49, 123, 128, 27], [15, 418, 1, 2, 211, 128, 27], [28, 1687, 1147, 139, 1, 80, 573, 3826, 16, 9, 2, 239, 85, 1, 105, 613, 572, 355, 38, 177, 152, 3827, 1, 496, 189, 703, 3, 39, 530], [23, 21, 8, 2743, 331, 1386, 1, 647, 107], [5, 181, 793, 3828, 87, 2055, 1046], [15, 1219, 69, 4, 288, 184, 3, 2, 19, 128, 27], [442, 5, 11, 4, 5, 7, 185, 679, 1, 2, 397], [18, 92, 2755, 69, 1, 105, 1378, 128], [136, 6, 2756, 42, 6, 136, 545, 126], [2134, 209, 2757, 1, 5, 2758, 2759, 153, 1732, 81, 2134], [2015, 12, 13, 33, 135, 1394], [97, 99, 169], [1358, 16, 3, 148, 6, 341], [11, 16, 3, 2, 19, 4, 664, 14, 2, 24], [549, 3829, 940, 977], [15, 68, 357, 3, 515, 356, 27], [15, 22, 156, 69, 3, 117, 1, 2, 123], [2, 434, 534, 9, 2, 59], [70, 845, 29, 63, 76, 11, 155, 73, 3, 46, 430, 59, 1, 71, 49], [1252, 883], [675, 2760, 91, 1, 2761], [54, 1435, 537, 1, 987, 3830, 14, 25, 241], [7, 429, 1087, 135, 560, 36, 12, 13], [70, 18, 4, 2762, 53, 8, 191, 42, 6, 213, 3, 2, 19, 9, 43, 144, 4, 3831, 3, 113, 511], [7, 3, 1117], [334, 1147, 1454, 456, 142, 9, 445, 446], [10, 11, 396, 26, 188, 1, 2, 20], [975, 350, 3, 350, 6, 310], [88, 8, 648, 3, 1907, 60, 2763, 9, 496], [425, 102, 11, 1, 1588, 678, 4, 121, 1418, 229, 91, 2135, 294, 74], [553, 1165, 1, 1542], [388, 61, 6, 158, 159], [434, 3832, 17, 671, 2764], [562, 52, 79, 16, 9, 1084, 51, 710, 4, 620], [89, 8, 2118, 1043, 238, 17, 206, 864, 1, 2765, 2001], [10, 11, 1507, 46, 2766, 1, 326], [478, 7, 48, 3, 110, 1, 2, 178], [896, 785, 311, 2037, 31, 7, 1, 2767, 412], [852, 3, 557, 23, 21, 14, 203, 95], [3833, 50, 163, 6, 41, 4, 395, 1, 2, 105], [2521, 1089, 63, 76, 490], [10, 11, 146, 126], [23, 21, 80, 1208, 6, 111, 339], [70, 10, 53, 140, 3, 2, 1410, 2768, 3, 2, 437, 1384, 237, 288, 2769, 75, 67, 52, 84, 42, 6, 439, 59], [3834, 15, 307, 37, 36, 1, 205], [3835, 1061], [82, 182, 179, 3, 2, 19], [64, 10, 7, 234, 157, 101, 3, 5, 43, 6, 103, 257, 158, 217, 25, 3, 5, 419, 12, 13], [1229, 42, 491, 1, 5, 49, 20], [18, 15, 47, 3, 2, 19, 12, 13, 27], [483, 176], [76, 111, 1733, 1, 404], [271, 1491, 315, 213, 1, 12, 13], [729, 665, 2770, 2771, 72], [32, 2772, 1, 66, 393], [45, 181, 1592, 8, 414, 1591, 1, 2, 61, 152, 5, 371, 1734, 274, 4, 66, 3, 437], [10, 149, 7, 208, 83, 657], [89, 83, 53, 54, 4, 167, 146, 198, 135, 2, 2136], [53, 229, 37, 305, 524], [45, 1338, 829, 227, 2773, 179, 839, 3, 507, 23, 21], [10, 1735, 29, 58, 36, 130, 5, 776, 1209, 1, 1390, 1391, 20, 134, 119], [23, 21, 8, 998, 1702, 513, 253, 14, 143, 48, 14, 245, 4, 53, 1980], [141, 114, 402], [138, 185, 3, 5, 2653, 54, 47, 246, 25, 167], [12, 13, 3, 52, 333, 666, 3836, 1283], [89, 8, 52, 17, 3, 2346, 486, 785, 194, 558], [619, 2774, 2775, 3837, 27], [1431, 253, 1736], [10, 82, 6, 110, 246, 1455, 177, 68, 3838, 3, 46, 563], [984, 388, 208, 66, 521], [2, 38, 383, 5, 599, 8, 125, 3, 5, 85, 108, 5, 2070, 1, 2, 3839, 8, 111, 4, 80, 3840, 322, 40], [406, 498, 342, 2669], [81, 1339, 1553, 31, 10, 931, 7, 226, 690], [149, 719, 57, 1, 2, 1379, 105, 2059, 4, 620, 2776, 1949, 3, 2, 239, 85, 836, 8, 175, 41, 1497, 4, 411, 780, 10, 355, 1237, 550, 9], [66, 154, 91, 462], [1954, 2397, 539], [45, 5, 11, 3841, 58, 1066, 1, 2, 168, 3842, 31, 3843, 1305], [2691, 165, 3844], [70, 63, 76, 73, 11, 6, 41, 311, 46, 766, 284, 125, 152, 221, 35, 618, 14, 177, 60, 165, 1, 5, 71, 49, 72, 9, 104], [2099, 91, 33, 43, 263, 14, 764], [218, 227], [52, 79, 42, 6, 2777, 1, 1451, 211, 12, 13], [17, 42, 6, 52, 3845, 4, 216, 9, 24, 3, 2, 80, 3846], [12, 13, 47, 7, 224, 35, 150, 1, 133, 158, 204, 38, 220, 300, 270, 126, 1, 2, 49, 3, 5, 991, 303, 254], [10, 1456, 93, 270, 1, 2, 327, 221, 1228, 1169, 420, 781, 260, 540, 4, 197, 6, 3847, 2778], [1077, 584, 1243, 3848, 31, 168], [88, 8, 648, 6, 41, 407, 9, 496], [15, 22, 153, 1, 153], [181, 1225, 258, 96, 86, 248], [2779, 717, 598, 287, 279], [18, 17, 561, 392, 14, 2, 460, 1, 2, 20], [359, 487, 1690, 109, 335, 95, 3, 117, 9, 389, 2073], [53, 265, 91, 14, 503, 126], [15, 22, 91, 2, 72], [1038, 155, 2131, 1, 3849, 3850], [355, 2780, 155, 2105, 334, 14, 7, 9, 445, 801, 364], [10, 7, 50, 101, 3, 5, 41, 39, 16, 3, 656, 1, 2, 178, 1, 1012, 199, 601, 288, 2, 3851, 8, 207], [11, 51, 4, 146, 3, 916], [576, 850, 3852], [238, 11, 146, 1, 1541], [18, 15, 292, 3, 5, 294, 74, 233, 806, 100, 27], [11, 155, 289, 3, 44, 19, 4, 2, 934], [11, 155, 1417, 2137, 6, 5, 2102, 8, 2781], [275, 3, 281], [10, 7, 42, 6, 3853, 136, 1, 20, 196, 43, 12, 13], [401, 203, 1, 3, 623, 4, 394, 1, 498, 342, 542], [795, 47, 291, 97, 169], [852, 883, 3, 557], [53, 427, 1, 1112, 62, 20, 542], [10, 18, 254, 15, 47, 37, 67, 1101, 1, 2040, 8, 2, 352, 2041, 8, 413, 2042], [442, 30, 2138, 1524, 3, 5, 74], [10, 11, 396, 26, 188, 1, 2, 20], [1134, 255, 98, 216, 84, 2, 1235, 3, 67, 215], [98, 4, 167, 22, 108, 650], [1665, 51, 107, 1, 489, 210, 62, 20, 134, 119], [12, 13, 561, 671, 213, 14, 2139], [53, 9, 653, 1145, 163], [30, 3854, 2140, 1737, 36, 4, 170, 87, 2, 667], [54, 4, 167, 42, 1, 2, 20, 6, 454], [2141, 912, 303, 2142, 109, 786, 736, 4, 2782, 2143, 69, 21], [79, 1491, 315, 213, 1, 12, 13], [214, 49, 1011], [43, 900, 1, 2, 36, 1, 1374], [3855, 788, 171, 2, 1393, 368], [38, 603, 6, 611, 1635, 2540, 2541, 3, 41, 811, 139, 1, 531, 482, 1418, 4, 4, 111, 2783, 3856, 300, 6, 2627, 1085, 277, 14, 1224, 687, 40, 10, 17], [174, 1, 328, 547, 862, 291, 3857, 116, 6, 147, 1, 497], [425, 10, 11, 16, 3, 176, 26, 41, 29, 9, 24, 4, 2727], [488, 145, 22], [240, 362, 1, 46, 1135, 151, 240, 2784, 1, 559, 1096], [23, 122, 956, 603, 4, 3858, 196, 3859], [406, 162, 4, 2318, 147], [794, 944, 25, 1125, 14, 946, 1, 2, 86, 211, 79, 156, 3860, 3861], [10, 7, 848, 945, 157, 1, 12, 13, 6, 219, 2144], [7, 638, 693, 3, 593, 345, 906, 62, 20], [2785, 2786, 96, 2145, 2787], [1253, 17, 57, 1, 2, 20, 4, 2349], [11, 195, 152, 221, 3862, 3, 46, 154, 59, 75, 57, 101, 1, 5, 3863, 97, 20, 6, 3864], [10, 11, 950, 6, 1143, 3, 408, 1, 1402, 1403], [23, 21, 2146, 142, 4, 339], [487, 928, 8, 2, 929, 1548, 1, 760, 606, 607, 1341], [30, 732, 51, 107, 1, 2, 770, 1, 372, 62, 20, 134, 119], [647, 111, 172, 458], [170, 387, 5, 7, 29, 37, 2, 223, 3865, 1, 2, 297], [131, 312], [73, 11, 4, 7, 883, 78, 395], [18, 11, 50, 3, 34, 4, 28, 14, 2, 24], [1220, 3, 172, 384, 91], [236, 10, 7, 405, 5, 90, 65], [1672, 10, 972, 63, 434, 93, 3866, 1247, 4, 3867, 2147, 3868, 135, 2, 1325, 8, 46, 223], [53, 383, 132, 3, 692, 9, 575, 85], [450, 1923, 1351, 1924, 165, 888, 2012, 2429, 722], [283, 1103, 9, 43, 6, 12, 13, 157], [1478, 11, 146, 201], [130, 2, 193, 3, 5, 41], [1684, 1838, 89, 173], [71, 53, 187], [44, 7, 565, 3, 148, 9, 56], [161, 712, 7, 1, 254, 408, 1, 80, 872, 792], [427, 7, 1, 147, 540, 18, 7, 433, 35, 1457, 2, 324, 8, 25, 1738, 4, 57, 6, 69, 21, 1, 133, 205, 12, 13], [426, 3, 2788, 1314], [10, 141, 1014, 209, 16, 9, 85, 1, 1947, 6, 41, 4, 188, 212, 209, 264, 3869, 966, 3, 735], [82, 16, 3, 936, 3, 2, 19, 12, 13, 27], [298, 913, 2789, 394, 3870], [11, 2790, 2791, 46, 757, 6, 166, 2294, 1, 1492], [919, 1, 153], [83, 8, 28, 73, 32, 6, 41, 4, 34, 39, 101], [1652, 1653, 1097, 3, 759, 819, 354, 12, 13], [2468, 458], [1206, 2792], [52, 79, 6, 98, 22, 171, 2, 19], [38, 245, 1, 1595, 228, 309, 3871, 31, 143], [102, 11, 47, 6, 129, 1, 12, 13], [773, 2793, 3, 2, 247], [10, 11, 6, 3872, 142, 57, 1, 610, 156, 352, 1904, 8, 1090, 1, 183, 8, 443, 24, 694, 95, 14, 673, 607, 2420], [70, 63, 76, 73, 11, 3, 46, 154, 59, 9, 104, 1, 71, 49], [2, 2503, 3873, 10, 332], [18, 53, 226, 385, 3, 41, 1, 792], [62, 3874, 116, 36, 428], [141, 114, 2709, 169, 362, 50, 126, 3875, 27], [338, 8, 1061, 3876, 95, 8, 368], [2794, 655, 365, 3877, 250, 856], [30, 230, 658, 519, 1215], [69, 8, 82, 50, 6, 479, 1, 2, 20], [346, 15, 407, 3, 5, 239, 117, 1739, 453, 10, 330, 137, 6, 1740, 418], [45, 3878, 1894, 3879, 5, 1082, 9, 1969, 3, 2795, 655], [1560, 466, 2522, 1, 1204], [23, 21, 850, 1568], [3880, 96, 6, 301, 1741, 1347], [79, 28, 1, 1441], [701, 185, 1, 731], [615, 22], [2, 11, 6, 5, 1254, 2796, 2, 3881, 3, 5, 616], [54, 4, 138, 157, 1, 2, 77, 54, 2148, 25, 167, 201], [15, 112, 289, 3, 1023, 128, 27], [225, 975, 480], [513, 253, 8, 635, 14, 2797, 2149, 1, 709, 516], [580, 1650, 584, 1221, 65], [2050, 226, 2051, 8, 1393, 1416], [15, 277, 5, 417, 1, 2, 94, 201, 27], [1493, 1494, 2150, 384, 1369, 203], [40, 8, 2, 720, 8, 218, 208, 249, 14, 3882, 72, 2151], [161, 52, 17, 35, 340, 1119, 454, 1, 2, 178, 101, 3, 5, 133, 249, 12, 13, 18, 506, 137, 138, 35, 42, 1, 158, 103, 204], [70, 98, 480, 84, 1346, 14, 1059, 46, 46, 841, 465, 3, 5, 20, 933], [1207, 4, 2, 129], [450, 865, 404, 1656], [52, 79, 22, 6, 46, 98, 959, 86, 211, 100], [875, 51], [899, 11, 862, 80, 36, 2431, 12, 13], [5, 38, 1728, 2798, 2799, 481, 24, 1, 372, 62, 20, 134, 119], [821, 2800, 1, 66], [5, 88, 8, 32, 754, 5, 358, 3883, 1, 5, 412, 3884], [17, 157, 6, 331], [977, 799, 57, 1, 647, 107, 9, 43], [10, 7, 277, 4, 51, 2509, 3, 25, 563, 128, 27], [38, 3885, 3886, 57, 538, 1, 2, 770, 1, 372, 62, 20, 134, 119], [11, 16, 1, 2352, 1, 208, 4, 3887, 5, 3888, 14, 2152, 5, 1096], [790, 362, 548, 790, 1, 412], [143, 494, 703, 14, 245, 201, 27], [30, 910, 1453, 3889, 1, 2, 115], [18, 53, 317, 867, 3, 2, 410, 9, 123, 128, 27], [2789, 557, 1736, 1858], [749, 1280, 551, 1230, 574, 24, 291, 61, 176], [45, 5, 23, 21, 8, 2, 3890, 3891, 1213, 3, 3892, 72, 1, 3893], [12, 13, 8, 5, 243, 7, 51, 819, 6, 1906, 4, 146, 3, 1742, 34, 1, 2, 115], [43, 129, 55, 351, 242, 570, 207, 505, 127, 40], [2153, 2336, 1197], [2063, 3, 80, 85], [11, 2154, 194, 403, 9, 43], [15, 314, 1, 115], [10, 11, 150, 3, 2, 1078, 12, 13], [214, 147], [10, 7, 288, 5, 577, 8, 659, 16, 1458, 5, 3894, 116, 9, 166, 283, 115, 85], [45, 30, 32, 1, 1903, 851, 26, 2801, 4, 1743, 4, 1405, 1744, 1, 476], [340, 66, 194, 3895], [15, 22, 91, 2, 72], [11, 1, 1745, 1459, 90, 65, 37, 66], [131, 583], [10, 64, 38, 232, 571, 3, 2, 247], [237, 713, 4, 241], [10, 11, 6, 41, 47, 135, 771, 730, 3, 2, 19, 14, 3896, 5, 398], [30, 174, 16, 3, 2, 148, 9, 56, 4, 42, 358, 546, 6, 2604, 75, 17, 26, 188], [2753, 955, 2802, 3897, 1, 125, 325], [38, 29, 3, 2803, 4, 421, 6, 1742, 2647, 3, 39, 149, 10, 355, 1237, 550, 9, 2, 50, 353, 6, 85, 41, 530, 28, 278, 139], [23, 122, 5, 7, 1, 514, 118, 3, 2, 19, 68, 708, 113, 511], [10, 18, 255, 15, 390, 640, 1142, 8, 413, 3, 67, 215, 9, 43], [82, 6, 110, 22, 3, 2, 19], [881, 11, 50, 1, 39, 555, 421, 2804, 4, 3898], [170, 2155, 234, 8, 5, 10, 7, 68, 125, 9, 2, 165, 4, 29, 37, 2, 164, 9, 2, 2156], [778, 666, 78, 24, 3, 2103], [18, 1726, 10, 7], [488, 53, 2805], [98, 6, 46, 84, 47, 3, 2, 19, 12, 13], [502, 8, 3899, 1242], [252, 392, 6, 103, 257, 37, 4, 5, 52, 605, 340, 12, 831, 518, 815, 33, 634, 816, 453, 441], [131, 529, 557], [2806, 162], [3900, 4, 302, 293, 803, 1, 5, 965, 159], [512, 1746, 1732, 5, 3901, 194, 5, 946], [70, 30, 197, 174, 292, 3, 74, 233, 6, 762, 4, 3902], [15, 229, 37, 764, 108, 3903, 886], [269, 271, 22, 12, 13, 23, 21, 73, 32, 55], [10, 28, 11, 1, 106, 51, 4, 189, 398, 3, 34, 39, 9, 2, 903, 184], [12, 731, 628, 2620], [7, 6, 1460, 57, 3, 2, 19, 12, 13], [490, 680, 570], [935, 2007], [355, 1241, 3904, 272, 6, 1008, 1, 1135], [1318, 3905, 3, 3906], [338, 8, 526, 1066, 1, 1046], [1162, 6, 355, 24, 112, 928, 8, 18, 10, 53, 6, 52, 84, 140, 3, 1410, 2768, 9, 2, 934], [282, 63, 76, 73, 11, 264, 1520, 6, 746, 1, 71, 105, 175], [539, 3, 281, 1, 66], [7, 47, 907, 21, 9, 104], [2682, 1, 65], [10, 15, 93, 144, 3, 462, 8, 1064, 356, 27], [1230, 2523, 1243], [775, 21, 5, 428, 978], [98, 48, 6, 46, 84, 1, 2, 86, 211], [11, 16, 9, 2, 39, 4, 7, 2738, 443, 5, 198], [3907, 29, 130, 1, 2, 66], [3908, 342, 43], [11, 429, 3909, 2157, 135, 560, 36, 12, 13], [10, 7, 35, 226, 3910, 4, 2807], [501, 38, 1933, 58, 34, 24], [333, 3, 2613, 379], [675, 2760, 91, 1, 107], [2, 2158, 1, 2, 351, 20, 12, 13, 202], [44, 243, 7, 68, 328, 321, 1, 71, 94, 6, 34, 39], [485, 1, 2, 36], [15, 16, 3, 5, 239, 2606, 717, 418, 156, 2607, 453, 908, 184, 31, 2, 252, 116, 3, 5, 403, 10, 11, 4, 7, 1, 330, 118, 31, 2, 2608, 346, 521], [2732, 141, 114, 1118], [729, 665, 200, 291, 296, 49, 33, 3911], [7, 118, 3, 2, 19], [5, 855, 8, 286, 500, 78, 2547, 3912, 3, 630], [2159, 1115, 21, 5, 153, 14, 1445, 5, 1446, 60, 14, 1722, 67, 1723, 9, 5, 420, 989, 5, 88, 8, 1724, 9, 2, 420, 989], [2694, 8, 852], [1735, 642, 91, 1, 2, 1692, 1, 1390, 1391, 20, 134, 119], [488, 874, 576], [10, 15, 515, 3913], [10, 1585, 18, 15, 1, 208, 249], [476, 3914, 26, 5, 1747, 14, 3915, 5, 3916, 60, 3917, 3, 5, 2775, 196, 5, 725, 3918, 23, 21, 40, 3, 46, 153, 4, 2, 3919, 3920, 8, 2, 1533], [1807, 621, 2282, 1965, 1851, 3921, 1748, 471, 1387], [1448, 642, 91, 549, 3, 170], [528, 112, 194, 3922, 159], [191, 3923, 751, 91, 285, 281], [365, 250, 3924, 1409, 14, 1166], [30, 251, 16, 3, 2, 107, 4, 195], [102, 79, 80, 17, 241, 156, 3925], [278, 383, 3, 841, 256, 4, 5, 1972], [10, 82, 6, 479], [3926, 96, 3927, 4, 2160], [89, 8, 132, 309, 1668, 9, 115], [636, 10, 11, 16, 9, 85, 26, 154, 59, 4, 341, 4, 2455], [114, 8, 81, 3928, 3929], [2161, 22, 171, 231, 176], [746, 4, 1203, 362, 29, 1, 629], [308, 537, 87, 1003, 6, 2162], [64, 243, 7, 26, 34, 39, 807, 297, 426], [18, 195, 52, 17, 1, 5, 343, 340, 1119, 454], [5, 427, 53, 2808, 37, 1046, 1, 205], [99, 982, 15, 1985, 91, 1067, 462], [250, 183, 370, 37, 36], [32, 22, 126, 2163, 3930], [1917, 2, 733, 8, 30, 32, 1673, 69, 1, 183, 8, 5, 164], [30, 10, 145, 317, 90], [11, 185, 1255, 1, 2355, 74], [2623, 35, 2053, 2624, 1, 5, 681], [1120, 4, 187, 3931, 23, 21], [1456, 1, 111, 2710, 678, 978, 984, 723, 669, 1, 327, 470, 27], [99, 2809], [201, 8, 80, 1717, 411, 3, 107, 796, 77], [131, 583], [207, 1162, 433, 6, 24, 2810, 75, 57, 3, 322, 8, 2, 99, 44, 207, 798, 3932, 60, 3933], [583, 3, 3934], [1534, 1118], [210, 1714, 58, 132, 6, 46, 1936, 4, 229, 248, 1, 372, 62, 20, 134, 119], [724, 7, 35, 884, 915, 1], [88, 8, 1728], [32, 2164, 1, 105, 1670], [157, 31, 454], [1095, 57, 3, 5, 172, 956, 46, 1660, 9, 1356, 19, 1, 2, 940, 1357, 134, 119], [2, 38, 383, 5, 1461, 1462, 1404, 1749, 4, 1435, 2165, 60, 3935, 6, 414, 3, 5, 1234, 845, 58, 860, 4, 2166, 132, 2167], [1363, 1527, 86, 1, 166, 483], [10, 15, 3936, 9, 44, 193, 1, 1064, 356, 27], [943, 1302, 126, 1, 1441, 9, 336, 337], [12, 347, 5, 44, 777, 1, 80, 715, 504, 6, 3937, 1946, 29, 9, 2, 24], [7, 1, 5, 3938, 4, 514, 16, 314, 3, 5, 154, 59, 28, 152, 235, 3939, 14, 2, 1233], [88, 8, 648, 407, 9, 1907, 1, 496], [2, 3940, 8, 379, 9, 5, 764], [622, 519], [381, 567, 1750, 403, 173], [782, 1, 748, 851, 177, 1, 476], [15, 93, 5, 3941, 3, 1606], [30, 10, 814, 48, 3, 3942, 59, 1, 2, 105], [252, 129, 162, 99, 3943, 3944], [236, 617, 10, 712, 7, 112, 5, 289, 101, 1, 2, 113, 2027, 3, 25, 154, 59, 23, 21, 2811, 40], [1627, 1, 63, 74], [1072, 697, 1, 404], [285, 169, 14, 65, 201], [7, 22, 21, 58, 47, 9, 1, 166, 63, 104], [12, 13, 8, 52, 79, 1, 1056, 1550, 156, 1909, 4, 340, 2383, 9, 24, 1, 71, 228], [131, 529, 2345], [2812, 5, 3945, 358, 314, 3, 5, 360, 34], [767, 3946], [23, 122, 151, 3947, 8, 115, 1511, 422, 1148], [17, 499, 3, 2, 461, 4, 146, 198], [290, 3, 117], [10, 18, 254, 255, 15, 390, 36, 740, 22, 37, 1101, 4, 1414, 413, 422, 705], [89, 8, 1556, 1280, 551, 1230, 574, 24], [161, 80, 136, 139, 5, 2756], [88, 8, 109, 317, 385, 1, 2, 115, 199], [695, 459, 247, 23], [1208, 3948, 3, 2588], [11, 260, 2813, 1751, 31, 143, 23, 201], [636, 17, 1, 672, 16, 3, 176, 26, 341, 4, 28], [141, 114, 568, 2168, 1, 771, 348, 50, 101], [290, 3, 117], [70, 268, 4, 663, 149, 124, 440, 719, 543, 787, 264, 1107, 3, 34, 39, 8, 81, 296, 720, 6, 267, 124, 440], [32, 271, 298, 2722, 1881, 3949, 3950, 1602, 276], [52, 79, 42, 6, 545, 539, 1, 1180, 228], [23, 122, 2169, 69, 151, 1217, 3951, 1, 969, 1545], [1700, 1427, 2080, 3952, 3953, 9, 435, 402], [11, 862, 1, 1581, 547, 12, 13], [45, 5, 3954, 3955, 5, 1128, 33, 5, 490, 3956, 9, 166, 3957, 1, 1397], [98, 1148, 1171, 4, 53, 9, 575, 85], [124, 278, 6, 3958], [2133, 6, 790, 3, 170, 155, 1314], [102, 4, 80, 1002, 463, 58, 56, 1, 336, 337, 409], [7, 26, 360, 369, 24, 1739, 518, 441, 10, 7, 151, 970, 3, 5, 360, 24, 3, 5, 536, 169, 55, 566, 4, 532, 151, 1292, 12, 13], [10, 82, 3959, 3960, 1, 5, 326, 228], [11, 902, 5, 963, 3, 5, 266, 1, 2, 20], [191, 3961, 8, 350, 53, 209, 499, 3, 2, 19, 212, 209, 42, 6, 431, 4, 308, 180], [73, 38, 48, 6, 1183, 3, 2, 154, 59, 63, 613, 572, 338, 8, 2725, 3962, 6, 952, 3, 2, 430, 4, 264, 2278, 64, 1610, 2116, 455, 6, 2481], [80, 351, 129, 570, 207, 55, 505, 127, 40], [3963, 260, 87, 36], [102, 98, 4, 138, 1, 5, 332, 77], [7, 499, 3, 631], [1411, 4, 102, 549, 265, 3, 97, 869], [597, 86, 171, 2, 431], [1716, 1036, 4, 3964, 183, 40], [17, 1167, 111, 590, 152, 330, 879], [1006, 3965, 238, 11, 1522, 238, 223], [501, 724, 17, 1, 320, 118, 3, 148, 26, 341, 29], [1677, 3966, 1266, 69], [44, 18, 54, 259, 25, 190, 9, 505, 101, 1, 2, 178, 18, 920, 4, 506, 137, 12, 13, 202], [121, 242, 3967], [11, 155, 16, 2137, 1, 327, 723, 228], [15, 544, 645, 556, 1, 86, 211, 128, 27], [170, 40, 8, 5, 310, 344, 5, 1743, 3968, 3, 2, 3969], [2814, 265, 3, 172, 1, 1046, 2815, 108], [23, 122, 1533, 3970], [52, 17, 340, 5, 1071, 23, 21, 83], [131, 312], [571, 362, 232, 3, 2, 247, 23, 21], [30, 145, 9, 1613, 1214, 375, 205, 62, 20], [208, 162, 66, 521, 12, 13, 397, 129], [273, 1752, 51, 570, 1, 77], [23, 122, 10, 18, 15, 3, 159, 4, 61, 55, 212, 418, 4, 7, 3971], [636, 17, 140, 1, 222, 51, 669, 8, 1359, 29, 9, 24, 4, 2170], [308, 537, 87, 1003, 354, 12, 13], [1590, 3, 403, 1006], [5, 7, 50, 9, 5, 39], [7, 308, 2816, 87, 332, 1712], [83, 8, 5, 10, 267, 2046, 17, 6, 5, 71, 188, 824, 13, 369, 825, 1036], [15, 48, 3, 5, 117], [310, 182, 179, 6, 320, 4, 68, 125], [28, 32, 1, 376], [583, 1753, 4, 223, 3, 74, 196, 393], [237, 151, 5, 417, 6, 167, 1754], [30, 2444, 3, 2, 1463, 1001, 116], [18, 79, 6, 46, 54, 405, 2, 90, 65], [18, 10, 15, 1, 178, 50, 6, 34, 4, 41, 39], [82, 344, 1464, 3, 46, 563, 4, 68, 125], [11, 308, 1037, 87, 153], [80, 193, 4, 2, 62, 90, 65, 196, 2, 249, 203, 95], [30, 251, 47, 3, 2, 77, 4, 28], [1380, 81, 262, 49, 1388, 2171], [1297, 7, 1, 5, 1296, 90, 3972], [82, 50, 3, 41, 1, 433, 416, 100, 27], [102, 7, 405, 90, 65], [11, 185, 1912, 701], [536, 2817, 159, 2122, 65, 234], [355, 2780, 550, 3, 746], [138, 156, 5, 983, 1133, 2, 1755, 4, 534, 87, 2, 24], [53, 383, 132, 3, 692, 9, 575, 85], [777, 4, 859, 2172, 422, 715], [1629, 1192, 194, 6, 3973], [82, 16, 31, 2, 2818, 4, 50, 3, 41, 39], [1578, 17, 1052, 21, 14, 3974, 1465, 2819, 180, 3975, 2125, 4, 3976], [237, 713, 4, 241], [15, 50, 3, 34, 4, 41, 135, 2, 65, 996], [2173, 887, 16, 1, 2820], [30, 2821, 1270, 1075], [141, 114, 1534, 1874], [861, 1218, 82, 850, 4, 50, 1, 2, 105], [45, 3977, 3978, 3979, 1, 2, 497, 152, 3980, 33, 5, 492, 371], [10, 7, 182, 14, 5, 828, 3, 25, 154], [2822, 37, 2, 472, 12, 13], [30, 10, 145, 421, 95, 5, 154, 59], [10, 11, 1466, 357, 1, 2, 555, 128, 27], [17, 26, 34, 1, 2, 20, 4, 28, 14, 2, 24], [3981, 1424, 877, 3, 2, 172], [44, 10, 7, 1, 80, 3982, 6, 3983, 22, 91, 9, 61, 19], [1976, 1977], [276, 58, 132], [436, 371, 1054, 226, 3984], [698, 699, 608, 765], [47, 7, 224, 35, 150, 1, 133, 158, 204, 1, 2, 252, 20, 55, 38, 220, 300, 270, 126, 3, 5, 564, 521, 249, 4, 182, 14, 179, 303, 1756, 12, 13], [487, 96, 86, 3, 61, 176], [500, 3985, 1, 1603, 1967, 6, 3986, 1, 2, 55], [11, 3, 430, 59], [571, 362, 232, 3, 2, 247, 1757, 23, 21], [1428, 1244, 26, 2823, 377], [44, 1219, 103, 78, 263, 173], [141, 114, 7, 187], [53, 8, 191, 288, 34, 135, 2136], [8, 83, 8, 10, 876, 4, 238, 517, 32], [23, 21, 8, 69, 206, 1037, 1, 1175], [3987, 299], [10, 7, 1, 120, 244, 151, 2621, 60, 112, 839, 1, 25, 3988, 198, 1467, 1758, 235, 29, 95, 2, 164], [53, 229, 37, 305, 524], [2174, 2824, 1608, 431, 99], [141, 114, 608, 735], [539, 3989, 3, 72, 196, 393], [11, 1, 1223, 260, 46, 2609, 1751], [102, 64, 7, 2175, 332, 77, 12, 13], [3990, 2825, 37, 2, 36], [98, 4, 167, 22, 108, 650], [7, 69, 1376, 96, 4, 1978, 6, 239, 681, 1, 94, 12, 13], [2638, 38, 362, 9, 177, 1, 25, 412, 979, 2639, 1683, 14, 5, 620, 3991, 2308], [3992, 40, 78, 3993, 2826, 3994, 123, 373, 3995, 3996, 3997, 3998], [11, 754, 358, 6, 188, 1, 2, 772, 9, 2, 2471], [11, 118, 3, 2, 19], [53, 383, 132, 3, 692, 9, 575, 85], [2, 1746, 1734, 108, 2, 24, 66, 1, 2, 24], [17, 232, 25, 1741, 4, 29, 9, 2, 24], [138, 6, 5, 640, 8, 3999, 1049, 21, 1256], [115, 2112, 2827], [406, 97, 342, 168, 4, 4000, 1, 2, 497], [301, 298, 9, 510], [567, 214, 72], [191, 2478, 160, 1, 2828], [4001, 4002, 1, 368, 299], [280, 11, 35, 850, 2829, 101, 1, 2, 178, 12, 13, 11, 35, 499, 1, 5, 20, 196, 113, 2176, 621, 1, 12, 13], [4003, 205], [100, 753, 1439, 5, 269, 192, 22, 3, 1117, 6, 930, 40, 37, 2, 164, 3, 326, 115], [667, 557, 1174, 291, 285, 4004], [44, 17, 47, 3, 844, 332, 77, 12, 13, 612, 137, 18, 7, 93, 144, 101, 1, 5, 332, 77, 3, 43, 60, 104, 1584, 705], [225, 315, 2764, 196, 4005, 1, 1383], [799, 344, 31, 153], [18, 32, 22, 2347, 5, 72, 1, 2, 199, 128, 27], [1062, 8, 286, 43, 962, 117, 116, 650, 12, 13], [18, 53, 1, 2, 107, 432, 9, 24], [5, 427, 53, 2808, 1, 36, 481, 204], [127, 8, 612, 646, 4, 81, 262, 268], [4006, 87, 2, 36], [12, 13, 8, 40, 37, 115, 240, 8, 7, 4, 11, 48, 4007, 11, 1315, 385, 3, 2, 188, 4, 7, 1005, 125], [15, 1759, 43, 40, 1, 874, 299, 62, 20], [124, 382, 4008, 2177], [88, 8, 333, 42, 315, 1, 119], [82, 50, 31, 2, 793, 3, 46, 511], [7, 377, 788, 1468], [706, 864, 23, 21], [965, 2830, 40, 8, 639], [12, 347, 5, 79, 534, 9, 5, 240, 1, 166, 283, 106, 36, 2831, 21, 33, 2, 240], [1526, 290, 78, 1843, 117], [17, 288, 2, 4009, 8, 242], [1253, 17, 57, 1, 2, 20, 4, 1108, 3, 65], [4010, 8, 842, 4, 856, 2140, 3, 1693, 9, 168, 1083], [2832, 2178, 4011, 670, 3, 181, 1299, 85, 31, 7, 6, 4012, 1418], [571, 362, 232, 3, 2, 247], [23, 21, 8, 38, 153, 112, 5, 4013, 8, 81, 1399, 4014, 8, 995, 6, 619, 4015], [7, 50, 33, 56], [875, 1347, 1, 107, 108, 1469], [818, 450, 865, 619, 1580, 117], [243, 3, 326, 228], [2833, 104, 2151], [89, 83, 8, 44, 197, 28, 7, 6, 508, 820, 12, 13, 2048, 137, 10, 7, 6, 658, 820, 4, 158, 339, 445, 83, 3, 5, 121, 2049, 55], [191, 10, 145, 3, 557, 2117, 291, 97, 4016, 2584], [238, 193, 285, 173], [1205, 16, 9, 2132, 85, 126, 6, 395, 4, 110], [64, 10, 11, 16, 9, 85, 68, 125, 4, 146, 963], [70, 63, 76, 73, 11, 6, 41, 311, 46, 766, 284, 125, 152, 221, 35, 618, 14, 177, 60, 165, 1, 5, 71, 49, 72, 9, 104], [892, 447, 22, 1, 36], [10, 18, 255, 15, 1352, 2, 361, 413, 3, 67, 215], [124, 3, 381, 72], [12, 347, 5, 153, 652, 2419, 8, 5, 566, 4017, 6, 4018, 8, 2179, 14, 487, 2834, 271, 35, 16, 1, 2, 528], [975, 480, 4019, 1, 225], [10, 149, 4020, 6, 24, 832, 5, 761, 3, 2, 72], [4021, 4022, 14, 993, 1, 552], [1121], [273, 642, 1, 66, 538], [62, 20, 233, 1619], [11, 57, 376, 173], [18, 7, 1430, 25, 219, 6, 603, 4, 42, 6, 180, 101, 1, 133, 351, 60, 113, 12, 13], [18, 7, 3, 110, 265, 3, 19], [1760, 118, 3, 403, 2149], [17, 16, 6, 34, 4, 28], [328, 43, 745, 364], [2017, 2180, 878, 23, 122, 158, 111, 4, 619, 1053, 335, 1, 1761, 8, 2181, 4023], [1210, 5, 98, 4, 167, 160, 5, 677, 163], [2835, 384, 14, 419], [363, 168, 1671], [99, 982, 15, 1817, 14, 1880, 4, 4024, 40], [10, 11, 22, 3, 2, 19, 12, 13, 27], [143, 216, 1334, 2518, 3, 34], [2836, 160, 78, 147], [15, 48, 3, 5, 117], [53, 51, 983, 4, 328, 4, 29, 9, 24, 694], [82, 189, 3, 5, 34, 4, 28], [181, 96, 483], [191, 52, 1447, 2837, 91, 462], [387, 5, 1358, 1, 2, 1267, 26, 341, 3, 113, 249, 221, 155, 180, 1, 5, 4025], [141, 114, 568, 2168, 232, 169, 4026], [1762, 786, 283, 1103, 6, 2, 111, 4027, 1, 497], [2141, 912, 303, 2142, 109, 786, 736, 4, 2782, 2143, 69, 21], [10, 237, 6, 67, 10, 138, 3, 5, 19, 22, 171, 153, 1, 153, 6, 67, 2387, 14, 2, 231], [70, 268, 4, 663, 149, 124, 440, 719, 543, 787, 264, 1107, 3, 34, 39, 8, 81, 296, 720, 6, 267, 124, 440], [366, 902, 5, 90, 1517], [10, 11, 4, 7, 6, 5, 240, 8, 357, 48, 75, 16, 9, 2, 669, 1137], [2838, 11, 22, 171, 19], [382, 29, 21, 9, 2414], [73, 32, 775, 14, 177, 1513, 618, 22, 12, 13], [667, 1350, 1681, 1, 214, 397], [32, 2110, 14, 2, 223, 1, 2, 208], [7, 6, 111, 1051, 558], [1006, 4028, 4029, 4030, 306, 160, 286], [7, 3, 1117], [141, 114, 853], [742, 160, 194, 590], [45, 303, 1636, 625, 626, 32, 4, 2636, 270, 2182, 1, 512, 796, 1, 220, 327], [442, 5, 15, 22, 37, 5, 987, 77], [10, 15, 155, 289, 60, 941, 83, 58, 1292, 1, 448, 81, 295, 246, 120, 1], [28, 10, 7, 156, 95, 5, 90, 879], [308, 1359, 3, 4031, 354, 12, 13], [21, 4, 78, 682, 142, 8, 4032, 4033, 4034], [12, 13, 1122, 112, 194], [549, 160, 33, 802], [11, 4035, 365, 1763], [5, 52, 750, 2837, 1283, 4036], [88, 8, 18, 648, 407, 9, 496, 105], [1617, 539, 4037, 21, 1, 4038], [11, 260, 2839, 135, 540, 36, 4039, 1, 2, 86, 211], [82, 29, 9, 2, 24, 4, 28], [18, 11, 140, 1, 2, 2183, 4, 118], [1651, 36, 299], [11, 390, 971, 4, 1532, 37, 397], [52, 73, 490, 6, 1256, 153, 493, 28], [10, 7, 4, 82, 150, 3, 2, 19, 12, 13], [90, 691, 1538, 1042], [965, 43, 2840, 77], [138, 35, 2, 1699, 17, 1, 2, 124, 465, 4, 6, 514], [2812, 5, 82, 48, 3, 5, 154, 59], [82, 6, 479, 1364, 106], [539, 4, 1211, 3, 2841, 127], [17, 189, 3, 41, 4, 182, 179], [17, 3, 846, 1572, 9, 43], [236, 17, 1, 44, 504, 16, 1, 72, 106, 4, 314, 3, 110], [18, 7, 57, 3, 2842, 19, 4, 156, 348, 128, 27], [145, 6, 276, 1144, 26, 34, 4, 28, 14, 2, 24], [797, 1697, 290, 173], [1666, 140, 3, 2, 19, 4, 7, 499, 1, 55, 128, 27], [2, 4040, 209, 4041, 4042, 422, 2, 1470, 2754, 9, 2, 2184, 4043, 4044, 5, 4045], [1072, 390, 1764, 1, 404], [73, 32, 51, 867, 4, 48, 1, 2, 115, 283], [7, 638, 693, 3, 593, 345, 906, 62, 20], [580, 401, 2524, 2525, 286, 1, 1221, 65], [756, 2843, 999], [102, 4, 80, 261, 260, 2109, 4, 2844, 6], [7, 638, 693, 329, 375, 205, 62, 20], [17, 140, 3, 2, 461, 4, 1815, 5, 845, 198], [10, 7, 35, 206, 1609, 438, 3, 25, 142], [10, 7, 35, 57, 6, 25, 847, 323, 14, 2, 605, 288, 2, 4046, 4, 2, 103, 12, 4047, 351, 60, 113, 2587, 137], [1762, 786, 152, 318, 460, 843, 4048, 87, 2, 159], [45, 145, 1257, 1144, 33, 5, 223, 1688, 31, 5, 582, 1, 1158], [4049, 4050], [236, 10, 7, 57, 1, 94, 187, 1755, 417, 4, 28], [92, 1068, 297, 3, 188, 126, 2, 175], [308, 1055, 958, 3, 1070, 354, 12, 13], [278, 2378, 2, 696, 8, 2379, 2380, 325], [10, 7, 561, 66, 657], [562, 79, 1, 672, 16, 3, 148, 4, 26, 41], [261, 1274, 9, 2, 336, 337], [1679, 271, 455], [1353, 8, 10, 4051, 1, 2, 4052], [10, 280, 16, 3, 148, 6, 34, 4, 1758, 704, 385], [687, 40, 8, 1284, 7, 2845, 970, 3, 2, 34, 39, 4, 4053, 385], [44, 346, 43, 1062, 8, 286, 117, 116, 650, 12, 13], [1624, 129, 1, 4054, 353], [576, 394, 2846], [44, 17, 22, 1, 2, 61, 12, 13], [49, 9, 123, 268, 2724, 376, 81, 4055, 386, 127, 40, 2809], [285, 2835, 363, 173], [2847, 53, 229, 3, 933, 676, 14, 2673, 116], [82, 50, 3, 2, 410, 1, 2, 199, 4, 260, 1531, 1079], [241, 42, 3, 19], [273, 4056, 1, 107, 538], [2848, 227, 484, 362, 2185, 5, 761, 8, 4057, 4058, 2186, 1382, 1553, 14, 1178, 2, 4059, 2186, 8, 2384, 4060, 484, 1, 2848, 227], [30, 10, 174, 42, 491], [580, 4061, 4062, 1820, 3, 5, 2849], [4063, 30, 174, 365, 33, 1867, 250], [143, 29, 78, 2850, 29, 9, 24, 201, 27], [10, 11, 16, 3, 274, 108, 2, 2334, 324, 4, 118], [394, 4, 1348, 2187, 132], [218, 227, 4064, 606, 2851, 35, 414, 2338, 4, 259, 5, 301, 4065, 1, 2, 606, 8, 157, 1240, 2852, 349, 1711, 6, 559, 881, 111, 1764, 2853], [2854, 548, 180, 21, 2, 205], [4066, 500, 1590, 4067, 4, 2154], [328, 4, 97, 458], [2188, 160, 37, 287, 329, 639], [308, 328, 321, 87, 240, 354, 12, 13], [2437, 204, 1429, 2473], [1121], [363, 168, 1671], [30, 145, 822, 135, 593, 345, 1303, 1029, 4068], [2855, 1, 2, 1627, 4069], [2077, 2079, 270, 598, 516, 561, 2078, 3, 2, 2856, 270, 467], [1149, 821, 686, 1150, 14, 10, 15, 56, 1151, 14, 1152, 525, 60, 1028, 1153], [2, 2091, 1181, 9, 1700, 1427, 2680, 2681], [10, 237, 4, 52, 84, 42, 213, 3, 2, 19, 9, 934], [1252, 883], [11, 156, 46, 17, 69, 4, 259, 25, 130, 3, 2, 19], [7, 86, 1, 231], [98, 4, 84, 160, 677, 1, 323, 20, 6, 121, 159, 9, 43, 100, 27], [64, 17, 2591, 219], [99, 578, 2287, 2, 142, 8, 2, 99], [10, 7, 396, 4, 22], [83, 8, 30, 28, 814, 6, 34, 39, 1, 2, 105, 509], [7, 216, 81, 352, 2857, 14, 25, 581, 1, 2, 1654], [1612, 1, 5, 772, 2858, 1, 871], [236, 52, 17, 140, 3, 148, 620, 1, 479, 4, 28, 9, 24], [7, 652, 3, 2003, 1, 80, 94], [4070, 169], [23, 21, 8, 380, 151, 1093, 1, 573], [44, 457, 7, 1123, 4, 1698], [4071, 4072, 4073, 1, 166, 483], [32, 22, 91, 214, 72], [45, 172, 4074, 242, 2115, 1, 5, 172, 4075], [12, 13, 302, 293, 711, 4076], [10, 63, 76, 811, 8, 2, 124, 1020, 1974, 37, 2, 4077, 8, 4078, 175, 48, 3, 2, 188, 1323, 35, 425, 10, 11, 1, 5, 73, 378, 4, 124], [18, 15, 317, 67, 4079, 87, 2, 81, 727], [10, 7, 1, 514, 35, 48, 3, 2, 154, 59, 1, 276, 306], [4080, 671, 2139], [183, 40, 8, 63, 76, 2159, 1115, 21, 5, 153, 14, 1445, 5, 1446, 60, 14, 1722, 67, 1723, 9, 5, 420, 989, 5, 88, 8, 1724, 9, 2, 420, 989], [4081, 168, 4082, 1619, 4, 144, 4083, 2859], [4084, 1571, 63, 76, 7], [89, 8, 17, 4, 98, 51, 769], [18, 7, 16, 3, 2, 343, 4, 344, 1, 2, 479], [2169, 187, 78, 1181, 1, 94], [66, 2860, 31, 700], [478, 7, 146, 1464, 3, 2, 563, 128, 27], [892, 447, 1, 2, 667], [45, 1101, 10, 38, 380, 29, 91, 5, 1747, 1, 5, 476, 1381, 31, 399, 1743, 4085, 1, 1224, 2565, 4, 4086], [471, 73, 55, 1086, 630, 279, 1387], [18, 10, 15, 120, 1155, 67, 502, 75, 120, 87, 5, 81, 193], [53, 383, 132, 3, 692, 9, 575, 85], [290], [11, 1658, 272, 2189, 3, 4087, 74], [120, 258, 4088, 23, 21], [302, 1275, 849, 3, 646], [10, 18, 7, 93, 144, 6, 238, 533, 24, 9, 2, 113, 19, 1606], [1872, 62, 20, 76, 2861], [597, 1682, 86, 37, 323, 36], [7, 2126, 321, 95, 8, 1024, 87, 417, 12, 13], [7, 6, 188, 1354, 9, 106, 9, 123], [17, 2730, 25, 38, 581, 6, 1128, 4, 1810, 4089, 3, 611, 55], [11, 155, 1725, 316, 1, 327, 723, 228], [4090, 97, 468], [436, 371, 654, 546, 2182, 4, 4091], [1368, 853, 1118, 2862], [236, 10, 7, 16, 9, 106, 6, 240, 8, 357, 29, 9, 24, 4], [852, 187, 78, 331], [90, 691, 1538, 1042], [1659, 120, 46, 1660, 1, 489, 210, 62, 20, 134, 119], [88, 265, 130, 527, 9, 962], [242, 209, 1184, 3, 608], [855, 8, 842, 160, 248, 33, 739, 19], [17, 2863, 590, 1, 2, 323, 287], [1481, 8, 1258, 1027], [30, 1094, 491, 1246, 16], [368, 4, 96, 1270, 299, 176], [225, 2179], [52, 79, 232, 6, 399, 757, 2185, 1636, 58, 241], [328, 4, 97, 458], [131, 986], [161, 17, 118, 3, 461, 146, 198, 29, 9, 24, 4, 28, 4092], [527, 2862], [717, 15, 288, 938, 40, 8, 1064, 356, 27], [7, 638, 693, 329, 375, 205, 62, 20], [12, 13, 4, 322, 40, 8, 61, 882, 86, 377, 23, 14, 2, 894], [45, 687, 40, 8, 71, 4093, 2864, 6, 4094, 1576], [15, 1507, 502, 4, 2323, 2324, 2325, 58, 67, 2326, 58, 2, 81, 295, 56], [45, 69, 8, 931, 11, 189, 5, 41, 1, 2190, 105], [2, 38, 383, 2611, 8, 1412, 3, 5, 1234, 3, 5, 361, 1355], [10, 7, 4, 11, 185, 5, 233, 9, 2, 437, 4, 93, 609, 144, 12, 13], [70, 30, 197, 174, 444, 722, 6, 292, 74, 233, 9, 43], [2191, 271, 6, 4095, 142, 924, 46, 1083, 31, 2, 864], [64, 243, 7, 155, 25, 2865, 2106, 2866, 1, 1505], [15, 4096, 22, 3, 244, 738], [2104, 1189, 4097, 8, 502], [981, 8, 2, 4098], [102, 447, 22, 3, 2081, 4099, 281], [1697, 4100, 877, 1729], [230, 1401, 1211, 6, 2192], [522, 4, 2867, 4101, 83, 8, 2868, 7, 196, 1224, 9, 1361], [161, 17, 140, 1, 222, 26, 154, 59, 4, 28], [10, 73, 490, 22, 6, 936, 9, 2, 2193, 23, 21, 12, 13], [138, 1, 2, 1258, 486], [70, 10, 15, 47, 3, 99, 632], [939, 1, 375, 205, 62, 20], [774, 53, 8, 359, 1844, 9, 1489, 3, 2632, 117, 4, 1680, 152, 539, 1236, 2633], [19, 15, 157], [88, 8, 109, 317, 867, 3, 2, 410, 9, 123, 128, 27], [98, 42, 6, 46, 161, 10, 84, 9, 2, 19, 4102, 91, 151, 431, 4103, 2654, 31, 2, 52, 79, 1264, 35, 1451, 1, 2, 61], [562, 52, 79, 16, 9, 1084, 4, 51, 710], [588, 589, 737], [4104, 4105, 756], [64, 243, 7, 68, 125, 1, 25, 2869, 295], [985, 184], [2101, 8, 1765, 129], [11, 1, 1223, 9, 56, 6, 988], [30, 10, 145, 93, 609, 144, 6, 773, 4106, 1, 20, 12, 13], [98, 4107, 2, 333, 192], [472, 304, 164], [88, 8, 10, 912, 109, 195, 4, 68, 3, 617, 71, 2542, 3, 166, 323, 460, 2132, 75, 5, 269, 581, 743, 14, 1257, 5, 4108, 8, 895, 288, 4109], [173, 8, 103, 4110, 97, 326, 4111, 4, 263, 120, 1, 121, 159], [88, 8, 32, 22, 163, 12, 13, 73, 32, 55], [2870, 111, 172, 4112], [942, 4113, 2061, 2062, 1105], [45, 63, 76, 7, 1, 973, 4114, 29, 9, 24, 3, 55, 8, 250, 4, 32, 93, 144], [80, 193, 4, 2, 62, 90, 65, 196, 2, 249], [45, 10, 2871, 112, 2, 1343, 4, 1933, 1288, 21, 28], [457, 7, 51, 710, 4, 146, 5, 198, 6, 5, 391], [471, 469, 58, 2872, 2052], [131, 312], [4115, 3, 403], [30, 145, 118, 3, 631, 1, 2, 326], [7, 427, 4, 584, 540, 2873, 433, 7, 35, 584, 2, 172, 1, 133, 147, 12, 13, 202], [63, 237, 944, 333, 323, 90, 2874, 1298], [18, 15, 48, 3, 2, 59, 4, 118, 135, 2, 65, 996], [15, 109, 427, 2111, 2875, 205, 542], [7, 189, 398, 3, 110, 1, 569, 353], [557, 47], [11, 29, 9, 703, 9, 39, 23], [4116, 107, 6, 4117], [18, 7, 57, 3, 2, 19, 128, 27], [394, 1611, 2, 24], [359, 912, 109, 16, 3, 894, 48, 4, 1680, 1299, 24, 2060], [665, 4118, 40, 685, 19], [102, 1206, 51, 526, 887, 1, 2, 66], [1142, 4119, 10, 7, 848, 945, 157, 1, 12, 13], [522, 4, 382, 112, 5, 967], [1735, 51, 609, 181, 1592, 8, 107, 1, 372, 62, 20, 134, 119], [346, 15, 407, 3, 5, 239, 117, 1739, 453, 10, 330, 137, 6, 1740, 418], [11, 1883, 1277, 3, 2157, 1, 94, 12, 13], [149, 17, 6, 39, 3, 148, 9, 56], [857, 23, 21, 523, 2194, 12, 13, 10, 7, 35, 451, 4, 734, 25, 44, 523], [181, 165], [88, 8, 10, 774, 32, 4120, 2505, 217, 4121, 24, 3, 2876, 14, 1490, 2, 474, 8, 754, 1, 412, 1385, 603, 4, 28], [23, 21, 83, 8, 10, 7, 1, 514, 68, 125, 1, 2, 72, 106], [88, 8, 1766, 9, 1356, 19, 1, 2, 940, 1357, 134, 119], [102, 11, 47, 3, 632, 1, 12, 13], [11, 146, 198, 3, 631], [64, 10, 7, 6, 401, 712, 219, 57, 48, 3, 25, 154, 1458, 5, 71, 240, 247, 8, 5, 175], [92, 4122, 1463, 828, 8, 4123], [737, 8, 32, 607, 6, 4124, 1676, 1, 1617, 2877, 135, 714, 1444, 129, 196, 714, 1444, 683, 1, 475], [17, 421, 184, 75, 146, 198, 4, 4125, 21], [38, 143, 6, 34, 1594, 245], [66, 55], [131, 312], [70, 5, 10, 88, 8, 891, 303, 800, 317, 6, 67, 294, 374, 4, 142, 232], [7, 51, 318, 983, 1471, 6, 4126], [11, 26, 41, 4, 1335, 6, 2195, 36, 3, 2, 19, 196, 511], [706, 1070, 2878, 95], [10, 11, 93, 5, 73, 358, 1129, 3, 341, 3, 106, 410], [45, 313, 1719, 130, 5, 4127, 3, 2, 183, 916, 8, 5, 436, 371], [478, 7, 57, 538, 3, 2, 19, 12, 13], [513, 253, 33, 392, 14, 15, 185, 923, 3, 477], [4128, 11, 68, 36, 1, 5, 327], [10, 7, 2879, 25, 2880, 23, 21, 83, 6, 611, 284, 601], [1244, 786, 301, 61, 882, 1689, 248], [322, 40, 8, 5, 11, 187, 867, 221, 1047, 868, 652, 180, 78, 3, 2, 200, 1024, 417, 4, 889, 36, 1754], [993, 160, 78, 165], [191, 778, 428, 574, 24], [2196, 762, 1102, 311], [11, 118, 1, 2396, 4129, 1968, 334, 1417, 486, 2704, 1880, 246, 276, 1, 1882, 4130], [230, 483], [98, 4, 84, 2002, 1, 2881, 168], [456, 69, 1685, 1686, 33, 2, 1884], [332, 4131, 14, 2581, 513, 253], [82, 16, 3, 936, 3, 2, 19, 12, 13], [82, 50, 3, 34, 1, 2, 178], [840, 10, 7, 16, 288, 5, 452], [255, 98, 480, 84, 704, 4132, 4, 1101, 2882, 3, 2, 361, 77, 3, 67, 215], [23, 21, 3, 1072, 697, 1, 2, 404], [70, 5, 10, 11, 140, 3, 2, 266, 1, 2, 327, 4, 155, 781, 6, 723, 616, 206, 180, 21, 4, 91, 660, 11, 29, 9, 443, 75, 93, 5, 967], [10, 7, 47, 6, 1030, 1031, 827, 1, 673, 162], [10, 82, 150, 3, 2, 1078, 6, 110, 12, 13], [12, 13, 4133, 1958, 2700, 4134, 116, 2883, 542, 203, 27], [960, 614, 470], [1389, 57, 676, 14, 5, 65, 1, 372, 62, 20, 134, 119], [191, 1054, 1, 698, 244, 1, 2, 199, 54, 4, 84, 226, 690, 3, 39, 794, 93, 5, 59, 455], [7, 50, 33, 56], [10, 18, 255, 15, 680, 448, 361, 413, 3, 448, 215], [23, 21, 8, 4135, 69, 308, 5, 4136, 8, 452, 60, 4137, 12, 4138, 35, 50, 9, 2, 669], [11, 29, 9, 65, 14, 1257, 56, 58, 90], [7, 277, 424, 9, 2, 94, 12, 13, 1329, 7, 187, 1330, 1331, 3, 2, 1047, 200, 1168, 197, 56, 1013, 1332], [224, 192, 47, 3, 5, 389, 74, 89, 7, 220, 104, 495, 316, 520, 137, 12, 13, 202], [1015, 15, 1016, 32, 10, 1017, 145, 903, 1018, 1019, 904, 591, 149, 251, 948, 38, 109, 2172, 883, 9, 56, 2884, 1247, 4139, 48, 4, 2885], [45, 4140, 32, 22, 3, 477, 1, 252], [658, 4141, 86, 377], [2886, 1676, 14, 1268], [53, 383, 132, 3, 692, 9, 575, 85], [45, 191, 531, 4142, 1, 397, 112, 4143, 8, 639, 1, 181, 740, 4144, 360, 4145, 1, 69, 4, 26, 1812, 4146, 4147], [54, 4, 84, 22, 171, 2, 326, 509, 79, 47, 248, 33, 46, 366], [45, 5, 11, 1123, 31, 5, 175, 1, 1158, 4, 752, 5, 430, 59, 152, 313, 4148], [1210, 1551, 29, 9, 2177, 9, 5, 124, 735], [2067, 11, 51, 2887], [1259, 54, 226, 78, 875], [2192, 4149, 637, 87, 1401, 585], [1104, 51, 203, 95], [32, 786, 96, 1, 483], [406, 375, 205, 62, 20, 2197, 2668, 4150], [23, 21, 549, 1, 2, 1170], [7, 22, 1, 2, 351, 20, 1, 12, 13, 23, 21, 3, 192], [7, 4151, 1741, 1, 183, 8, 2424, 354, 12, 13], [1677, 8, 287, 1069, 2198, 1, 1320, 287], [73], [388, 1295], [149, 7, 206, 3, 1269], [1038, 50, 95, 1, 287], [11, 68, 452, 1, 569, 353], [12, 13, 47, 7, 224, 35, 150, 1, 133, 158, 204, 38, 220, 300, 270, 126, 1, 2, 49, 3, 5, 991, 303, 254, 202], [795, 47, 291, 739, 4152], [38, 143, 48, 14, 245, 704, 703], [234, 8, 7, 68, 1, 2, 178], [69, 8, 15, 1953, 1133, 107, 6, 69, 75, 22], [145, 29, 3, 645, 556, 4, 93, 144, 1, 2, 555], [32, 22, 1, 376], [1767, 4, 1768, 42, 653], [23, 122, 2169, 69, 1217, 2, 1021, 1545, 1, 2, 115, 94], [44, 17, 47, 3, 844, 332, 77, 12, 13, 612, 137, 18, 7, 93, 144, 101, 1, 5, 332, 77, 3, 43, 60, 104, 1584, 705], [10, 269, 2888, 57, 1007, 58, 2889, 6, 661, 2890, 78, 1109, 196, 531, 661, 546, 1, 133, 77, 6, 2891, 2892, 1, 55, 1, 113, 4153], [1528, 2061, 2062, 1105], [334, 1147, 155, 355, 334, 8, 38, 142, 9, 445, 801], [308, 889, 36, 33, 2893, 87, 577, 1, 94, 12, 13], [1242, 2198, 33, 2662, 287, 1069], [2793, 3, 2, 247, 1, 1041, 829, 227], [4154, 1302, 136, 813, 3, 107, 75, 4155, 138, 4156, 443, 135, 46, 596], [512, 23, 21, 3, 11, 1451, 80, 36, 547, 1, 12, 13], [45, 5, 7, 2894, 1, 5, 1643, 1, 2199, 4157], [11, 889, 36, 1, 577, 4, 1176, 1001, 1, 94, 12, 13], [539, 275, 3, 1132, 72], [64, 243, 7, 155, 25, 2865, 2106, 2866, 1, 1505], [344], [10, 7, 4158, 1, 596, 1, 2183], [273, 1, 1769, 538], [2895, 803, 574, 129], [12, 13, 47, 7, 224, 35, 150, 1, 133, 158, 204, 38, 220, 300, 270, 126, 1, 2, 49, 3, 5, 991, 303, 254, 202], [64, 7, 48, 14, 59, 126, 3, 4159, 8, 5, 175], [7, 47, 907, 21, 9, 104], [576, 56], [158, 1045, 706, 590], [650, 4160], [1297, 10, 7, 16, 463, 3, 5, 266], [44, 10, 7, 2896, 8, 9, 2, 19, 135, 5, 508, 36, 1429, 2896, 2, 1001, 4, 431, 194, 25, 1088, 6, 25, 339, 924, 1, 4161], [44, 10, 7, 1, 183, 8, 1240], [1571, 145, 140, 3, 2, 19, 4, 1333], [45, 733, 8, 5, 7, 16, 3, 5, 19, 4, 241, 42, 31, 116, 1501], [10, 15, 150, 3, 2, 19, 12, 13], [4162, 652, 696, 3, 5, 2200, 773, 4163], [11, 185, 272, 4164, 1, 2, 199], [5, 763, 11, 2066, 5, 315, 213, 186, 5, 102, 55], [210, 1841, 3, 5, 65], [613, 572, 63, 38, 26, 2020, 3, 188, 310, 314, 1, 4165, 4166, 6, 581, 530, 17, 16, 9, 2, 85, 1, 610, 60, 463, 228, 60, 1770, 1, 2897, 44], [597, 86, 31, 96, 171, 61, 176], [71, 53, 1799, 2274], [107, 89, 1, 1374, 1601], [1290, 82, 50, 6, 479, 1, 2, 20], [698, 699, 608, 765], [237, 713, 4, 241], [15, 29, 87, 645, 1316, 339], [301, 11, 1459, 5, 272, 3, 46, 2113], [28, 15, 42, 5, 546, 8, 2898, 75, 16, 9, 5, 85, 288, 5, 670], [301, 990, 8, 615, 6, 190, 615, 1, 372, 62, 20, 134, 119], [1260, 1771, 1, 2, 863, 40, 33, 2, 598, 8, 2, 863, 187, 1, 2, 863], [11, 2899, 21, 5, 1025, 579], [71, 53, 41, 201], [7, 68, 708, 4, 140, 3, 2750, 222], [82, 2718, 14, 2, 110, 3, 2, 19, 12, 13], [54, 98, 4, 67, 52, 84, 93, 144, 1, 2, 745, 212, 561, 21, 107, 98, 418, 46, 1479, 4, 84], [4167, 11, 2900, 95, 8, 431, 4168, 14, 97, 6, 214, 147, 1], [11, 187, 4169, 3, 992], [11, 1, 328, 547, 1759, 36], [40, 8, 44, 17, 6, 121, 339, 4, 4170, 89], [136, 80, 1, 107, 432, 9, 40], [10, 32, 155, 781, 1, 2, 20, 356, 27], [53, 2901, 197, 321, 4, 29, 9, 24, 1049, 21, 1256, 694], [7, 69, 4171, 4172, 87, 240, 100, 27], [387, 2902, 7, 1167, 5, 828, 4, 48, 75, 16, 1, 2, 951, 9, 56, 1, 2, 199], [1911, 519, 1230, 37, 36], [799, 123, 1488], [1116, 229, 14, 1255, 383, 465, 3], [18, 53, 93, 144, 1, 2, 61, 12, 13], [281, 1458, 36], [63, 1449, 108, 680, 1772], [2063, 4173, 546], [10, 54, 4, 138, 6, 242, 1, 2, 77, 432, 9, 24, 201], [88, 8, 10, 32, 6, 24, 3, 2876, 41, 4, 4174, 4175, 1248, 1434, 58, 754, 408, 6, 11, 1, 348, 4, 267, 10, 17, 1, 1051, 1543, 57, 4, 42, 2086, 60, 494], [83, 4176, 1952, 26, 430, 59, 4, 182, 179, 1, 338], [415, 498, 1081, 673, 2736], [17, 499, 3, 2, 461, 4, 68, 125], [18, 15, 16, 3, 2, 176, 1, 67, 81, 727], [1628, 1734, 31, 3, 116, 6, 1897, 473], [20], [143, 4, 988, 264, 4177], [11, 4, 7, 68, 659, 4, 93, 5, 564, 31, 2, 331, 283, 1, 2, 199], [54, 6, 84, 47, 3, 2, 19, 12, 13], [2903, 1, 2201], [2153, 1773, 4178], [4179, 169, 107, 342, 408], [10, 64, 267, 7, 16, 3, 166, 238, 403, 824, 13, 369, 825, 1036, 1870, 634, 1871, 1530], [1338, 1774, 44, 1589, 19, 367], [11, 1, 348, 86, 4, 57, 1, 36], [2202, 373], [78, 322, 8, 793, 9, 4180, 4181], [1503, 902, 5, 198, 14, 46, 2320], [7, 6, 1460, 57, 3, 2, 19, 12, 13], [149, 7, 1547, 25, 219], [250, 856, 915, 14, 450, 1140, 49, 40], [7, 905, 291, 593, 345, 906, 62, 20], [898, 306, 184, 2904], [11, 2038, 4182, 1912, 3, 365, 250], [218, 227, 921, 11, 4, 7, 48, 3, 73, 1, 350, 8, 2, 4183, 9, 2, 1984, 2203, 1159, 9, 1160, 1161], [12, 13, 641, 160, 37, 121, 159], [43, 36, 900, 1182, 40, 2027, 2008, 1342, 36, 604], [131, 2712, 4184], [2, 1407, 4, 32, 8, 1327, 72], [18, 10, 15, 120, 1155, 67, 502, 75, 120, 87, 5, 81, 193], [538, 11, 16, 3, 2, 266], [2905, 2905, 83, 8, 5, 17], [18, 10, 15, 1, 106, 216, 346, 1484, 6, 4185, 4, 1128, 75, 151, 289, 26, 439, 59, 349, 212, 28, 4, 29, 14, 24], [10, 7, 140, 3, 631, 4, 118], [1775, 10, 7, 6, 5, 1726, 391], [627, 3, 4186, 85, 4187, 2175], [210, 57, 1, 2, 770, 6, 5, 88, 1, 2, 55, 492, 31, 1, 372, 62, 20, 134, 119], [990, 8, 615, 492, 31, 1, 489, 210, 62, 20, 134, 119], [10, 15, 22, 3, 2, 19, 4, 48], [138, 42, 1, 2, 333, 4188, 4, 51, 2906, 138, 1315, 1256, 1049, 21], [1424, 877, 3, 2, 823, 8, 5, 172], [2907, 3, 5, 2204, 1500, 2908, 31, 5, 271, 75, 22, 3, 5, 582], [2909, 370, 1407, 8, 1119], [88, 8, 615], [750, 140, 3, 107, 4, 28], [70, 268, 4, 663, 6, 149, 124, 440, 719, 543, 787, 264, 121, 1422, 8, 81, 296, 720, 6, 267, 124, 440, 9, 43], [282, 714, 1444, 65, 2881, 1088, 8, 36, 4, 32, 22, 1, 1617, 2877, 6, 475, 415, 1774, 2205, 459, 1, 55], [201, 8, 5, 352, 225, 709, 77, 6, 5, 2797, 411, 4189, 1, 2, 890], [15, 8, 313, 3, 49, 1776, 118, 3, 247, 100, 27], [7, 344, 1, 5, 2910, 1, 2, 97, 20, 101, 12, 13, 44, 490, 1, 5, 80, 348, 151, 839, 1, 25, 479, 16, 3, 5, 266, 28, 4, 288, 207, 1, 5, 113, 2911], [136, 1, 336, 337], [4190, 42, 1, 2, 431], [92, 550, 3, 34], [18, 11, 48, 3, 2, 1377], [4191, 81, 262, 49, 127, 29, 797], [191, 2441, 379, 91, 285, 281], [2206, 8, 2912, 2913, 3, 1058, 420], [17, 1, 265, 1, 5, 332, 77, 1, 183, 8, 987], [7, 1958, 627, 8, 616, 12, 13, 4, 364], [1642, 623, 3, 394], [647, 129, 1, 162], [63, 10, 1237, 550, 9, 2, 1379, 71, 2059, 355, 38, 421, 2776, 4192, 9, 2, 50, 353, 6, 41, 1497, 411, 469, 58, 620, 4, 4193, 3], [2014, 877], [127, 40, 8, 5, 38, 362, 139, 5, 2491, 57, 1, 25, 412, 232, 5, 1498, 3, 166, 1616, 1381, 31, 556, 304, 2492, 4, 305, 2493], [500, 365, 1, 62, 20, 116], [488, 2914, 229], [355, 92, 139, 1, 531, 504, 48, 3, 2, 154, 59, 4, 189, 3, 2, 39, 64, 38, 391, 4, 195, 3, 2, 239, 85, 599, 6, 659, 4, 479], [244, 738], [89, 8, 1412, 3, 61, 176, 97, 204], [70, 63, 76, 73, 11, 6, 41, 311, 46, 766, 284, 125, 152, 221, 35, 618, 14, 177, 60, 165, 1, 5, 71, 49, 72, 9, 104], [960, 614, 200], [237, 206, 67, 90, 1896, 3, 67, 333], [7, 1649, 4194, 4195, 35, 954, 14, 1639, 95, 33, 2, 817, 66], [2174, 2824, 2207, 431, 99], [161, 17, 146, 198, 4, 28], [82, 48, 3, 110, 3, 2, 19], [52, 138, 35, 2, 1699, 17, 1, 2, 124, 465, 4, 6, 4196], [1073, 15, 9, 375, 205, 62, 20], [310, 118, 3, 148, 6, 34], [70, 5, 501, 7, 1, 320, 118, 3, 2, 148, 6, 41, 2208, 235, 195, 260, 398, 33, 25, 581], [54, 4, 167, 209, 3, 5, 651, 18, 53, 35, 18, 4, 1154], [2209, 814], [98, 4, 84, 1353, 5, 65, 104, 234, 351], [28, 10, 11, 42, 1, 716, 4197, 1143, 546, 75, 139, 1402, 1403, 2210, 2023], [852, 141, 114, 4198, 125], [214, 147], [7, 47, 1, 252, 20, 1, 12, 13], [4199, 4200, 57, 1, 4201, 402], [7, 500, 365, 3, 20, 116], [384, 21, 8, 763, 15, 151, 5, 4202, 417], [52, 449, 16, 1, 183, 8, 200, 6, 681, 4, 51, 385], [96, 86, 6, 519], [18, 15, 292, 3, 5, 294, 74, 233, 806, 100, 27], [522, 1632, 1076, 14, 225], [406, 97, 162, 4, 147], [7, 50, 4, 189, 3, 41, 1114, 1, 2, 72, 106], [11, 1, 328, 547, 862, 3, 116], [32, 22, 567, 290, 376], [10, 18, 254, 255, 15, 390, 36, 740, 4, 1414, 413, 422, 705], [897, 512, 554, 96, 86, 1, 5, 4203, 1, 2915, 804, 1010], [98, 4, 167, 22, 135, 783], [124, 382, 4, 2192], [45, 876, 11, 4, 79, 16, 3, 403, 4, 156, 76, 374, 75, 195, 4, 1777, 4, 548, 941, 369, 26, 188, 4204, 3, 289, 1193], [161, 827, 42, 1, 36], [1425, 1241, 706, 2916, 4205, 1086], [224, 192, 47, 3, 5, 389, 74, 89, 7, 220, 104, 495, 316, 520, 137, 12, 13, 202], [45, 2385, 161, 4206, 3, 5, 172], [141, 114, 799, 565], [4207, 8, 2742, 4208, 1242], [15, 182, 14, 179, 1, 113, 3, 320, 75, 335, 95, 1, 20], [224, 192, 47, 3, 5, 389, 74, 89, 7, 220, 104, 495, 316, 520, 137, 12, 13, 202], [1502, 585, 1105, 382], [70, 30, 1110, 9, 1111, 345, 1112, 62, 20], [2211, 1349, 1593, 325, 370, 633, 71, 2212, 532], [92, 28, 14, 2, 24, 4, 189, 398, 3, 110, 128], [2917, 975, 4209, 385, 16, 9, 2, 85], [7, 155, 2213, 316, 2214], [1015, 15, 1016, 32, 10, 1017, 145, 903, 1018, 1019, 904, 591, 149, 251, 54, 26, 2215, 360, 34, 6, 138, 4, 791, 366, 6, 7, 4, 190], [18, 53, 93, 144, 1, 2, 61, 12, 13], [742, 2918, 4210], [7, 155, 625, 626, 1040], [88, 8, 648, 6, 833, 551, 4211], [855, 8, 1206, 335, 95, 3, 739, 19], [11, 2659, 525, 2660, 14, 1961, 1239, 3, 183, 687, 8, 102, 1141, 223, 1, 2661], [286, 523, 40, 8, 81, 262, 49, 1515, 4, 535], [2, 4212, 1, 5, 378, 4213, 1083, 6, 2, 4214, 2216, 2919], [7, 4215, 716, 779, 672], [2107, 162, 331], [18, 7, 1430, 25, 219, 6, 603, 4, 42, 6, 180, 101, 1, 133, 351, 60, 113, 12, 13], [7, 9, 2, 19], [695, 114, 459, 247, 23], [80, 193, 203, 95], [613, 572, 92, 1509, 132, 2217, 33, 115, 60, 2920, 1362, 297, 381, 73, 7, 1998, 326, 9, 2, 50, 353, 530, 38, 189, 1544, 2000, 33, 2921, 1091], [4216, 9, 43, 108, 5, 726, 1, 1383], [64, 10, 7, 26, 34, 39, 1172, 1, 25, 792], [10, 79, 4, 17, 4217, 8, 2, 204, 881, 1226, 1, 760, 606, 3, 1423, 1, 218, 227], [181, 399, 96, 622, 31, 274], [873, 5, 4218, 2872, 3, 239, 467, 309, 1196, 6, 5, 1254, 5, 2922, 8, 1906, 35, 57, 1754], [583, 4219, 1, 404], [7, 9, 1613, 1214, 375, 205, 62, 20], [797, 124], [1179, 485, 246, 628], [1750, 2895, 160, 1, 2, 159], [1276, 621, 263, 152, 287, 1069, 832, 194], [399, 19, 1281, 4, 730, 3, 19], [10, 7, 1, 4220], [88, 8, 109, 6, 2218, 22, 3, 133, 19], [15, 136, 22, 1, 20], [274, 4, 1449, 3, 231, 176], [63, 76, 11, 2923, 69, 6, 791, 1467, 407], [282, 5, 98, 4, 84, 160, 5, 677, 163], [898, 306, 176, 1138], [11, 48, 3, 2, 59, 108, 2, 164, 102, 234, 3, 1954, 49, 55, 1, 2, 164], [875, 1, 107], [121, 4, 258, 2924, 36], [17, 51, 2065, 4, 16, 3, 2, 107], [273, 1448, 1450, 3, 508, 4221], [18, 10, 7, 2219, 5, 1472, 398], [17, 4222, 4223, 504], [4224, 2924, 1, 36], [12, 706, 29, 21, 9, 2925, 129], [15, 317, 120, 87, 81, 56, 6, 1727, 881, 424], [721, 697, 9, 435, 62, 402], [666, 91, 5, 214, 4225], [17, 2926, 1261, 3, 5, 616], [10, 15, 1577, 21, 120, 502, 4, 22, 37, 67, 1294, 8, 81, 295, 75, 120, 1], [2147, 1279, 4226], [4227, 2796, 868, 8, 4228], [434, 26, 46, 59, 1, 123, 772], [4229, 1408, 203, 1], [11, 29, 3, 2, 934, 128, 27], [18, 7, 48, 3, 2, 188, 4, 189, 3, 2, 39, 1290, 38, 1979, 1178, 811, 60, 4230, 60, 278, 1, 1846, 1020, 840, 105, 278, 1026, 6, 746, 60, 791], [710, 339, 17, 42, 6, 710, 4, 195, 1288, 21, 1256, 89], [817, 87, 2, 342], [44, 7, 185, 3, 5, 2427, 91, 2, 1862], [282, 1333, 674, 3, 2, 19, 6, 30, 103, 783, 4231, 6, 61, 587, 9, 2, 2184], [30, 1740, 1396, 4, 418, 234], [7, 26, 5, 110, 4, 51, 1523, 1, 2, 178], [71, 535, 296, 2314, 49, 268, 968], [236, 17, 57, 6, 341, 29, 9, 24, 4, 28], [658, 66, 605, 4232], [161, 10, 7, 565, 1, 222, 1052, 21, 4, 28, 9, 24], [397, 129, 570, 207, 55, 505, 127, 40, 162, 129], [1987, 114, 1618, 459], [1637, 9, 4233, 4234, 1242, 4235, 411], [63, 76, 143, 189, 9, 39, 349, 29, 21], [64, 434, 118, 3, 148, 26, 41, 734, 180, 4, 29, 9, 2735], [536, 2927, 74, 3, 1750, 1956], [23, 21, 8, 7, 2807, 6, 5, 102, 523], [143, 344, 725, 703], [45, 10, 2871, 1, 1607, 112, 2, 1343, 1, 4236, 228, 3, 124, 735], [2074, 3, 2220], [4237, 510, 298], [76, 374, 4, 553, 1165], [4238, 247], [677, 666, 3, 414], [2, 88, 8, 32, 1438, 2667, 899, 14, 1707, 14, 5, 4239, 2763, 1059, 2531, 1375, 4, 2, 297], [273, 2413, 3, 284, 1, 214, 162], [181, 367, 1527, 86], [64, 243, 7, 26, 34, 39, 807, 297, 426], [4240, 4241, 239, 846, 964], [18, 15, 22, 3, 2, 19, 12, 13], [1419, 1420], [1121], [415, 1300, 244, 1301, 9, 279], [322, 40, 8, 96, 215], [382, 3, 175, 1573], [4242, 223, 40, 275, 751, 74, 72, 123, 386, 281], [539, 3, 2, 281], [241, 668, 67, 54, 1004, 1131], [706, 4243], [18, 4244, 136, 6, 2, 1249, 17, 1, 2, 20, 108, 2, 4245], [45, 2, 4246, 26, 2, 716, 779, 4247, 3, 2, 124, 735, 212, 264, 4248, 26, 4249, 4250, 58, 4251], [88, 8, 32, 22, 163, 12, 13, 73, 32, 558, 192, 2342], [15, 182, 14, 179, 1, 113, 3, 320, 75, 335, 95, 1, 20], [12, 347, 5, 777, 4, 859, 57, 1, 2811, 186, 2, 55, 8, 230, 805], [10, 7, 2879, 25, 2880], [2306, 269, 143, 988, 4, 143, 1, 55], [302, 293, 1136, 3, 646, 4252], [99, 578, 584, 2, 142, 8, 2, 99], [100, 12, 347, 5, 52, 79, 22, 1, 2, 178, 1562, 2, 2553, 129], [2477, 2104, 120, 2928, 1175, 1598, 250], [15, 182, 14, 179, 1814, 2571, 3, 439, 59, 1, 113, 3, 320, 75, 335, 95, 1, 20], [230, 1113, 96, 2825, 574, 4253, 172], [2090, 1, 66, 9, 123], [2929, 1473, 325, 228], [124, 2177], [64, 10, 7, 234, 157, 101, 3, 5, 43, 6, 103, 257, 158, 217, 25, 3, 5, 419, 12, 13, 27], [30, 910, 1, 1402, 1403, 2023, 48, 4, 226, 836, 8, 1195, 175], [11, 146, 126, 9, 106], [580, 2930, 4254, 265, 3, 802, 349, 1065], [120, 298, 733], [18, 92, 57, 3, 2, 410, 4, 288, 4255, 356, 27], [40, 8, 526, 434, 33, 329], [7, 9, 2, 19], [301, 1557, 1496, 78, 415], [583, 1753, 4256, 415, 298], [1681, 4257, 3, 2931, 1, 1350, 343], [54, 6, 46, 84, 3, 2, 19, 12, 13, 27], [17, 3, 19, 182, 14, 179], [63, 76, 53, 451, 67, 90, 1201], [12, 13, 4258, 31, 80, 11, 75, 1468, 788], [576, 1653, 1669], [241, 47, 1, 2, 20], [706, 1904, 8, 125, 4259, 2878, 1], [32, 22, 4260, 163, 192, 624, 12, 13, 73, 32], [1708, 5, 10, 7, 1, 514, 189, 3, 34, 39, 16, 31, 2, 61], [1048, 1452, 95], [562, 1163, 3, 2, 19], [88, 8, 109, 317, 867, 3, 2, 410, 9, 123, 128, 27], [82, 344, 385, 4, 29, 9, 24], [1506, 53, 4261, 859, 1448, 58, 643, 1540, 4262], [2202, 373], [18, 7, 16, 3, 2, 343, 4, 48, 3, 110], [28, 63, 1241, 189, 14, 5, 360, 34, 39, 58, 4263, 14, 5, 1691, 6, 2, 64, 7, 1249, 8, 2, 223, 1458, 1187, 2, 1247, 4264, 2, 4265, 349, 212, 432, 9, 24], [45, 234, 8, 64, 425, 57, 108, 164, 4, 4266], [733, 8, 30, 32, 130, 527], [1682, 622, 171, 2, 368, 1075], [141, 114, 853, 215], [238, 507, 200], [238, 1464, 1156, 200], [157, 1, 454], [70, 30, 197, 174, 68, 36, 4, 444, 3, 74, 292, 233, 9, 43], [1614, 42, 2221, 1143, 9, 412, 23, 21, 12, 13], [92, 57, 9, 106, 4, 48, 3, 2, 59], [88, 8, 10, 32], [282, 63, 76, 73, 11, 264, 1520, 6, 746, 1, 71, 105, 175], [333, 4267, 3, 4268, 486], [2129, 121, 159, 4, 263], [10, 11, 1698, 6, 4269], [70, 5, 10, 457, 7, 93, 5, 307, 1562, 2, 2026, 129, 1, 2, 20, 18, 1195, 54, 26, 34, 39, 196, 508, 460, 4270], [1760, 1, 856, 31, 250], [18, 17, 42, 6, 454], [7, 905, 291, 593, 345, 906, 62, 20], [1687, 92, 396, 398, 3, 2, 154, 59, 530, 7, 344, 2932, 3, 2, 59, 38, 1, 2, 105, 4271, 1715, 3, 2, 2021, 10, 17, 6, 2933, 102, 219, 2697], [4272, 4273, 2934, 61, 133, 249], [4274, 75, 270, 1, 5, 2935, 696, 12, 13, 356, 27], [10, 7, 16, 463, 58, 1563], [490, 680, 25, 4275, 570], [230, 684, 115, 85], [82, 48, 3, 110, 3, 2, 19], [88, 8, 333, 42, 315, 1, 119], [17, 6, 2065], [943, 1571, 4276, 120, 1, 43, 103, 880], [777, 4, 859, 422, 715], [11, 16, 3, 2, 107, 1, 5, 402, 60, 20, 4277, 1, 183, 8, 191, 4278, 765, 4279], [818, 547], [364, 23, 122, 5, 10, 7, 26, 5, 360, 34], [70, 10, 63, 76, 11, 26, 360, 34, 39, 58, 358, 711], [7, 118, 9, 2, 19, 1, 5, 4280, 1458, 2, 231, 6, 25, 41, 39, 4, 139, 5, 672, 48, 6, 25, 581, 6, 4281], [10, 7, 150, 3, 2, 19, 12, 13], [64, 10, 7, 234, 157, 101, 3, 5, 43, 6, 103, 257, 158, 217, 25, 3, 5, 419, 12, 13], [23, 21, 8, 244, 4282, 4283], [45, 939, 1733, 5, 117, 2222, 33, 4284, 726, 1, 2199, 4285], [1718, 4286, 742], [7, 344, 1, 5, 2910, 1, 2, 97, 20, 101, 12, 13, 44, 490, 1, 5, 80, 348, 151, 839, 1, 25, 479, 16, 3, 5, 1436, 28, 4, 288, 207, 1, 5, 113, 2911], [5, 549, 1123, 3, 5, 1763, 135, 5, 1207, 1, 4287, 4288], [63, 7, 642, 3, 446, 85], [11, 2936, 1765, 1086, 3, 200, 78, 4289, 4290, 1, 94, 12, 13], [11, 156, 1025, 579], [11, 862, 1, 1631, 26, 80, 36, 547], [61, 882, 86, 37, 368, 299], [218, 227, 1514, 888, 1554, 35, 120, 14, 2, 999, 422, 2, 1257, 194], [10, 11, 2699, 6, 46, 2098, 1434, 272, 959, 443, 108, 2, 36], [10, 11, 4, 7, 1, 106, 60, 115, 212, 29, 37, 2, 1474, 11, 26, 439, 59, 75, 1466, 5, 1021, 40, 37, 2, 4291, 164], [7, 638, 693, 3, 593, 345, 906, 62, 20], [239, 964, 1778, 69, 21], [45, 38, 1637, 1, 828, 306, 29, 9, 24, 4, 48, 14, 5, 1183], [23, 122, 308, 388, 452, 6, 5, 4292, 8, 1245, 87, 301, 240, 4293], [165, 509, 6, 1054], [173, 8, 1111, 345, 1112, 62, 20], [165, 566, 2389], [776, 4294, 637, 31, 147], [82, 1186, 125, 33, 1479, 196, 5, 2021, 828, 1, 4295], [15, 246, 86, 57, 3, 2, 19, 12, 13], [45, 88, 8, 530, 782, 57, 676, 14, 2223, 4, 182, 14, 2, 2097, 216, 895, 25, 1093, 966], [53, 9, 575, 85, 260, 132], [30, 1766, 642, 1578, 3, 2, 274, 9, 1356, 19, 1, 2, 940, 1357, 134, 119], [286, 1062, 12, 13, 44, 346, 55, 43, 117, 111, 159], [935, 50, 31, 1779], [11, 42, 6, 136], [7, 50, 3, 5, 39], [191, 2138, 1236, 31, 2, 24], [658, 1103], [1780, 1060, 96], [2937, 2938, 878, 282, 313, 86, 1, 1900, 2224, 1, 2, 2225, 61, 36], [81, 262, 49, 268, 127], [38, 143, 182, 14, 245], [11, 47, 3, 19], [4296, 883, 4297, 33, 2, 4298], [70, 268, 4, 663, 149, 124, 440, 719, 543, 787, 264, 1107, 3, 34, 39, 8, 81, 296, 720, 6, 267, 124, 440], [54, 4, 167, 51, 4, 48], [1121], [665, 4299, 294, 806, 4, 827, 2013, 1193], [1781, 784, 1782, 888, 756, 120, 248, 1682, 528, 277, 58, 552, 4, 775, 14, 2595, 999], [15, 22, 3, 65, 2939, 477], [10, 4300, 11, 260, 2702, 135, 2, 472, 4, 29, 14, 2, 24, 23, 21, 83], [23, 21, 8, 587, 3, 2556, 437], [425, 434, 16, 3, 461, 26, 341, 4, 28], [147, 207, 127, 40, 44, 169, 2586, 274], [82, 979, 142, 438, 1, 183, 8, 629], [30, 648, 775, 78, 725, 2940, 201, 27], [83, 8, 359, 18, 109, 485, 3, 2941, 3, 2, 19, 12, 13], [701, 1179], [2534, 99, 169, 947, 1312, 1, 116, 36], [727, 97, 169], [1652, 1359, 4301, 3, 1055, 1546, 354, 12, 13], [80, 4, 1113, 394, 1611, 2, 24], [121, 96, 86, 1, 299], [237, 713, 4, 241], [4302, 4, 274, 9, 1939, 1305, 2942], [63, 76, 79, 405, 90, 65], [64, 10, 7, 234, 157, 101, 3, 5, 43, 6, 103, 257, 158, 217, 25, 3, 5, 419, 12, 13], [11, 2790, 2791, 46, 757, 1, 1492, 1279], [81, 1339, 1553, 31, 10, 931, 7, 226, 690], [12, 2388, 392, 702, 33, 258, 65], [88, 8, 1252], [4303, 127, 8, 2226, 275, 3, 4304, 4305, 1, 4306, 286, 523], [161, 28, 10, 7, 1, 4307, 348], [2943, 11, 16, 1, 2, 178], [218, 227, 878, 754, 4308, 8, 5, 4309, 1057, 2087, 199, 3, 2944, 180, 4310, 704, 4311, 8, 2679, 4, 4312, 1438, 2076, 353, 1, 517, 973, 533, 4313, 31, 2088, 2089], [90, 4314, 335, 3, 1573], [143, 3, 46, 439, 59], [10, 7, 35, 151, 21, 25, 339], [15, 57, 3, 2, 19, 4, 4315, 460], [82, 50, 2945, 3, 5, 266, 4, 260, 1531, 1079, 31, 4316], [236, 10, 7, 16, 3, 148, 6, 41, 4, 154, 59, 4, 28], [4317, 4318, 168, 6, 4319, 250], [251, 707, 2, 289, 1, 276, 306], [11, 150, 3, 2, 19, 4, 28, 14, 2, 24, 12, 13], [7, 16, 1, 2, 72, 106, 4, 182, 179], [200, 33, 65, 1936, 14, 32, 407, 2569, 5, 714, 1444, 65, 2128, 2, 4320, 168, 1, 475, 415, 6, 2, 2205, 459, 1, 2, 55], [138, 4, 54, 1, 2, 1240, 212, 985, 6, 36], [1633, 1634, 2946, 4321], [722, 700, 4322, 91, 428, 2103], [2785, 2786, 96, 2145, 2787], [930, 700, 6, 97, 1986], [5, 44, 139, 348, 4, 688, 58, 24], [1610, 73, 38, 9, 177, 16, 9, 50, 353, 6, 239, 1084, 4, 1945, 18, 28, 92, 48, 6, 746, 60, 791, 6, 391, 3, 25, 44, 10, 142, 811, 2605], [168, 36, 2947], [89, 3, 142, 8, 11, 4323, 2058], [457, 7, 182, 14, 179, 4, 2465, 4324], [53, 22, 67, 136, 3, 5, 4325, 403, 329, 5, 908, 61, 9, 43, 1667, 186, 2, 2806, 594, 159], [12, 13, 1421, 641, 3, 116], [10, 38, 2948, 1030, 1031, 136, 3, 2, 19, 9, 104, 12, 13], [4326, 4327], [1384, 858, 10, 7, 1108, 3, 4328], [224, 192, 47, 3, 5, 389, 74, 89, 7, 220, 104, 495, 316, 520, 137, 12, 13, 202], [384, 21, 175, 135, 124], [12, 13, 8, 607, 32, 57, 170, 108, 2, 111, 871, 4, 93, 144, 3, 2, 1103], [7, 380, 1, 2, 573], [10, 15, 391, 6, 728, 6, 81, 193, 1271, 58, 67, 81, 295], [45, 475, 174, 2198, 33, 1539, 411], [399, 96, 86, 130, 299], [2949, 3, 1106, 203, 95], [82, 57, 1, 5, 106, 6, 5, 41], [161, 10, 7, 16, 9, 106, 26, 341, 29, 9, 24, 4, 1865], [70, 5, 11, 277, 58, 270, 1, 2, 327, 221, 206, 723, 528, 3, 2950, 660, 11, 22, 3, 1117, 1, 55], [466, 57, 2951, 196, 1475, 9, 435, 62, 402], [721, 1262, 1783, 1475, 9, 435, 62, 402], [23, 122, 32, 4329, 256, 6, 452, 4, 51, 4330, 6, 438, 958], [98, 4, 167, 160, 677, 3, 323, 77, 9, 43, 100, 27], [127, 4331, 78, 2226, 1510, 830], [1493, 1494, 797, 2841, 204, 2952], [237, 206, 3, 67, 4332, 90, 1896], [54, 4333, 1196, 25, 953, 132], [4334, 1714, 58, 132, 1, 2, 667], [61, 882, 86, 130, 368, 299], [82, 6, 479, 28], [131, 529, 4335, 689], [236, 10, 7, 400, 1, 378, 16, 9, 85, 26, 41, 28, 9], [30, 302, 1275, 1136, 3, 971, 3, 214, 437], [1495, 2726, 50, 1, 2, 94, 8, 609, 367, 416], [953, 8, 76, 1615, 509, 203, 95], [456, 69, 429, 508, 1124, 622, 1, 2, 36], [282, 5, 7, 26, 5, 360, 34, 1, 5, 94], [30, 487, 32, 267, 4, 1433, 76, 93, 5, 1233, 2099, 586, 72, 6, 2953, 8, 125, 1, 847, 296, 55], [1233, 8, 82, 9, 2, 85], [32, 22, 1, 376], [166, 63, 11, 1326, 5, 640, 213, 186, 5, 102, 55], [708, 108, 2, 86, 211, 3, 2, 55, 8, 2, 1687, 231, 2650], [4336, 95, 877, 1, 497], [17, 3, 655, 511, 2954, 4337, 95, 164], [2227, 29, 78, 124, 1107], [88, 8, 32, 47, 3, 2, 19, 12, 13], [4338, 597, 1, 483], [10, 7, 22, 37, 166, 1099, 1, 541], [23, 21, 8, 5, 709, 309, 4339, 14, 5, 4340], [23, 21, 8, 472, 4341, 194, 5, 1573], [2211, 1349, 1593, 325, 370, 633, 71, 2212, 532], [857, 23, 21, 523, 2194, 12, 13, 10, 7, 35, 451, 4, 734, 25, 44, 523], [11, 93, 1247, 6, 405, 46, 81, 727], [15, 1128, 3, 117], [90, 408, 31, 2, 331], [38, 380, 1, 748, 378, 752, 1747], [10, 7, 9, 105, 16, 9, 1084, 26, 41, 4, 28, 9, 24], [7, 1599, 50, 3, 41, 4, 68, 2955, 1, 2, 72, 106], [11, 2228, 60, 4342, 9, 43, 3, 5, 908, 231, 186, 5, 1878, 1879, 328, 159, 6, 32, 3, 5, 403, 1, 2, 497], [11, 1, 348, 226, 1784, 3, 2, 19], [70, 30, 1110, 9, 1111, 345, 1112, 62, 20], [165, 1976, 1977], [17, 1228, 14, 379, 773, 272, 3, 2193, 9, 104, 23, 21, 27], [500, 78, 351, 129, 570, 207, 55, 505, 127, 40], [583, 1, 450, 865, 404], [70, 268, 4, 663, 6, 149, 124, 440, 719, 543, 787, 264, 121, 1422, 8, 81, 296, 720, 6, 267, 124, 440, 9, 43], [282, 5, 10, 7, 16, 1, 2, 61, 1, 4343, 1696, 4, 146, 5, 198], [102, 53, 163, 4344, 90, 879], [4345, 774, 88, 8, 191, 425, 269, 124, 1014, 6, 997, 4346, 22, 3, 281, 2904], [2907, 3, 5, 2204, 1500, 2908, 31, 5, 271, 75, 22, 3, 5, 582], [837, 153, 561, 649, 3, 2, 85, 12, 13, 187, 4, 838, 464, 132, 464, 3, 2, 111, 94, 55], [45, 475, 79, 229, 33, 65, 14, 65], [898, 306, 176, 474, 1138, 176, 363], [726, 65, 1, 66, 393], [45, 406, 2, 169, 33, 4347, 2186, 4348, 4349], [52, 79, 42, 545, 653, 4, 93, 144, 11, 16, 108, 31], [2956, 1, 2, 1170], [755, 400, 835, 1, 330, 15, 93, 144, 163, 1, 77, 100, 27], [127, 4350, 574, 81, 262, 2957, 175], [28, 15, 42, 5, 546, 8, 2898, 75, 16, 9, 5, 85, 288, 5, 670], [4351, 71, 105, 957, 4, 30, 32, 22, 3, 5, 844, 1378], [1642, 239, 846, 964, 379], [553, 1829], [580, 4352, 4353, 135, 65, 200], [7, 6, 1460, 57, 3, 2, 19, 12, 13, 27], [1358, 2229, 219, 4, 28, 9, 24], [11, 1522, 24, 4, 1685, 46, 1100, 1053, 33, 135, 46, 1325], [10, 92, 6, 188, 1, 2, 105, 509, 128, 27], [12, 13, 641, 160, 37, 284, 159], [168, 169], [103, 257, 37, 162], [83, 8, 191, 997, 29, 92, 6, 4354], [896, 785, 311, 2037, 31, 7, 1, 2767, 412], [18, 7, 16, 3, 2, 343, 4, 182, 179, 3, 34], [5, 11, 534, 78, 46, 725, 4355, 23, 21], [102, 11, 47, 3, 5, 632, 1, 12, 13], [1205, 50, 3, 631, 1, 569, 353], [238, 11, 365, 9, 43], [7, 155, 625, 626, 1040], [131, 312], [10, 38, 2948, 1030, 1031, 136, 3, 2, 19, 9, 104, 12, 13], [387, 54, 84, 4, 713, 31, 2, 331, 1, 2, 1267, 79, 561, 1850, 87, 2, 331, 54, 2230], [66, 74, 223, 275, 72, 208, 169, 1642], [99, 578, 1457, 2, 322, 8, 166, 4356, 8, 172], [18, 1442, 11, 47, 171, 2, 19], [18, 82, 9, 56], [806, 124, 171, 381, 74], [40, 8, 377, 96, 1, 168], [488, 935, 555, 2007, 633], [1628, 6, 473, 1734, 1166, 14, 1409, 3, 908, 116], [92, 16, 1, 2, 178, 4, 50, 3, 41], [10, 457, 7, 26, 34, 39, 31, 2, 164, 9, 56, 349, 235, 112, 180, 248, 1396, 918, 4, 29, 9, 199, 49], [89, 8, 2958, 525, 869, 9, 123], [4357, 8, 96, 86, 108, 604], [7, 146, 126, 9, 106], [10, 64, 7, 400, 1, 80, 482, 35, 47, 37, 5, 1250, 77, 808, 18, 4, 319, 12, 13, 202], [92, 6, 34, 39, 1, 2, 105], [18, 10, 237, 42, 213, 6, 5, 84, 1, 61, 309, 23, 14, 437], [1873, 979, 1609, 1053, 3, 456, 142, 9, 445, 801, 364, 2231], [64, 243, 7, 26, 34, 39, 807, 297, 426], [4358, 2024, 371, 4359, 1, 1239, 2959], [620, 3, 2960, 1261, 857, 27], [141, 4360, 4361], [92, 50, 3, 34, 4, 1098, 1, 5, 1406], [18, 10, 15, 26, 1375, 3, 515, 499, 6, 136, 4, 1208], [157, 130, 2961, 213], [124, 278, 1345, 2962], [28, 149, 7, 208, 83, 657], [224, 7, 47, 1, 20, 826, 101, 100, 1662, 139, 220, 1663, 1664, 75, 270, 1, 2, 20, 12, 13, 644, 423], [54, 98, 4, 84, 16, 3, 1281, 3, 19, 9, 43, 2232, 216, 385, 1, 2, 497, 79, 418, 237], [576, 95, 175], [897, 1486, 23, 21, 8, 5, 1990, 1992, 804, 1010], [2233, 74, 817, 134, 203], [10, 4362, 17, 35, 16, 3, 5, 266, 108, 2, 61, 89, 83], [92, 16, 1, 183, 8, 71, 175, 4, 463], [23, 122, 5, 681, 1120, 125, 1245, 4, 349, 112, 180], [12, 13, 47, 7, 224, 35, 150, 1, 133, 158, 204, 38, 220, 300, 270, 126, 1, 2, 49, 3, 5, 991, 303, 254, 202], [908, 355, 7, 26, 34], [116, 416, 650, 2234, 36, 207, 55, 127, 40, 500, 78], [4363, 99, 203, 1], [70, 30, 1110, 9, 1111, 345, 1112, 62, 20], [83, 8, 2, 79, 42, 1, 2, 1441], [11, 3, 2235, 701, 6, 109, 195], [2963, 16, 3, 1763], [7, 1648, 2781, 78, 25, 338], [18, 11, 16, 3, 2, 410, 6, 34, 39], [7, 195, 4, 189, 3, 34], [1980, 8, 533, 942, 913, 408, 3, 1173], [365, 250, 9, 856], [17, 16, 1, 2, 20, 3, 2, 266, 4, 146, 198], [225, 8, 96, 1062], [939, 1, 375, 205, 62, 20], [4364, 2861, 3, 166, 4365], [98, 4, 167, 160, 677, 3, 323, 77, 9, 43, 100, 27], [721, 697, 9, 435, 62, 402], [286, 160, 598, 230, 409], [4366, 1, 105, 26, 34, 4, 48], [873, 5, 616, 6, 4367, 4368, 4, 866, 3, 2, 85, 38, 153, 35, 2126, 1024, 78, 2, 132, 4, 112, 369, 3, 2, 188], [10, 64, 7, 400, 1, 80, 482, 35, 47, 37, 5, 1250, 77, 808, 18, 4, 319, 12, 13, 202], [141, 114, 614, 1779, 284], [11, 4369, 3, 654, 1074], [1073, 15, 9, 375, 205, 62, 20], [18, 15, 292, 3, 5, 294, 74, 233, 806, 100, 27], [778, 1, 66, 393, 4, 917], [224, 192, 47, 3, 5, 389, 74, 89, 7, 220, 104, 495, 316, 520, 137, 12, 13, 202], [1000, 8, 336, 1274, 1, 337], [621, 2206, 6, 4370, 263, 8, 621], [64, 71, 73, 7, 1, 56, 105, 26, 34, 39], [2303, 498, 203, 1], [2882, 1, 113, 745, 9, 43], [2482, 516], [255, 84, 47, 37, 361, 77, 3, 67, 215], [169, 43, 600, 117, 173], [366, 4371, 25, 84, 1, 115], [23, 21, 1657, 1, 336, 337], [4372, 4373, 4374], [63, 76, 11, 68, 328, 321, 1, 71, 254, 94], [7, 429, 97, 710, 135, 560, 36, 12, 13], [2236, 8, 1104], [1718, 11, 2002, 1, 168, 1, 2535], [310, 189, 2964, 1715, 3, 34], [4375, 1940, 2965, 2966, 849, 9, 111, 374], [181, 541, 589, 1, 4376], [533, 942, 4377, 4378, 408, 31, 738, 1, 208], [44, 63, 76, 7, 3, 5, 34], [4379, 8, 1255, 1279], [88, 8, 1252], [44, 17, 22, 1, 2, 61, 12, 13], [11, 229, 37, 1473, 325, 228], [136, 16, 3, 2032], [7, 1376, 417, 6, 239, 681, 4, 1176, 4380, 4381, 12, 13, 27], [997, 10, 11, 16, 9, 85, 146, 963, 29, 9, 24, 4], [15, 185, 923, 37, 65, 304, 477], [92, 3, 41, 9, 56], [415, 1300, 244, 2843, 87, 4382], [30, 161, 251, 9, 20, 544, 949, 4, 28, 9, 24], [1830, 157], [131, 312], [949, 86, 3, 36, 108, 117], [10, 11, 4, 7, 48, 4, 68, 659, 60, 125, 75, 901, 31, 244, 1, 2, 199], [734, 2, 992, 6, 96], [2814, 265, 3, 172, 1, 1046, 2815, 108], [269, 4, 38, 273, 1, 77], [64, 10, 11, 16, 3, 148, 26, 110, 4, 51, 710], [63, 76, 11, 26, 34, 39, 58, 718], [698, 699, 56, 576], [1950, 160, 78, 162, 1, 252], [124, 382, 455], [837, 153, 277, 649, 3, 2, 85, 14, 548, 980, 12, 13, 187, 4, 838, 464, 132, 464, 3, 2, 111, 94, 55], [613, 572, 69, 38, 189, 3, 2, 41, 71, 1251, 4, 240, 6, 328, 321, 3, 2, 239, 85, 251, 603, 6, 611, 1635, 3, 2, 1114], [45, 15, 93, 904, 1247, 4383, 67], [12, 13, 70, 109, 60, 53, 6, 2967, 2677, 3, 2, 19, 9, 123, 1656, 184], [2, 4384, 17, 550, 1, 106], [7, 9, 2, 211], [173, 8, 856, 1, 2237], [97, 169, 6, 36], [4385, 193, 576], [7, 377, 788, 1468], [977, 466, 63, 76, 1778], [69, 1454, 456, 142, 9, 445, 446, 364, 24], [225, 8, 96, 1, 2968], [54, 4, 25, 52, 84, 885, 95, 8, 4386, 4, 734, 240, 1294], [11, 1005, 452, 3, 49, 266], [2238, 44, 796, 7, 35, 68, 2225, 36, 33, 2, 579, 1335, 4387, 246, 47, 1, 252, 20, 4388, 831, 815, 33, 634, 816, 453, 441], [587, 429, 21, 3, 766, 284, 19], [161, 17, 140, 3, 148, 4, 26, 154, 59, 364, 24], [30, 10, 174, 42, 491], [528, 37, 1557, 1496], [2969, 937, 66], [1586, 4, 1701, 4389, 1, 63, 43], [5, 88, 8, 910, 9, 73, 407], [45, 5, 477, 4390, 685, 2, 4391, 8, 458, 2018, 313, 740, 40, 4392, 168, 152, 180, 4393, 685, 2, 4394, 60, 619, 793], [4395, 2180, 313, 3, 4396], [401, 553, 411, 203, 95], [11, 429, 4397, 135, 560, 36, 12, 13, 27], [38, 143, 421, 245, 201, 27], [7, 156, 154, 59, 1, 25, 153, 4, 26, 341], [1368, 4398, 4399], [562, 18, 138, 17, 101], [4400, 2118, 1043, 238, 17, 206, 864, 1, 2765, 2001], [52, 79, 47, 3, 2, 19, 12, 13], [201, 23, 122, 5, 7, 245, 309, 135, 1258, 4401, 1, 1437], [488, 935, 2408, 633], [359, 18, 10, 613, 1826, 109, 157, 3, 117, 1, 49, 9, 43, 1, 199, 6, 1130, 621, 1827, 296, 2094], [45, 313, 307, 685, 2, 19, 1, 2, 1823, 1824, 1825, 62, 20], [173, 2526, 290], [2970, 900, 194, 36], [555, 1249, 1, 66], [45, 4402, 548, 2971, 1, 36], [82, 112, 369, 31, 110, 3, 2, 19], [622, 37, 810, 287, 279], [333, 4403, 310, 3, 1076], [4404, 559, 616], [1872, 62, 20, 4405, 4406, 1463, 121, 1122], [131, 986], [4407, 587], [17, 1, 4408, 23, 21], [18, 744, 15, 22, 3, 19, 196, 104, 60, 2019], [636, 11, 16, 9, 85, 26, 341, 4, 28, 9, 24], [2, 899, 1456, 6, 1094, 142, 4, 2393, 1005, 36, 33, 2, 579], [733, 8, 11, 4, 7, 69, 2958, 3, 80, 55], [89, 4409, 142], [52, 149, 79, 386, 21, 90, 2121], [23, 122, 5, 2972, 309, 2973, 87, 190, 4410, 31, 46, 54, 854, 4411, 8, 973], [214, 49, 1011], [7, 118, 3, 2, 19, 12, 13, 27], [191, 73, 32, 48, 126, 3, 5, 20, 266], [298, 277, 58, 1081], [1557, 1, 263], [7, 155, 2663, 2082], [124, 278, 4412, 2369], [7, 979, 2239, 2240], [191, 1110, 1818, 1273, 1, 115, 6, 230, 805], [1411, 2036, 1, 153, 160, 248], [1780, 43, 78, 231, 1, 893], [130, 2, 193, 3, 5, 41], [89, 8, 79, 51, 769], [30, 10, 92, 16, 1, 326, 1770, 6, 41, 4, 395], [4413, 305, 306], [2241, 116, 44, 207, 798], [162, 129, 397, 129, 570, 207, 55, 505, 127, 40], [580, 1820, 3, 1489, 229, 171], [7, 277, 424, 9, 2, 94, 12, 13, 1329, 7, 187, 1330, 1331, 3, 2, 1047, 200, 1168, 197, 56, 1013, 1332], [18, 15, 1809, 1641, 493, 467, 33, 448, 2974, 1, 67, 81, 56, 4, 22, 87, 193], [11, 832, 5, 967, 4, 1310, 6, 24, 11], [45, 73, 32, 4414, 2975, 3, 5, 2223, 1, 5, 71, 4415, 105, 9, 123], [45, 595, 4416, 1, 71, 2976, 105, 9, 2, 1476, 39, 216, 385, 3, 468], [394, 57, 1, 99, 4417], [73, 32, 407, 4, 26, 532, 3, 2, 266, 1, 2, 49], [5, 763, 11, 2066, 5, 315, 213, 186, 5, 102, 55], [45, 5, 4418, 699, 175, 1, 4419, 35, 2977, 2978, 1, 111, 4, 80], [45, 10, 912, 595, 16, 4, 50, 9, 2, 41, 4, 1476, 39, 163, 1, 5, 71, 105], [1001, 116, 49, 2290, 165, 1490, 7, 4420], [7, 118, 3, 2, 19, 12, 13], [10, 15, 1, 2979, 453, 30, 346, 32, 209, 22, 1, 2, 252, 20, 156, 69, 418, 3, 5, 239, 117, 101], [636, 10, 7, 16, 9, 85, 26, 41, 29, 9, 24, 4, 2170], [2161, 51, 3, 231, 176], [333, 1, 225, 50, 3, 2980], [580, 1650, 1, 1221, 65, 6, 624, 95], [7, 51, 417, 1, 166, 283, 106, 23, 21, 3, 5, 4421, 453, 4422, 254, 10, 38, 51, 97, 759, 132, 4, 68, 125, 126, 115, 410], [1928, 40], [567, 1095, 1395, 9, 2, 274, 1, 961, 324, 134, 119], [519, 622, 21], [7, 429, 4423, 135, 560, 36, 12, 13], [23, 122, 5, 7, 1, 106, 68, 80, 357, 4, 26, 439, 59, 6, 1938], [236, 17, 6, 25, 366, 405, 2, 90, 65], [255, 98, 480, 84, 14, 2981, 2982, 6, 2983, 3, 2, 361, 77, 3, 67, 215], [2242, 12, 347, 709, 1246, 564, 21, 422, 2, 546], [4424, 388, 43, 184, 602], [364, 23, 122, 5, 10, 7, 118, 3, 5, 461], [64, 17, 16, 3, 176, 6, 41, 4, 68, 321], [732, 51, 107, 676, 14, 2, 74, 4, 350, 35, 586, 2, 74, 1, 372, 62, 20, 134, 119], [1225, 261, 16, 1, 409, 29, 130], [406, 375, 205, 62, 20, 492, 753, 78, 458], [54, 6, 25, 84, 42, 3, 2, 19, 12, 13], [27, 8, 1246, 69, 156, 491], [393, 1199], [66, 74, 2984], [103, 4425, 3, 36], [810, 287, 279, 3, 639, 4426], [1205, 6, 2985, 16, 1, 2, 115, 100, 27], [605, 4427, 248, 2, 4428, 8, 507], [10, 782, 151, 1224, 60, 1093, 1, 573], [79, 812, 360, 34, 9, 123], [70, 268, 4, 663, 149, 124, 440, 719, 543, 787, 264, 1107, 3, 34, 39, 8, 81, 296, 720, 6, 267], [54, 892, 447, 4, 1675, 3, 1469], [10, 15, 2096, 5, 198, 1704, 1, 448, 81, 295], [103, 1248, 78, 2243, 158, 342], [64, 10, 7, 140, 3, 148, 26, 2986, 4429, 4, 29, 9, 2231], [11, 451, 992, 4, 1730, 868], [442, 99, 982, 32, 28, 1, 5, 162], [19, 10, 17, 112, 289, 6, 188], [268, 968, 49, 768, 71, 957, 535, 127, 40], [218, 227, 921, 290, 8, 4430, 4, 2723, 9, 810, 1984, 2203, 1159, 9, 1160, 1161], [54, 35, 42, 6, 25, 190, 167, 101, 12, 13, 10, 366, 4, 25, 161, 52, 190, 17, 209, 93, 144, 1, 2, 133, 178, 18, 506, 4, 1908, 137, 10, 53], [30, 814, 50, 3, 41, 4, 4431, 2116, 58, 668], [208, 4, 66], [204, 121, 96, 377], [54, 4, 167, 6, 866, 1, 207, 212, 51, 4432], [12, 201, 8, 5, 2417, 3, 5, 47, 1957], [1646, 4, 1855, 117], [897, 554, 5, 10, 7, 396, 1, 5, 476], [131, 312], [1055, 17, 47, 248, 1, 2, 178], [4433, 92, 48, 3, 110, 2772, 2, 175, 128, 27], [2, 271, 4434, 31, 5, 757, 2, 2875, 6, 2, 4435, 1091, 1, 2, 430, 59], [406, 99, 116], [280, 267, 7, 29, 9, 41, 1127, 385, 10, 149, 17, 530, 595, 177, 6, 39, 834, 780, 17, 253, 3, 468, 1478, 38, 1315, 4436, 1649, 4437, 1178], [1116, 206, 3, 465, 4, 2244], [7, 260, 2813, 1751, 31, 143, 201], [1062, 8, 286, 2401, 1760, 346, 43, 117, 116, 650, 12, 13], [201, 37, 594, 2731], [10, 7, 156, 5, 293, 3, 1417, 4438, 8, 2, 1852, 1197, 8, 525, 612, 4, 2987], [136, 390, 170, 671, 213], [136, 6, 4439, 545], [756, 309, 1033, 58, 5, 552, 6, 382, 4, 539, 130], [225, 1864], [10, 280, 1, 5, 4440, 57, 3, 2, 183, 1541, 17, 146, 5, 198], [69, 277, 1198], [64, 102, 7, 2175, 12, 13], [127, 8, 158, 104, 3, 19], [282, 5, 10, 7, 26, 5, 360, 34, 1, 5, 94], [30, 2127, 51, 1124, 1, 2, 343, 959, 5, 640, 8, 1124], [4441, 842], [1227, 455, 3, 49, 72], [29, 21, 9, 230, 96, 225, 86, 108, 604], [82, 711, 4442], [1889, 2655, 1322, 639], [43, 37, 609, 242], [30, 1600, 6, 953, 1, 2, 77, 333, 51, 1124], [4443, 332, 1352], [44, 10, 7, 206, 1203, 3, 339, 1, 56, 1505], [53, 9, 653, 1145, 163], [1556, 1516, 1603, 2160, 4444, 4445], [103, 4446, 37, 129, 3, 239, 933], [4447, 1398, 1720, 1721, 2502], [1276, 298, 9, 510, 384, 40], [124, 382, 9, 177], [15, 22, 3, 244, 738], [7, 155, 2988, 1040], [23, 21, 11, 69, 4448, 80, 223, 1, 1135], [15, 182, 14, 179, 1, 113, 6, 103, 423, 3, 320, 75, 335, 95, 1, 20], [131, 986], [70, 63, 76, 73, 11, 6, 41, 311, 46, 766, 284, 125, 152, 221, 35, 618, 14, 177, 60, 165, 1, 5, 71, 49, 72, 9, 104], [599, 8, 125, 3, 2, 85, 4, 2, 434, 344, 385], [10, 64, 7, 400, 1, 80, 482, 35, 47, 37, 5, 1250, 77, 808, 18, 4, 319, 12, 13, 202], [30, 1252, 883], [61, 882, 51, 1, 368, 299], [18, 53, 57, 3, 2, 19, 12, 13], [28, 92, 6, 41, 1, 2, 105, 509, 128, 27], [18, 145, 48, 4, 954, 482, 33, 2, 2989], [32, 260, 194, 415, 1300, 244], [381, 214, 72], [1063, 466, 2773], [10, 7, 68, 125, 1, 2, 2353, 101], [69, 2819, 925, 1988], [10, 280, 6, 5, 41, 29, 9, 24, 4, 28], [4449, 52, 17, 259], [143, 344, 725, 703], [793, 3, 4450, 99], [4451, 4, 1703, 65, 470], [69, 156, 5, 549], [567, 1327, 72], [89, 83, 17, 182, 179, 1, 320, 4, 1145, 5, 2344, 4452], [861, 1218, 11, 29, 14, 2, 24, 1, 2, 20, 23, 21, 83], [2479, 559, 278], [15, 22, 1, 5, 77, 4, 156, 69, 9, 43], [11, 146, 5, 198], [167, 2990, 54, 242], [1480, 4453, 46, 2991, 14, 2, 138], [99, 982, 38, 3, 4454, 632], [138, 259, 1, 2, 77, 17, 29, 9, 2, 24, 742, 35, 160], [1073, 1162, 375, 205, 62, 20], [582, 290, 8, 376, 253, 1369], [2190, 439, 59, 4455, 6, 5, 1911, 1440, 1, 2075, 69, 137, 4456, 1195, 4457, 2975, 4, 2992, 1339, 4458], [10, 11, 6, 34, 39, 3, 117, 1, 2, 49, 9, 123], [4459, 655, 4460, 365, 403, 19, 144], [10, 7, 885, 14, 2, 2245, 711, 180, 463, 4, 1737, 2, 2539, 350, 1467, 180, 885], [1063, 466, 2853, 33, 217, 193, 4, 331, 1929, 4461, 473, 4462], [45, 7, 543, 22, 3, 5, 630, 156, 5, 34], [70, 5, 10, 88, 8, 891, 303, 800, 317, 6, 67, 294, 374, 4, 142, 232], [2312, 5, 11, 139, 5, 378, 22, 3, 5, 582, 4, 390, 5, 1500], [15, 22, 136, 753, 474], [1116, 206, 3, 102, 1051, 2244], [352, 1439, 10, 15, 140, 3, 2, 148, 9, 56, 7, 1, 320, 26, 41, 4, 93, 659, 75, 1442, 11, 50, 6, 34, 39], [487, 928, 8, 2, 929, 1548, 1, 760, 606, 607, 1341], [11, 1, 4463, 4464], [12, 13, 671, 2666, 2083], [1624, 65, 2237, 751], [45, 318, 1839, 242, 4465, 5, 40, 8, 32, 42, 3, 5, 116, 1501, 19, 9, 2993], [585, 1285, 102, 447, 586, 2, 281], [10, 11, 16, 3, 2, 19, 4, 146, 198], [527, 31, 2994, 116], [62, 162, 233, 1619], [10, 17, 35, 4466, 31, 5, 352, 762, 244], [40, 33, 2, 2246, 8, 5, 352, 225, 709, 595, 907, 21], [1878, 1081, 1440, 1, 415], [1708, 181, 4467, 6, 86, 211, 3, 113, 416], [12, 13, 70, 10, 11, 155, 4468, 1108, 3, 46, 581, 4469, 4470, 2297, 3, 49, 589, 3, 158, 113, 249], [43, 9, 61, 8, 2124], [10, 18, 255, 15, 680, 361, 413, 3, 67, 215, 6, 103, 880], [2, 433, 2995, 14, 4471, 9, 99, 322, 221, 1319, 4, 66, 4472, 6, 596, 4, 2143, 46, 69, 14, 2, 460], [18, 10, 11, 16, 314, 3, 46, 154, 1, 5, 772, 326, 60, 2996, 6, 5, 240, 8, 367, 708, 1, 46, 153], [10, 64, 7, 400, 1, 80, 482, 35, 47, 37, 5, 1250, 77, 808, 18, 4, 319, 12, 13, 202], [130, 2, 193, 3, 5, 41], [352, 1439, 5, 10, 32, 9, 56, 212, 140, 3, 2, 148, 4, 50, 6, 34, 39, 4, 41, 17, 216, 1173, 14, 11, 221, 4473, 180, 4, 494, 25, 5, 352, 4474], [64, 7, 421, 2, 184], [380, 1405, 1093, 1, 476, 58, 2025, 1340], [4475, 6, 1094, 142, 1696, 3, 2, 24], [4476, 223, 3, 331], [620, 3, 2960, 1261, 2, 4477, 330], [1948, 2997, 1, 399, 368], [576, 874], [7, 156, 431, 1, 69], [82, 48, 3, 2, 59, 195, 4, 29, 9, 24], [10, 54, 6, 25, 190, 1, 5, 4478, 35, 1737, 2, 2245, 9, 2, 729, 1785, 279], [960, 830, 2893, 987], [70, 268, 4, 663, 6, 149, 124, 440, 719, 543, 787, 264, 121, 1422, 8, 81, 296, 720, 6, 267, 124, 440, 9, 43], [1480, 550, 1800, 1801, 1481, 1, 1802, 3, 1266, 886], [2327, 43], [30, 92, 22, 21, 2538, 4, 48], [380, 752, 1747], [406, 191, 1786, 3, 498, 342, 281], [658, 519, 1215, 37, 388, 36], [2, 38, 383, 5, 1461, 1462, 1404, 1749, 4, 1435, 1787, 6, 414, 3, 5, 1234, 845, 58, 860, 4, 2166, 132, 2167], [1752, 596], [1575, 1187, 14, 245, 704, 2, 703, 1574], [352, 770, 4479], [942, 743, 14, 533, 2222, 490, 1, 1582], [30, 236, 109, 2549, 4480, 3, 247], [929, 185, 5, 181, 272, 1, 760, 606, 3, 1423, 1, 218, 227], [149, 7, 1547, 25, 219], [729, 665, 72, 923], [1431, 23, 21], [1486, 89, 8, 15, 185, 923, 3, 477], [10, 82, 150, 3, 2, 19, 12, 13], [102, 1077, 4481, 78, 172, 4482], [11, 28, 4, 51, 925], [64, 71, 73, 7, 1, 56, 105, 26, 34, 39], [2833, 246, 66, 750, 985], [15, 503, 769, 3, 563], [83, 28, 17, 140, 1, 2, 107, 4, 29, 9, 2, 24, 17, 1], [17, 1, 328, 504, 4483, 845, 4484, 14, 2, 61, 4, 35, 22, 248, 4485, 1, 619, 1342, 2068, 564, 43, 1313], [365, 250, 586, 116], [1157, 2440, 43, 947, 216, 30, 32, 826, 101], [28, 10, 7, 421, 95, 555, 4486], [30, 4487, 6, 5, 190], [12, 13, 47, 7, 224, 35, 150, 1, 133, 158, 204, 38, 220, 300, 270, 126, 1, 2, 49, 3, 5, 991, 303, 254, 202], [45, 1570, 95, 33, 5, 1521, 1, 2652, 1570, 95, 33, 1521], [218, 227, 2706, 4488, 476, 8, 369, 1058, 1, 2, 606, 8, 157, 1240, 2852, 4489, 1466, 2, 2992, 928, 29, 3, 2, 1173], [161, 7, 1385, 757, 6, 581], [1213, 8, 4490, 23, 21], [687, 40, 3, 11, 6, 2102, 8, 1227, 26, 34, 39, 14, 548, 941, 4491, 75, 4492, 1, 230, 486, 1, 183, 8, 4493, 4, 1005, 9, 1770], [742, 4494], [131, 986], [11, 22, 91, 74, 29, 58, 1100, 1, 2820], [89, 8, 759, 868, 309, 4495, 6, 2410, 4, 1254], [4496, 3, 2220], [64, 7, 4497, 25, 109, 9, 90], [52, 79, 51, 2247, 6, 537, 12, 13], [32, 22, 1, 4498, 541], [131, 986], [310, 2998, 4499, 3, 46, 4500, 4, 1167, 4501, 4502], [10, 7, 16, 9, 85, 6, 198, 4, 599, 8, 125], [615, 130, 2, 1209, 1, 489, 210, 62, 20, 134, 119], [588, 589, 737], [4503, 435, 2091, 1181, 4504], [4505, 4, 167, 288, 5, 690, 3, 34], [7, 48, 4, 68, 5, 627, 2755], [141, 114, 169, 232], [30, 251, 16, 1, 242, 4, 28], [12, 13, 47, 7, 224, 35, 150, 1, 133, 158, 204, 38, 220, 300, 270, 126, 1, 2, 49, 3, 5, 991, 303, 254], [64, 10, 7, 139, 256, 400, 1, 378, 57, 1, 183, 8], [926, 755, 400, 835, 1, 330, 15, 93, 144, 163, 1, 77, 100, 27], [258, 96, 86, 130, 594, 4, 258, 61, 2248], [2030, 4, 2999, 460, 14, 460, 3000], [434, 3001, 919, 9, 24], [715, 15, 229, 21, 656, 14, 715], [1931, 1565, 1932, 2512, 374, 451, 4506], [1811, 206, 95, 223, 331], [45, 166, 543, 48, 14, 2, 73, 32, 4, 216, 2, 927], [425, 434, 140, 3, 148, 182, 14, 179, 3, 154, 59, 4, 28, 5], [10, 11, 226, 562, 690, 3, 34, 39, 1, 2, 20], [1549, 9, 435, 62, 402], [89, 8, 96, 225, 86, 1, 1146, 36], [1775, 10, 7, 16, 2504], [1080, 500, 31, 965, 99, 1216], [15, 741, 1, 5, 1051, 1543, 185, 5, 1255, 3, 2, 74], [1116, 1366, 248, 386, 1798], [777, 4, 859, 16, 163, 3, 877, 656, 422, 715], [53, 42, 3, 19], [32, 16, 9, 115, 669], [1626, 1821, 4, 4507], [11, 1228, 4508, 546, 4, 1640, 213, 4509, 9, 854, 11, 1, 253, 349, 1042], [82, 1186, 87, 1, 2, 223], [10, 32, 3, 239, 635], [124, 278, 1345, 2962], [484, 1763, 2858, 225, 241], [427, 7, 433, 35, 22, 2617, 1, 147, 3, 5, 43, 6, 5, 257, 103, 7, 29, 170, 4, 711, 25, 2618, 109, 14, 2619, 21, 6, 25, 12, 13], [675, 118, 3, 172, 604], [38, 955, 4510, 305, 4511, 6, 1477, 38, 4512, 2, 2348, 3, 2, 125, 1245, 2802, 305, 125, 318, 670, 691, 4513, 2053, 1477], [427, 15, 3002, 3, 172, 1759, 205], [442, 5, 11, 4, 5, 7, 185, 679, 1, 2, 397], [37, 2, 164, 83, 8, 17, 151, 25, 1741, 2933], [23, 21, 3, 2912, 2913, 4, 2235, 4514, 3, 1058, 420], [698, 699, 721, 614], [478, 1796, 10, 425, 11, 16, 1, 951, 9, 56], [510, 9, 104], [488, 7, 2805], [53, 534, 9, 232], [53, 229, 37, 305, 524], [10, 273, 628, 4515, 54, 1068], [45, 2, 63, 380, 57, 3, 5, 630, 4, 26, 2, 34, 1344, 834, 27], [382, 48, 1, 4516, 600], [23, 21, 8, 11, 139, 111, 2783, 1925, 661, 87, 4517, 153, 196, 531, 661, 546, 1, 133, 77, 1, 4518], [1177, 1875, 1265, 919], [15, 565, 3, 1023], [252, 43, 6, 65], [61, 2248, 377], [12, 13, 4, 23, 122, 5, 10, 7, 260, 355, 2105, 334, 6, 4519, 8, 318, 1272, 1, 249, 446, 235, 118, 6, 924, 339], [519, 1, 483], [628, 4520, 248, 33, 623], [10, 7, 29, 58, 970, 1, 25, 439, 59, 196, 552], [567, 2163, 72], [231, 3003, 813, 587, 127], [82, 28, 14, 2, 24, 1, 2368, 348], [83, 8, 10, 18, 1134, 255, 15, 3, 448, 361, 215], [4521, 4522, 1, 166, 483, 3, 5, 121, 55], [23, 122, 1148, 318, 1471, 6, 438, 4, 3004, 1, 106, 60, 115, 7, 1120, 1471, 6, 681], [580, 4523, 624, 117, 4524, 168], [889, 36, 1, 5, 1804, 518, 441, 1, 12, 13, 387, 36, 889, 1, 5, 577, 3, 5, 102, 1126], [778, 324, 8, 40], [64, 243, 7, 26, 34, 39, 807, 297, 426], [10, 32, 16, 3, 239, 635], [7, 47, 1, 252, 20, 1, 12, 13], [1211, 1927, 66, 194, 74], [10, 11, 93, 59, 1233, 1, 2, 165, 1268, 164, 6, 43, 408, 4, 165, 674, 40, 1, 55], [2188, 1648, 194], [501, 52, 17, 140, 3, 2590, 1, 1180, 228, 182, 14, 179, 3, 4525], [23, 21, 8, 573, 1185, 4526, 4527, 8, 132, 1, 1744], [131, 4528, 4529, 689], [10, 38, 42, 4, 22, 827, 1, 147, 12, 13], [12, 13, 8, 10, 18, 237, 4, 52, 84, 2701, 199, 9, 56, 26, 34, 39, 138, 42, 75, 457, 366, 4, 2232, 226, 443], [61, 8, 2124, 37, 129, 9, 43], [2241, 116, 44, 207, 798], [322, 8, 2, 4530, 120], [1210, 5, 7, 4, 5, 11, 4531, 866], [23, 122, 456, 69, 151, 1645, 4532, 4533, 58, 1097, 3005, 980], [89, 83, 562, 17, 1413, 190, 304, 1, 1717], [10, 7, 2064, 654, 213, 87, 1772], [255, 98, 480, 84, 14, 2981, 2982, 6, 2983, 3, 2, 361, 77, 3, 67, 215], [11, 51, 4, 146, 3, 1541], [1623, 1510, 4534, 2249, 1, 2250, 2251], [366, 4, 190, 9, 2, 2205, 459, 4, 4535, 2942], [282, 5, 7, 151, 125, 1, 5, 94], [1672, 30, 174, 22, 171, 2, 301, 1876, 247, 93, 5, 1233, 4, 2187, 1164, 6, 1375, 668, 75, 156, 4536, 125, 2953], [11, 2154, 9, 44, 43, 470, 474], [4537, 1788, 30, 32, 150, 4, 68, 36, 33, 1034, 1893], [1666, 140, 3, 2, 19, 4, 7, 22, 1, 55, 128, 27], [45, 12, 13, 8, 17, 4538, 514, 109, 195, 1, 762, 2559], [52, 79, 6, 54, 42, 3, 2, 19], [4539, 1, 5, 404], [2209, 11], [976, 8, 2, 870, 9, 2, 1231, 8, 2, 1232], [2252, 3, 2, 117, 3, 43], [1705, 473, 4540, 21, 33, 647, 107, 2253, 574, 1779], [63, 76, 11, 26, 34, 39, 58, 718], [88, 8, 648, 407, 9, 496, 105], [92, 1, 5, 4541, 50, 3, 41], [1415, 4542], [23, 21, 8, 11, 22, 37, 66], [18, 53, 8, 191, 151, 5, 4543, 3, 2, 19, 3, 5, 158, 113, 249], [1253, 92, 68, 125, 126], [553, 228, 364, 40], [2643, 273, 1, 1769, 12, 13], [1106, 1317, 1, 231, 1, 665], [1559, 1099], [739, 458], [32, 22, 1, 66, 200], [103, 885, 37, 65, 1092], [83, 8, 44, 92, 499, 31, 2, 4544], [131, 529, 4545], [529, 247, 4546, 4547], [161, 261, 1286, 338, 3, 409, 1407], [501, 17, 16, 31, 164, 26, 341, 29, 9, 24, 4, 3006], [12, 13, 302, 293, 788, 58, 132], [63, 79, 277, 90, 386], [11, 1706, 91, 33, 230, 471, 469], [131, 529, 4548], [191, 313, 109, 4549, 100, 27], [53, 163, 344, 2, 1464, 14, 1308], [17, 902, 5, 198, 108, 164, 23, 21, 83, 6, 611, 204, 4, 4550], [280, 273, 538, 1450, 1, 1769], [5, 855, 8, 286, 1065, 78, 4, 574, 5, 630], [10, 7, 1, 1032, 51, 414, 4551, 3, 2, 19], [852, 3, 557], [636, 73, 7, 57, 1, 183, 8, 164, 4, 26, 4552], [30, 174, 4553, 628], [2150, 124], [218, 484, 1229, 42, 491, 1, 5, 49, 20, 9, 218, 351, 683, 1, 2028, 3, 484, 1, 218, 227], [89, 83, 195, 17, 2901, 5, 197, 321, 328, 339, 4554], [1428, 1244, 226, 225, 8, 96, 1689, 78, 299], [18, 10, 11, 47, 3007, 248, 3, 2, 19], [657, 33, 1651, 40, 8, 359, 109, 206, 67, 69, 350, 3, 660, 28, 4, 1396], [18, 7, 265, 1, 222, 4, 28], [286, 2376, 1, 1499, 65], [89, 8, 763, 11, 370, 46, 132], [15, 534, 9, 2428, 1, 305, 524], [200, 14, 2483, 11, 1213, 6, 374, 55], [1243, 1509, 804, 2131, 3008, 6, 1181], [18, 53, 98, 3009, 54, 909, 84, 3, 651], [131, 986], [10, 11, 150, 3, 2, 1078, 12, 13], [4555, 655, 19, 1180], [225, 610, 1248, 6, 522], [18, 17, 68, 537, 1049, 21], [7, 155, 1725, 316, 1, 327, 723, 228], [218, 227, 921, 1020, 1888, 4, 1183, 48, 3, 73, 9, 517, 922, 2203, 1159, 9, 1160, 1161], [12, 13, 4, 23, 122, 38, 153, 206, 4556, 1789, 980, 3, 2, 1260, 1234, 6, 556, 4557, 56, 1399, 4558], [1363, 2145, 86, 1, 166, 483], [71, 53, 1056, 2561], [23, 21, 33, 5, 1665, 57, 538, 1, 2, 770, 1, 372, 62, 20, 134, 119], [12, 13, 8, 2, 456, 153, 206, 3005, 980, 4559, 3, 2, 2640, 507], [2254, 42, 36], [287, 2991, 6, 639, 1, 2, 55], [594, 4, 1045, 263], [32, 22, 1, 66, 393], [70, 2390, 774, 73, 595, 48, 152, 212, 209, 3, 448, 1096, 14, 5, 766, 284, 407, 9, 104], [636, 17, 1, 672, 16, 3, 148, 26, 41, 68, 321, 4560], [310, 48, 3, 110, 4, 50, 3, 41, 9, 56], [737, 8, 376], [7, 189, 398, 3, 2200, 1114, 3, 2, 59, 75, 16, 1, 2, 106], [217, 40, 8, 15, 185, 923, 3, 477], [280, 4561, 1269, 4, 28, 23, 21], [18, 145, 29, 3, 188, 1, 2, 1654, 4, 314], [174, 16, 3, 1023, 4, 68, 452, 128, 27], [53, 3010, 305, 1964], [18, 7, 16, 3, 2, 343, 4, 288, 601], [18, 11, 3009, 533, 1, 2, 178, 3, 188], [450, 865, 1764, 404], [53, 534, 9, 230, 232], [513, 253, 33, 4562, 2849, 14, 394, 51, 107], [17, 283, 226, 5, 358, 1, 4563, 716, 779, 465, 2210, 469, 672], [102, 136, 217, 635], [141, 114, 697, 4564], [30, 10, 174, 4, 7, 157, 6, 179, 31, 2, 61, 18, 32, 182, 4565, 4566, 1, 320, 4, 260, 1442], [2868, 4567, 1, 326], [1790, 120, 245, 33, 350, 222, 14, 660], [615, 42], [240, 362, 1, 46, 1135, 151, 240, 2784, 1, 559, 1096], [45, 10, 774, 952, 16, 4, 50, 9, 2, 41, 163, 1, 5, 71, 105], [11, 862, 80, 36, 4568, 377, 24], [88, 265, 130, 527, 9, 962], [109, 455, 4, 822], [83, 8, 10, 18, 1134, 255, 15, 3, 448, 361, 215], [1470, 1, 2, 516, 9, 123, 298, 8, 32, 3, 1123, 664, 6, 181, 2823], [70, 30, 197, 174, 68, 36, 4, 444, 3, 74, 292, 233, 9, 43], [305, 524, 3011], [234, 8, 1054, 1, 2, 165, 390, 1144, 4, 1666, 4569, 6, 103, 880, 775, 37, 2, 164], [449, 955, 5, 592, 1620], [948, 7, 2172, 6, 25, 2583, 1555], [929, 96, 622, 31, 274, 4, 368], [359, 3012, 705, 3013], [949, 4570, 58, 96], [4571, 4, 4572, 8, 588, 589], [102, 136, 42, 6, 213], [253, 1369], [15, 3014, 14, 1214, 9, 874, 299, 62, 20], [52, 210, 57, 538, 1, 2, 770, 1, 372, 62, 20, 134, 119], [4573, 4574, 4575, 4576], [3015, 3, 1733, 1, 66], [10, 64, 92, 455, 3, 2, 154, 59, 6, 840, 391, 3, 2, 10, 44, 530, 142, 6, 611, 4577, 1203, 972, 3016, 355, 17, 28, 14, 2], [63, 76, 11, 26, 34, 39, 58, 718], [10, 11, 57, 1, 5, 106, 6, 5, 41, 4, 195], [623, 688, 3, 4578], [11, 47, 1, 12, 13, 6, 99, 1321], [38, 143, 4, 245, 3017, 201], [1073, 105, 1670], [88, 8, 648, 29, 9, 833, 551, 1, 496], [567, 208, 373], [203, 33, 124, 1997, 382, 184, 602], [30, 2127, 2674, 432, 9, 24, 212, 985, 1, 2, 343], [1297, 7, 265, 3, 656], [777, 4, 859, 163, 422, 67, 715], [45, 566, 254, 137, 8, 2, 10, 2255, 4579, 81, 4580], [44, 28, 17, 6, 1433, 1838], [926, 755, 400, 835, 1, 330, 15, 93, 144, 163, 1, 77, 100, 27], [381, 4581, 3, 1132, 249], [12, 13, 8, 5, 10, 457, 7, 1, 2234, 121, 504, 16, 3, 2, 2358, 9, 56, 4, 1396, 25, 918, 2589, 5, 190, 35, 5, 4582, 184], [23, 21, 8, 143, 421, 1645, 4583], [401, 3018, 11, 42, 4584, 1, 222, 8, 1713], [275, 363, 171, 2111, 637, 99, 74, 87, 162], [234, 8, 22, 32, 996, 12, 13, 88, 595], [442, 5, 11, 4, 5, 7, 185, 679, 1, 2, 397], [777, 4585, 25, 859], [70, 30, 197, 174, 444, 6, 292, 74, 233, 9, 43], [10, 7, 6, 34, 39, 9, 56], [2364, 541, 127], [7, 42, 2, 653], [81, 262, 768, 117, 4, 268, 127, 40], [71, 53, 1799, 1479], [15, 3014, 14, 1214, 9, 874, 299, 62, 20], [145, 994, 4, 47, 9, 104], [89, 8, 7, 308, 2816, 87, 332, 1712], [11, 1, 1745, 427, 37, 214, 162], [488, 1373, 4, 864], [234, 8, 22, 32, 12, 13, 595, 88, 254], [2256, 59, 1637, 1, 672, 9, 3019, 26, 4586, 39, 432], [27, 8, 2029, 8, 24, 4587, 31, 356], [38, 69, 6, 1254, 370, 508, 111, 1087, 100, 27], [92, 16, 1, 2, 94, 4, 51, 2887], [5, 763, 7, 502, 186, 5, 102, 55], [2045, 356, 53, 22, 91, 294, 74], [1684, 624, 22, 3, 2, 19, 352, 293, 12, 13], [1122, 4, 286, 1136, 3, 274, 31, 168], [10, 237, 4, 138, 93, 144, 196, 2, 552, 79, 42, 6, 507, 528, 4, 349, 6, 2670, 153, 54, 42, 6, 4588], [102, 2435, 3020, 58, 132, 3, 739, 1693], [12, 13, 1421, 641, 160, 78, 116], [12, 13, 8, 30, 109, 1673, 69, 246, 845, 316, 163, 595, 35, 4589, 3021, 5, 2657, 271], [873, 1454, 318, 1272, 140, 3, 2, 1088, 4590, 35, 652, 895], [1940, 4591, 2965, 2966, 9, 111, 374], [44, 10, 7, 1, 1032, 35, 28, 9, 24, 3, 2, 61, 19, 133, 113, 31, 2, 61, 12, 13, 202], [10, 7, 1, 348, 146, 198, 3, 2, 19], [15, 29, 87, 645, 1316, 339], [18, 53, 1059, 34, 16, 3, 2, 148, 9, 56, 52, 79, 2148, 25, 794, 4, 54, 54, 2148, 84, 1, 4592], [2236, 8, 1104, 51], [1684, 69, 260, 4593, 4, 1007, 58, 2196], [4594], [380, 1, 748, 378, 1, 1525], [54, 4, 167, 51, 414, 438, 3, 2, 403, 108, 2, 36, 432, 9, 2], [1015, 15, 1016, 32, 10, 1017, 145, 903, 1018, 1019, 904, 591, 149, 251, 54, 26, 2215, 360, 34, 6, 138, 4, 791, 366, 6, 7, 4, 190], [173, 4595, 259, 78, 2122, 65], [956, 268, 805], [384, 21, 3, 963, 2084, 2708, 141, 114, 1204, 23, 21], [96, 946, 1, 168], [427, 7, 1, 147, 540, 18, 7, 433, 35, 1457, 2, 324, 8, 25, 1738, 4, 57, 6, 69, 21, 1, 133, 205, 12, 13], [52, 615, 42, 130, 67, 237, 1, 372, 62, 20, 134, 119], [53, 405, 2, 90, 65], [10, 11, 1847, 491, 558], [11, 50, 33, 56, 1, 295], [45, 4596, 21, 33, 121, 414, 108, 2, 36, 8, 4597, 4598], [842, 1, 2, 36], [17, 182, 14, 179, 17, 35, 157, 75, 16, 135, 5, 65, 4, 432], [4599, 216, 1037, 4600, 4601, 14, 2, 522], [324, 8, 40, 52, 17, 35, 140, 3, 2, 107, 195, 4, 1777, 3, 5, 133, 249, 1, 2, 178, 12, 1191, 18, 506, 137], [1015, 15, 1016, 32, 10, 1017, 145, 903, 1018, 1019, 904, 591, 251, 7, 216, 330, 4602, 4603, 14, 791, 1, 222, 9, 56, 1278, 1579, 1740, 1, 792], [92, 50, 3, 41, 126, 2, 175, 128, 27], [273, 22, 37, 162], [273, 1752, 1, 2, 397], [45, 61, 1080, 2220, 3, 3022, 304, 1692, 4604, 152, 2, 3003, 1974, 95], [23, 122, 7, 26, 3023, 14, 1184, 892, 1097, 87, 599, 6, 659, 60, 125, 349, 235, 1120, 180, 21, 6, 681], [238, 63, 76, 11, 2257, 1517], [10, 18, 7, 35, 47, 4, 485, 31, 2, 24, 121, 159, 4, 97, 107, 3, 2, 55, 12, 13, 612, 4, 728, 137], [10, 7, 150, 3, 2, 19, 12, 13], [1767, 4, 1768, 42, 653], [310, 1085, 1455, 4, 146, 1090, 9, 56], [64, 243, 7, 182, 14, 179, 4, 1453, 3, 2749, 222], [10, 15, 1, 2979, 453, 30, 346, 32, 209, 22, 1, 2, 252, 20, 156, 69, 418, 3, 5, 239, 117, 101], [230, 2821, 1270, 78, 1075], [501, 17, 57, 959, 4605, 26, 341, 29, 9, 24, 4], [187, 1791, 44, 170, 204, 4606, 1367], [237, 3, 5, 307, 6, 67, 167], [2114, 78, 53, 9, 2226, 1510, 830], [70, 30, 197, 174, 444, 319, 809, 6, 292, 74, 233, 9, 43], [224, 192, 47, 3, 5, 389, 74, 89, 7, 220, 104, 495, 316, 520, 137, 12, 13, 202], [7, 22, 31, 2, 211], [88, 4607, 565, 1, 5, 776, 1209, 6, 2, 10, 350, 57, 21, 1, 1390, 1391, 20, 134, 119], [11, 68, 452, 4, 140, 1, 2, 1406], [7, 429, 1087, 135, 560, 36, 12, 13], [818, 1583, 90, 691], [7, 226, 690, 3, 461, 75, 51, 1905], [2013, 246, 47, 628], [83, 8, 5, 10, 267, 82, 139, 5, 1289, 1089, 1113, 378, 1758, 75, 850, 5, 1198, 101], [43, 285, 123, 2817, 159, 173], [11, 383, 654, 213, 87, 1772], [1073, 11, 1192, 194, 3, 654, 1074, 6, 43, 4, 111, 172, 458], [666, 37, 2, 129], [2252, 289, 117], [7, 429, 1523, 135, 560, 36, 12, 13], [11, 1, 80, 1607, 270, 625, 626, 4608, 538, 58, 2580, 270, 4, 1382, 860, 4609], [363, 8, 192, 22, 75, 139, 4610], [851, 73, 11, 2551, 46, 2552, 422, 5, 2006, 1, 2, 49, 100, 27], [165, 1268], [368, 120, 6, 2, 36], [70, 10, 237, 4, 52, 84, 42, 709, 3, 2, 19, 9, 43, 283, 1636, 6, 138], [2, 2566, 2014, 1398, 2567, 2568, 4611], [30, 251, 209, 51, 80, 1431, 2070], [30, 10, 251, 150, 1, 113, 20, 12, 13, 356, 27], [52, 190, 1596, 14, 307, 12, 13, 54, 35, 480, 25, 138, 14, 707, 2, 854, 656, 3, 5, 97, 107, 1, 113, 23, 21, 3, 192, 18, 920, 4, 506, 137], [818, 1583, 90, 691], [131, 312], [10, 7, 6, 1460, 3024, 1, 2, 605, 31, 2, 61], [478, 7, 1, 111, 2941, 16, 31, 2, 86, 211, 384, 21, 91], [285, 169, 1556, 1199, 996, 173], [12, 13, 8, 876, 11, 50, 3, 1169, 420, 781, 325, 1, 220, 306, 260, 3025, 112, 4612], [679, 1688, 126, 2, 1625, 244, 279, 1, 3026, 3027, 3028], [10, 11, 118, 3, 148, 26, 110, 4, 28, 364, 24], [120, 2729, 171, 971, 4613], [387, 30, 64, 10, 7, 724, 4, 243, 146, 5, 34, 914, 28, 152, 212, 432, 9, 718, 60, 970, 3, 2, 468], [63, 76, 53, 451, 67, 90, 1201], [381, 214, 72], [2101, 8, 1765, 129], [45, 10, 18, 79, 3, 239, 849, 871, 6, 181, 136], [18, 7, 29, 3, 2, 482, 1, 2, 555, 4, 48, 3, 110], [2929, 1473, 325, 228], [44, 674, 8, 19, 1, 4614, 173, 108, 2, 2234, 1370, 8, 2575, 2576, 4615, 938, 1887, 3029], [1225, 261, 4616, 4, 2069, 1661], [17, 2011, 2, 90, 65], [7, 155, 2485, 2082, 1, 5, 327], [1060, 96, 1, 299], [500, 365, 168, 66, 393, 4617], [131, 529, 2846, 689], [17, 140, 3, 97, 343, 4, 426, 3, 34], [10, 11, 16, 1, 2, 94, 6, 34, 39], [36, 9, 2, 3030, 8, 252, 342, 1, 4618], [52, 2516, 6, 864], [7, 1709, 1, 2, 49, 20, 9, 113, 284], [4619, 893, 250, 2201, 199], [4620, 9, 2258, 2259, 2260, 2261, 869], [70, 30, 1110, 9, 1111, 345, 1112, 62, 20], [667, 590, 222, 6, 273, 1, 2, 55], [53, 534, 9, 4621, 232], [636, 490, 16, 9, 106, 85, 6, 599, 8, 659, 29, 9, 24, 4, 1177], [45, 5, 11, 534, 9, 5, 1474, 349, 383, 180, 91], [675, 1, 776, 77], [4622, 1, 483], [1746, 3, 4623], [12, 13, 984, 1207], [4624, 20, 4, 15, 22, 135, 1559], [10, 11, 314, 6, 41, 31, 86, 211, 1, 326, 100], [18, 145, 226, 1263, 4, 51, 1905], [191, 2416, 1786, 751, 285, 281], [405, 90, 65], [698, 699, 804, 577, 513, 253], [275, 3, 450, 865, 600, 117, 9, 123], [313, 9, 80, 193], [1781, 784, 1782, 23, 122, 5, 7, 93, 1787, 2165, 670, 6, 5, 771, 1787, 2165, 35, 4625, 3031, 4626, 670, 1438, 35, 1641, 1, 4627, 3021, 2834], [617, 10, 7, 6, 5, 3032, 2239, 4, 4628, 790, 139, 972, 514, 16, 3, 5, 582, 1108, 186, 5, 571, 304, 247], [7, 9, 2, 446, 1, 5, 2183], [406, 4629, 244, 1, 285, 6, 147], [10, 32, 47, 3, 2, 19], [30, 251, 1413, 3, 507], [2, 7, 2, 362, 2339, 1856, 4, 743, 2, 1857], [2, 1360, 416, 2496, 1360, 2859], [161, 875, 3, 1067, 1469], [1038, 1, 1320, 287, 186, 2, 1321, 8, 2, 1322, 639, 1535, 8, 1323, 1039, 1536, 31, 1324], [1614, 42, 1981, 9, 412, 23, 21], [44, 18, 54, 259, 25, 190, 9, 505, 101, 1, 2, 178, 18, 920, 4, 506, 137, 12, 13], [10, 11, 68, 36, 75, 16, 31, 2, 65, 1, 20], [30, 145, 822, 135, 593, 345, 1303, 1029, 200], [231, 587, 1840, 3, 2, 437], [7, 1102, 5, 1102, 311, 108, 629], [2090, 31, 582, 4, 2039], [44, 63, 76, 7], [456, 69, 1674, 995, 6, 5, 1254], [827, 4, 32, 42, 3, 19], [10, 15, 150, 3, 2, 19, 12, 13, 27], [76, 1615, 1561], [948, 92, 314, 3, 110, 126], [7, 28, 4, 51, 925], [61, 882, 86, 574, 3033], [1790, 120, 245, 33, 350, 14, 660], [7, 26, 110, 3, 2, 19, 128, 27], [10, 11, 4, 7, 209, 259, 1, 2, 306, 1, 351, 20, 55, 12, 13, 202], [2847, 11, 1706, 78, 274, 1, 4630, 342, 542], [1585, 4631, 7, 126, 1, 258, 2370], [4632, 153, 3, 2, 886, 8, 2, 371], [70, 63, 76, 73, 11, 6, 41, 311, 3, 75, 618, 14, 177, 60, 165, 152, 221, 229, 1, 5, 71, 49, 72, 9, 104], [1679, 559, 357, 599], [268, 40, 8, 81, 262, 49], [401, 644, 12, 347, 11, 1192, 194, 3, 111, 172, 654, 1074], [536, 127, 40, 14, 2, 181, 541, 6, 2243, 97, 1235, 130, 288, 44, 207, 3034, 33, 2, 160, 756], [23, 21, 2146, 51], [7, 35, 189, 3, 2, 1114, 426, 2, 297, 564, 204, 89], [250, 586, 116, 6, 526, 129], [1995, 263, 2831, 1, 2, 159], [38, 2031, 1, 2, 162], [553, 1165, 1, 1542], [1781, 784, 1782, 567, 113, 19, 9, 5, 367, 416, 6, 4633, 4, 4634, 118, 135, 19, 783, 3, 2, 619, 431, 3, 1782, 1, 1781, 784], [11, 1466, 1037, 33, 2262, 2864], [597, 86, 4635, 37, 36], [435, 1518, 3035, 870], [12, 622, 329, 281], [138, 6, 1119, 454, 101], [54, 6, 25, 84, 42, 3, 2, 19, 12, 13, 27], [7, 155, 1725, 316, 1, 327, 723, 228], [553, 1165, 1, 1542], [17, 35, 652, 1, 2, 77, 138, 35, 2936, 69], [17, 139, 320, 4, 28, 14, 2, 24, 3, 2, 279], [10, 11, 16, 3, 176, 50, 3, 41, 4, 28, 364, 24], [1692, 304, 210], [70, 5, 10, 18, 457, 7, 26, 758, 662, 75, 22, 1, 2026, 20, 199, 103, 257, 2977], [382, 9, 124, 1997, 184, 602], [1428, 3033, 86, 130, 368, 299], [52, 79, 140, 3, 148, 6, 2206, 8, 1090], [376, 72, 2851], [206, 1055, 2263, 1355, 3, 1791, 12, 13, 2533, 69, 405, 318, 4636, 1791, 6, 97, 2263, 1355, 9, 2, 94, 55, 592, 132, 56, 4637], [98, 2658, 46, 84, 78, 121, 159, 12, 13], [238, 1566, 402], [10, 7, 1707, 14, 179, 3, 25, 188, 1, 2, 20], [89, 8, 82, 189, 3, 41, 39, 128, 27], [2544, 465, 3, 953, 338, 422, 235, 2545, 14, 379, 25, 272, 100, 27], [269, 109, 1, 569, 178, 6, 2985, 100, 27], [450, 865, 298, 173], [512, 23, 122, 38, 192, 135, 96, 446, 3036], [64, 243, 7, 1, 71, 94, 26, 34, 39, 75, 1260], [15, 68, 4638, 4, 118, 128, 27], [44, 17, 139, 672, 16, 3, 461, 26, 341, 29, 9, 3037], [70, 5, 10, 1044, 974, 11, 4, 7, 22, 171, 2, 326, 1378, 4, 48, 75, 26, 34, 39, 4, 439, 59], [30, 10, 174, 150, 1, 113, 20, 356, 27], [11, 50, 9, 56, 33, 563], [11, 1, 1745, 1459, 90, 65, 33, 2, 397], [7, 155, 2213, 316, 2214], [218, 227, 1514, 888, 528, 35, 120, 1, 2, 4639, 165], [328, 263, 120, 6, 2035, 121, 159], [127, 78, 4640, 29, 685, 81, 262, 49], [103, 257, 37, 492, 263], [972, 617, 7, 314, 3, 5, 154], [161, 712, 7, 1, 254, 408, 1, 80, 872, 792], [100, 23, 122, 30, 197, 174, 444, 6, 292, 74, 233, 9, 43], [976, 8, 2, 870, 9, 2, 1231, 8, 2, 1232], [70, 63, 76, 73, 11, 6, 41, 311, 3, 75, 618, 14, 177, 60, 165, 152, 221, 229, 1, 5, 71, 49, 72, 9, 104], [18, 10, 11, 68, 33, 2474, 16, 31, 2, 61, 3, 2, 19, 221, 288, 2, 40, 4, 28, 113, 511], [53, 51, 5, 424, 163], [45, 30, 174, 48, 9, 85, 6, 41, 4, 1476, 39, 704, 966, 2, 7, 2, 2097, 1522, 895, 4, 212, 4641, 14, 1845, 163], [40, 14, 164, 4, 2690, 1, 2, 610], [596, 192, 8, 2, 52, 17, 16, 1, 5, 486, 4, 226, 358, 3, 2, 360, 34], [910, 16, 1, 2, 115, 126, 6, 34, 39], [2432, 508, 2433], [1700, 1427, 2080, 608, 9, 624, 8, 435, 193], [447, 1675, 4, 54, 22, 37, 214, 1170], [10, 54, 4, 138, 6, 242, 1, 2, 77, 432, 9, 24, 201], [92, 118, 246, 177, 1, 25, 295], [89, 3, 594, 242, 1, 107], [10, 73, 490, 22, 6, 936, 9, 2, 2193, 12, 13], [82, 50, 2945, 3, 5, 266, 9, 2, 49, 20], [2382, 700, 23, 1307], [32, 22, 1, 66, 393], [70, 63, 76, 11, 3, 430, 59, 75, 22, 9, 104, 1, 2, 49], [90, 691, 1048], [512, 23, 21, 8, 5, 10, 28, 11, 9, 4642, 253, 3, 46, 1083, 349, 3, 2, 339], [269, 433, 3, 49, 1776, 26, 34, 39, 100], [554, 4643, 334], [7, 47, 4, 907, 21, 9, 104, 1, 119], [1948, 2997, 1, 399, 368], [141, 114, 568, 473, 1319, 78, 635, 1486], [1708, 113, 193, 3, 416, 6, 86, 211, 130, 180], [263, 120, 329, 1918, 342, 4, 147], [266, 3, 2, 2934, 61, 437, 252, 169], [82, 234, 57, 3, 5, 133, 19, 1, 2, 284, 12, 13], [11, 112, 761, 60, 289, 358, 8, 1171, 6, 109, 16, 3, 470, 486, 26, 34, 39], [11, 1730, 868, 3, 992], [1767, 4, 1768, 42, 653], [98, 4, 46, 52, 84, 47, 171, 2, 19, 42, 213, 1, 67, 3038, 1, 199, 204, 120, 248, 33, 2, 24, 171, 2, 431, 9, 2, 823, 8, 2, 2264], [45, 5, 88, 8, 10, 32, 1719, 1, 183, 2, 2415, 345, 1, 4644, 49], [2956, 4, 549], [11, 1732, 65, 1092, 87, 1712], [161, 10, 7, 4, 25, 136, 9, 90], [12, 347, 500, 365, 1867, 250, 492, 24], [727, 285, 630], [1775, 10, 7, 6, 5, 1726, 391], [18, 744, 15, 3, 19, 196, 104, 60, 2019], [7, 29, 37, 4645, 453, 4646, 10, 44, 38, 146, 5, 1474, 1, 166, 283, 106, 260, 1007, 14, 548, 166, 1509, 115, 410], [47, 15, 3, 5, 632, 9, 104, 23, 21, 558, 100, 27], [1210, 5, 98, 390, 46, 84, 1, 2, 745], [268, 968, 49, 768, 71, 957, 535, 127, 40], [10, 15, 42, 6, 67, 84, 9, 2, 934, 1098, 443, 21, 1, 2, 460, 591, 895, 31, 46, 847, 152, 212, 307, 171, 2, 19, 1, 67, 3038], [79, 51, 1461, 1, 722, 132, 115], [30, 38, 109, 16, 3, 2, 107, 4, 48, 1836, 26, 41], [230, 2692, 22, 130, 1, 409], [30, 230, 273, 307, 37, 77], [10, 501, 7, 35, 93, 144, 3, 2, 2158, 1, 2, 351, 20, 12, 13, 202], [18, 145, 48, 1, 2, 555, 4, 29, 3, 352, 2857], [282, 63, 76, 11, 26, 34, 39, 58, 358, 1129, 75, 3, 5, 20, 1569, 9, 104], [10, 32, 16, 3, 239, 635], [7, 140, 3, 2, 176, 1, 25, 81, 727, 4, 48, 3, 34], [64, 63, 7, 405, 2, 3039, 65], [1048, 4, 1156], [82, 16, 1, 106, 6, 41, 4, 28], [18, 82, 157, 3, 2, 19, 12, 13], [298, 775, 78, 1843, 117], [10, 32, 1, 610, 60, 2005, 50, 9, 2980, 75, 17, 6, 724, 219, 944, 25, 63, 76, 269, 581, 1, 256, 1385, 9, 1173, 57, 676, 14, 46, 1084], [10, 63, 76, 11, 26, 430, 59, 58, 358, 711], [38, 143, 216, 1284, 245, 46, 833, 551, 26, 34], [2527, 225, 8, 96], [38, 109, 51, 414, 438, 101], [12, 13, 302, 293, 803], [487, 2447, 8, 1894, 1, 231, 36], [621, 331, 43, 173], [23, 122, 5, 10, 236, 54, 6, 1638, 52, 84, 283, 7, 48, 14, 443, 216, 385, 4, 418, 79, 51, 4647, 2741], [1487, 408, 9, 123], [43, 117, 1182, 629, 36, 4648, 13], [136, 4, 11, 4649, 1, 181, 762, 250], [10, 82, 150, 3, 2, 1078, 12, 13], [81, 262, 49, 90, 65], [44, 7, 2159, 1115, 21, 5, 153, 14, 1445, 5, 1446, 60, 14, 1722, 67, 1723, 9, 5, 420, 989, 5, 88, 8, 1724, 9, 2, 420, 989], [36, 977, 37, 36], [5, 15, 1792, 5, 90, 65], [1022, 1293, 4, 2354, 357, 253, 1808, 44, 747, 2472], [10, 7, 22, 37, 2, 117, 1, 2, 49], [12, 347, 5, 2715, 11, 1, 1223, 307, 9, 4650, 6, 855, 8, 1348], [92, 50, 3, 41, 4, 48, 3, 110, 128, 27], [10, 11, 396, 3, 188, 3, 2, 117, 1, 2, 49, 9, 123], [488, 1156, 4, 507], [764, 683, 333, 1, 36, 4651], [406, 97, 342, 6, 168], [54, 4, 167, 140, 1, 5, 1406, 366, 2257, 2, 4652], [15, 182, 14, 179, 4, 28, 1, 113, 3, 320, 75, 335, 95, 1, 20], [141, 114, 799, 187, 3040], [30, 1447, 432, 9, 286, 6, 1304], [7, 22, 3, 2, 19], [258, 2248, 3, 299, 1075], [70, 63, 76, 73, 11, 6, 41, 311, 3, 75, 618, 14, 177, 60, 165, 152, 221, 229, 1, 5, 71, 49, 72, 9, 104], [1308, 3041, 403, 127], [100, 12, 347, 269, 4, 38, 109, 340, 1119, 454, 448, 35, 61, 3, 2, 55], [52, 724, 17, 717, 25, 54], [223, 275, 4653, 3, 214, 4, 3042, 116, 12, 13], [1432, 15, 6, 579, 8, 357, 57, 3, 72, 1, 2, 199], [10, 7, 118, 3, 2, 19, 12, 13], [54, 35, 42, 6, 25, 190, 167, 101, 12, 13, 10, 366, 4, 25, 161, 52, 190, 17, 209, 93, 144, 1, 2, 133, 178, 18, 506, 4, 1908, 137, 10, 53], [7, 1202, 3, 2, 653], [251, 707, 2, 289, 1, 1947], [450, 1140, 4654, 459, 6, 371, 9, 1239], [168, 1671, 1, 2, 147], [939, 3043, 848, 817, 37, 205, 168], [1220, 16, 3, 172, 604], [457, 7, 16, 3, 5, 461, 4, 48, 6, 25, 953], [10, 237, 4, 67, 52, 84, 16, 3, 2, 266, 108, 4655, 4656, 175, 6, 4657, 4658, 3, 2, 247], [926, 755, 400, 835, 1, 330, 15, 93, 144, 163, 1, 77, 100, 27], [236, 17, 1, 222, 717, 2642, 447, 4, 28, 9, 24], [61, 1784, 3, 437, 4659, 338, 4660], [10, 82, 6, 2766, 1364, 2, 326, 228], [7, 1482, 219, 4, 29, 9, 24, 6, 391, 23, 21], [242, 209, 1184, 3, 608], [1762, 786, 404], [11, 68, 125, 1, 2, 178], [40, 33, 164, 1, 810, 287, 279], [7, 150, 101], [12, 13, 641, 160, 37, 121, 159], [2375, 6, 339, 924], [64, 243, 7, 1, 71, 94, 1260, 1771], [778, 324, 8, 40, 753], [406, 375, 205, 62, 20, 203, 95, 470], [380, 1, 748, 378, 3010, 1525], [10, 7, 494, 5, 2125, 2717, 879, 14, 25, 1555, 152, 212, 812, 5, 346, 867, 163, 9, 5, 115], [1716, 4661, 363, 33, 170], [10, 11, 16, 1, 2, 94, 4, 48, 3, 110], [10, 82, 246, 1455, 177, 68, 452, 3, 46, 563, 9, 56], [100, 753, 1439, 269, 192, 47, 3, 4662, 327, 1, 2, 326, 6, 40, 14, 2, 509], [7, 1202, 3, 2, 653], [191, 10, 145, 3, 557, 307, 291, 5, 632], [111, 590, 4663, 31, 97, 392], [88, 8, 2671, 1, 372, 62, 20, 134, 119], [1626, 2728, 4, 331], [377, 416, 436, 371, 86, 211], [15, 22, 31, 244, 738], [582, 1, 1891, 294], [83, 8, 10, 11, 57, 3, 2, 72, 4, 28, 100, 27], [837, 153, 277, 649, 3, 2, 85, 14, 548, 980, 12, 13, 187, 4, 838, 464, 132, 464, 3, 2, 111, 94, 55], [10, 44, 7, 35, 1026, 3, 2, 59, 186, 2, 49, 169, 4, 28], [28, 10, 7, 118, 6, 5, 452], [782, 1, 748, 378, 177, 1, 476], [4664, 4665, 208, 162], [10, 11, 16, 3, 148, 6, 41, 51, 710, 29, 9, 24, 4, 2170], [160, 78, 44, 4666, 4667, 399, 207, 947], [70, 5, 10, 88, 8, 891, 800, 317, 6, 67, 294, 374, 4, 142, 232], [1487, 4668, 37, 66], [141, 114, 568, 1063, 466, 4669, 4, 331, 1929, 31, 2092], [2191, 2, 271, 1, 5, 378, 924, 5, 339, 5, 350, 2216, 2919], [17, 150, 6, 2109, 136], [11, 4670, 4671, 33, 142, 4, 68, 321, 1, 2, 178], [200, 1166, 4672, 2, 56, 1472, 3, 5, 2596], [2961, 1612, 42, 4, 1376, 179], [12, 13, 302, 293, 4673, 96], [53, 95, 2918, 1124, 1, 2, 1853, 6, 5, 10, 54, 4, 98, 4, 67, 4674, 84, 4675, 31, 2, 713, 1264, 35, 156, 5, 2777, 8, 4676, 4677, 1124], [4678, 1511, 98], [70, 30, 197, 174, 292, 21, 2, 74, 3, 5, 74, 233], [36, 629, 900, 8, 99, 116, 207, 169], [92, 50, 1, 2, 204, 105, 228, 780, 300, 139, 1, 531, 80, 678, 3, 25, 10, 142, 102, 1089, 256, 38, 6, 401, 4679, 219], [11, 451, 992, 4, 1730, 3008], [149, 15, 418, 3, 1287], [322, 40, 8, 10, 15, 187, 9, 56, 11, 4680, 868, 1, 2, 200, 75, 7, 151, 5, 958], [1791, 702, 87, 889, 36, 1, 5, 1804, 518, 441, 1, 12, 13, 201, 27], [2622, 49, 179, 509, 4, 290], [588, 589, 737], [10, 7, 6, 712, 219, 57, 3, 5, 4681, 1, 239, 1180, 228, 4, 4682, 247, 6, 4683, 2100, 90, 493, 4, 2707, 6, 4684, 861, 27], [23, 21, 8, 449, 69, 187, 4, 277, 132, 1, 115, 323, 94, 12, 13, 5, 592, 1309, 424, 35, 309, 1033, 31, 2, 449, 1, 5, 115, 60, 326, 94], [3044, 50, 6, 624, 1416, 14, 4685, 5, 300, 8, 2, 4686, 4687, 3045], [1412, 22, 37, 97, 61], [54, 156, 167, 1, 25, 847, 4, 212, 209, 2197, 18, 53, 1, 789], [405, 2, 90, 65], [510, 298, 4, 874, 175], [2616, 995, 1, 2047], [1077, 2854, 2207, 4688], [28, 1863, 2926, 5, 125, 3, 2, 1137, 1, 5, 2996, 60, 4689, 6, 1945, 8, 3031, 4690, 217, 25], [286, 335, 95, 3, 19], [23, 21, 8, 842, 544, 1966], [573, 1185, 9, 177, 152, 2255, 1, 4691, 1387, 6, 4692, 469], [695, 114, 459, 466], [83, 8, 10, 44, 7, 3, 222], [203, 3, 4693, 1465, 646, 4694], [619, 293, 534, 130], [11, 1, 3046, 3047, 3048], [842, 788, 87, 36, 29, 58, 132], [234, 8, 30, 456, 1808, 5, 1848, 1, 5, 303, 220, 327], [32, 1072, 1, 2, 404, 6, 5, 1060, 136, 1591], [70, 30, 197, 174, 444, 319, 809, 6, 292, 74, 233, 9, 43], [675, 16, 3, 172, 604], [141, 114, 1063, 4695], [89, 8, 52, 17, 620, 5, 761, 6, 4696], [144, 10, 15, 688, 1, 2, 66, 58, 5, 289], [874, 175, 510, 298, 173], [471, 1586, 215, 6, 4697, 585], [141, 114, 568, 473, 743, 14, 1174, 248], [45, 44, 7, 146, 5, 198, 3, 2, 656, 101], [53, 383, 132, 3, 692, 9, 575, 85], [71, 53, 187, 98], [18, 53, 57, 3, 2, 19, 12, 13, 27], [308, 2162, 87, 1003, 354, 12, 13], [10, 18, 7, 6, 34, 39, 16, 1, 106], [2943, 92, 1098, 1, 1406, 4, 29, 9, 395], [935, 50], [1549, 9, 435, 62, 402, 6, 513, 253], [161, 875, 108, 1469], [619, 96, 377], [63, 76, 38, 51, 769, 1, 222], [92, 22, 126, 4, 29, 9, 1647, 128, 27], [3044, 216, 46, 245, 4698, 4699, 8, 2751, 558], [4700, 3040, 1047, 200], [778, 428, 37, 103, 481, 24], [23, 21, 8, 4701, 4, 2012, 467, 1, 165, 552, 718, 3, 121, 77, 6, 4702, 976, 33, 2917, 14, 1861], [926, 755, 400, 835, 1, 330, 15, 93, 144, 163, 1, 77, 100, 27], [327, 220, 772, 4703, 6, 10, 11, 270, 4704, 6, 596], [45, 1397, 40, 8, 535, 1, 4705, 4706, 9, 123], [997, 38, 4707, 1265, 14, 25, 338], [301, 1095, 1395, 9, 2, 274, 1, 961, 324, 134, 119], [4708, 2092, 1368, 4709, 4710], [2500, 4, 4711, 2501, 3, 1720, 1721], [237, 4, 52, 84, 22, 171, 2, 437, 1, 2476, 156, 69, 408, 6, 1970, 36, 1624, 129, 4, 19, 6, 61, 1989], [53, 9, 575, 85], [11, 565, 3, 631], [433, 7, 35, 427, 1, 147, 2238, 7, 1731, 35, 18, 14, 3049, 2, 322, 4, 259, 130, 25, 14, 812, 2, 40, 4, 2, 103, 1, 2, 147, 12, 13, 96, 523], [1565, 683, 123, 1194, 4712], [30, 1110, 822, 3, 172, 9, 1111, 345, 68, 36], [428, 4713, 324, 8, 40], [1149, 821, 686, 1150, 14, 10, 15, 56, 1151, 14, 1152, 525, 60, 1028, 1153], [2425, 3, 2, 168, 2426, 1, 227, 1683, 8, 2, 50, 2909], [3045, 2645, 1, 3050, 1, 12, 13], [2788, 298, 9, 510], [363, 1279, 3, 214, 74], [15, 499, 1, 222, 1, 2, 199], [70, 30, 197, 174, 444, 722, 319, 809, 6, 292, 74, 233, 9, 43], [151, 357], [425, 434, 118, 3, 148, 68, 321, 4, 28], [4714, 352, 474, 40, 216, 2, 192, 8, 30, 32, 150, 101, 3, 5, 844, 933], [861, 1218, 11, 902, 2510, 1079, 9, 56, 23, 21, 6, 253, 2511], [7, 22, 87, 2, 231], [38, 603, 6, 611, 1635, 3, 2, 1114, 41, 3, 2, 239, 1084, 102, 256, 4715, 17, 139, 1, 80, 678, 6, 1243, 4716], [12, 13, 70, 11, 1192, 194, 3, 654, 1074, 6, 43, 4], [273, 642, 1, 222, 8, 1713], [1190, 649, 37, 1943, 12, 1191, 837, 1190, 1944, 649, 3, 5, 85, 187, 4, 838, 464, 132, 464, 3, 2, 111, 94, 55], [90, 129, 1, 183, 8, 2, 80, 193], [1788, 30, 32, 1673, 69, 1, 183, 8, 805, 2740, 5, 40, 8, 71, 957], [4717, 69, 1453, 21, 395], [1116, 22, 14, 272, 4, 2733, 465], [3051, 784, 199, 436, 86, 4718], [1524, 394, 1, 731], [11, 112, 5, 967, 1, 316, 221, 899, 1094, 4, 4719, 14, 4720, 2987, 422, 4721, 46, 270], [18, 15, 22, 3, 2, 19, 12, 13], [53, 451, 1298, 173], [7, 1674, 983, 3, 1415, 467, 1, 94, 12, 13], [695, 1633, 1634, 2946], [15, 112, 369, 3, 2, 19, 128, 27], [225, 8, 121, 96, 86, 130, 299], [929, 1341, 4, 1465, 364, 857, 27], [18, 7, 314, 3, 110, 4, 16, 1, 2, 72, 106], [22, 32, 3, 1308, 3041, 403], [45, 191, 4722, 1, 397, 264, 75, 4723, 129, 6, 4724], [18, 10, 7, 314, 3, 25, 154], [1253, 7, 57, 3, 2, 19, 4, 29, 130], [4725, 4726, 35, 1576, 3052, 4727, 3053, 1189, 3, 2, 274, 1, 183, 8, 2, 231], [370, 696, 33, 5, 4728, 65], [1188, 114, 30, 466, 77, 2200], [790, 362, 548, 790, 23, 21, 12, 13], [230, 4729, 96, 622, 31, 274], [1705, 473, 4730, 1628, 1869], [73, 15, 50, 163, 6, 41, 1, 67, 295], [3054, 6, 600, 4, 147, 1, 2, 55], [1411, 1678, 4, 2630], [261, 1, 336, 337, 42], [11, 150, 3, 2, 19, 4, 28, 14, 2, 24, 12, 13, 27], [7, 638, 693, 329, 375, 205, 62, 20], [63, 76, 4731, 3, 404, 1591], [10, 7, 29, 9, 24, 4, 2229, 219], [10, 15, 913, 286, 6, 1304], [11, 6, 198, 68, 36], [1425, 1241, 50, 3, 2916], [98, 4, 167, 22, 135, 783], [92, 3, 34], [161, 17, 2229, 25, 219, 4, 28], [554, 181, 793, 4, 11, 1, 1581, 547], [83, 8, 92, 344, 1472, 398, 6, 154, 59], [571, 1711, 232, 3, 2, 247, 1757], [3051, 784, 436, 371, 33, 916, 14, 4732], [15, 418, 31, 2, 911, 346, 932, 123, 31, 2, 2573, 815, 33, 634, 816, 453, 441], [238, 4733, 223, 20, 2147], [7, 1, 256, 426, 297, 3, 34, 39, 9, 123], [15, 3, 655, 19, 196, 43], [4734, 4, 1120, 866], [10, 273, 1068, 1, 2, 66, 304, 1837], [8, 83, 8, 10, 876, 4, 238, 517, 32], [63, 76, 11, 26, 4, 2056, 34, 39], [201, 23, 122, 725, 469, 1, 1258, 105, 4, 1222, 206, 1857, 3, 1382, 353], [15, 317, 120, 87, 81, 56, 6, 1727, 881, 424], [30, 251, 16, 1, 94, 4, 804], [10, 7, 1822, 75, 3, 72], [1885, 1886, 1, 2, 4735], [515, 346, 18, 15, 6, 41, 39, 1, 133, 207, 356, 27], [18, 15, 182, 14, 179, 6, 320, 3, 97, 107, 329, 474, 27], [536, 268, 40, 8, 1504, 33, 646, 117], [2963, 16, 3, 322, 8, 65], [236, 17, 6, 640, 2108, 111, 983, 3, 2, 72, 373], [750, 1212, 2, 886, 8, 2, 1623], [1629, 3, 97, 112, 2182, 2158], [594, 284, 263], [210, 22, 4736], [54, 4, 167, 42, 1, 3055, 69, 186, 2, 159, 53, 4737], [88, 265, 130, 527, 9, 962], [472, 263, 120, 1, 78, 169], [597, 86, 130, 368, 299], [158, 1710, 257, 37, 263, 3, 388, 123], [4738, 4, 1238, 643, 175], [54, 4, 167, 156, 69, 4, 195, 9, 24, 4, 664, 69, 4739], [617, 1044, 10, 7, 112, 5, 289, 152, 235, 3002, 1, 5, 20, 1, 2, 2761, 8, 2, 65, 6, 25, 3056, 182, 14, 179], [195, 7, 314, 3, 25, 154, 1, 66], [12, 120, 4740, 572, 223, 830], [50, 1, 716, 779], [1100, 2450, 4741, 3, 493], [237, 4, 1503, 4742, 241], [124, 278, 1459, 3057], [4743, 7, 140, 3, 5, 222], [310, 1877, 1398, 1446], [54, 832, 1261, 194, 1789, 1477, 14, 2035], [1558, 667, 731, 701], [540, 18, 7, 433, 35, 1457, 2, 324, 8, 25, 1738, 4, 57, 6, 69, 21, 1, 133, 205, 12, 13], [1718, 170, 8, 102, 11, 1, 1588, 678, 4, 121, 1418, 229, 91, 2135, 294, 74], [11, 35, 884], [2, 774, 522, 1655, 1346, 14, 177, 6, 2, 24, 1, 412], [52, 79, 35, 16, 1, 352, 486, 4, 4744, 14, 503], [258, 172, 99, 6, 285, 1, 55], [53, 265, 91, 14, 503, 126], [371, 120, 1, 695, 600], [17, 1, 258, 678, 265, 1, 5, 332, 77], [1259, 3058, 2792], [18, 15, 4745, 14, 1792, 67, 81, 727], [32, 455, 108, 230, 805, 6, 521, 392], [10, 4746, 275, 1106], [559, 4747, 4748, 1587, 3059, 8, 4749, 4750, 4751, 4752, 4753], [83, 195, 10, 2635, 37, 1304, 226, 795, 3053], [40, 4754, 87, 2, 2107, 318, 113, 103, 8, 5, 11, 1286, 4755, 1598, 46, 2438, 170, 14, 4756, 186, 2, 4757, 4758, 880, 8, 2, 103], [224, 192, 47, 3, 5, 389, 74, 89, 7, 220, 104, 495, 316, 520, 137, 12, 13, 202], [64, 10, 149, 73, 7, 28, 9, 73, 407, 6, 2265, 382, 513, 253], [2838, 224, 1, 2935, 696, 12, 13, 356, 27], [7, 754, 1470, 3, 2, 871, 6, 341, 170, 40], [275, 21, 99, 1236], [3060, 866, 706, 3, 80, 55], [131, 583], [1253, 7, 57, 3, 2, 117, 128, 27], [10, 7, 314, 3, 2, 19, 6, 34, 39], [38, 260, 5, 334], [1428, 1244, 86, 87, 377, 3061], [18, 744, 15, 22, 3, 19, 196, 104, 60, 43, 6, 1143], [1149, 821, 686, 1150, 14, 10, 15, 56, 1151, 14, 1152, 525, 60, 1028, 1153], [218, 4759, 4760, 4761, 4, 7, 4762, 1470, 9, 2, 218, 1859, 683, 588, 4, 1860, 1, 4763], [70, 63, 76, 11, 3, 430, 59, 75, 22, 9, 104, 1, 2, 49], [11, 1, 162, 909, 65, 78], [200, 8, 5, 709, 516, 33, 2, 322, 8, 2, 2246], [53, 427, 37, 647, 4764], [10, 54, 6, 25, 84, 47, 3, 42, 77, 1, 252], [47, 7, 224, 35, 150, 1, 133, 158, 204, 1, 2, 252, 20, 55, 38, 220, 300, 270, 126, 3, 5, 564, 521, 249, 4, 182, 14, 179, 303, 1756, 12, 13], [44, 52, 17, 42, 6, 454, 540, 605], [11, 69, 396, 2932, 3, 2, 72, 100, 27], [11, 42, 6, 136, 1, 5, 343], [17, 146, 1793, 4, 28, 14, 2, 24, 3, 2, 279], [158, 588, 589, 386, 37, 376, 535], [161, 10, 7, 565, 1, 222, 1052, 21, 4, 28, 9, 24], [214, 475, 498, 37, 129], [3012, 4765, 3013], [1621, 7, 832, 2262, 3, 461], [70, 63, 76, 73, 11, 3, 46, 154, 59, 9, 104, 1, 71, 49], [12, 13, 70, 10, 11, 4, 7, 22, 1, 4766, 171, 2, 61, 437, 212, 432, 562, 4, 4767], [1116, 4768, 1255, 4, 1366, 194], [121, 2161, 22, 37, 368], [5, 763, 7, 502, 186, 5, 102, 55], [435, 1518, 3035, 870], [203, 1, 3, 230, 2221, 1215, 37, 61], [2937, 2938, 878, 32, 1, 973, 4769, 4, 1468, 2224, 86, 4, 788, 3, 2, 323, 61], [92, 16, 31, 2, 2818, 6, 110], [298, 22, 91, 72], [549, 956, 4770, 31, 181, 793], [501, 52, 17, 16, 3, 176, 26, 341, 4, 28, 9, 24], [960, 1118, 3001, 9, 24], [1086, 630, 279, 1387, 73, 471, 55], [1121], [367, 96, 4771, 1270, 1, 1146, 36], [102, 4, 80, 1002, 16, 1, 409, 9, 336, 337], [90, 65, 4, 386, 1, 81, 262, 49], [597, 1230, 171, 231, 176], [1493, 1494, 105, 535, 386], [4772, 1586, 1, 215, 4773, 226, 40], [898, 306, 176, 4774], [23, 21, 8, 273, 51], [11, 29, 21, 591, 2, 1529], [7, 16, 3, 5, 266, 1, 541, 463], [7, 118, 3, 2, 19], [15, 206, 627, 87, 5, 4775], [377, 1282, 3, 299], [4776, 261, 1, 336, 337], [4777, 1, 780, 2537], [1080, 160, 31, 44, 99, 1216], [576, 1118, 203], [851, 73, 11, 48, 3, 46, 154, 59, 1, 71, 240, 49, 100, 27], [406, 301, 4, 52, 4778, 1678, 542], [1176, 1694, 438, 3, 759, 819, 354, 12, 13], [23, 21, 83, 8, 5, 17, 17, 4779, 9, 24, 190, 304, 1, 1717], [1999, 1091, 493, 1098], [927, 6, 866], [11, 4, 30, 1004, 4780, 145, 26, 256, 8, 716, 779, 1, 105, 4, 2187, 67, 1483], [12, 13, 8, 1071, 309, 1452, 31, 5, 10, 28, 2746, 518, 441, 1071, 1686, 209, 309, 1452, 31, 5, 7, 3, 5, 97, 55, 23, 21], [12, 347, 11, 4, 7, 485, 14, 86, 211, 156, 69], [47, 7, 224, 35, 150, 1, 133, 158, 204, 1, 2, 252, 20, 55, 38, 220, 300, 270, 126, 3, 5, 564, 521, 249, 4, 182, 14, 179, 303, 1756, 12, 13], [308, 537, 87, 1003, 6, 2162, 354, 12, 13], [49, 1011], [44, 17, 47, 3, 844, 332, 77, 12, 13, 612, 137, 18, 7, 93, 144, 101, 1, 5, 332, 77, 3, 43, 60, 104, 1584, 705], [510, 298, 33, 459], [10, 18, 254, 255, 15, 390, 36, 740, 22, 37, 1101, 4, 1414, 413, 422, 705], [329, 4781, 162], [11, 3052, 625, 626, 6, 1059, 8, 4782], [36, 666, 3, 20, 116], [230, 115, 1926, 228, 6, 564, 1773], [405, 759, 819, 6, 4783, 354, 12, 13], [355, 334, 1147, 1454, 38, 142, 6, 2244, 9, 445], [768, 6, 4784, 244, 4, 736, 646, 4785, 218, 227], [45, 88, 8, 174, 139, 4786, 4, 4787, 47, 87, 4788, 175, 6, 2480], [82, 6, 110, 16, 3, 936, 3, 2, 19, 12, 1191], [2484, 3062], [376, 275, 363, 173], [399, 284, 159, 78, 231, 127], [99, 982, 15, 4789, 58, 40], [11, 4, 30, 145, 26, 39, 4, 48, 1, 4790, 105], [11, 2395, 2, 805, 8, 105, 175], [54, 4, 138, 209, 1, 2, 20, 212, 209, 120, 248, 33, 2, 24, 4791], [5, 1106, 4792, 3, 5, 116, 6, 263, 329], [2074, 3, 4793], [19, 2228, 173], [12, 347, 5, 44, 17, 1558, 5, 80, 1348, 33, 25, 847, 6, 4794, 3, 2, 55], [4795, 2168, 232, 5, 761], [10, 11, 57, 3, 2, 72, 4, 48, 3, 110, 100, 27], [512, 753, 474, 3, 2155, 1198, 702, 95, 8, 4796, 153], [384, 33, 129, 14, 15, 156, 69], [11, 140, 3, 631], [2241, 116, 44, 207, 798], [145, 954, 482, 4, 48, 1, 2, 555], [4797, 5, 462, 2128, 121, 61], [2173, 887, 1, 214, 1347, 353, 905, 248], [18, 7, 1430, 25, 219, 6, 603, 4, 42, 6, 180, 101, 1, 133, 351, 60, 113, 12, 2095], [533, 469, 6, 1440, 216, 184, 30, 4798, 8, 942, 1754], [64, 10, 7, 26, 34, 39, 1172, 1, 25, 792], [10, 18, 254, 15, 47, 37, 67, 1101, 1, 2040, 8, 2, 352, 2041, 8, 413, 2042], [698, 699, 4799, 4800, 6, 2085], [302, 293, 803, 78, 147, 37, 263], [38, 69, 6, 1254, 370, 508, 2721], [100, 12, 347, 5, 457, 7, 68, 2955, 33, 2, 1365, 599, 4, 4801, 25, 1035, 918], [217, 2, 1109, 2146, 1, 4802], [79, 785, 315, 213, 1, 2266, 1099, 9, 123], [76, 111, 1733, 1, 404], [64, 7, 421, 2, 184], [1790, 120, 245, 33, 350, 222, 14, 660], [52, 190, 1596, 14, 307, 12, 13, 54, 35, 480, 25, 138, 14, 707, 2, 854, 656, 3, 5, 97, 107, 1, 113, 23, 21, 3, 192, 18, 920, 4, 506, 137], [597, 4, 230, 2221, 89, 1, 1146, 121, 36], [208, 373], [54, 4, 84, 463, 1, 496, 1670, 2, 139, 4803, 4804, 54, 26, 34, 39], [749, 673, 8, 98, 4, 84, 22, 1, 5, 215, 163], [2236, 8, 1104, 51], [15, 246, 276, 1, 2304, 373, 100, 27], [2188, 2779, 492, 1008, 170, 4, 4805], [1928, 40], [1006, 1239, 4806, 11, 365], [777, 4, 859, 29, 95, 2, 164, 346, 1164], [88, 8, 109, 390, 2218, 3, 133, 19], [271, 1491, 315, 213, 1, 12, 13], [10, 7, 16, 3, 2, 1436, 1, 2, 20, 4, 26, 25, 41, 470, 27], [4807, 4808, 4, 4809], [170, 40, 8, 5, 280, 11, 6, 34, 914, 39, 3, 436, 371, 2810, 2, 61, 104], [381, 290, 33, 4810, 324, 8, 40], [30, 10, 92, 16, 1, 326, 1770, 6, 41, 4, 395], [376, 290], [5, 7, 1759, 2, 40, 9, 526, 394, 643, 20, 542], [4811, 4812, 1, 776, 77], [214, 1308], [44, 18, 54, 259, 25, 190, 9, 505, 101, 1, 2, 178, 18, 920, 4, 506, 137, 12, 13], [1767, 4, 1768, 42, 653], [236, 10, 7, 16, 3, 148, 6, 341, 4, 28, 9, 24], [623, 1524, 394, 1, 731], [45, 11, 9, 41, 39, 50, 1, 71, 105, 6, 753, 1773, 4813, 8, 46, 952, 209, 1552, 1, 55, 2423, 287], [1659, 1, 77], [10, 82, 68, 125, 3, 2, 410], [310, 93, 2365, 3, 111, 148], [7, 50, 33, 56, 1, 295], [301, 1095, 1395, 9, 2, 274, 1, 961, 324, 134, 119], [432, 2189, 9, 778, 666, 481, 24, 1, 13], [4814, 4815, 1, 12, 13], [948, 82, 6, 110, 246, 1455, 177, 3, 46, 563, 9, 56], [10, 11, 68, 125, 4, 28, 9, 2, 24], [32, 51, 9, 881, 115, 11, 145, 4816, 344, 4817, 48, 14, 2392, 6, 132, 1474], [636, 17, 16, 9, 85, 6, 599, 8, 659, 29, 9, 24, 4, 3006], [18, 15, 68, 357, 4, 28, 14, 2, 24], [259, 1946, 8, 111, 2703], [200, 248, 33, 11, 1085, 963, 183, 4818, 141, 114, 568, 960], [985, 184, 789], [11, 1345, 471, 507, 3063], [36, 4819, 121], [526, 887, 3, 2, 687, 8, 2, 74], [280, 273, 4, 628, 586, 294, 74], [2030, 4, 2999, 460, 14, 460, 3000], [442, 5, 98, 390, 46, 84, 3, 46, 1109], [1659, 16, 3, 2, 74, 120, 46, 1660, 1467, 57, 21, 4, 229, 248, 1, 489, 210, 62, 20, 134, 119], [4820, 2830, 40, 33, 287, 279], [83, 8, 18, 92, 6, 41, 39, 1, 2, 105], [1419, 1420, 23, 21], [70, 30, 197, 174, 444, 722, 6, 292, 74, 233, 9, 43, 6, 2054, 2256, 1691, 1, 4821], [7, 427, 4, 584, 540, 2873, 433, 7, 35, 584, 2, 172, 1, 133, 147, 12, 13], [275, 37, 1504, 646, 117], [32, 22, 171, 2, 403, 6, 4822, 1, 199, 4823, 61, 6, 540, 587, 130], [2054, 29, 9, 2, 1793, 1, 4824, 147, 169], [83, 8, 10, 18, 44, 7, 16, 1, 951], [53, 383, 132, 3, 692, 9, 575, 85], [10, 149, 7, 196, 1207, 657], [513, 253, 8, 4825, 225, 1295], [11, 494, 46, 2093, 2688, 58, 90, 128, 27], [675, 51, 23, 21], [278, 156, 348, 4, 29, 21], [11, 48, 3, 110, 75, 185, 4826, 233, 1, 860, 772], [4827, 7, 112, 14, 59, 4828], [2822, 299], [381, 214, 72], [737, 4, 290, 1, 588, 589], [971, 585, 1366, 14, 3057, 2317], [10, 11, 4829, 315, 213, 3, 338], [11, 29, 9, 2367, 1893], [15, 48, 4, 68, 627, 4830], [32, 126, 1, 66, 393], [11, 1286, 46, 3059, 6, 5, 2748], [1363, 5, 15, 22, 3, 5, 19, 9, 43, 1, 2915, 804, 1010], [18, 3064, 79, 2011, 90, 2121, 1564], [201, 8, 5, 709, 516, 217, 5, 121, 635], [23, 21, 8, 3054, 1, 12, 13], [11, 950, 625, 626, 6, 2307, 1832], [10, 7, 288, 540, 36, 1429, 1, 2, 86, 211], [15, 156, 645, 556, 4, 29, 3, 2, 159, 128, 27], [53, 383, 132, 3, 692, 9, 575, 85], [10, 15, 195, 4, 418, 3, 1469], [245, 309, 4831, 31, 25, 2267, 2, 2267, 1310, 14, 25, 794, 4, 1115, 25, 153, 513, 253], [7, 638, 693, 329, 375, 205, 62, 20], [238, 225, 736, 897], [1006, 4832, 1122, 1212, 338], [10, 18, 255, 15, 680, 361, 413, 3, 67, 215, 6, 103, 880], [1638, 52, 17, 57, 1, 332, 156, 1922, 1, 25, 153, 4, 28], [236, 17, 140, 3, 148, 6, 154, 59, 29, 9, 24, 4, 28, 789], [53, 229, 37, 305, 524], [4833, 1226, 309, 2844, 6], [381, 530, 278, 1968, 31, 1999, 1091, 1362, 297, 58, 4834, 10, 780, 3065, 609, 424, 60, 1998, 2920, 6, 2921, 1091, 38, 189, 1544, 2000, 3, 2, 41, 9, 2], [576, 4835], [82, 50, 6, 41, 3, 46, 511, 31, 2, 86, 211], [127, 541, 1529, 1, 3066], [12, 13, 47, 7, 224, 35, 150, 1, 133, 158, 204, 38, 220, 300, 270, 126, 1, 2, 49, 3, 5, 991, 303, 254], [44, 512, 17, 6, 3056], [3067, 123, 751], [10, 7, 1, 106, 1026, 3, 2, 59, 4, 68, 708, 37, 5, 771], [38, 224, 150, 1, 2195, 208, 162], [960, 1779, 411], [10, 7, 400, 1, 102, 4836, 9, 105, 26, 41, 4, 28, 9, 3037], [2268, 214, 238, 726], [2855, 2359, 3068, 215, 469, 696, 4837], [103, 880, 37, 263], [54, 98, 4, 67, 52, 84, 93, 144, 3, 2, 1436], [111, 2155, 3061], [11, 35, 642, 3, 461, 9, 56, 4, 26, 59, 6, 97, 468, 1, 169, 4838], [749, 1280, 551, 86, 194, 217, 274], [12, 13, 521, 392, 3024, 31, 65], [1987, 114, 1618, 459], [53, 265, 91, 14, 503, 9, 115], [42, 6, 80, 261], [7, 153, 4839, 3, 238, 3069, 325], [3060, 318, 460, 843, 1, 542, 2199, 542], [324, 8, 40, 52, 17, 35, 140, 3, 2, 107, 195, 4, 1777, 3, 5, 133, 249, 1, 2, 178, 12, 1191, 18, 506, 137], [4840, 4841, 459], [47, 7, 224, 35, 150, 1, 133, 158, 204, 1, 2, 252, 20, 55, 38, 220, 300, 270, 126, 3, 5, 564, 521, 249, 4, 182, 14, 179, 303, 1756, 12, 13], [11, 946, 4842, 628, 33, 394], [1485, 373], [4843, 323, 2989, 2400], [127, 8, 1238, 643, 175, 4, 81, 262, 268], [61, 882, 86, 1, 231], [1622, 1401, 4844, 4, 1211, 1807, 789], [988, 4845, 998, 1443], [195, 10, 7, 112, 5, 289], [1549, 9, 435, 62, 402], [12, 13, 30, 1421, 641, 1, 552], [1318, 1222, 2123, 456, 3070, 235, 139, 111, 841, 256], [282, 5, 7, 50, 1, 5, 476], [313, 1364, 4846], [121, 4, 258, 4847], [258, 2600, 3, 311, 4848, 1249, 3, 2, 176, 9, 2, 567, 165, 60, 1785, 279], [45, 475, 1539, 411, 313, 1, 1000, 203, 1], [234, 8, 5, 10, 79, 29, 37, 5, 164, 1, 2, 165, 14, 2, 2156, 1, 2, 849, 4849], [4850, 4851, 2676, 2024, 2528, 797], [30, 190, 273, 6, 54], [11, 68, 125, 4, 396, 3, 46, 110], [32, 1608, 1, 2245, 14, 428], [1784, 813, 130, 1, 2, 36], [218, 227, 878, 2678, 1228, 42, 5, 2086, 246, 3055, 6, 5, 4852, 467, 4853, 8, 1057, 2087, 199, 31, 2088, 2089, 3, 2944], [10, 7, 93, 144, 6, 1030, 1031, 136, 3, 61, 1956, 12, 13], [181, 367, 1527, 86, 31, 1130, 274], [44, 243, 7, 1, 254, 295], [756, 291, 159], [1811, 4854, 223, 1, 36], [1252, 883], [11, 50, 33, 56, 1, 295], [522, 1632, 1076, 4, 775, 14, 225], [3071, 1, 1426], [99, 578, 584, 91, 2, 99], [15, 317, 120, 87, 81, 56, 6, 1727, 881, 424], [73, 32, 26, 532, 3, 2, 266, 1, 2, 49], [92, 48, 3, 2, 59, 4, 195], [236, 10, 7, 118, 3, 148, 26, 41, 4, 28], [1775, 10, 712, 7, 6, 5, 3032, 2239, 139, 5, 617, 661, 1550, 4, 2930, 1269, 688, 58, 2, 24, 1, 183, 8, 399, 571], [601, 37, 129, 1, 2925, 162], [32, 1, 984, 66], [127, 281, 2150, 290], [30, 38, 939, 3, 2412, 345, 470, 27], [1041, 829, 484, 3072, 1753, 275, 2, 436, 2240, 3, 2, 168, 3, 484, 1, 1041, 829, 227], [1104, 2044], [313, 3, 49, 1776, 26, 110, 4, 49, 1793], [1066, 4855, 4856], [258, 1081, 4857], [11, 28, 4, 51, 925], [7, 50, 33, 56, 1, 295], [757, 909, 1902, 3, 56, 1544, 2377], [873, 596, 304, 6, 4858, 4859, 35, 206, 318, 1272, 3, 180], [79, 35, 1777, 1, 183, 8, 2, 4860, 629], [98, 4, 167, 22, 108, 650], [2, 434, 35, 4861, 1, 5, 327, 3, 2, 781, 325, 978, 984, 723, 6, 669], [2077, 2079, 270, 598, 516, 561, 2078, 3, 2, 2856, 270, 467], [1918, 97, 654, 1074], [22, 192, 1, 165], [30, 4862, 3043, 37, 36, 1, 205], [81, 262, 49, 72, 40], [367, 416, 674, 1, 5, 1970, 113, 199, 1941, 4863, 108, 86, 211], [104, 108, 5, 726, 1, 1383], [10, 11, 259, 491, 3, 757], [269, 143, 1187, 9, 39, 23], [2, 2141, 1456, 743, 58, 4864, 4, 638, 47, 1040, 6, 2, 984, 723, 4865, 14, 5, 4866], [729, 665, 2770, 2771, 789], [2884, 4867], [4868, 71, 105, 957, 4, 30, 32, 48, 834], [153, 206, 3073, 1, 751], [2, 52, 1447, 219, 35, 309, 1196, 170, 204], [18, 92, 189, 398, 3, 110, 4, 28, 14, 2, 24], [172, 2160, 51], [2, 854, 1426, 4869, 3, 5, 232], [795, 4, 121, 159], [11, 156, 5, 703, 1025, 579], [11, 150, 3, 2, 19, 4, 29, 14, 2, 24, 12, 13], [2249, 244, 586, 687, 74, 1, 2250, 2251], [252, 392, 340], [1780, 96, 86, 130], [203, 33, 147, 14, 764], [64, 10, 7, 234, 157, 101, 3, 5, 43, 6, 103, 257, 158, 217, 25, 3, 5, 419, 12, 13, 27], [488, 2341, 576], [23, 21, 8, 1600, 4, 25, 4870, 69, 232, 6, 399, 757, 2185], [18, 10, 15, 120, 1155, 67, 502, 75, 120, 87, 5, 81, 193], [7, 775, 3, 2, 19], [30, 273, 22, 2189, 37, 2, 66], [7, 16, 3, 2, 19, 6, 110, 53, 1, 55], [10, 7, 118, 3, 563, 4, 146, 198, 100, 27], [4871, 975, 480, 1398], [45, 359, 774, 613, 1579, 32, 2443, 60, 4872, 93, 3017, 704, 966, 108, 2223, 4, 1476, 39], [953, 8, 76, 1615, 509, 33, 2, 183, 1580], [136, 4873, 1, 409, 9, 336, 337], [64, 243, 7, 68, 125, 1, 25, 2869, 295], [18, 617, 63, 17, 9, 90], [52, 17, 620, 5, 4874, 56, 1, 2, 20], [7, 1392, 229, 3, 5, 776, 99, 116, 1935], [4875, 6, 124, 735, 1, 55], [1080, 1, 2928], [4876, 4877, 4878, 29, 130, 1, 409], [1203, 1856], [269, 596, 22, 171, 2, 19, 12, 13], [64, 243, 7, 26, 34, 39, 807, 297, 426], [90, 65, 4, 386, 1, 81, 262, 49], [160, 4879, 351, 129, 43, 505, 351, 129, 55], [23, 21, 8, 449, 69, 187, 4, 277, 132, 1, 115, 323, 94, 12, 13, 5, 592, 1309, 424, 35, 309, 1033, 31, 2, 449, 1, 5, 115, 60, 326, 94], [64, 243, 7, 1, 71, 94, 1260, 1771], [1408, 311, 436, 371], [2008, 1342, 43, 127, 2009, 2010, 1082, 2557, 419], [83, 8, 28, 17, 68, 537, 537, 4880], [818, 242, 590], [96, 187, 1, 2, 992, 3074, 3075, 857, 27], [7, 1392, 6, 1816, 4, 348, 57, 108, 367, 168, 4, 2995, 2, 973, 566, 137, 4, 3076, 8, 44, 2178], [982, 3, 647, 458], [83, 8, 10, 7, 28, 14, 2, 24, 101], [892, 447, 47, 4881, 6, 1066], [30, 174, 16, 9, 2, 85, 196, 1656, 212, 2230, 4, 28], [92, 50, 33, 56, 3, 41], [1041, 829, 484, 3072, 1753, 275, 2, 436, 2240, 3, 2, 168, 3, 484, 1, 1041, 829, 227], [168, 1, 162], [554, 4882, 96, 4883, 86, 1, 166, 483], [10, 7, 276, 58, 514], [12, 13, 1421, 641, 3, 116], [45, 318, 1839, 242, 1792, 5, 477, 2222, 685, 5, 19, 3, 116, 1501], [536, 307, 3, 43, 19], [724, 7, 35, 884, 4884], [17, 22, 91, 74, 481, 147], [1578, 675, 642, 3, 172, 2828], [4885, 3077, 3, 2870, 76, 864, 2804], [2, 1249, 8, 2, 175, 4886, 704, 4887, 8, 1794, 550, 4, 711, 14, 2, 2227, 14, 2152, 95, 2, 4888, 2, 4889, 8, 1217, 287, 58, 4890, 35, 1285, 4891, 1794, 35, 1057], [280, 11, 35, 850, 2829, 101, 1, 2, 178, 12, 13, 11, 35, 499, 1, 5, 20, 196, 113, 2176, 621, 1, 12, 13], [131, 312], [88, 8, 32, 22, 163, 12, 13, 73, 32, 55], [1526, 4892, 173], [580, 4893, 142, 1, 65], [562, 17, 16, 3, 148, 29, 1, 154, 59, 2626, 1, 629, 4, 1865], [387, 5, 98, 4, 46, 167, 2120, 192, 1, 2, 61, 144, 3, 2, 19], [32, 1364, 415, 2967, 673], [44, 207, 798, 611, 169, 4894, 60, 4895, 798, 4896], [92, 344, 1, 479], [637, 74, 9, 123], [4897, 1470, 8, 512, 2138], [872, 365, 250, 450, 1923, 1351, 1924], [5, 10, 17, 9, 2, 19], [23, 21, 1155, 96], [70, 63, 76, 73, 11, 6, 41, 311, 3, 75, 618, 14, 177, 60, 165, 152, 221, 229, 1, 5, 71, 49, 72, 9, 104], [442, 52, 17, 185, 5, 272], [30, 256, 8, 708, 6, 4898, 3, 239, 85, 3, 2, 19, 32, 86, 1, 2, 61, 1, 2242, 55], [98, 4, 84, 86, 163, 1, 2, 211, 128, 27], [4899, 14, 2, 113], [7, 93, 2686, 2687, 3, 25, 2988], [30, 161, 52, 251, 9, 20, 544, 949], [855, 8, 1080, 160, 33, 19, 6, 99, 1216, 1, 497], [2114, 533, 8, 10, 303, 15, 150, 163, 1, 745], [7, 1883, 1277, 3, 2157, 1, 94, 12, 13], [1919, 3, 4900, 462], [1487, 9, 123], [99, 578, 2269, 91, 5, 682, 142], [174, 2373, 1, 2374], [1255, 4901, 4902, 3, 4903, 1236, 637, 74], [10, 15, 155, 289, 60, 941, 83, 58, 1292, 1, 448, 81, 295, 246, 120, 1], [7, 3, 1117], [18, 7, 6, 34, 39, 3, 2, 410], [406, 762, 250, 33, 217], [2794, 49, 306, 4904, 4905, 3066], [976, 8, 2, 870, 9, 2, 1231, 8, 2, 1232], [32, 1, 472, 9, 208, 373], [856, 2140, 4906, 3, 431, 108, 1370, 823], [23, 122, 5, 10, 98, 544, 46, 190, 84, 33, 2, 579, 1, 2, 20, 3, 5, 158, 113, 249], [10, 11, 48, 3, 59, 3, 2, 19, 196, 43, 60, 104, 6, 773, 272], [99, 578, 485, 291, 2, 142, 8, 5, 99], [15, 182, 14, 179, 1, 113, 3, 320, 75, 335, 95, 1, 20], [161, 1225, 261, 1, 409, 9, 336, 337], [241, 668, 67, 54, 1004, 1131], [2445, 1776, 901, 939, 22, 208, 2651, 66, 4907], [478, 7, 57, 538, 3, 2, 19, 12, 13], [972, 7, 426, 2, 297, 1, 541], [236, 17, 16, 3, 148, 68, 321, 4, 28], [1963, 3078, 4, 1597, 2, 1373, 78, 5, 1045, 85], [1513, 32, 271, 49, 768, 43, 947, 127, 40], [80, 261, 16, 1, 409, 9, 336, 337], [11, 50, 33, 56, 1, 295], [204, 61, 4908], [17, 140, 1, 328, 29, 9, 24], [10, 280, 344, 4, 28, 9, 24], [237, 494, 90, 1298, 14, 67, 241], [54, 4, 138, 405, 166, 2270, 2271], [10, 64, 38, 232, 571, 3, 2, 247], [63, 92, 50, 3, 2, 39, 1, 71, 228, 6, 1379, 1955, 38, 4909, 3, 25, 2322, 530, 300, 10, 4, 355, 139, 1, 1289, 258, 1543, 3, 25], [18, 15, 28, 4, 216, 2, 1271, 14, 2, 24], [390, 4910, 450, 865, 404], [143, 1594, 6, 5, 245, 1, 1595, 228, 201, 27], [554, 181, 793, 4, 11, 1, 1581, 547], [449, 955, 5, 592, 1620], [30, 241, 3, 5, 2100, 1537, 1299, 16, 3, 2, 1795, 2973, 21, 4911, 186, 2, 2195, 2456, 259, 130], [487, 928, 8, 2, 929, 1548, 1, 760, 606, 607, 1341], [873, 5, 616, 6, 132, 3, 2, 85, 188, 35, 140, 31, 180, 7, 35, 51, 4, 2845, 1172], [1227, 670, 163, 9, 106], [3079, 2906, 3, 635], [376, 968], [359, 886, 1895, 2207, 431, 2174, 1139], [53, 265, 91, 14, 503, 9, 115], [1488, 388, 1199, 78, 853], [82, 29, 95, 2, 164, 4, 146], [282, 5, 10, 15, 1, 67, 81, 56], [98, 4, 84, 51, 414, 438, 100, 27], [103, 880, 257, 37, 36, 2947], [10, 15, 93, 515, 1, 2, 1582, 212, 1400, 68, 357, 4, 48, 18, 346, 1164], [10, 18, 54, 1202, 6, 25, 84, 3, 2, 19], [38, 109, 26, 71, 532, 4, 16, 3, 2, 148], [168, 727, 4912, 169], [96, 4, 597, 86, 171, 61, 176], [587, 1840, 4913, 2311, 274], [79, 4, 366, 51, 925], [695, 382, 120, 502], [2085, 543, 3019, 6, 44, 2970, 386, 1, 55], [2949, 3, 5, 1106, 2951], [10, 11, 6, 357, 22, 9, 44, 1235, 1, 1064, 128, 27], [23, 122, 2067, 744, 15, 2885, 163, 4, 418], [10, 7, 57, 421, 25, 154], [4914, 1895, 185], [2133, 3, 5, 80, 55], [45, 313, 40, 2292, 2293, 1, 1823, 1824, 1825, 62, 20], [3071, 1, 1426], [238, 11, 2372, 75, 146, 384, 91], [540, 11, 155, 1736, 1307, 3, 5, 669, 1, 5, 20], [478, 1796, 10, 425, 11, 16, 1, 951, 9, 56], [18, 15, 292, 3, 5, 294, 74, 233, 806, 100, 27], [713, 50, 3, 2, 39, 4, 2, 79, 35, 29, 9, 2, 468, 861, 27], [69, 8, 15, 1953, 1133, 107, 6, 69, 75, 22], [990, 8, 1644, 1450, 3, 99, 107, 77, 127, 40, 8, 207, 169], [131, 312], [12, 13, 47, 7, 224, 35, 150, 1, 133, 158, 204, 38, 220, 300, 270, 126, 1, 2, 49, 3, 5, 991, 303, 254], [44, 7, 396, 398, 3, 1377, 4, 68, 125, 1, 115], [38, 143, 344, 349, 29, 9, 24], [27, 8, 2665, 577, 3, 1971, 94, 176], [1392, 17, 1123, 3, 322, 8, 5, 462, 113, 511, 2762, 254, 566, 4, 2529, 137], [750, 108, 2, 164, 1, 2, 165], [18, 7, 16, 1, 2, 72, 106, 4, 1026, 3, 2, 59], [191, 1278, 4915, 1014, 4916, 686, 525, 279, 4, 26, 34], [73, 38, 455, 3, 154, 59, 6, 746, 60, 581, 60, 791, 3065, 385, 31, 828, 17, 6, 401, 102, 219, 29, 3, 2, 39, 4917, 235, 1979, 4918, 60, 2436, 4919, 780, 300, 1], [136, 42, 6, 1226, 1, 2, 431], [98, 4, 84, 28, 14, 2, 24, 1, 2, 86, 211], [12, 347, 5, 54, 1259, 4, 875, 586, 2, 74, 3, 2, 80, 1835], [52, 1899, 79, 1202, 6, 545, 993, 1, 56, 1955, 545, 193, 4920], [161, 712, 7, 1, 254, 408, 1, 80, 872, 792], [2196, 762, 1102, 311], [88, 8, 18, 109, 3, 5, 515], [11, 1248, 90, 65, 3, 331], [10, 11, 6, 569, 670, 16, 3, 2, 410, 356, 27], [90, 2696, 1440, 4921, 4922, 4923, 4924, 4925, 4926, 2957], [433, 7, 35, 427, 1, 147, 2238, 7, 1731, 35, 18, 14, 3049, 2, 322, 4, 259, 130, 25, 14, 812, 2, 40, 4, 2, 103, 1, 2, 147, 12, 13, 96, 523], [70, 63, 76, 73, 11, 6, 41, 311, 46, 766, 284, 125, 152, 221, 35, 618, 14, 177, 60, 165, 1, 5, 71, 49, 72, 9, 104], [1, 330, 4, 18, 15, 22, 37, 107, 77, 1, 2, 605], [2197, 78, 576, 117, 81, 262, 49], [282, 63, 76, 73, 11, 264, 1520, 6, 746, 1, 71, 105, 175], [143, 1343, 2, 4927, 4928, 9, 56], [230, 96, 86, 31, 2664, 371, 108, 604], [2495, 971, 193, 66], [224, 192, 47, 3, 5, 389, 74, 89, 7, 220, 104, 495, 316, 520, 137, 12, 13, 202], [82, 57, 1, 106, 4, 189, 9, 479], [364, 23, 122, 5, 10, 7, 139, 5, 348], [2, 271, 6, 2, 4929, 1, 2, 696, 534, 58, 1563], [82, 6, 110, 57, 3, 2, 19, 12, 13, 27], [1760, 1123, 3, 403, 2149, 31, 4930, 287, 1702], [238, 63, 76, 11, 2257, 1517], [45, 32, 3080, 4, 985, 1, 2, 1566, 4931], [18, 1506, 22, 6, 680, 740, 1, 153, 3, 46, 361, 215], [269, 445, 2902, 2391, 370, 219, 14, 1183, 1, 219, 801, 60, 2759, 445, 4932], [877, 8, 2, 4933, 4934, 3015], [571, 362, 620, 3, 2, 247], [749, 23, 122, 5, 11, 4, 5, 7, 185, 679, 1, 5, 162], [5, 623, 3, 46, 394, 1658, 14, 5, 1029, 8, 498, 342], [245, 1632, 496, 1, 1223], [1096, 8, 973, 477, 1096, 74, 72, 127, 40, 116, 1182, 40], [363, 281, 275, 1, 66], [278, 534, 3], [308, 1694, 438, 1, 240, 354, 12, 13], [149, 1222, 2164, 17, 1, 1258, 412, 6, 1008, 4, 469, 32, 4, 3081, 3082, 860, 767, 4, 2262, 1, 1437, 573], [173, 8, 428, 978], [218, 484, 1229, 42, 491, 1, 5, 49, 20, 9, 218, 351, 683, 1, 2028, 3, 484, 1, 218, 227], [23, 21, 8, 308, 1037, 87, 153, 33, 1025, 1408], [276, 1, 66, 393], [88, 8, 28, 648], [236, 10, 7, 317, 6, 5, 1909], [203, 1, 3, 1124, 1, 4935, 1761], [236, 52, 17, 22, 37, 332, 77, 994, 95, 25, 847, 4], [225, 8, 181, 96], [45, 2, 1014, 22, 1, 2, 686, 1748, 3083, 4, 264, 2, 2803], [10, 273, 1068, 1, 66], [1898, 446, 14, 334], [451, 2, 863, 6, 4936, 868, 4, 1604, 1399, 1, 577], [18, 92, 22, 126, 4, 48, 3, 110, 128, 27], [99, 578, 2269, 91, 5, 682, 142], [1376, 1097, 1, 240, 599, 8, 97, 659, 1, 283, 106], [10, 744, 15, 42, 1143, 3, 2, 19], [52, 79, 51, 2247, 6, 537, 12, 13], [250, 856, 1, 1374, 1601], [143, 264, 4937, 6, 245, 3, 34, 2215], [7, 146], [28, 10, 7, 118, 6, 5, 452], [11, 47, 248, 33, 2, 24, 171, 5, 19, 9, 2, 823, 8, 2, 61, 481, 5, 658, 43, 152, 2, 103, 2543, 1651, 2, 419], [23, 21, 261, 1, 1157, 409], [17, 112, 369, 8, 207, 1, 2, 20], [12, 347, 5, 11, 400, 378, 108, 2, 164, 1, 2, 228, 260, 1007, 58, 715, 60, 1296, 3011], [136, 1934, 1193, 1, 817, 116, 9, 43], [109, 455, 4, 432, 9, 34, 31, 2, 61], [3084, 23, 21], [92, 16, 126, 2, 106, 4, 1453, 1647], [175, 37, 2, 66], [2173, 887, 1, 66, 304, 162], [706, 272, 1959, 6, 1960, 1369], [64, 10, 7, 26, 34, 39, 1172, 1, 25, 792], [11, 47, 3, 477, 37, 20, 1, 12, 13], [2836, 2644, 78, 2994], [2265, 382, 4938, 264, 718, 33, 34, 4, 16, 3, 148, 9, 85, 1, 105], [1380, 81, 262, 49, 1388, 2171], [4939, 11, 1482, 3070], [30, 251, 1413, 3, 507], [210, 1, 619, 204], [7, 155, 2213, 316, 2214], [528, 4940, 2711, 685, 3085], [2457, 4941, 1, 2, 388], [478, 11, 68, 538, 9, 123], [17, 3, 511, 2954, 95, 164, 14, 19], [230, 1465, 1, 66], [2, 1575, 494, 2, 245, 2, 1574, 4, 4942, 704, 2, 4943], [1363, 5, 15, 22, 67, 136, 171, 5, 19, 1, 2446, 1009], [214, 2451, 31, 168], [1229, 42, 491, 1, 5, 49, 20, 4944, 6, 684, 604, 1, 5, 183], [102, 7, 1108, 186, 247], [45, 191, 32, 1, 1903, 851, 26, 2801, 4, 1743, 4, 1405, 1744, 1, 476], [582, 123, 2237, 72], [544, 96, 3086], [18, 17, 16, 9, 85, 344, 1, 479, 26, 41, 68, 321], [328, 159, 619, 1580, 117, 173], [436, 371, 1676, 95, 14, 61], [1002, 1, 1274, 1, 166, 336, 337], [10, 7, 6, 514, 3, 25, 338, 51, 722, 132, 1, 2, 72, 4, 29, 130, 309, 858], [7, 6, 22, 6, 111, 1051, 558], [1009, 43, 158, 328, 159], [965, 159, 78, 4945], [23, 21, 80, 1208], [73, 32, 16, 1, 2, 49, 6, 110, 4, 41, 128, 27], [38, 143, 421, 245, 201, 27], [11, 185, 272, 1, 66, 393], [88, 265, 130, 527, 9, 962], [52, 79, 16, 9, 85, 51, 3087, 4, 68, 321], [4946, 1678, 3, 116, 2883], [208, 72, 3034, 9, 2, 4947, 533, 683], [401, 4948, 8, 4949, 3083, 9, 5, 686, 215, 58, 4950, 2, 1748, 8, 2, 103, 14, 1028, 1, 5, 137, 8, 4951, 1748, 4, 611, 4952], [573, 1185, 26, 34, 39, 1, 4953, 1744], [1149, 821, 686, 1150, 14, 10, 15, 56, 1151, 14, 1152, 525, 60, 1028, 1153], [7, 9, 2, 19], [45, 280, 425, 174, 1, 1751, 678, 4, 672, 50, 1, 828, 306, 1, 71, 2976, 105, 221, 48, 4, 29, 3, 468, 8, 1476, 39], [15, 140, 3, 1023, 3, 318, 249], [7, 29, 14, 2, 24, 89], [100, 23, 122, 30, 197, 174, 444, 722, 6, 292, 74, 233, 9, 43], [846, 964, 1778, 69, 21], [92, 28, 14, 2, 24, 4, 1228, 51, 1273], [45, 1397, 549, 3, 65, 1065, 248], [2969, 937, 66], [30, 1612, 9, 123, 772, 981], [1463, 121, 1122, 4954, 96, 1, 36], [10, 15, 913, 286, 6, 1304], [721, 1262, 1072, 1, 435, 62, 402], [10, 63, 76, 11, 26, 430, 59, 58, 358, 711], [73, 32, 51, 867, 4, 48, 1, 2, 115, 283], [406, 323, 4955, 6, 162, 4, 147], [406, 162, 4, 147, 4, 1235], [32, 22, 4, 463, 58, 2156, 9, 2, 165], [28, 7, 664, 9, 25, 34, 39], [183, 8, 80, 1077, 275, 78, 172], [149, 143, 2164, 10, 38, 245, 1, 1222, 412, 32, 4, 3081, 3082, 860, 767, 4, 725, 1027, 1, 1437], [377, 608], [200, 33, 5, 301, 990, 8, 615, 1, 489, 210, 62, 20, 134, 119], [988, 29, 9, 998, 1443, 513, 253], [161, 10, 7, 565, 1, 222, 1052, 21, 4, 28, 9, 24], [3068, 2840, 1813], [857, 23, 21, 523, 2194, 12, 13, 10, 7, 35, 451, 4, 734, 25, 44, 523], [83, 8, 28, 92, 6, 34, 39, 1, 2, 105, 509], [926, 755, 400, 835, 1, 330, 15, 93, 144, 163, 1, 77, 100, 27], [53, 832, 5, 307, 3, 133, 249], [127, 1380, 49, 1515, 4, 268], [10, 7, 288, 938, 40, 8, 1064, 12, 13], [69, 1454, 456, 142, 4, 1287, 9, 445, 446, 364, 24], [623, 1658, 394, 1598, 682, 1, 498, 342, 542], [280, 7, 6, 1243, 219, 1127, 1625, 1265, 4, 216, 3, 468, 39, 149, 10, 38, 182, 4, 1445, 4956, 30, 531, 145, 1, 2, 1379, 105, 60, 1846, 1020, 50], [943, 10, 7, 185, 3, 846, 1572], [4957, 6, 4958, 108, 4959], [3079, 627, 4960], [1368, 853, 4961], [1244, 226, 61, 882, 1689, 37, 368, 299], [1788, 30, 32, 150, 3, 5, 933, 1381, 31, 844, 3022], [7, 905, 1, 12, 13, 291, 593, 345, 906, 62, 20], [30, 4962, 22, 130, 1, 489, 210, 62, 20, 134, 119], [30, 1766, 22, 3, 14, 2, 36, 9, 961, 324, 134, 119], [2, 38, 383, 5, 1461, 1462, 1404, 1749, 4, 1435, 1787, 6, 414, 3, 5, 1234, 845, 58, 860, 4, 2166, 132, 2167], [272, 572], [387, 782, 9, 177, 1, 230, 476], [308, 1105, 1, 173], [1419, 1420], [990, 8, 273, 1, 66], [224, 192, 47, 3, 5, 389, 74, 89, 7, 220, 104, 495, 316, 520, 137, 12, 13, 202], [73, 15, 50, 3, 2, 966, 1, 2, 178], [44, 7, 4963, 25, 1433, 2398], [1424, 1367, 1568, 2235, 1242, 4964], [818, 3067, 493], [10, 18, 254, 255, 15, 390, 36, 740, 4, 1414, 413, 422, 705], [63, 76, 11, 26, 4, 2056, 34, 39], [17, 1, 265, 1, 5, 332, 77, 1, 183, 8, 987], [141, 114, 3084, 2184, 8, 1204], [7, 1, 1032, 16, 91, 3, 2, 431], [102, 53, 494, 1583, 1201], [756, 4965, 481, 999, 9, 415, 165], [4966, 675], [282, 5, 15, 1507, 502, 1, 67, 81, 56], [282, 5, 7, 1353, 5, 4967, 3, 2, 164, 2689], [149, 7, 206, 3, 2603], [10, 11, 26, 1109, 420, 325, 1, 2, 327, 6, 46, 900, 1, 2, 629, 1455, 2778, 4968, 443, 3025, 4, 197], [81, 262, 49, 90, 65], [4969, 1313, 729, 275], [898, 306, 176, 474, 1138, 176, 363], [64, 243, 73, 7, 50, 3, 34, 39, 6, 1200, 256], [45, 5, 40, 8, 2, 399, 4970, 8, 1969, 3, 2795, 655], [161, 52, 17, 22, 37, 332, 77, 156, 332, 4971, 1, 25, 2563], [977, 466, 63, 76, 1778], [165, 566, 306], [304, 4972, 1, 404], [17, 156, 558], [280, 273, 51, 1, 1769], [98, 4, 167, 22, 135, 783], [195, 17, 140, 1, 2, 107, 4, 29, 9, 24, 694], [1389, 163, 6, 191, 732, 1, 372, 62, 20, 134, 119], [1425, 555, 4973, 50, 135, 4974], [83, 8, 5, 52, 79, 22, 3, 2, 19, 12, 13], [10, 2434, 170, 781, 197, 693], [23, 21, 8, 759, 1461, 4, 1404, 1749], [114, 8, 4975, 3088], [17, 6, 111, 843, 186, 2, 159, 4, 664, 153, 694], [15, 1810, 1, 472], [10, 7, 1, 94, 4976, 1755, 417, 6, 1765, 1086, 4, 28], [571, 362, 232, 3, 2, 247, 1757], [1122, 57, 3, 274, 31, 168, 1631], [131, 312], [2191, 2, 271, 1, 5, 378, 924, 5, 1083, 31, 2628, 2216], [7, 377, 788, 1468], [764, 4977, 379, 6, 184, 602], [1762, 4, 4978, 3, 4979, 9, 19], [428, 2232, 4, 4980, 366, 6, 750, 3, 4981], [32, 786, 96, 1, 2, 483], [536, 263, 78, 165, 646], [952, 2230, 92, 1, 105], [4982, 1220], [10, 7, 901, 31, 244, 4, 48, 3, 2, 59, 246, 455, 235, 35, 29, 95, 2, 164], [721, 1262, 1783, 1475, 9, 435, 62, 402], [2249, 244, 2034, 574, 1, 2250, 2251], [4983, 397, 162, 66, 208, 207, 103, 423, 204], [2017, 2180, 878, 10, 7, 1466, 5, 1053, 58, 2181, 764, 1, 2, 1761, 1463, 2448, 8, 2449, 235, 954, 3, 4984, 4, 619, 2224], [82, 3, 948, 828], [813, 169], [89, 8, 181, 1113, 367, 96], [359, 912, 109, 16, 3, 894, 48, 4, 1680, 1299, 24, 2060], [406, 4985, 6, 4986, 36, 6, 203, 95], [236, 17, 6, 640, 155, 276, 3, 627, 373], [2135, 74, 1, 1207], [131, 312], [2720, 1831, 4987, 4988], [988, 156, 5, 4989, 8, 1037, 349, 3077, 895, 470], [12, 13, 252, 392, 702, 33, 802], [23, 21, 141, 114, 3088], [4990, 800, 9, 510], [200, 33, 5, 88, 732, 22, 130, 2, 1209, 1, 1390, 1391, 20, 134, 119], [12, 13, 8, 607, 32, 93, 144, 3, 2, 123, 1103, 57, 170, 108, 2, 871], [687, 40, 8, 38, 4991, 1863, 1257, 609, 4992, 3, 616, 33, 2204, 1175, 1, 616, 33, 1148, 85], [141, 114, 4993, 1118], [1993, 1088, 8, 10, 11, 848, 945, 157, 1, 12, 13], [10, 7, 6, 2972, 190, 901, 31, 223, 379, 33, 4994, 1437, 54, 29, 9, 138, 4, 95, 2, 164], [11, 26, 1589, 4995], [89, 8, 230, 367, 96, 338, 1215, 248], [70, 98, 480, 84, 1346, 14, 379, 46, 272, 3, 5, 20, 933, 6, 841, 465], [1205, 6, 110, 4, 34, 39, 1, 2, 115], [7, 50, 33, 56], [573, 1185, 50, 152, 2255, 1, 4996, 869, 6, 469, 4997], [1559, 224], [237, 944, 241, 4998, 90, 879], [2894, 1, 4999, 3086, 492, 31, 6, 274, 5000, 2151], [478, 11, 16, 3, 266, 1, 2, 49], [562, 52, 79, 16, 9, 85, 4, 51, 3087], [82, 1709, 3, 5, 133, 19, 1, 2, 284, 12, 13], [1121], [17, 16, 3, 2, 279, 4, 28, 14, 2, 24], [2209, 109], [1608, 1881], [2050, 226, 2051, 8, 1393, 1416], [425, 11, 613, 572, 189, 3, 2, 39, 9, 46, 50, 353, 3, 2, 55, 952, 177, 6, 41, 5001, 6, 3016, 3, 46, 142, 217, 10, 269, 239, 3089], [88, 8, 109, 785, 213, 3, 133, 19], [873, 5, 188, 1, 5002, 153, 349, 253, 5003, 14, 2, 1516, 132, 5004, 6, 2601, 4, 1937, 87, 2602, 958], [98, 480, 167, 14, 379, 25, 594, 272, 100, 27], [5005, 3, 19], [18, 774, 88, 8, 359, 10, 280, 174, 4, 145, 1, 2574, 22, 3, 637, 477, 126, 196, 1012, 2176], [5006, 5007, 3, 365, 411], [1788, 142, 2978, 2142, 156, 21, 62, 2218], [44, 18, 777, 1, 5, 715, 504, 108, 2, 1602, 1, 872, 326, 509], [32, 22, 1, 376], [427, 7, 1, 147, 540, 18, 7, 433, 35, 1457, 2, 324, 8, 25, 1738, 4, 57, 6, 69, 21, 1, 133, 205, 12, 13], [990, 8, 2043, 4, 1701, 51, 107], [38, 69, 50, 3, 3069, 325, 23, 21], [92, 3, 34], [81, 262, 49, 1, 2, 5008], [99, 578, 584, 91, 2, 99], [92, 6, 395, 50, 1, 106], [2071, 58, 241], [1063, 1561, 497], [162, 129, 397, 129, 570, 207, 55, 505, 127, 40], [268, 968, 49, 768, 71, 957, 535, 127, 40], [63, 76, 11, 276, 4, 1472, 5009, 3, 59], [442, 5, 11, 4, 5, 7, 185, 679], [790, 362, 548, 790, 1, 412], [282, 44, 367, 408, 6, 2225, 61, 771, 103, 730, 4, 1941, 2903, 1, 2, 497], [99, 578, 2269, 91, 5, 682, 142], [64, 243, 73, 7, 50, 3, 34, 39, 6, 1200, 256], [1259, 3058, 51, 107], [23, 21, 3, 512, 700, 561, 5], [290, 3, 117], [363, 846, 964, 2745, 4, 1212], [753, 474, 8, 2258, 2259, 2260, 2261, 869], [366, 206, 1261, 95, 58, 333], [27, 8, 66, 304, 147, 9, 428, 416], [821, 2800, 1, 66], [5010, 223], [15, 22, 5011, 136, 291], [161, 10, 7, 565, 1, 222, 1052, 21, 4, 28, 9, 24], [5012, 671, 213, 3, 3090], [8, 32, 3091, 136, 3092, 6, 3093, 827, 1, 20], [79, 217, 164, 1, 208], [7, 112, 970, 3, 2, 19], [7, 1577, 2263, 392, 33, 869, 1, 5013, 12, 13], [141, 114, 1705, 473, 2253, 574, 5014], [10, 11, 48, 3, 2, 59, 75, 1333, 3, 2, 19], [2, 138, 4, 46, 54, 379, 3, 5, 651, 1, 2, 20], [45, 5, 177, 250, 35, 2737, 1, 2, 1370, 8, 3094, 1975, 108, 1351, 3095], [10, 18, 7, 68, 321, 9, 56], [750, 79, 42, 6, 545, 539, 1, 1180, 5015], [10, 7, 427, 6, 1030, 1031, 136, 1, 147], [275, 5016, 5017, 99, 74, 66, 103, 423, 363], [1009, 11, 1451, 2264, 467, 1834, 19, 1139], [667, 1449, 1, 2, 2081], [298, 8, 32, 9, 1942, 5018], [70, 10, 15, 47, 3, 99, 632], [271, 42, 166, 1742, 1114, 6, 158, 981, 386, 23, 21, 40, 8, 2, 69], [127, 1530, 33, 5019, 793, 33, 2, 286, 523, 40, 798], [1618, 402, 1750], [15, 26, 166, 1742, 2003], [252, 392, 6, 103, 257, 37, 4, 5, 52, 605, 340, 12, 831, 518, 815, 33, 634, 816, 453, 441], [450, 1140, 2279, 20, 516], [70, 268, 4, 663, 6, 149, 124, 440, 719, 543, 787, 264, 121, 1422, 8, 81, 296, 720, 6, 267, 124, 440, 9, 43], [11, 1, 328, 547, 5020, 6, 99, 1, 497], [5021, 2243, 231], [89, 83, 6, 644, 423, 17, 259, 6, 843, 4, 29, 9], [18, 15, 292, 3, 5, 294, 74, 233, 806, 100, 27], [191, 5022, 827, 1, 2, 19, 31, 123, 6, 350, 3062, 5, 1772, 1, 2, 431], [976, 8, 2, 870, 9, 2, 1231, 8, 2, 1232], [83, 8, 478, 11, 16, 31, 2, 86, 211, 128, 27], [12, 13, 641, 160, 186, 129], [185, 679, 171, 20, 74], [1950, 51, 1382, 2931, 1, 2, 343], [318, 36, 308, 87, 2, 240, 6, 659, 392, 659, 151], [15, 182, 14, 179, 1, 113, 3, 320, 75, 335, 95, 1, 20], [80, 136, 42, 1, 1441, 126, 336, 337], [2045, 356, 1, 343], [10, 11, 3, 2, 19, 112, 369, 31, 110], [44, 10, 7, 1, 1032, 35, 1866, 25, 219, 3, 2, 61, 19, 133, 113, 31, 2, 61, 12, 13, 202], [97, 77, 6, 5, 5023, 21, 5024], [5025, 11, 6, 34, 29, 9, 952, 139, 716, 779, 256], [54, 2990, 190, 866, 212, 209, 101], [1290, 149, 1237, 620, 6, 411, 4, 1497, 836, 81, 175, 18, 7, 6, 401, 102, 219, 139, 1, 1289, 531, 80, 678, 28, 38, 16, 9, 2, 50, 353, 6, 239], [1425, 1241, 3, 2029, 8, 223, 6, 5026, 5027, 4, 2672, 465, 152, 221, 550], [170, 40, 8, 10, 11, 4, 7, 5028, 9, 736, 468, 5029, 184, 60, 1263, 5030], [513, 253, 591, 258, 242, 4, 5031, 3085], [1735, 1450], [15, 22, 91, 2, 72], [23, 122, 269, 153, 6, 5032, 4, 1443, 1621, 271, 60, 1574, 5033, 1, 496, 8, 319, 725, 767, 46, 603, 2719, 120, 152, 493, 8, 5034, 58, 5035, 1195], [778, 1, 66, 393, 4, 917], [45, 23, 40, 8, 52, 79, 16, 1, 547, 6, 98, 4, 5036], [516, 386, 257, 1, 183, 8, 5, 388, 121, 159], [1176, 1694, 438, 3, 759, 969, 354, 12, 13], [23, 21, 8, 452, 5037, 3, 2, 3096, 411], [18, 10, 1044, 7, 42, 439, 59, 5038, 1, 20, 3, 25, 773, 5039], [141, 114, 466, 48, 422, 1204], [52, 79, 47, 3, 2, 19, 12, 13], [2, 2832, 1732, 5, 414, 5040, 1, 357, 256, 26, 3023, 1113, 85, 304, 6, 5041, 1142, 256, 256, 8, 80, 357, 58, 981, 60, 715], [401, 702, 194, 701, 1, 731], [8, 83, 8, 10, 876, 4, 238, 517, 32], [143, 216, 2, 245, 4, 25, 1125, 5, 2940, 3, 5, 34], [1015, 15, 1016, 32, 10, 1017, 145, 903, 1018, 1019, 904, 591, 149, 251, 18, 7, 48, 14, 2093, 4, 216, 482, 5042, 28, 9, 56, 109, 4, 144], [224, 192, 47, 3, 5, 389, 74, 89, 7, 220, 104, 495, 316, 520, 137, 12, 13, 202], [1473, 325, 5043, 228], [54, 6, 84, 47, 3, 2, 19, 12, 13], [12, 13, 8, 1442, 88, 8, 359, 1229, 1, 684, 5044, 77, 135, 2, 121, 159, 485], [30, 92, 16, 1, 106, 4, 48, 163, 101], [7, 189, 3, 41, 4, 29, 9, 24], [2153, 1679, 1197], [210, 51, 33, 2, 770, 6, 30, 1752, 130, 443, 1, 372, 62, 20, 134, 119], [721, 1262, 1783, 1475, 9, 435, 62, 402], [721, 1262, 1072, 1, 435, 62, 402], [2110, 33, 2, 193, 14, 2, 223, 1, 2, 66], [478, 7, 57, 538, 3, 2, 19, 12, 13, 27], [17, 1599, 50, 3, 41, 4, 118, 3, 2, 279], [450, 865, 1764, 404], [2381, 1259, 1937, 338, 87, 116], [45, 5, 559, 193, 1123, 3, 5, 462, 329, 590, 5045, 1, 2, 5046, 5047, 1964, 1, 2993], [5048, 2513, 1, 65], [145, 28, 14, 2, 24, 1, 2, 19], [1276, 458], [10, 1384, 11, 112, 5, 1429, 4, 28, 6, 46, 339, 924], [384, 21, 175, 1, 124], [976, 8, 2, 870, 9, 2, 1231, 8, 2, 1232], [1121], [100, 23, 122, 30, 197, 174, 444, 6, 292, 74, 233, 9, 43], [54, 832, 1261, 95, 8, 863, 58, 53], [161, 17, 51, 414, 438, 4, 28], [18, 15, 68, 36, 4, 28, 14, 2, 24, 1, 569, 178], [488, 94, 1120, 577, 78, 331], [10, 15, 150, 3, 2, 19, 12, 13], [988, 29, 9, 998, 1443, 23, 21], [1125, 4, 46, 794, 42, 6, 545, 1449, 3, 2, 148, 9, 56], [214, 147], [173, 92, 50, 33, 56], [269, 143, 1187, 718, 6, 34, 23], [12, 13, 513, 253, 3, 66, 1306, 855], [1225, 261, 16, 9, 336, 337], [679, 1688, 126, 2, 1625, 244, 279, 1, 3026, 3027, 3028], [53, 265, 91, 14, 503, 126], [53, 51, 5, 424, 163], [45, 406, 5, 271, 196, 5049, 946, 33, 352, 471, 2459], [5050, 77, 10, 251, 5051], [225, 796, 2246], [230, 658, 519, 5052, 37, 388, 36], [767, 319, 789], [5053, 1786, 762, 3, 285, 281], [7, 16, 3, 5054, 396], [470, 97, 342], [5055, 2399, 151, 1464, 2964, 71, 1339, 1, 2052, 8, 191, 5056, 2532], [1134, 255, 98, 216, 84, 2, 215, 9, 43], [45, 5, 88, 8, 313, 229, 91, 5, 72, 1, 2826, 5057], [892, 447, 23, 21], [89, 83, 8, 44, 197, 28, 7, 6, 508, 820, 12, 13, 2048, 137, 10, 7, 6, 658, 820, 4, 158, 339, 445, 83, 3, 5, 121, 2049, 55], [102, 53, 451, 2874, 90, 879], [442, 5, 98, 909, 46, 84, 1, 5, 1508], [210, 22, 37, 36], [11, 5058, 4, 5059], [1652, 1653, 1097, 3, 759, 819, 354, 12, 13], [97, 36, 169], [160, 78, 351, 129, 3097, 570, 207, 55, 505], [1067, 19, 9, 43], [873, 2592, 1, 2922], [61, 8, 32, 9, 510], [2119, 1785, 279, 6, 5060], [478, 44, 7, 29, 16, 3, 2, 117, 9, 123], [53, 265, 91, 14, 503, 126], [18, 4, 1, 5061, 5062, 2536, 15, 335, 95, 1, 77], [268, 40, 8, 2, 1238, 643, 175], [141, 114, 614, 187, 335, 577, 78, 331], [10, 237, 4, 67, 84, 196, 2, 515, 1, 2, 1582, 54, 4, 98, 68, 357, 79, 51, 710], [115, 2112, 2827], [66, 208, 129], [10, 11, 16, 3, 2, 19, 12, 13], [1060, 1061, 1, 368, 299], [387, 782, 9, 177, 1, 476], [199, 981, 9, 56, 109, 5063, 163, 9, 2, 85, 6, 132, 4, 357, 14, 455, 4, 3080], [17, 16, 1, 2, 20, 3, 2, 266, 4, 396, 3, 188], [131, 870, 5064, 689], [11, 5065, 66, 4, 414, 194, 5066], [1338, 1774, 367, 19, 313, 5067], [54, 4, 138, 1792, 166, 2270, 2271, 620, 5068, 1, 2, 53], [52, 149, 79, 93, 144, 6, 879, 545, 5069], [38, 109, 246, 276, 1, 2, 49, 12, 13], [7, 277, 424, 9, 2, 94, 12, 13, 1329, 7, 187, 1330, 1331, 3, 2, 1047, 200, 1168, 197, 56, 1013, 1332], [17, 51, 714, 983, 4, 28, 9, 24, 1288, 21, 1256, 694], [7, 6, 1460, 57, 3, 2, 19, 12, 13], [1157, 2498, 1994, 8, 26, 5, 360, 1251, 6, 758, 5070, 468], [64, 63, 7, 405, 2, 3039, 65], [5071, 63, 76, 17, 688, 3, 388], [44, 243, 7, 1, 254, 295], [141, 114, 568, 473, 2253, 574, 1506, 1, 647, 107], [536, 40, 8, 61, 6, 1605, 747, 36, 4, 5072, 121, 159, 511, 9, 2, 934], [11, 862, 1, 1631, 26, 80, 36, 547], [10, 18, 7, 35, 47, 4, 485, 31, 2, 24, 121, 159, 4, 97, 107, 3, 2, 55, 12, 13, 612, 4, 728, 137], [1156, 344, 2914], [88, 8, 109, 112, 289, 3, 133, 19], [5073, 784, 5074, 1239, 104, 5075], [7, 429, 357, 240, 135, 560, 36, 12, 13], [7, 26, 34, 4, 16, 1, 2, 72, 115], [8, 83, 8, 10, 876, 4, 238, 517, 32], [47, 558, 2254, 47, 558, 89, 38, 1456, 1847, 5076, 58, 150, 3, 74, 1, 5077, 2254, 47, 558, 224, 260, 1007, 58, 270, 303, 254, 12, 13], [11, 3, 430, 59], [666, 108, 978], [88, 8, 73, 32, 22, 163, 12, 13, 595], [168, 169], [10, 7, 157, 1, 12, 13], [18, 92, 50, 3, 41, 126, 2, 1020, 128, 27], [23, 21, 33, 30, 732, 1, 489, 210, 62, 20, 134, 119], [1592, 8, 868, 209, 1462, 3, 2, 5078, 44, 355, 1773], [1697, 5079, 204, 2952], [282, 63, 76, 11, 26, 34, 39, 58, 358, 1129, 75, 3, 5, 20, 1569, 9, 104], [200, 8, 776, 5080, 285, 147], [1034, 47, 37, 1473, 325, 228], [210, 68, 36], [381, 214, 72], [522, 22, 87, 225, 12, 13], [11, 2057, 170, 671, 1042], [10, 11, 4, 7, 209, 47, 481, 645, 556, 407, 4, 259, 1, 2, 306, 1, 351, 20, 55, 12, 13, 202], [53, 229, 37, 305, 524], [10, 11, 48, 3, 2, 59, 1, 120, 244, 40, 591, 1795], [1766, 57, 9, 5, 301, 172, 1, 961, 324, 134, 119], [61, 1784, 2332, 1171, 1, 3042, 36], [755, 400, 10, 11, 16, 3, 176, 4, 26, 41], [143, 48, 14, 53, 26, 5, 34, 998, 1702, 1, 2, 890, 1, 253, 6, 2, 53, 1, 2, 55, 95, 8, 253], [842, 544, 1966], [7, 6, 188, 5081, 125, 9, 106, 9, 123], [153, 112, 3073, 95, 8, 751], [10, 32, 751, 428, 250, 4, 1212, 5082], [253, 91, 1000, 8, 756, 1795], [10, 11, 4, 7, 1, 256, 16, 1, 106, 4, 26, 34, 39, 212, 426, 2, 297, 14, 2152, 385, 4, 264, 180, 73, 184], [1868, 2886], [170, 40, 8, 5, 7, 68, 708, 3, 2, 19, 235, 16, 3, 2, 486, 1, 36, 4, 288, 2769, 3063, 1317, 1057, 3007, 33, 2, 437], [88, 8, 109, 112, 289, 3, 133, 19], [18, 15, 1809, 1641, 493, 467, 33, 448, 2974, 1, 67, 81, 56, 4, 22, 87, 193], [2072, 381, 1790, 4, 1832, 1, 496], [721, 1262, 1783, 1475, 9, 435, 62, 402], [454, 4, 1587], [64, 243, 7, 1, 71, 94, 51, 819], [874, 515], [5, 1728, 701, 2798, 2799, 1, 372, 62, 20, 134, 119], [5, 623, 3, 46, 394, 5083, 498, 342], [73, 15, 16, 3, 2, 19, 4, 118], [45, 5084, 1, 607, 1313, 2115, 31, 5, 765, 247], [858, 11, 112, 1343, 75, 1568, 1794, 4, 2998, 5085, 8, 1794, 5086, 718, 1, 1477], [10, 3064, 7, 561, 21, 66, 657], [15, 140, 3, 1023, 4, 314, 128, 27], [5087, 5088], [24, 5089, 500, 1590, 22, 291, 117, 1, 208], [10, 7, 1, 514, 6, 41, 3, 25, 5090, 3, 2, 19, 235, 189, 2208, 29, 3, 2, 61, 1758], [897, 23, 122, 5, 7, 139, 256], [7, 1392, 534, 9, 2, 823, 8, 2, 437, 3, 2, 61, 600, 3076, 137], [11, 1, 5, 378, 6, 46, 1616, 1, 2, 77], [66, 74, 2984, 1, 917], [10, 712, 3018, 7, 405, 90, 65, 6, 487, 1130, 1042, 1, 239, 228, 9, 56], [10, 7, 26, 439, 59, 16, 108, 2, 164, 1, 2, 1012, 199], [380, 1405, 1093, 1, 476, 58, 2025, 1340], [54, 4, 167, 717, 4, 29, 9, 24], [208, 162, 2842, 263, 173], [18, 54, 1212, 5, 138, 1, 2, 343], [32, 22, 3, 214, 72], [30, 52, 251, 16, 9, 85, 620, 6, 1130, 5091, 4, 28], [11, 35, 884, 384, 91], [282, 63, 76, 11, 26, 34, 39, 58, 358, 1129, 75, 3, 5, 20, 1569, 9, 104], [1361, 310, 5092, 509], [45, 69, 8, 931, 11, 5093, 189, 5, 41, 1, 2190, 71, 105, 6, 5094, 1188, 1793, 3, 55], [308, 1359, 3, 1055, 1546, 354, 12, 13], [10, 28, 11, 901, 31, 244, 4, 26, 439, 59, 221, 2219, 398, 4, 29, 95, 2, 164], [930, 1746, 91, 462], [18, 7, 1430, 25, 219, 6, 603, 4, 42, 6, 180, 101, 1, 133, 351, 60, 113, 12, 2095], [153, 206, 5, 181, 545, 193, 3, 2, 85, 3, 204, 55, 517, 922, 60, 2442, 1197], [794, 4, 2267, 29, 37, 2, 970, 26, 34, 39, 212, 48, 4, 28], [11, 1, 1745, 1459, 90, 65, 685, 193], [44, 10, 7, 1, 1032, 35, 1866, 25, 219, 3, 2, 61, 19, 133, 113, 31, 2, 61, 12, 13, 202], [657, 10, 269, 2888, 57, 1007, 58, 2889, 6, 661, 2890, 78, 1109, 196, 531, 661, 546, 1, 133, 77, 6, 2891, 2892, 1, 55, 1, 113, 184], [380, 752, 5, 1336, 14, 1337, 1050], [313, 9, 80, 193, 1, 66], [201, 8, 5, 709, 77, 6, 5, 258, 5095, 1, 2, 890], [131, 963, 689], [10, 7, 5096, 508, 1277], [2072, 1162, 754, 147], [2, 937, 168, 4, 526, 394, 324, 643, 20, 542], [10, 15, 1, 2, 528, 11, 29, 95, 2, 5097, 4, 349, 954, 14, 521, 3, 5098, 1108, 3, 1227, 338], [1988, 8, 776, 5099, 5100, 4, 5101], [580, 1650, 1189, 847, 4, 596, 1, 1221, 65], [7, 1674, 983, 3, 1415, 467, 1, 94, 12, 13], [64, 10, 7, 16, 9, 106, 26, 341, 29, 9, 24, 4], [1427, 1194, 33, 1720, 1721], [11, 5102, 177, 33, 1058, 420], [70, 10, 15, 47, 3, 99, 632], [17, 35, 2, 1699, 138, 1, 2, 124, 465, 4, 6, 514, 3089], [124, 1211], [930, 700, 1328, 4, 485], [949, 1, 1071, 5103], [70, 63, 76, 73, 11, 6, 41, 311, 46, 766, 284, 125, 152, 221, 35, 618, 14, 177, 60, 165, 1, 5, 71, 49, 72, 9, 104], [82, 234, 57, 3, 5, 133, 19, 1, 2, 284, 12, 13], [1205, 16, 1, 2, 105, 4, 50], [131, 529, 5104, 689], [79, 785, 315, 213, 1, 2266, 1099, 9, 123], [384, 91, 14, 5105, 586], [191, 10, 145, 3, 557, 379, 291, 97, 343], [636, 65, 2939, 72, 1, 2268, 238, 541, 5106], [44, 17, 139, 1828, 16, 31, 164, 26, 154, 59, 5107], [10, 7, 6, 188, 16, 1, 951, 9, 56], [2202, 373], [364, 512, 23, 122, 5, 7, 139, 5108, 1053], [23, 122, 1120, 438, 1471, 6, 5, 681, 1471, 1668, 6, 30, 3004], [38, 334, 1147, 1217, 446, 1027, 4, 5109, 2, 456, 170, 6, 1477, 367, 445, 446], [82, 6, 110, 57, 3, 2, 19, 12, 13], [45, 105, 811, 885, 14, 38, 278, 29, 9, 41, 4, 48], [19, 2228], [2252, 289, 117], [184, 602, 2134, 209, 2757, 1, 5, 2758], [10, 7, 57, 3, 2302, 4, 26, 34], [10, 32, 9, 225, 38, 522, 1085, 4, 155, 1311, 1, 1361, 610], [206, 1100, 87, 223], [571, 1711, 232, 3, 2, 247, 1757], [937, 2752, 116, 2201, 250, 2959], [525, 869, 108, 2, 61, 1, 729, 665], [10, 7, 1, 94, 51, 1755, 417, 4, 28], [23, 21, 8, 280, 11, 26, 188, 4, 68, 125, 75, 16, 1, 106], [2233, 193, 203], [63, 76, 11, 26, 34, 39, 58, 718], [10, 7, 51, 318, 5110, 2208, 340, 3, 180], [7, 6, 188, 1, 2, 49, 9, 123], [64, 7, 421, 2, 184], [837, 1685, 5111, 8, 995, 33, 863, 2], [237, 3, 5, 307, 6, 67, 167], [698, 699, 294, 56, 576], [1155, 96, 4, 1176, 414], [282, 367, 416, 674, 1, 2, 199, 180, 5112, 86, 5113, 115, 4, 353, 58, 1333, 6, 1410, 5114, 4, 103, 783], [2227, 421, 124, 1107], [17, 4, 136, 150, 248], [943, 1302, 1, 409, 9, 336, 337], [7, 229, 37, 305, 524], [141, 114, 697, 5115], [81, 5116, 2268, 877, 57, 9, 116, 5117, 200], [1939, 1305, 207, 408], [2593, 393, 9, 123, 184], [66, 2130, 160, 78, 855], [2034, 793, 36], [258, 573, 1934, 1193, 33, 36], [1731, 22, 1, 342], [5118, 638, 2144, 781, 58, 170, 4, 2113, 6, 2950, 1, 327, 108, 629, 2144, 5119, 27], [1380, 81, 262, 49, 1388, 2171], [363, 258, 846, 964, 5120], [12, 13, 66, 2130, 112, 552], [1034, 554, 1991, 1992, 804, 1010], [195, 241, 5121, 3, 2, 107, 212, 503, 1070], [1122, 4, 286, 57, 3, 274, 31, 168], [10, 7, 826, 1, 20, 155, 915, 1307], [387, 5, 10, 28, 7, 1737, 2, 106, 4, 16, 9, 2, 85, 14, 177, 6, 2, 34, 914], [89, 8, 17, 4, 98, 51, 769], [2612, 2043, 3, 2, 215], [268, 968, 49, 768, 71, 957, 535, 127, 40], [10, 44, 1253, 7, 57, 3, 2, 117], [100, 12, 347, 5, 52, 79, 47, 481, 2, 5122, 1013, 1, 20, 60, 162], [89, 83, 18, 17, 259, 6, 843, 1, 2, 20], [45, 5, 549, 1065, 78, 5, 5123, 1, 3094, 1975, 108, 1351, 3095], [2774, 733, 6, 104], [88, 265, 130, 527, 9, 962], [12, 120, 263, 3, 639, 135, 2, 287, 279], [234, 8, 975, 206, 21, 1281, 1, 2005], [799, 123, 1488], [30, 382, 209, 151, 5, 2594, 1, 5, 559, 974], [5124, 5125, 367, 19, 1338, 1774], [45, 10, 269, 278, 5126, 60, 1237, 16, 9, 2, 41, 1, 71, 105], [99, 741, 1236, 3, 5, 1067, 99], [10, 7, 276, 58, 514], [214, 147], [1002, 2057, 645, 1316, 5127], [10, 54, 35, 42, 6, 25, 84, 1, 2, 211, 8, 2, 446, 801], [1001, 116, 49, 2315], [70, 30, 197, 174, 444, 319, 809, 6, 292, 74, 233, 9, 43], [5128, 2305, 5129], [1038, 1, 1142, 1434], [7, 9, 2, 211], [346, 15, 151, 289, 1739, 453, 10, 330, 137], [5130, 3, 1045, 590], [1389, 51, 392], [210, 1, 776, 77], [359, 18, 10, 1278, 1826, 109, 1, 389, 74, 135, 121, 159, 6, 1130, 621, 1827], [381, 74, 31, 124], [10, 11, 35, 112, 2047, 33, 2, 1137, 1, 941, 1729, 575], [1091, 1597, 2705, 9, 5131, 6, 5132, 2900], [2179, 14, 695, 459], [149, 7, 2863, 111, 590], [143, 29, 78, 2850, 29, 9, 24, 201, 27], [10, 11, 4, 7, 6, 1044, 974, 507, 256, 4, 5133, 93, 144, 75, 151, 5134, 1630, 283, 31, 2, 61, 617, 974], [30, 848, 945, 1587, 1, 12, 13], [11, 2064, 654, 213, 4, 5135], [1182, 419, 127, 2009, 2010, 1082, 403], [363, 751, 252, 62, 5136], [82, 16, 3, 266, 1, 1424, 326, 26, 1377, 2570], [88, 8, 10, 32, 16, 3, 2, 2744, 19], [10, 269, 433, 26, 439, 59, 14, 1257, 1163, 8, 72, 535, 1892, 2178, 8, 5137, 6, 154, 1251], [3096, 411, 6, 1407, 8, 1119], [1842, 121, 36, 604], [170, 474, 8, 272, 1959], [64, 7, 6, 5, 599, 8, 125, 3, 2, 222], [18, 10, 7, 314, 3, 25, 154], [45, 1014, 1845, 175, 8, 5, 686, 215], [64, 71, 73, 7, 1, 56, 105, 26, 34, 39], [273, 57, 1, 66, 1381, 31, 1092], [236, 17, 16, 1, 2, 72, 106, 4, 50, 3, 41], [943, 52, 79, 86, 6, 46, 54, 1, 2, 61, 152, 235, 1115, 5, 181, 5138, 5139, 14, 2256, 443], [472, 3050, 9, 2258, 2259, 2260, 2261, 869], [210, 22], [3097, 129, 570, 207, 55, 505, 127, 40], [15, 22, 91, 738], [10, 7, 6, 34, 39, 140, 3, 107, 1, 2, 20], [32, 51, 417, 33, 1003, 12, 13], [10, 7, 6, 188, 140, 3, 148, 9, 56], [5140, 370, 1447, 219, 75, 221, 42, 6, 5, 545, 170, 40, 6, 2242, 900, 1, 2, 629], [2265, 382, 26, 34, 4, 48, 9, 85, 30, 174, 3, 55, 26, 430, 2734], [15, 182, 14, 179, 1, 113, 3, 320, 75, 335, 95, 1, 20], [18, 15, 118, 3, 2, 410], [64, 10, 7, 2219, 5, 1472, 398], [89, 8, 15, 277, 5, 417, 1, 2, 94], [15, 118, 3, 515, 356, 27], [230, 1401, 585, 1366, 78, 637, 74], [191, 741, 3, 5, 285, 5141, 281], [191, 741, 3, 5, 2927, 285, 281], [625, 626, 896, 950, 1371, 1372, 707], [2233, 74, 817, 134], [26, 1117, 1, 2, 327, 876, 11, 260, 5142, 4, 1094, 75, 22, 3, 2558, 781, 325], [1259, 5143, 875], [96, 417, 1, 1003, 7, 956, 94], [64, 243, 7, 1, 71, 94, 1260, 1771], [44, 7, 57, 1, 2, 20, 4, 29, 14, 2, 24], [54, 447, 42, 6, 447, 1675], [302, 293, 3020, 78, 168], [142, 8, 261, 1, 409, 9, 336, 337], [11, 1, 348, 5144, 919], [1780, 299, 6, 258, 96], [64, 243, 7, 1, 80, 222, 6, 125], [23, 122, 308, 958, 3, 1462, 96, 1668, 6, 97, 417, 4, 1087], [387, 10, 237, 544, 190, 283, 98, 156, 5, 750, 366, 544, 443, 349, 5145, 46, 482], [275, 37, 600, 117, 5146], [18, 17, 1, 80, 504, 3, 5, 651, 235, 35, 18, 4, 1154, 138, 28], [98, 4, 52, 84, 209, 16, 31, 2, 164, 1, 199, 4, 226, 5147, 1, 34, 914], [11, 155, 16, 2137, 1, 327, 723, 228], [224, 192, 47, 3, 5, 389, 74, 89, 7, 220, 104, 495, 316, 520, 137, 12, 13, 202], [79, 57, 3, 5, 1785, 279, 4, 463, 58, 2, 244], [10, 1044, 11, 6, 46, 2098, 1434, 272, 48, 3, 59, 108, 2, 61], [1885, 1886, 171, 2, 74], [10, 11, 6, 34, 39, 16, 1, 106], [778, 4, 2695, 1719, 9, 5148, 8, 428, 462], [10, 64, 267, 7, 112, 1163, 6, 773, 24, 3, 166, 238, 403, 824, 13, 369, 825, 1036, 1870, 634, 1871, 1530], [63, 76, 38, 51, 769, 1, 222], [614, 4, 5149], [12, 347, 5, 61, 3030, 4, 5150, 5151, 3, 180], [89, 83, 17, 259, 6, 843, 138, 29, 87, 2, 24], [120, 263, 78, 121, 231], [471, 370, 325, 6, 69, 4, 1960, 1715], [64, 10, 7, 234, 157, 101, 3, 5, 43, 6, 103, 257, 158, 217, 25, 3, 5, 419, 12, 13], [442, 5, 11, 4, 7, 22, 37, 5, 987, 77], [24, 738, 230, 658, 519, 1215, 37, 388, 36], [32, 3, 1327, 72], [2031, 1, 2, 162], [5152, 223, 673], [512, 89, 8, 456, 142, 4, 1109], [492, 184, 3, 1465], [2747, 8, 2, 204, 881, 1226, 1, 760, 606, 3, 1423, 1, 218, 227], [174, 277, 992, 4, 68, 452], [89, 83, 54, 4, 138, 405, 166, 2270, 2271], [1432, 1695, 5153, 223, 3, 2, 687, 8, 2, 74], [88, 8, 18, 109, 93, 144, 3, 5, 515], [2986, 73, 407, 1362, 297, 840, 1290, 38, 48, 6, 791, 3, 2, 71, 758, 468, 1251, 149, 278, 1127, 25, 5154, 324, 8, 2006, 31, 59, 530], [2015, 12, 13, 33, 135, 1394], [2211, 1349, 1593, 325, 370, 633, 71, 2212, 532], [18, 17, 1, 2, 20, 155, 839, 1, 25, 479], [143, 216, 1334, 5155, 674], [12, 347, 32, 57, 1, 183, 8, 2, 871, 4, 226, 2, 673, 8, 5, 2515, 697], [30, 52, 251, 16, 9, 85, 42, 6, 5156, 1226, 4, 28, 9, 2231], [23, 5157, 2, 2637, 8, 10, 63, 76, 11, 1, 256, 29, 37, 1090, 1714, 58, 1166, 2421], [7, 118, 3, 2, 19, 12, 13], [44, 742, 1, 1045, 242], [70, 2217, 11, 60, 5158, 2217, 5159, 14, 18, 15, 75, 212, 120, 87, 81, 193], [30, 1094, 491, 1246, 16], [488, 145, 4, 241, 1, 614], [236, 17, 1611, 242, 4, 28], [80, 5160, 16, 3, 222, 1, 409], [1340, 331, 5161, 165, 331, 5162], [310, 2899, 21, 198, 33, 1704], [401, 285, 281, 1786, 203, 481], [230, 80, 1657], [10, 7, 1, 2, 555, 8, 2181, 240, 235, 2123, 487, 256, 1703, 6, 399, 5163, 2971], [32, 185, 557, 6, 76, 374, 5164, 1, 2, 404], [7, 277, 424, 9, 2, 94, 12, 13, 1329, 7, 187, 1330, 1331, 3, 2, 1047, 200, 1168, 197, 56, 1013, 1332], [10, 7, 260, 318, 765, 170, 334, 9, 1027, 801], [434, 120, 37, 2, 397, 6, 5, 919], [18, 7, 1, 514, 35, 3, 5, 651, 235, 35, 18, 4, 1154, 10, 280], [842, 1, 1622], [97, 342], [17, 22, 6, 843, 1, 2, 20, 4, 29, 9, 24, 644, 423, 4], [7, 6, 22, 6, 111, 1051, 558], [10, 7, 6, 188, 16, 1, 951, 9, 56], [731, 701, 1179, 2860], [5, 763, 7, 502, 186, 5, 102, 55], [11, 1, 3046, 3047, 3048], [1502, 5165, 2038, 1105], [1067, 77, 6, 242, 4, 129], [214, 147, 1, 208], [1962, 2520, 1683, 8, 1367, 308, 5166], [10, 11, 6, 2136, 246, 515, 3, 2, 19, 12, 13, 27], [5, 161, 52, 17, 752, 5, 716, 779, 2210, 465, 6, 2839, 235, 5167, 5168], [96, 187, 1, 2, 992, 3074, 3075, 857, 27], [1361, 310, 22, 3, 2897], [5169, 5170, 459, 5171, 20, 450, 1140], [546, 228, 436, 371, 104, 5172], [7, 1709, 23, 21, 8, 69, 693, 1040], [1703, 80, 193, 203, 95], [15, 1400, 6, 2572, 4, 418, 31, 2, 911, 346, 932, 123, 31, 2, 911, 170, 3029, 815, 33, 634, 816, 453, 441], [97, 162, 129, 397, 570, 207, 55, 505, 127, 40], [495, 4, 651, 3090], [81, 262, 49, 268, 6, 1238, 643, 175], [116, 5173, 99, 2714, 169], [206, 81, 468, 5174, 3, 2, 188, 9, 1729, 306, 23, 21], [3036, 8, 1258, 1027, 1, 2071], [17, 51, 5, 5175, 4, 1698], [11, 850, 5176], [355, 143, 1640, 2, 1198], [141, 114, 1534, 1874], [252, 392, 6, 103, 257, 37, 4, 5, 52, 605, 340, 12, 831, 518, 815, 33, 634, 816, 453, 441], [90, 65, 4, 386, 1, 81, 262, 49], [10, 64, 7, 400, 1, 80, 482, 35, 47, 37, 5, 1250, 77, 808, 18, 4, 319, 12, 13, 202], [304, 2004, 96, 5177, 1, 373], [744, 54, 35, 717, 4, 418, 25, 138, 750, 35, 51, 5, 1789], [11, 5178, 1034, 24, 5179, 5180, 5181, 994, 847, 6, 1251, 4, 930, 2, 1189, 8, 871, 5182], [10, 11, 4, 7, 946, 194, 111, 172, 458, 87, 36], [1412, 3, 61, 176, 97, 204], [200, 33, 5, 301, 990, 8, 615, 1, 372, 62, 20, 134, 119], [90, 65, 1, 2163, 589], [1058, 420, 1, 5183], [133, 17, 340, 454, 4, 195, 1, 2, 601, 694], [218, 227, 878, 387, 1996, 319, 674, 6, 684, 1795, 4, 5184, 5185, 1761, 1, 2693, 165], [1519, 370, 325, 9, 177, 201, 27], [5186, 1566, 5187], [8, 32, 3091, 136, 3092, 6, 3093, 827, 1, 20], [79, 785, 315, 213, 1, 2266, 1099, 9, 123], [79, 112, 5, 1789, 33, 2, 616], [12, 13, 269, 671, 2139], [7, 68, 36, 33, 5, 579, 676, 14, 2, 2454], [23, 21, 8, 456, 170, 309, 884], [10, 32, 3, 2, 19], [1963, 1597, 4, 3078, 1373], [7, 396, 75, 50, 33, 56], [99, 982, 11, 1985, 91, 632, 978, 329], [7, 57, 1, 94, 4, 51, 2247], [63, 76, 11, 2923, 69, 6, 791, 1467, 407], [73, 11, 4, 7, 883, 78, 395], [10, 15, 16, 1, 106, 60, 115, 212, 29, 37, 2, 1474, 7, 494, 609, 5188, 14, 5, 11, 1264, 35, 381, 6, 439, 59, 40, 37, 2, 164], [749, 5189, 5, 10, 79, 160, 5, 677, 1, 2, 20], [10, 53, 2120, 1, 2, 61, 6, 67, 181, 84, 140, 1, 2, 747, 2264, 1, 2, 113, 103], [5190, 5, 73, 2094, 4, 30, 32, 57, 1, 183, 8, 844, 805], [354, 12, 13, 302, 293, 160], [2610, 42, 1, 637], [1431, 203, 95], [80, 4, 1113, 261, 42, 6, 1661, 545], [141, 114, 608, 89], [2739, 136, 3, 2716], [44, 10, 7, 1, 183, 8, 1240], [253, 1736, 33, 2560, 1095, 14, 1095, 1395, 9, 2, 274, 1, 961, 324, 134, 119], [522, 22, 1, 2867, 8, 2968], [44, 102, 7, 9, 446], [44, 71, 243, 7, 26, 34, 39, 1, 872, 222]]\n"
          ],
          "name": "stdout"
        }
      ]
    },
    {
      "cell_type": "code",
      "metadata": {
        "id": "vqf6k3GbooyP",
        "colab": {
          "base_uri": "https://localhost:8080/",
          "height": 85
        },
        "outputId": "3aa1ba90-83e8-4a5f-e54f-c58e94014628"
      },
      "source": [
        "#Visualise some stuff in sequences and counts\n",
        "print(sequences[0]) # prints location of words from caption 0 'blonde woman is massaged tilt down'\n",
        "print(counts['blonde']) # no. of occurences of 'blonde'\n",
        "n=3\n",
        "print('Least Common: ', counts.most_common()[:-n-1:-1])       # n least common elements\n",
        "print('Most Common: ',counts.most_common(n))     "
      ],
      "execution_count": null,
      "outputs": [
        {
          "output_type": "stream",
          "text": [
            "[724, 7, 35, 884, 384, 91]\n",
            "10\n",
            "Least Common:  [('unknown', 1), ('handheldshowing', 1), ('longof', 1)]\n",
            "Most Common:  [('in', 2105), ('the', 1835), ('on', 1724)]\n"
          ],
          "name": "stdout"
        }
      ]
    },
    {
      "cell_type": "markdown",
      "metadata": {
        "id": "lXsRZLegvuL7"
      },
      "source": [
        "### x_seq computed here can now be used as a model input. \n"
      ]
    },
    {
      "cell_type": "code",
      "metadata": {
        "id": "AKXwiRvroou1",
        "colab": {
          "base_uri": "https://localhost:8080/",
          "height": 34
        },
        "outputId": "ab13ec6b-3a63-4d3e-cc9f-1fb741398ac5"
      },
      "source": [
        "max_len = 50\n",
        "\n",
        "X_seq = np.zeros((len(sequences),max_len))\n",
        "for i in range(len(sequences)):\n",
        "    n = len(sequences[i])\n",
        "    if n==0:\n",
        "        print(i)\n",
        "    else:\n",
        "        X_seq[i,-n:] = sequences[i]\n",
        "X_seq.shape"
      ],
      "execution_count": null,
      "outputs": [
        {
          "output_type": "execute_result",
          "data": {
            "text/plain": [
              "(6000, 50)"
            ]
          },
          "metadata": {
            "tags": []
          },
          "execution_count": 375
        }
      ]
    },
    {
      "cell_type": "code",
      "metadata": {
        "id": "nPGZhmEGoose",
        "colab": {
          "base_uri": "https://localhost:8080/",
          "height": 85
        },
        "outputId": "e88e3e3c-7069-4389-8503-aefa71515072"
      },
      "source": [
        "print(X_seq[0,:]) # length of 1st sequence after padding the caption with zeros."
      ],
      "execution_count": null,
      "outputs": [
        {
          "output_type": "stream",
          "text": [
            "[  0.   0.   0.   0.   0.   0.   0.   0.   0.   0.   0.   0.   0.   0.\n",
            "   0.   0.   0.   0.   0.   0.   0.   0.   0.   0.   0.   0.   0.   0.\n",
            "   0.   0.   0.   0.   0.   0.   0.   0.   0.   0.   0.   0.   0.   0.\n",
            "   0.   0. 724.   7.  35. 884. 384.  91.]\n"
          ],
          "name": "stdout"
        }
      ]
    },
    {
      "cell_type": "markdown",
      "metadata": {
        "id": "ypbiAyCakRaL"
      },
      "source": [
        "## Model Context\n",
        "The model architecture in this notebook are all three layer neural nets. They take the features in question as the input layer and output a probability score from 0-1 as an output layer. This output layer is then compared with the ground truth memorability scores.  Spearman correlation coeeficent is then used as the primary evaluation metric as it is in both the example code and in the MediEval competition. \n",
        "\n",
        "Initially I had experimented with differnt layers and activation functions but noticed more value in experimenting with the feature processing and using one models output as another models input.  This notebook details some of these approaches with the first two models usuing individual features and then being combined in a new model with the aim of improving the prediction of memorability. "
      ]
    },
    {
      "cell_type": "markdown",
      "metadata": {
        "id": "KnyWAEhCEyNa"
      },
      "source": [
        "#Captions Modelling \n",
        "### Inputting the caption into a model with the aim of using the output score as a scaled input into a subsequent model"
      ]
    },
    {
      "cell_type": "code",
      "metadata": {
        "id": "v0y1Bw4KEup2"
      },
      "source": [
        "Y = labels[['short-term_memorability','long-term_memorability']].values # targetsc\n",
        "X = X_seq # sequences"
      ],
      "execution_count": null,
      "outputs": []
    },
    {
      "cell_type": "code",
      "metadata": {
        "id": "k0QXbx3NEusg"
      },
      "source": [
        "X_train, X_test, Y_train, Y_test = train_test_split(X,Y, test_size=0.2, random_state=42) # random state for reproducability"
      ],
      "execution_count": null,
      "outputs": []
    },
    {
      "cell_type": "code",
      "metadata": {
        "id": "081f3sskEuvS",
        "colab": {
          "base_uri": "https://localhost:8080/",
          "height": 85
        },
        "outputId": "8d87f69e-8e12-4764-8806-0325f13c08dd"
      },
      "source": [
        "print('X_train', X_train.shape)\n",
        "print('X_test', X_test.shape)\n",
        "print('Y_train', Y_train.shape)\n",
        "print('Y_test', Y_test.shape)"
      ],
      "execution_count": null,
      "outputs": [
        {
          "output_type": "stream",
          "text": [
            "X_train (4800, 50)\n",
            "X_test (1200, 50)\n",
            "Y_train (4800, 2)\n",
            "Y_test (1200, 2)\n"
          ],
          "name": "stdout"
        }
      ]
    },
    {
      "cell_type": "code",
      "metadata": {
        "id": "4xxdspdoEux-"
      },
      "source": [
        "# add dropout - Helps prevent overfitting\n",
        "# add regularizers - Regularizers allow to apply penalties on layer parameters or layer activity during optimization.\n",
        "# activations - Used to determine the output of network. It maps the resulting values in between 0 to 1 or -1 to 1 etc. (depending upon the function).\n",
        "\n",
        "model = Sequential() # The Sequential model is a linear stack of layers.\n",
        "\n",
        "# You can simply add layers via the .add() method:\n",
        "model.add(layers.Dense(10,activation='relu',kernel_regularizer=regularizers.l2(0.0005),input_shape=(cap_max_len,))) # Just your regular densely-connected NN layer.\n",
        "model.add(layers.Dropout(0.1)) #Dropout consists in randomly setting a fraction rate of input units to 0 at each update during training; helps prevent overfitting.\n",
        "model.add(layers.Dense(10,activation='relu',kernel_regularizer=regularizers.l2(0.0005)))\n",
        "model.add(layers.Dropout(0.1))\n",
        "model.add(layers.Dense(2,activation='sigmoid'))"
      ],
      "execution_count": null,
      "outputs": []
    },
    {
      "cell_type": "code",
      "metadata": {
        "id": "LEF0ot8UEu0z"
      },
      "source": [
        "# compile the model \n",
        "model.compile(optimizer='rmsprop',loss='mse',metrics=['accuracy'])"
      ],
      "execution_count": null,
      "outputs": []
    },
    {
      "cell_type": "code",
      "metadata": {
        "id": "Qb2mpDNyEu3o",
        "colab": {
          "base_uri": "https://localhost:8080/",
          "height": 734
        },
        "outputId": "558cc5e2-e2d4-436e-de9b-9f6ee01b8be9"
      },
      "source": [
        "# training the model \n",
        "history = model.fit(X_train,Y_train,epochs=20,validation_data=(X_test,Y_test))"
      ],
      "execution_count": null,
      "outputs": [
        {
          "output_type": "stream",
          "text": [
            "Train on 4800 samples, validate on 1200 samples\n",
            "Epoch 1/20\n",
            "4800/4800 [==============================] - 1s 291us/step - loss: 0.3702 - acc: 0.6910 - val_loss: 0.2956 - val_acc: 0.7075\n",
            "Epoch 2/20\n",
            "4800/4800 [==============================] - 0s 44us/step - loss: 0.2265 - acc: 0.6942 - val_loss: 0.1617 - val_acc: 0.7067\n",
            "Epoch 3/20\n",
            "4800/4800 [==============================] - 0s 44us/step - loss: 0.1343 - acc: 0.6871 - val_loss: 0.0921 - val_acc: 0.6992\n",
            "Epoch 4/20\n",
            "4800/4800 [==============================] - 0s 43us/step - loss: 0.0835 - acc: 0.6865 - val_loss: 0.0646 - val_acc: 0.6925\n",
            "Epoch 5/20\n",
            "4800/4800 [==============================] - 0s 44us/step - loss: 0.0605 - acc: 0.6821 - val_loss: 0.0508 - val_acc: 0.6908\n",
            "Epoch 6/20\n",
            "4800/4800 [==============================] - 0s 45us/step - loss: 0.0484 - acc: 0.6679 - val_loss: 0.0415 - val_acc: 0.6800\n",
            "Epoch 7/20\n",
            "4800/4800 [==============================] - 0s 44us/step - loss: 0.0412 - acc: 0.6633 - val_loss: 0.0379 - val_acc: 0.6733\n",
            "Epoch 8/20\n",
            "4800/4800 [==============================] - 0s 44us/step - loss: 0.0369 - acc: 0.6498 - val_loss: 0.0343 - val_acc: 0.6483\n",
            "Epoch 9/20\n",
            "4800/4800 [==============================] - 0s 44us/step - loss: 0.0309 - acc: 0.6535 - val_loss: 0.0293 - val_acc: 0.6575\n",
            "Epoch 10/20\n",
            "4800/4800 [==============================] - 0s 44us/step - loss: 0.0259 - acc: 0.6690 - val_loss: 0.0240 - val_acc: 0.6617\n",
            "Epoch 11/20\n",
            "4800/4800 [==============================] - 0s 44us/step - loss: 0.0222 - acc: 0.6735 - val_loss: 0.0196 - val_acc: 0.6733\n",
            "Epoch 12/20\n",
            "4800/4800 [==============================] - 0s 44us/step - loss: 0.0185 - acc: 0.6908 - val_loss: 0.0160 - val_acc: 0.6967\n",
            "Epoch 13/20\n",
            "4800/4800 [==============================] - 0s 44us/step - loss: 0.0160 - acc: 0.6977 - val_loss: 0.0150 - val_acc: 0.7067\n",
            "Epoch 14/20\n",
            "4800/4800 [==============================] - 0s 44us/step - loss: 0.0155 - acc: 0.6977 - val_loss: 0.0147 - val_acc: 0.7108\n",
            "Epoch 15/20\n",
            "4800/4800 [==============================] - 0s 45us/step - loss: 0.0151 - acc: 0.7027 - val_loss: 0.0146 - val_acc: 0.7100\n",
            "Epoch 16/20\n",
            "4800/4800 [==============================] - 0s 44us/step - loss: 0.0146 - acc: 0.7031 - val_loss: 0.0146 - val_acc: 0.7100\n",
            "Epoch 17/20\n",
            "4800/4800 [==============================] - 0s 44us/step - loss: 0.0143 - acc: 0.7033 - val_loss: 0.0142 - val_acc: 0.7100\n",
            "Epoch 18/20\n",
            "4800/4800 [==============================] - 0s 44us/step - loss: 0.0143 - acc: 0.7031 - val_loss: 0.0142 - val_acc: 0.7100\n",
            "Epoch 19/20\n",
            "4800/4800 [==============================] - 0s 45us/step - loss: 0.0142 - acc: 0.7035 - val_loss: 0.0141 - val_acc: 0.7100\n",
            "Epoch 20/20\n",
            "4800/4800 [==============================] - 0s 44us/step - loss: 0.0142 - acc: 0.7029 - val_loss: 0.0141 - val_acc: 0.7100\n"
          ],
          "name": "stdout"
        }
      ]
    },
    {
      "cell_type": "code",
      "metadata": {
        "id": "TvU9pr25Eu6t",
        "colab": {
          "base_uri": "https://localhost:8080/",
          "height": 295
        },
        "outputId": "e756be87-ee62-4b93-f5ba-faf6dd26272f"
      },
      "source": [
        "loss = history.history['loss']\n",
        "val_loss = history.history['val_loss']\n",
        "\n",
        "epochs = range(1,len(loss)+1)\n",
        "\n",
        "plt.plot(epochs,loss,'bo',label='Training loss')\n",
        "plt.plot(epochs,val_loss,'b',label='Validation loss')\n",
        "plt.title('Training and validation loss')\n",
        "plt.xlabel('Epochs')\n",
        "plt.ylabel('Loss')\n",
        "plt.legend()\n",
        "plt.show()"
      ],
      "execution_count": null,
      "outputs": [
        {
          "output_type": "display_data",
          "data": {
            "image/png": "[encoded data removed]",
            "text/plain": [
              "<Figure size 432x288 with 1 Axes>"
            ]
          },
          "metadata": {
            "tags": []
          }
        }
      ]
    },
    {
      "cell_type": "code",
      "metadata": {
        "id": "q-1RIsFuEu9k",
        "colab": {
          "base_uri": "https://localhost:8080/",
          "height": 295
        },
        "outputId": "f2b2cab3-9b57-4970-e32e-5ccff400bd0c"
      },
      "source": [
        "plt.figure()\n",
        "acc = history.history['acc']\n",
        "val_acc = history.history['val_acc']\n",
        "plt.plot(epochs, acc, 'bo', label='Training acc')\n",
        "plt.plot(epochs, val_acc, 'b', label='Validation acc')\n",
        "plt.title('Training and validation accuracy')\n",
        "plt.xlabel('Epochs')\n",
        "plt.ylabel('Acc')\n",
        "plt.legend()\n",
        "plt.show()"
      ],
      "execution_count": null,
      "outputs": [
        {
          "output_type": "display_data",
          "data": {
            "image/png": "[encoded data removed]",
            "text/plain": [
              "<Figure size 432x288 with 1 Axes>"
            ]
          },
          "metadata": {
            "tags": []
          }
        }
      ]
    },
    {
      "cell_type": "code",
      "metadata": {
        "id": "LMVW_6mTVTbZ"
      },
      "source": [
        "def Get_score(Y_pred,Y_true):\n",
        "    '''Calculate the Spearmann\"s correlation coefficient'''\n",
        "    Y_pred = np.squeeze(Y_pred)\n",
        "    Y_true = np.squeeze(Y_true)\n",
        "    if Y_pred.shape != Y_true.shape:\n",
        "        print('Input shapes don\\'t match!')\n",
        "    else:\n",
        "        if len(Y_pred.shape) == 1:\n",
        "            Res = pd.DataFrame({'Y_true':Y_true,'Y_pred':Y_pred})\n",
        "            score_mat = Res[['Y_true','Y_pred']].corr(method='spearman',min_periods=1)\n",
        "            print('The Spearman\\'s correlation coefficient is: %.3f' % score_mat.iloc[1][0])\n",
        "        else:\n",
        "            for ii in range(Y_pred.shape[1]):\n",
        "                Get_score(Y_pred[:,ii],Y_true[:,ii])"
      ],
      "execution_count": null,
      "outputs": []
    },
    {
      "cell_type": "code",
      "metadata": {
        "id": "E3NeuktqEvAV",
        "colab": {
          "base_uri": "https://localhost:8080/",
          "height": 170
        },
        "outputId": "26b7ac74-9537-4fd9-aef6-473fb63a693d"
      },
      "source": [
        "predictions = model.predict(X_test)\n",
        "print(predictions)\n",
        "Get_score(predictions, Y_test) # Try remember what the Spearman scores actually mean!"
      ],
      "execution_count": null,
      "outputs": [
        {
          "output_type": "stream",
          "text": [
            "[[0.8615807  0.7783828 ]\n",
            " [0.8615807  0.7783828 ]\n",
            " [0.8668281  0.7841706 ]\n",
            " ...\n",
            " [0.8615807  0.7783828 ]\n",
            " [0.85407096 0.78053236]\n",
            " [0.8614943  0.777594  ]]\n",
            "The Spearman's correlation coefficient is: 0.015\n",
            "The Spearman's correlation coefficient is: -0.026\n"
          ],
          "name": "stdout"
        }
      ]
    },
    {
      "cell_type": "code",
      "metadata": {
        "id": "HXO26D_O7VsN"
      },
      "source": [
        "model.save('/content/drive/My Drive/Memorability_assignment/captions_model.h5')"
      ],
      "execution_count": null,
      "outputs": []
    },
    {
      "cell_type": "markdown",
      "metadata": {
        "id": "m_WJrWBw89B5"
      },
      "source": [
        "### Evaluating one hot encoding\n",
        "One hot encoding is a cool way of evaluating the impact of specific words in isolation on the memorability score. \n",
        "In this instance when a particular word is present in a caption that words column will have a 1 if it is not present that word's column in the final array will have a 0"
      ]
    },
    {
      "cell_type": "code",
      "metadata": {
        "id": "2Zp5ewV8EvDE",
        "colab": {
          "base_uri": "https://localhost:8080/",
          "height": 34
        },
        "outputId": "db1aca7b-4930-4c2f-d963-ec94562d6482"
      },
      "source": [
        "one_hot_res.shape"
      ],
      "execution_count": null,
      "outputs": [
        {
          "output_type": "execute_result",
          "data": {
            "text/plain": [
              "(6000, 5191)"
            ]
          },
          "metadata": {
            "tags": []
          },
          "execution_count": 388
        }
      ]
    },
    {
      "cell_type": "code",
      "metadata": {
        "id": "1k41GptDEvFz",
        "colab": {
          "base_uri": "https://localhost:8080/",
          "height": 1290
        },
        "outputId": "a6cc491f-fc5d-4f0a-c472-9d7c5e588978"
      },
      "source": [
        "Y = labels[['short-term_memorability','long-term_memorability']].values\n",
        "X = one_hot_res;\n",
        "X_train, X_test, Y_train, Y_test = train_test_split(X,Y, test_size=0.2, random_state=42)\n",
        "\n",
        "# add dropout\n",
        "# add regularizers\n",
        "model = Sequential()\n",
        "model.add(layers.Dense(10,activation='relu',kernel_regularizer=regularizers.l2(0.001),input_shape=(len_token,)))\n",
        "model.add(layers.Dropout(0.6))\n",
        "model.add(layers.Dense(10,activation='relu',kernel_regularizer=regularizers.l2(0.001)))\n",
        "model.add(layers.Dropout(0.5))\n",
        "model.add(layers.Dense(2,activation='sigmoid'))\n",
        "\n",
        "# compile the model \n",
        "model.compile(optimizer='rmsprop',loss='mse',metrics=['accuracy'])\n",
        "\n",
        "# training the model \n",
        "history = model.fit(X_train,Y_train,epochs=20,validation_data=(X_test,Y_test))\n",
        "\n",
        "# visualizing the model\n",
        "loss = history.history['loss']\n",
        "val_loss = history.history['val_loss']\n",
        "\n",
        "epochs = range(1,len(loss)+1)\n",
        "\n",
        "plt.plot(epochs,loss,'bo',label='Training loss')\n",
        "plt.plot(epochs,val_loss,'b',label='Validation loss')\n",
        "plt.title('Training and validation loss')\n",
        "plt.xlabel('Epochs')\n",
        "plt.ylabel('Loss')\n",
        "plt.legend()\n",
        "plt.show()\n",
        "\n",
        "plt.figure()\n",
        "acc = history.history['acc']\n",
        "val_acc = history.history['val_acc']\n",
        "plt.plot(epochs, acc, 'bo', label='Training acc')\n",
        "plt.plot(epochs, val_acc, 'b', label='Validation acc')\n",
        "plt.title('Training and validation accuracy')\n",
        "plt.xlabel('Epochs')\n",
        "plt.ylabel('Acc')\n",
        "plt.legend()\n",
        "plt.show()"
      ],
      "execution_count": null,
      "outputs": [
        {
          "output_type": "stream",
          "text": [
            "Train on 4800 samples, validate on 1200 samples\n",
            "Epoch 1/20\n",
            "4800/4800 [==============================] - 2s 369us/step - loss: 0.0910 - acc: 0.4408 - val_loss: 0.0459 - val_acc: 0.2900\n",
            "Epoch 2/20\n",
            "4800/4800 [==============================] - 1s 119us/step - loss: 0.0449 - acc: 0.4894 - val_loss: 0.0204 - val_acc: 0.2933\n",
            "Epoch 3/20\n",
            "4800/4800 [==============================] - 1s 119us/step - loss: 0.0284 - acc: 0.5644 - val_loss: 0.0154 - val_acc: 0.7100\n",
            "Epoch 4/20\n",
            "4800/4800 [==============================] - 1s 124us/step - loss: 0.0214 - acc: 0.6498 - val_loss: 0.0146 - val_acc: 0.7100\n",
            "Epoch 5/20\n",
            "4800/4800 [==============================] - 1s 121us/step - loss: 0.0185 - acc: 0.6852 - val_loss: 0.0142 - val_acc: 0.7100\n",
            "Epoch 6/20\n",
            "4800/4800 [==============================] - 1s 118us/step - loss: 0.0171 - acc: 0.7040 - val_loss: 0.0141 - val_acc: 0.7100\n",
            "Epoch 7/20\n",
            "4800/4800 [==============================] - 1s 120us/step - loss: 0.0160 - acc: 0.7035 - val_loss: 0.0141 - val_acc: 0.7100\n",
            "Epoch 8/20\n",
            "4800/4800 [==============================] - 1s 119us/step - loss: 0.0154 - acc: 0.7035 - val_loss: 0.0140 - val_acc: 0.7100\n",
            "Epoch 9/20\n",
            "4800/4800 [==============================] - 1s 119us/step - loss: 0.0150 - acc: 0.7035 - val_loss: 0.0140 - val_acc: 0.7100\n",
            "Epoch 10/20\n",
            "4800/4800 [==============================] - 1s 123us/step - loss: 0.0147 - acc: 0.7035 - val_loss: 0.0140 - val_acc: 0.7100\n",
            "Epoch 11/20\n",
            "4800/4800 [==============================] - 1s 123us/step - loss: 0.0143 - acc: 0.7035 - val_loss: 0.0140 - val_acc: 0.7100\n",
            "Epoch 12/20\n",
            "4800/4800 [==============================] - 1s 125us/step - loss: 0.0141 - acc: 0.7035 - val_loss: 0.0140 - val_acc: 0.7100\n",
            "Epoch 13/20\n",
            "4800/4800 [==============================] - 1s 117us/step - loss: 0.0140 - acc: 0.7035 - val_loss: 0.0140 - val_acc: 0.7100\n",
            "Epoch 14/20\n",
            "4800/4800 [==============================] - 1s 116us/step - loss: 0.0139 - acc: 0.7035 - val_loss: 0.0140 - val_acc: 0.7100\n",
            "Epoch 15/20\n",
            "4800/4800 [==============================] - 1s 125us/step - loss: 0.0139 - acc: 0.7035 - val_loss: 0.0140 - val_acc: 0.7100\n",
            "Epoch 16/20\n",
            "4800/4800 [==============================] - 1s 118us/step - loss: 0.0138 - acc: 0.7035 - val_loss: 0.0141 - val_acc: 0.7100\n",
            "Epoch 17/20\n",
            "4800/4800 [==============================] - 1s 118us/step - loss: 0.0138 - acc: 0.7035 - val_loss: 0.0140 - val_acc: 0.7100\n",
            "Epoch 18/20\n",
            "4800/4800 [==============================] - 1s 115us/step - loss: 0.0138 - acc: 0.7035 - val_loss: 0.0140 - val_acc: 0.7100\n",
            "Epoch 19/20\n",
            "4800/4800 [==============================] - 1s 116us/step - loss: 0.0137 - acc: 0.7035 - val_loss: 0.0140 - val_acc: 0.7100\n",
            "Epoch 20/20\n",
            "4800/4800 [==============================] - 1s 120us/step - loss: 0.0137 - acc: 0.7035 - val_loss: 0.0140 - val_acc: 0.7100\n"
          ],
          "name": "stdout"
        },
        {
          "output_type": "display_data",
          "data": {
            "image/png": "[encoded data removed]",
            "text/plain": [
              "<Figure size 432x288 with 1 Axes>"
            ]
          },
          "metadata": {
            "tags": []
          }
        },
        {
          "output_type": "display_data",
          "data": {
            "image/png": "[encoded data removed]",
            "text/plain": [
              "<Figure size 432x288 with 1 Axes>"
            ]
          },
          "metadata": {
            "tags": []
          }
        }
      ]
    },
    {
      "cell_type": "code",
      "metadata": {
        "id": "PnMtb-Yx7vKr"
      },
      "source": [
        "model.save('/content/drive/My Drive/Memorability_assignment/one_hot_model.h5')"
      ],
      "execution_count": null,
      "outputs": []
    },
    {
      "cell_type": "code",
      "metadata": {
        "id": "HEFHywTgEvIt",
        "colab": {
          "base_uri": "https://localhost:8080/",
          "height": 34
        },
        "outputId": "fc67ebbb-c495-42c8-9b60-7bc1c24ced15"
      },
      "source": [
        "one_hot_caps_predictions = model.predict(X_test)\n",
        "print(one_hot_caps_predictions.shape)\n",
        "one_hot_model = model \n"
      ],
      "execution_count": null,
      "outputs": [
        {
          "output_type": "stream",
          "text": [
            "(1200, 2)\n"
          ],
          "name": "stdout"
        }
      ]
    },
    {
      "cell_type": "code",
      "metadata": {
        "id": "nf7w6gnVpx2C",
        "colab": {
          "base_uri": "https://localhost:8080/",
          "height": 34
        },
        "outputId": "adc2775e-5923-4724-e3bf-546d2a3b6344"
      },
      "source": [
        "print(one_hot_model)"
      ],
      "execution_count": null,
      "outputs": [
        {
          "output_type": "stream",
          "text": [
            "<keras.engine.sequential.Sequential object at 0x7fc8f2d48588>\n"
          ],
          "name": "stdout"
        }
      ]
    },
    {
      "cell_type": "markdown",
      "metadata": {
        "id": "TVzQEW2eVnHv"
      },
      "source": [
        "Using one hot encoding from the provided examples we can compute a stronger memorability correlation to the ground truth memorability scrore. The value add of this project will be using this model output in combination with the Fc7 layer in an attempt to improve prediction here. "
      ]
    },
    {
      "cell_type": "code",
      "metadata": {
        "id": "lKaCIqkfEvM-",
        "colab": {
          "base_uri": "https://localhost:8080/",
          "height": 51
        },
        "outputId": "998b20d9-7a0d-4889-95a0-ccb1570ff20a"
      },
      "source": [
        "Get_score(one_hot_caps_predictions, Y_test)"
      ],
      "execution_count": null,
      "outputs": [
        {
          "output_type": "stream",
          "text": [
            "The Spearman's correlation coefficient is: 0.273\n",
            "The Spearman's correlation coefficient is: 0.151\n"
          ],
          "name": "stdout"
        }
      ]
    },
    {
      "cell_type": "code",
      "metadata": {
        "id": "Ug9Av53UEvSJ",
        "colab": {
          "base_uri": "https://localhost:8080/",
          "height": 136
        },
        "outputId": "302824f9-1b2f-44e8-a523-5f14258a475f"
      },
      "source": [
        "print (one_hot_caps_predictions)"
      ],
      "execution_count": null,
      "outputs": [
        {
          "output_type": "stream",
          "text": [
            "[[0.8583356  0.7774879 ]\n",
            " [0.85744417 0.7766682 ]\n",
            " [0.8576328  0.776842  ]\n",
            " ...\n",
            " [0.85833055 0.7774834 ]\n",
            " [0.8580712  0.77724546]\n",
            " [0.85727787 0.7765161 ]]\n"
          ],
          "name": "stdout"
        }
      ]
    },
    {
      "cell_type": "markdown",
      "metadata": {
        "id": "lgqV_YJQooEH"
      },
      "source": [
        "# Inception Features Processing \n",
        "### Fc7 Layer"
      ]
    },
    {
      "cell_type": "markdown",
      "metadata": {
        "id": "aVhTReLVi5J3"
      },
      "source": [
        "The cells below operate to take the precomputed features and prepare them to be inputting into the first layer of a neural network. \n",
        "It works by parsing the map which the provided file contains and storing in a python dictionary. \n",
        "\n",
        "This dictionary is then loaded into an array and passed through a model with the aim of computing a high correlation to the ground truth dataset. "
      ]
    },
    {
      "cell_type": "code",
      "metadata": {
        "id": "NFD64-LN_sAZ",
        "colab": {
          "base_uri": "https://localhost:8080/",
          "height": 187
        },
        "outputId": "f5389a4c-de9b-4fd0-d998-68bba348ad0f"
      },
      "source": [
        "inception_path = Path('InceptionV3')\n",
        "\n",
        "!ls '{inception_path}' | head -10"
      ],
      "execution_count": null,
      "outputs": [
        {
          "output_type": "stream",
          "text": [
            "video100-0.txt\n",
            "video1001-0.txt\n",
            "video1001-112.txt\n",
            "video100-112.txt\n",
            "video1001-56.txt\n",
            "video1003-0.txt\n",
            "video1003-112.txt\n",
            "video1003-56.txt\n",
            "video1004-0.txt\n",
            "video1004-112.txt\n"
          ],
          "name": "stdout"
        }
      ]
    },
    {
      "cell_type": "code",
      "metadata": {
        "id": "VWMtHgi0_sI_",
        "colab": {
          "base_uri": "https://localhost:8080/",
          "height": 34
        },
        "outputId": "57a6027b-2b80-412d-817c-e2294716f2a0"
      },
      "source": [
        "!ls '{inception_path}' | wc -l"
      ],
      "execution_count": null,
      "outputs": [
        {
          "output_type": "stream",
          "text": [
            "18000\n"
          ],
          "name": "stdout"
        }
      ]
    },
    {
      "cell_type": "code",
      "metadata": {
        "id": "uOF-0QA4_sLp",
        "colab": {
          "base_uri": "https://localhost:8080/",
          "height": 54
        },
        "outputId": "9beb380c-619f-4dc1-f85e-9737f410e744"
      },
      "source": [
        "example_inception_path = inception_path / 'video10-0.txt'\n",
        "example_inception_path.open().read()"
      ],
      "execution_count": null,
      "outputs": [
        {
          "output_type": "execute_result",
          "data": {
            "text/plain": [
              "'8:2.811053e-38 12:4.527463e-34 58:7.063336e-34 107:4.006941e-31 110:9.993380e-01 112:4.186179e-35 123:1.304208e-37 294:7.722262e-37 295:2.903859e-32 323:6.014483e-33 392:5.602231e-38 396:4.263801e-33 524:1.684702e-38 543:1.156429e-24 546:3.005845e-19 611:4.177478e-38 618:3.339212e-32 693:2.644775e-29 714:6.619816e-04 725:3.289480e-21 765:2.632254e-36 773:5.967941e-14 811:2.472793e-36 850:5.449528e-35 852:1.594492e-28 857:4.170681e-37 864:3.997572e-36 883:1.215084e-17 899:2.787453e-31 951:1.757438e-27 961:9.840043e-27 984:7.116916e-26 \\n'"
            ]
          },
          "metadata": {
            "tags": []
          },
          "execution_count": 397
        }
      ]
    },
    {
      "cell_type": "code",
      "metadata": {
        "id": "JSfK2xB4_sOP"
      },
      "source": [
        "def parse_inception_feature(s):\n",
        "    pairs = s.strip().split(' ')\n",
        "    pairs = [i.split(':') for i in pairs]\n",
        "    return {int(k): float(v) for k, v in pairs}\n",
        "\n",
        "sample_inception_dictionary = parse_inception_feature(example_inception_path.open().read())\n"
      ],
      "execution_count": null,
      "outputs": []
    },
    {
      "cell_type": "code",
      "metadata": {
        "id": "x9bbAO6MKIx8",
        "colab": {
          "base_uri": "https://localhost:8080/",
          "height": 102
        },
        "outputId": "554e6072-d625-402d-e622-c0cffc923345"
      },
      "source": [
        "def expand_inception_feature(d):\n",
        "  feature = np.zeros(1000)\n",
        "  for k, v in d.items():\n",
        "    feature[k] = v\n",
        "  return feature\n",
        "  \n",
        "# show first 20 values\n",
        "expand_inception_feature(sample_inception_dictionary)[:20]"
      ],
      "execution_count": null,
      "outputs": [
        {
          "output_type": "execute_result",
          "data": {
            "text/plain": [
              "array([0.000000e+00, 0.000000e+00, 0.000000e+00, 0.000000e+00,\n",
              "       0.000000e+00, 0.000000e+00, 0.000000e+00, 0.000000e+00,\n",
              "       2.811053e-38, 0.000000e+00, 0.000000e+00, 0.000000e+00,\n",
              "       4.527463e-34, 0.000000e+00, 0.000000e+00, 0.000000e+00,\n",
              "       0.000000e+00, 0.000000e+00, 0.000000e+00, 0.000000e+00])"
            ]
          },
          "metadata": {
            "tags": []
          },
          "execution_count": 399
        }
      ]
    },
    {
      "cell_type": "code",
      "metadata": {
        "id": "R0n_4ExLaEtf",
        "colab": {
          "base_uri": "https://localhost:8080/",
          "height": 561
        },
        "outputId": "f75240d0-1ab9-4dc7-f46b-8091bef9a7fc"
      },
      "source": [
        "sample_inception_dictionary"
      ],
      "execution_count": null,
      "outputs": [
        {
          "output_type": "execute_result",
          "data": {
            "text/plain": [
              "{8: 2.811053e-38,\n",
              " 12: 4.527463e-34,\n",
              " 58: 7.063336e-34,\n",
              " 107: 4.006941e-31,\n",
              " 110: 0.999338,\n",
              " 112: 4.186179e-35,\n",
              " 123: 1.304208e-37,\n",
              " 294: 7.722262e-37,\n",
              " 295: 2.903859e-32,\n",
              " 323: 6.014483e-33,\n",
              " 392: 5.602231e-38,\n",
              " 396: 4.263801e-33,\n",
              " 524: 1.684702e-38,\n",
              " 543: 1.156429e-24,\n",
              " 546: 3.005845e-19,\n",
              " 611: 4.177478e-38,\n",
              " 618: 3.339212e-32,\n",
              " 693: 2.644775e-29,\n",
              " 714: 0.0006619816,\n",
              " 725: 3.28948e-21,\n",
              " 765: 2.632254e-36,\n",
              " 773: 5.967941e-14,\n",
              " 811: 2.472793e-36,\n",
              " 850: 5.449528e-35,\n",
              " 852: 1.594492e-28,\n",
              " 857: 4.170681e-37,\n",
              " 864: 3.997572e-36,\n",
              " 883: 1.215084e-17,\n",
              " 899: 2.787453e-31,\n",
              " 951: 1.757438e-27,\n",
              " 961: 9.840043e-27,\n",
              " 984: 7.116916e-26}"
            ]
          },
          "metadata": {
            "tags": []
          },
          "execution_count": 400
        }
      ]
    },
    {
      "cell_type": "code",
      "metadata": {
        "id": "lsvxknH__sVN",
        "colab": {
          "base_uri": "https://localhost:8080/",
          "height": 34
        },
        "outputId": "5cde3aed-2ea0-4ae9-f271-9973cf8019a8"
      },
      "source": [
        "# we will convert the keys using pathlib like this\n",
        "example_inception_path.with_suffix('.webm').name.replace('-0', '')"
      ],
      "execution_count": null,
      "outputs": [
        {
          "output_type": "execute_result",
          "data": {
            "text/plain": [
              "'video10.webm'"
            ]
          },
          "metadata": {
            "tags": []
          },
          "execution_count": 402
        }
      ]
    },
    {
      "cell_type": "code",
      "metadata": {
        "id": "610uZmka_sYN"
      },
      "source": [
        "max_iterations = 6000 "
      ],
      "execution_count": null,
      "outputs": []
    },
    {
      "cell_type": "code",
      "metadata": {
        "id": "N72DMbi5_sa5"
      },
      "source": [
        "list(inception_path.glob('*-0.txt'))[:max_iterations]"
      ],
      "execution_count": null,
      "outputs": []
    },
    {
      "cell_type": "code",
      "metadata": {
        "id": "wtP_U7HC_sdc",
        "colab": {
          "base_uri": "https://localhost:8080/",
          "height": 52
        },
        "outputId": "4afebeaf-0da5-4421-9a5d-6be60889a367"
      },
      "source": [
        "# this would take approximately 20 minutes to run if we were to do the whole thing in colab. \n",
        "# Better to cache results\n",
        "max_iterations \n",
        "\n",
        "inception_features_dict = {}\n",
        "for file in tqdm(list(inception_path.glob('*-0.txt'))[:max_iterations]):\n",
        "  # only process first frame of each video\n",
        "  key = file.with_suffix('.webm').name.replace('-0', '')\n",
        "  inception_features_dict[key] = expand_inception_feature(\n",
        "    parse_inception_feature(\n",
        "      file.open().read()))"
      ],
      "execution_count": null,
      "outputs": [
        {
          "output_type": "display_data",
          "data": {
            "text/html": [
              "<div style=\"display:flex;flex-direction:row;\"><span></span><progress style='margin:2px 4px;' max='6000' value='6000'></progress>100% 6000/6000 [00:19&lt;00:00, 310.87it/s]</div>"
            ],
            "text/plain": [
              "<tqdm._fake_ipywidgets.HBox object>"
            ]
          },
          "metadata": {
            "tags": []
          }
        },
        {
          "output_type": "stream",
          "text": [
            "\n"
          ],
          "name": "stdout"
        }
      ]
    },
    {
      "cell_type": "code",
      "metadata": {
        "id": "GXJDQ54b_sfv"
      },
      "source": [
        "# convert features to dataframe\n",
        "inception_features = pd.DataFrame(inception_features_dict).T\n",
        "inception_features.head(10)"
      ],
      "execution_count": null,
      "outputs": []
    },
    {
      "cell_type": "code",
      "metadata": {
        "id": "4PGWmXHX_sj2",
        "colab": {
          "base_uri": "https://localhost:8080/",
          "height": 51
        },
        "outputId": "427bf754-1e4d-486b-a9fe-ac83b1b128f9"
      },
      "source": [
        "inception_features.loc['video1297.webm'].values[:20]"
      ],
      "execution_count": null,
      "outputs": [
        {
          "output_type": "execute_result",
          "data": {
            "text/plain": [
              "array([0., 0., 0., 0., 0., 0., 0., 0., 0., 0., 0., 0., 0., 0., 0., 0., 0.,\n",
              "       0., 0., 0.])"
            ]
          },
          "metadata": {
            "tags": []
          },
          "execution_count": 407
        }
      ]
    },
    {
      "cell_type": "code",
      "metadata": {
        "id": "bZ7Jx7dP_srk"
      },
      "source": [
        "print(inception_features[2])"
      ],
      "execution_count": null,
      "outputs": []
    },
    {
      "cell_type": "code",
      "metadata": {
        "id": "DdydTOCSTA06",
        "colab": {
          "base_uri": "https://localhost:8080/",
          "height": 34
        },
        "outputId": "25a2a089-84fa-4fbd-b6a8-5cc555293f05"
      },
      "source": [
        "inception_features.shape\n"
      ],
      "execution_count": null,
      "outputs": [
        {
          "output_type": "execute_result",
          "data": {
            "text/plain": [
              "(6000, 1000)"
            ]
          },
          "metadata": {
            "tags": []
          },
          "execution_count": 409
        }
      ]
    },
    {
      "cell_type": "code",
      "metadata": {
        "id": "a1dP5PG3TZrH"
      },
      "source": [
        "max_len = 6000"
      ],
      "execution_count": null,
      "outputs": []
    },
    {
      "cell_type": "code",
      "metadata": {
        "id": "iaXSiP87_suq"
      },
      "source": [
        "# Note: Only run this once\n",
        "\n",
        "X_inception = np.zeros((len(inception_features),max_len))\n",
        "for i in range(len(inception_features)):\n",
        "    n = len(inception_features[i])\n",
        "    if n==0:\n",
        "        print(i)\n",
        "    else:\n",
        "        X_inception[i,-n:] = inception_features[i]\n",
        "X_inception.shape"
      ],
      "execution_count": null,
      "outputs": []
    },
    {
      "cell_type": "markdown",
      "metadata": {
        "id": "puCTpx2DQwoB"
      },
      "source": [
        "\n",
        "#Inception Layer Modelling\n",
        "### Predicting Memorability with the Fc7 Layer from inception"
      ]
    },
    {
      "cell_type": "code",
      "metadata": {
        "id": "IuAYEEu7_s0U"
      },
      "source": [
        "Y = labels[['short-term_memorability','long-term_memorability']].values # targets\n",
        "X = X_inception"
      ],
      "execution_count": null,
      "outputs": []
    },
    {
      "cell_type": "code",
      "metadata": {
        "id": "K5Z8ylcaop8q"
      },
      "source": [
        "X_train, X_test, Y_train, Y_test = train_test_split(X,Y, test_size=0.2, random_state=42) # random state for reproducability"
      ],
      "execution_count": null,
      "outputs": []
    },
    {
      "cell_type": "code",
      "metadata": {
        "id": "JHHEdSQt_s25",
        "colab": {
          "base_uri": "https://localhost:8080/",
          "height": 85
        },
        "outputId": "94166d28-158e-4f8f-c65a-dbcab9a02c91"
      },
      "source": [
        "print('X_train', X_train.shape)\n",
        "print('X_test', X_test.shape)\n",
        "print('Y_train', Y_train.shape)\n",
        "print('Y_test', Y_test.shape)"
      ],
      "execution_count": null,
      "outputs": [
        {
          "output_type": "stream",
          "text": [
            "X_train (4800, 6000)\n",
            "X_test (1200, 6000)\n",
            "Y_train (4800, 2)\n",
            "Y_test (1200, 2)\n"
          ],
          "name": "stdout"
        }
      ]
    },
    {
      "cell_type": "code",
      "metadata": {
        "id": "VkiffuuVqRzv",
        "colab": {
          "base_uri": "https://localhost:8080/",
          "height": 34
        },
        "outputId": "7b0a4811-35ea-4f8c-c2fd-e3a31e36138f"
      },
      "source": [
        "inception_features_np = inception_features.values\n",
        "\n",
        "inception_features_np.shape"
      ],
      "execution_count": null,
      "outputs": [
        {
          "output_type": "execute_result",
          "data": {
            "text/plain": [
              "(6000, 1000)"
            ]
          },
          "metadata": {
            "tags": []
          },
          "execution_count": 415
        }
      ]
    },
    {
      "cell_type": "code",
      "metadata": {
        "id": "z3xkS6LqsQzY"
      },
      "source": [
        "# calculating max length\n",
        "max_len = 6000"
      ],
      "execution_count": null,
      "outputs": []
    },
    {
      "cell_type": "markdown",
      "metadata": {
        "id": "INn3cHdgdrBA"
      },
      "source": [
        "\n",
        "## Using the Keras python package the below code builds and runs a three layer neural network and evalauates the Inception layer precomputed features\n",
        "During experimentation I added and removed layers and altered the activation function. I didn't seem any meaningful Spearman correlation improvement from adding up tp seven layers so decided to stick to the default three for simplicity and try to improve the model performance by further experiments with features"
      ]
    },
    {
      "cell_type": "code",
      "metadata": {
        "id": "cQRhf1tn_s5n"
      },
      "source": [
        "# add dropout - Helps prevent overfitting\n",
        "# add regularizers - Regularizers allow to apply penalties on layer parameters or layer activity during optimization.\n",
        "# activations - Used to determine the output of network. It maps the resulting values in between 0 to 1 or -1 to 1 etc. (depending upon the function).\n",
        "\n",
        "model = Sequential() # The Sequential model is a linear stack of layers.\n",
        "\n",
        "# You can simply add layers via the .add() method:\n",
        "# You can simply add layers via the .add() method:\n",
        "model.add(layers.Dense(10,activation='relu',kernel_regularizer=regularizers.l2(0.0005),input_shape=(max_len,))) # Just your regular densely-connected NN layer.\n",
        "model.add(layers.Dropout(0.5)) #Dropout consists in randomly setting a fraction rate of input units to 0 at each update during training; helps prevent overfitting.\n",
        "model.add(layers.Dense(10,activation='relu',kernel_regularizer=regularizers.l2(0.0005)))\n",
        "model.add(layers.Dropout(0.5))\n",
        "model.add(layers.Dense(2,activation='sigmoid'))"
      ],
      "execution_count": null,
      "outputs": []
    },
    {
      "cell_type": "code",
      "metadata": {
        "id": "_c8tphNQwSFe",
        "colab": {
          "base_uri": "https://localhost:8080/",
          "height": 306
        },
        "outputId": "6706377e-7f03-4f17-e67b-b4ac8f075e7c"
      },
      "source": [
        "model.summary()"
      ],
      "execution_count": null,
      "outputs": [
        {
          "output_type": "stream",
          "text": [
            "_________________________________________________________________\n",
            "Layer (type)                 Output Shape              Param #   \n",
            "=================================================================\n",
            "dense_82 (Dense)             (None, 10)                60010     \n",
            "_________________________________________________________________\n",
            "dropout_55 (Dropout)         (None, 10)                0         \n",
            "_________________________________________________________________\n",
            "dense_83 (Dense)             (None, 10)                110       \n",
            "_________________________________________________________________\n",
            "dropout_56 (Dropout)         (None, 10)                0         \n",
            "_________________________________________________________________\n",
            "dense_84 (Dense)             (None, 2)                 22        \n",
            "=================================================================\n",
            "Total params: 60,142\n",
            "Trainable params: 60,142\n",
            "Non-trainable params: 0\n",
            "_________________________________________________________________\n"
          ],
          "name": "stdout"
        }
      ]
    },
    {
      "cell_type": "code",
      "metadata": {
        "id": "9cWNPUnD_s-w",
        "colab": {
          "base_uri": "https://localhost:8080/",
          "height": 734
        },
        "outputId": "ef2d7780-612f-4c2d-bfc2-d0feb3bfd1a4"
      },
      "source": [
        "# compile the model \n",
        "model.compile(optimizer='rmsprop',loss='mse',metrics=['accuracy'])\n",
        "# training the model \n",
        "history = model.fit(X_train,Y_train,epochs=20,validation_data=(X_test,Y_test))"
      ],
      "execution_count": null,
      "outputs": [
        {
          "output_type": "stream",
          "text": [
            "Train on 4800 samples, validate on 1200 samples\n",
            "Epoch 1/20\n",
            "4800/4800 [==============================] - 2s 408us/step - loss: 0.0813 - acc: 0.3708 - val_loss: 0.0401 - val_acc: 0.2900\n",
            "Epoch 2/20\n",
            "4800/4800 [==============================] - 1s 130us/step - loss: 0.0368 - acc: 0.4250 - val_loss: 0.0177 - val_acc: 0.7100\n",
            "Epoch 3/20\n",
            "4800/4800 [==============================] - 1s 130us/step - loss: 0.0263 - acc: 0.5915 - val_loss: 0.0153 - val_acc: 0.7100\n",
            "Epoch 4/20\n",
            "4800/4800 [==============================] - 1s 135us/step - loss: 0.0217 - acc: 0.6300 - val_loss: 0.0147 - val_acc: 0.7100\n",
            "Epoch 5/20\n",
            "4800/4800 [==============================] - 1s 131us/step - loss: 0.0191 - acc: 0.6692 - val_loss: 0.0144 - val_acc: 0.7100\n",
            "Epoch 6/20\n",
            "4800/4800 [==============================] - 1s 129us/step - loss: 0.0173 - acc: 0.6967 - val_loss: 0.0142 - val_acc: 0.7100\n",
            "Epoch 7/20\n",
            "4800/4800 [==============================] - 1s 131us/step - loss: 0.0165 - acc: 0.7035 - val_loss: 0.0141 - val_acc: 0.7100\n",
            "Epoch 8/20\n",
            "4800/4800 [==============================] - 1s 130us/step - loss: 0.0155 - acc: 0.7035 - val_loss: 0.0140 - val_acc: 0.7100\n",
            "Epoch 9/20\n",
            "4800/4800 [==============================] - 1s 127us/step - loss: 0.0153 - acc: 0.7035 - val_loss: 0.0140 - val_acc: 0.7100\n",
            "Epoch 10/20\n",
            "4800/4800 [==============================] - 1s 127us/step - loss: 0.0147 - acc: 0.7035 - val_loss: 0.0140 - val_acc: 0.7100\n",
            "Epoch 11/20\n",
            "4800/4800 [==============================] - 1s 125us/step - loss: 0.0144 - acc: 0.7035 - val_loss: 0.0140 - val_acc: 0.7100\n",
            "Epoch 12/20\n",
            "4800/4800 [==============================] - 1s 129us/step - loss: 0.0143 - acc: 0.7035 - val_loss: 0.0140 - val_acc: 0.7100\n",
            "Epoch 13/20\n",
            "4800/4800 [==============================] - 1s 126us/step - loss: 0.0140 - acc: 0.7035 - val_loss: 0.0140 - val_acc: 0.7100\n",
            "Epoch 14/20\n",
            "4800/4800 [==============================] - 1s 127us/step - loss: 0.0140 - acc: 0.7035 - val_loss: 0.0140 - val_acc: 0.7100\n",
            "Epoch 15/20\n",
            "4800/4800 [==============================] - 1s 127us/step - loss: 0.0139 - acc: 0.7035 - val_loss: 0.0140 - val_acc: 0.7100\n",
            "Epoch 16/20\n",
            "4800/4800 [==============================] - 1s 130us/step - loss: 0.0139 - acc: 0.7035 - val_loss: 0.0140 - val_acc: 0.7100\n",
            "Epoch 17/20\n",
            "4800/4800 [==============================] - 1s 125us/step - loss: 0.0138 - acc: 0.7035 - val_loss: 0.0140 - val_acc: 0.7100\n",
            "Epoch 18/20\n",
            "4800/4800 [==============================] - 1s 126us/step - loss: 0.0138 - acc: 0.7035 - val_loss: 0.0140 - val_acc: 0.7100\n",
            "Epoch 19/20\n",
            "4800/4800 [==============================] - 1s 125us/step - loss: 0.0138 - acc: 0.7035 - val_loss: 0.0140 - val_acc: 0.7100\n",
            "Epoch 20/20\n",
            "4800/4800 [==============================] - 1s 128us/step - loss: 0.0137 - acc: 0.7035 - val_loss: 0.0140 - val_acc: 0.7100\n"
          ],
          "name": "stdout"
        }
      ]
    },
    {
      "cell_type": "code",
      "metadata": {
        "id": "UWuMjLEo_tCA",
        "colab": {
          "base_uri": "https://localhost:8080/",
          "height": 295
        },
        "outputId": "7268b5ce-6b59-4b38-c5db-9325959bb03d"
      },
      "source": [
        "loss = history.history['loss']\n",
        "val_loss = history.history['val_loss']\n",
        "\n",
        "epochs = range(1,len(loss)+1)\n",
        "\n",
        "plt.plot(epochs,loss,'bo',label='Training loss')\n",
        "plt.plot(epochs,val_loss,'b',label='Validation loss')\n",
        "plt.title('Training and validation loss')\n",
        "plt.xlabel('Epochs')\n",
        "plt.ylabel('Loss')\n",
        "plt.legend()\n",
        "plt.show()"
      ],
      "execution_count": null,
      "outputs": [
        {
          "output_type": "display_data",
          "data": {
            "image/png": "[encoded data removed]",
            "text/plain": [
              "<Figure size 432x288 with 1 Axes>"
            ]
          },
          "metadata": {
            "tags": []
          }
        }
      ]
    },
    {
      "cell_type": "code",
      "metadata": {
        "id": "psMyDGXA_tEy",
        "colab": {
          "base_uri": "https://localhost:8080/",
          "height": 295
        },
        "outputId": "0690b252-bc13-4138-9380-751ae40909b6"
      },
      "source": [
        "plt.figure()\n",
        "acc = history.history['acc']\n",
        "val_acc = history.history['val_acc']\n",
        "plt.plot(epochs, acc, 'bo', label='Training acc')\n",
        "plt.plot(epochs, val_acc, 'b', label='Validation acc')\n",
        "plt.title('Training and validation accuracy')\n",
        "plt.xlabel('Epochs')\n",
        "plt.ylabel('Acc')\n",
        "plt.legend()\n",
        "plt.show()"
      ],
      "execution_count": null,
      "outputs": [
        {
          "output_type": "display_data",
          "data": {
            "image/png": "[encoded data removed]",
            "text/plain": [
              "<Figure size 432x288 with 1 Axes>"
            ]
          },
          "metadata": {
            "tags": []
          }
        }
      ]
    },
    {
      "cell_type": "code",
      "metadata": {
        "id": "tjp8kTiY_tHl",
        "colab": {
          "base_uri": "https://localhost:8080/",
          "height": 170
        },
        "outputId": "9610b5c6-946f-4814-b037-fb51ffcdab42"
      },
      "source": [
        "fc7_predictions = model.predict(X_test)\n",
        "print(predictions)\n",
        "Get_score(predictions, Y_test) # Try remember what the Spearman scores actually mean!"
      ],
      "execution_count": null,
      "outputs": [
        {
          "output_type": "stream",
          "text": [
            "[[0.8615807  0.7783828 ]\n",
            " [0.8615807  0.7783828 ]\n",
            " [0.8668281  0.7841706 ]\n",
            " ...\n",
            " [0.8615807  0.7783828 ]\n",
            " [0.85407096 0.78053236]\n",
            " [0.8614943  0.777594  ]]\n",
            "The Spearman's correlation coefficient is: 0.015\n",
            "The Spearman's correlation coefficient is: -0.026\n"
          ],
          "name": "stdout"
        }
      ]
    },
    {
      "cell_type": "markdown",
      "metadata": {
        "id": "iz0LvqUav1jm"
      },
      "source": [
        "The two models are now stored in fc7_model and one_hotel_model"
      ]
    },
    {
      "cell_type": "code",
      "metadata": {
        "id": "yI1plVBolx0C"
      },
      "source": [
        "fc7_model = model "
      ],
      "execution_count": null,
      "outputs": []
    },
    {
      "cell_type": "code",
      "metadata": {
        "id": "McE-oejrqe-Q",
        "colab": {
          "base_uri": "https://localhost:8080/",
          "height": 51
        },
        "outputId": "e6db001b-d119-42af-bda9-448de10811da"
      },
      "source": [
        "print (fc7_model)\n",
        "print (one_hot_model)"
      ],
      "execution_count": null,
      "outputs": [
        {
          "output_type": "stream",
          "text": [
            "<keras.engine.sequential.Sequential object at 0x7fc8f2cf40b8>\n",
            "<keras.engine.sequential.Sequential object at 0x7fc8f2d48588>\n"
          ],
          "name": "stdout"
        }
      ]
    },
    {
      "cell_type": "markdown",
      "metadata": {
        "id": "6FByaESiYN_7"
      },
      "source": [
        "# Combination Modelling \n",
        "## Run the combinations of these two models through the a neural network to see if the correlation has been enhanced. (spoiler: it was not)"
      ]
    },
    {
      "cell_type": "markdown",
      "metadata": {
        "id": "8cvOYb6bFvao"
      },
      "source": [
        "## Merge Models Output Features as an input into a Final Model\n",
        "\n",
        "What I find really interesting about  using a multi model apprach concatenating the input layer with the output of the previous models could potentially improve predicability. This would work with models that use data of a different scale as the output layers in both models would be the  same. Unfortunatly, while this idea seemed novel to me did not yield enhance prediction of memorability"
      ]
    },
    {
      "cell_type": "code",
      "metadata": {
        "id": "bvYCgtR3rXaY"
      },
      "source": [
        "#Keras functions taking the output of both model types and then performs some combination action. In this case Concatinating which in this case proved more effective that summing. \n",
        "from keras.layers import *\n",
        "\n",
        "mergedOut = Concatenate()([one_hotel_model.output,fc7_model.output])\n",
        "    #Concatenate adds the captions features to the input layer of the neural network  \n",
        "    #Add() -> creates a merge layer that sums the inputs\n",
        "    #The second parentheses \"calls\" the layer with the output tensors of the two models\n",
        "    #it will demand that both model1 and model2 have the same output shape"
      ],
      "execution_count": null,
      "outputs": []
    },
    {
      "cell_type": "code",
      "metadata": {
        "id": "q9csdGoErczU"
      },
      "source": [
        "Y = labels[['short-term_memorability','long-term_memorability']].values # targets\n",
        "X = mergedOut"
      ],
      "execution_count": null,
      "outputs": []
    },
    {
      "cell_type": "code",
      "metadata": {
        "id": "eV5pTF6DrcwO",
        "colab": {
          "base_uri": "https://localhost:8080/",
          "height": 85
        },
        "outputId": "92ae32ac-8711-46ec-e92d-ec5d3548079e"
      },
      "source": [
        "print('X_train', X_train.shape)\n",
        "print('X_test', X_test.shape)\n",
        "print('Y_train', Y_train.shape)\n",
        "print('Y_test', Y_test.shape)"
      ],
      "execution_count": null,
      "outputs": [
        {
          "output_type": "stream",
          "text": [
            "X_train (4800, 6000)\n",
            "X_test (1200, 6000)\n",
            "Y_train (4800, 2)\n",
            "Y_test (1200, 2)\n"
          ],
          "name": "stdout"
        }
      ]
    },
    {
      "cell_type": "code",
      "metadata": {
        "id": "PnyIyk3crcs2"
      },
      "source": [
        "max_len = 6000"
      ],
      "execution_count": null,
      "outputs": []
    },
    {
      "cell_type": "markdown",
      "metadata": {
        "id": "Gf0viqTEe3j3"
      },
      "source": [
        "Similar to the code of the previous model the it run the default 3 layer nn from the example. "
      ]
    },
    {
      "cell_type": "code",
      "metadata": {
        "id": "zrGEC9percpu"
      },
      "source": [
        "# add dropout - Helps prevent overfitting\n",
        "# add regularizers - Regularizers allow to apply penalties on layer parameters or layer activity during optimization.\n",
        "# activations - Used to determine the output of network. It maps the resulting values in between 0 to 1 or -1 to 1 etc. (depending upon the function).\n",
        "\n",
        "model = Sequential() # The Sequential model is a linear stack of layers.\n",
        "\n",
        "# You can simply add layers via the .add() method:\n",
        "model.add(layers.Dense(10,activation='relu',kernel_regularizer=regularizers.l2(0.0005),input_shape=(max_len,))) # Just your regular densely-connected NN layer.\n",
        "model.add(layers.Dropout(0.1)) #Dropout consists in randomly setting a fraction rate of input units to 0 at each update during training; helps prevent overfitting.\n",
        "model.add(layers.Dense(10,activation='relu',kernel_regularizer=regularizers.l2(0.0005)))\n",
        "model.add(layers.Dropout(0.1))\n",
        "model.add(layers.Dense(2,activation='sigmoid'))"
      ],
      "execution_count": null,
      "outputs": []
    },
    {
      "cell_type": "code",
      "metadata": {
        "id": "6jC3b4-6rcnG"
      },
      "source": [
        "# compile the model \n",
        "model.compile(optimizer='rmsprop',loss='mse',metrics=['accuracy'])"
      ],
      "execution_count": null,
      "outputs": []
    },
    {
      "cell_type": "code",
      "metadata": {
        "id": "vsyrQ2OMsiJ4",
        "colab": {
          "base_uri": "https://localhost:8080/",
          "height": 734
        },
        "outputId": "65fdbb2e-7a95-406b-f299-17e13bd17e54"
      },
      "source": [
        "# training the model \n",
        "history = model.fit(X_train,Y_train,epochs=20,validation_data=(X_test,Y_test))"
      ],
      "execution_count": null,
      "outputs": [
        {
          "output_type": "stream",
          "text": [
            "Train on 4800 samples, validate on 1200 samples\n",
            "Epoch 1/20\n",
            "4800/4800 [==============================] - 2s 396us/step - loss: 0.0906 - acc: 0.7035 - val_loss: 0.0569 - val_acc: 0.7100\n",
            "Epoch 2/20\n",
            "4800/4800 [==============================] - 1s 128us/step - loss: 0.0343 - acc: 0.7033 - val_loss: 0.0171 - val_acc: 0.7100\n",
            "Epoch 3/20\n",
            "4800/4800 [==============================] - 1s 127us/step - loss: 0.0172 - acc: 0.6973 - val_loss: 0.0148 - val_acc: 0.7100\n",
            "Epoch 4/20\n",
            "4800/4800 [==============================] - 1s 130us/step - loss: 0.0157 - acc: 0.6967 - val_loss: 0.0146 - val_acc: 0.7100\n",
            "Epoch 5/20\n",
            "4800/4800 [==============================] - 1s 127us/step - loss: 0.0152 - acc: 0.6985 - val_loss: 0.0144 - val_acc: 0.7100\n",
            "Epoch 6/20\n",
            "4800/4800 [==============================] - 1s 127us/step - loss: 0.0149 - acc: 0.7023 - val_loss: 0.0142 - val_acc: 0.7100\n",
            "Epoch 7/20\n",
            "4800/4800 [==============================] - 1s 126us/step - loss: 0.0146 - acc: 0.7035 - val_loss: 0.0142 - val_acc: 0.7100\n",
            "Epoch 8/20\n",
            "4800/4800 [==============================] - 1s 131us/step - loss: 0.0145 - acc: 0.7033 - val_loss: 0.0141 - val_acc: 0.7100\n",
            "Epoch 9/20\n",
            "4800/4800 [==============================] - 1s 131us/step - loss: 0.0143 - acc: 0.7031 - val_loss: 0.0141 - val_acc: 0.7100\n",
            "Epoch 10/20\n",
            "4800/4800 [==============================] - 1s 129us/step - loss: 0.0142 - acc: 0.7027 - val_loss: 0.0141 - val_acc: 0.7100\n",
            "Epoch 11/20\n",
            "4800/4800 [==============================] - 1s 128us/step - loss: 0.0142 - acc: 0.7029 - val_loss: 0.0141 - val_acc: 0.7100\n",
            "Epoch 12/20\n",
            "4800/4800 [==============================] - 1s 131us/step - loss: 0.0141 - acc: 0.7031 - val_loss: 0.0140 - val_acc: 0.7100\n",
            "Epoch 13/20\n",
            "4800/4800 [==============================] - 1s 133us/step - loss: 0.0141 - acc: 0.7035 - val_loss: 0.0140 - val_acc: 0.7100\n",
            "Epoch 14/20\n",
            "4800/4800 [==============================] - 1s 136us/step - loss: 0.0141 - acc: 0.7035 - val_loss: 0.0140 - val_acc: 0.7100\n",
            "Epoch 15/20\n",
            "4800/4800 [==============================] - 1s 138us/step - loss: 0.0140 - acc: 0.7035 - val_loss: 0.0140 - val_acc: 0.7100\n",
            "Epoch 16/20\n",
            "4800/4800 [==============================] - 1s 137us/step - loss: 0.0140 - acc: 0.7035 - val_loss: 0.0141 - val_acc: 0.7100\n",
            "Epoch 17/20\n",
            "4800/4800 [==============================] - 1s 135us/step - loss: 0.0140 - acc: 0.7035 - val_loss: 0.0140 - val_acc: 0.7100\n",
            "Epoch 18/20\n",
            "4800/4800 [==============================] - 1s 136us/step - loss: 0.0139 - acc: 0.7035 - val_loss: 0.0140 - val_acc: 0.7100\n",
            "Epoch 19/20\n",
            "4800/4800 [==============================] - 1s 130us/step - loss: 0.0139 - acc: 0.7035 - val_loss: 0.0140 - val_acc: 0.7100\n",
            "Epoch 20/20\n",
            "4800/4800 [==============================] - 1s 128us/step - loss: 0.0140 - acc: 0.7035 - val_loss: 0.0140 - val_acc: 0.7100\n"
          ],
          "name": "stdout"
        }
      ]
    },
    {
      "cell_type": "code",
      "metadata": {
        "id": "psEfIxxtsiVY",
        "colab": {
          "base_uri": "https://localhost:8080/",
          "height": 295
        },
        "outputId": "b294df56-488e-44cf-bee2-7987412049c5"
      },
      "source": [
        "loss = history.history['loss']\n",
        "val_loss = history.history['val_loss']\n",
        "\n",
        "epochs = range(1,len(loss)+1)\n",
        "\n",
        "plt.plot(epochs,loss,'bo',label='Training loss')\n",
        "plt.plot(epochs,val_loss,'b',label='Validation loss')\n",
        "plt.title('Training and validation loss')\n",
        "plt.xlabel('Epochs')\n",
        "plt.ylabel('Loss')\n",
        "plt.legend()\n",
        "plt.show()"
      ],
      "execution_count": null,
      "outputs": [
        {
          "output_type": "display_data",
          "data": {
            "image/png": "[encoded data removed]",
            "text/plain": [
              "<Figure size 432x288 with 1 Axes>"
            ]
          },
          "metadata": {
            "tags": []
          }
        }
      ]
    },
    {
      "cell_type": "markdown",
      "metadata": {
        "id": "rgQkM7bggtNU"
      },
      "source": [
        "The important takeaway from the graph below is the huge descropency between training an validation.  Indicating underfitting. "
      ]
    },
    {
      "cell_type": "code",
      "metadata": {
        "id": "eV9wwig_silP",
        "colab": {
          "base_uri": "https://localhost:8080/",
          "height": 295
        },
        "outputId": "426c4083-6cb9-4a0f-a4b2-60a91cb24a1d"
      },
      "source": [
        "plt.figure()\n",
        "acc = history.history['acc']\n",
        "val_acc = history.history['val_acc']\n",
        "plt.plot(epochs, acc, 'bo', label='Training acc')\n",
        "plt.plot(epochs, val_acc, 'b', label='Validation acc')\n",
        "plt.title('Training and validation accuracy')\n",
        "plt.xlabel('Epochs')\n",
        "plt.ylabel('Acc')\n",
        "plt.legend()\n",
        "plt.show()"
      ],
      "execution_count": null,
      "outputs": [
        {
          "output_type": "display_data",
          "data": {
            "image/png": "[encoded data removed]",
            "text/plain": [
              "<Figure size 432x288 with 1 Axes>"
            ]
          },
          "metadata": {
            "tags": []
          }
        }
      ]
    },
    {
      "cell_type": "code",
      "metadata": {
        "id": "HpEBepcfsii-",
        "colab": {
          "base_uri": "https://localhost:8080/",
          "height": 170
        },
        "outputId": "a5b11922-8283-40ef-ec12-a71e45a894fc"
      },
      "source": [
        "predictions = model.predict(X_test)\n",
        "print(predictions)\n",
        "Get_score(predictions, Y_test) # Try remember what the Spearman scores actually mean!"
      ],
      "execution_count": null,
      "outputs": [
        {
          "output_type": "stream",
          "text": [
            "[[0.85967875 0.77783966]\n",
            " [0.85967875 0.77783966]\n",
            " [0.85967875 0.77783966]\n",
            " ...\n",
            " [0.85967875 0.77783966]\n",
            " [0.85967875 0.77783966]\n",
            " [0.85967875 0.77783966]]\n",
            "The Spearman's correlation coefficient is: 0.006\n",
            "The Spearman's correlation coefficient is: 0.014\n"
          ],
          "name": "stdout"
        }
      ]
    },
    {
      "cell_type": "code",
      "metadata": {
        "id": "CWX7QFxM1jcF"
      },
      "source": [
        "model.save('/content/drive/My Drive/Memorability_assignment/mergered_model.h5')"
      ],
      "execution_count": null,
      "outputs": []
    },
    {
      "cell_type": "markdown",
      "metadata": {
        "id": "rzl5qxjCBNP0"
      },
      "source": [
        "## Since the best model perfomance was found using the one hot captions provided it makes sense to use this model on the test set.  Ahead of the other models or combinations of models\n",
        "\n",
        "For the final submission it makes the most sense to sibmit the model with the highest performance despite trying some more novel but poorer performing approaches. "
      ]
    },
    {
      "cell_type": "markdown",
      "metadata": {
        "id": "-g5AiCq2hasz"
      },
      "source": [
        "Also worth noting that the functions to process the data have been altered to sccount for the fact that the test set has no ground truth. "
      ]
    },
    {
      "cell_type": "code",
      "metadata": {
        "id": "ERtNEJOT8pzH"
      },
      "source": [
        "# load labels and captions\n",
        "def read_test_caps(fname):\n",
        "    \"\"\"Load the captions into a dataframe\"\"\"\n",
        "    vn = []\n",
        "    cap = []\n",
        "    df = pd.DataFrame();\n",
        "    with open(fname) as f:\n",
        "        for line in f:\n",
        "            pairs = line.split()\n",
        "            vn.append(pairs[0])\n",
        "            cap.append(pairs[1])\n",
        "        df['video']=vn\n",
        "        df['caption']=cap\n",
        "    return df\n",
        "\n",
        "\n",
        "# load the captions\n",
        "test_cap_path = 'Copy of test-set-1_video-captions.txt'\n",
        "df_cap_test=read_caps(test_cap_path)\n",
        "\n"
      ],
      "execution_count": null,
      "outputs": []
    },
    {
      "cell_type": "code",
      "metadata": {
        "id": "1lzR3guj8p4D",
        "colab": {
          "base_uri": "https://localhost:8080/",
          "height": 102
        },
        "outputId": "c639b1cf-0adf-4f37-e2d7-a7e0e7721677"
      },
      "source": [
        "!ls #Check file try to see to troubleshoot import"
      ],
      "execution_count": null,
      "outputs": [
        {
          "output_type": "stream",
          "text": [
            " captions_model.h5\t\t\t  mergered_model.h5\n",
            "'Colab Notebooks'\t\t\t  Models\n",
            "'Copy of ground_truth_template.csv'\t  one_hot_model.h5\n",
            "'Copy of test-set-1_video-captions.txt'  'test-set (1)'\n",
            " dev-set\n"
          ],
          "name": "stdout"
        }
      ]
    },
    {
      "cell_type": "code",
      "metadata": {
        "id": "otJTj-DdDMi1",
        "colab": {
          "base_uri": "https://localhost:8080/",
          "height": 1105
        },
        "outputId": "a5e29808-9ed3-4f90-fc19-b0a242316cab"
      },
      "source": [
        "df_cap_test.head #Confirm test captions look reasonable and differnt to dev set"
      ],
      "execution_count": null,
      "outputs": [
        {
          "output_type": "execute_result",
          "data": {
            "text/plain": [
              "<bound method NDFrame.head of                 video                                            caption\n",
              "0      video7494.webm     green jeep struggling to drive over huge rocks\n",
              "1      video7495.webm  hiking woman tourist is walking forward in mou...\n",
              "2      video7496.webm  close up of african american doctors hands usi...\n",
              "3      video7497.webm  slow motion of a man using treadmill in the gy...\n",
              "4      video7498.webm       slow motion of photographer in national park\n",
              "5      video7499.webm  group of mixed race american patriotic peoples...\n",
              "6      video7500.webm  business people train and draw diagrams on boa...\n",
              "7      video7502.webm                       father and daughters smiling\n",
              "8      video7503.webm  mechanic using a rotary polisher on a the pain...\n",
              "9      video7504.webm  young couple having a conversation in hotel co...\n",
              "10     video7505.webm                 jerusalem street market timelapse \n",
              "11     video7506.webm                     williamsburg capitol pan right\n",
              "12     video7507.webm             hiker and lone tree in red rock canyon\n",
              "13     video7508.webm                      reenactment event kettle corn\n",
              "14     video7510.webm                           friends eat cake at cafe\n",
              "15     video7511.webm  st petersburg russia april young man is excite...\n",
              "16     video7513.webm     unrecognizable children eat white cotton candy\n",
              "17     video7515.webm    a latino woman boxes against a black background\n",
              "18     video7516.webm  close upof a woman typing on touch pad being o...\n",
              "19     video7517.webm                       couple and dog on cloudy day\n",
              "20     video7518.webm  steadicamof young woman using laptop in hotel ...\n",
              "21     video7519.webm  slowmotion of happy diverse group of four youn...\n",
              "22     video7520.webm           young girl decorating the christmas tree\n",
              "23     video7521.webm                    working on computer at computer\n",
              "24     video7522.webm                             woman talking to phone\n",
              "25     video7523.webm                      two doctors with x ray prints\n",
              "26     video7524.webm  athlete runner or sprinter does workout for le...\n",
              "27     video7525.webm  friends stand and talk while holding shopping ...\n",
              "28     video7526.webm                        bald eagle on tree branches\n",
              "29     video7527.webm                            family eating breakfast\n",
              "...               ...                                                ...\n",
              "1970   video9977.webm                                      oil lamp tilt\n",
              "1971   video9980.webm                         train moving past graffiti\n",
              "1972   video9981.webm                          police patrolling in snow\n",
              "1973   video9982.webm  videoblocks birds fly across a view of colorfu...\n",
              "1974   video9983.webm               woman in bikini sitting on the beach\n",
              "1975   video9984.webm                                 two swans on water\n",
              "1976   video9985.webm                    eagle soaring in clear blue sky\n",
              "1977   video9986.webm                                pedestrians walking\n",
              "1978   video9987.webm                     insideof a waterfall at sunset\n",
              "1979   video9988.webm                      diving mask hanging on sunbed\n",
              "1980   video9989.webm  scene of high palms with tops swinging in the ...\n",
              "1981   video9990.webm  close up of chef hands cooking and preparing f...\n",
              "1982   video9991.webm                    family sits down to eat outside\n",
              "1983   video9992.webm          man attempting to start car in a blizzard\n",
              "1984   video9993.webm              business couple working in the garden\n",
              "1985   video9994.webm           crow hunting for food on rocky shoreline\n",
              "1986   video9995.webm  group of people running in the park close up s...\n",
              "1987   video9996.webm            restaurant waiter serves food to couple\n",
              "1988   video9997.webm  tombstone of hattie s wife of private charles ...\n",
              "1989   video9998.webm        closeup of green vegetation in desert field\n",
              "1990   video9999.webm    fisherman on step shore of corpus christi texas\n",
              "1991  video10000.webm                               owl in tree close up\n",
              "1992  video10001.webm                       around the house on a laptop\n",
              "1993  video10002.webm                    beautiful young girl with apple\n",
              "1994  video10003.webm  family of four stands at barrier on bridge in ...\n",
              "1995  video10004.webm  astronaut in outer space against the backdrop ...\n",
              "1996  video10005.webm  young women lying on sunbed and applying sun c...\n",
              "1997  video10006.webm  doctor talking to patient using a tablet to ex...\n",
              "1998  video10007.webm  businessman sitting on the beach on inflatable...\n",
              "1999  video10008.webm  woman eating ice cream and sitting in the stre...\n",
              "\n",
              "[2000 rows x 2 columns]>"
            ]
          },
          "metadata": {
            "tags": []
          },
          "execution_count": 490
        }
      ]
    },
    {
      "cell_type": "code",
      "metadata": {
        "id": "sGisGwhf8p7o",
        "colab": {
          "base_uri": "https://localhost:8080/",
          "height": 68
        },
        "outputId": "1f8c0ba3-5cc9-4342-fbd7-9fac005b6da3"
      },
      "source": [
        "counts = Counter()\n",
        "# setup prograss tracker\n",
        "pbar = pyprind.ProgBar(len(df_cap_test['caption']), title='Counting word occurrences')\n",
        "for i, cap in enumerate(df_cap_test['caption']):\n",
        "    # replace punctuations with space\n",
        "    # convert words to lower case \n",
        "    text = ''.join([c if c not in punctuation else ' ' for c in cap]).lower()\n",
        "    df_cap_test.loc[i,'caption'] = text\n",
        "    pbar.update()\n",
        "    counts.update(text.split())"
      ],
      "execution_count": null,
      "outputs": [
        {
          "output_type": "stream",
          "text": [
            "Counting word occurrences\n",
            "0% [##############################] 100% | ETA: 00:00:00\n",
            "Total time elapsed: 00:00:00\n"
          ],
          "name": "stderr"
        }
      ]
    },
    {
      "cell_type": "code",
      "metadata": {
        "id": "Xie5b_OlB_O9"
      },
      "source": [
        "print(counts)\n",
        "print(len(counts))"
      ],
      "execution_count": null,
      "outputs": []
    },
    {
      "cell_type": "code",
      "metadata": {
        "id": "iW6RvT7RCDir",
        "colab": {
          "base_uri": "https://localhost:8080/",
          "height": 34
        },
        "outputId": "51a62482-314a-4e5f-a9bb-d271f6936480"
      },
      "source": [
        "# build the word index\n",
        "len_token_test = len(counts)\n",
        "tokenizer = Tokenizer(num_words=len_token_test)\n",
        "print(len_token_test)"
      ],
      "execution_count": null,
      "outputs": [
        {
          "output_type": "stream",
          "text": [
            "3197\n"
          ],
          "name": "stdout"
        }
      ]
    },
    {
      "cell_type": "code",
      "metadata": {
        "id": "OsHhtUijCDpi"
      },
      "source": [
        "tokenizer .fit_on_texts(list(df_cap_test.caption.values)) #fit a list of captions to the tokenizer"
      ],
      "execution_count": null,
      "outputs": []
    },
    {
      "cell_type": "code",
      "metadata": {
        "id": "Pl3DonY9CDvI",
        "colab": {
          "base_uri": "https://localhost:8080/",
          "height": 34
        },
        "outputId": "21cc7f09-eda3-4150-db39-4d5c4924ad08"
      },
      "source": [
        "print(len(tokenizer_test.word_index))"
      ],
      "execution_count": null,
      "outputs": [
        {
          "output_type": "stream",
          "text": [
            "3197\n"
          ],
          "name": "stdout"
        }
      ]
    },
    {
      "cell_type": "code",
      "metadata": {
        "id": "m-W950pe8qC-",
        "colab": {
          "base_uri": "https://localhost:8080/",
          "height": 34
        },
        "outputId": "c7467d53-88fb-4fe9-bdea-03fe008d0459"
      },
      "source": [
        "print (tokenizer_test)"
      ],
      "execution_count": null,
      "outputs": [
        {
          "output_type": "stream",
          "text": [
            "<keras_preprocessing.text.Tokenizer object at 0x7fc8f17b6e80>\n"
          ],
          "name": "stdout"
        }
      ]
    },
    {
      "cell_type": "code",
      "metadata": {
        "id": "mzqjiHkDIxws",
        "colab": {
          "base_uri": "https://localhost:8080/",
          "height": 34
        },
        "outputId": "b7d9edda-977a-4f62-c705-bb72e5b5c094"
      },
      "source": [
        "#Note there is a different array shape here that will have to be altered to input into the first layer of previos models\n",
        "one_hot_test.shape"
      ],
      "execution_count": null,
      "outputs": [
        {
          "output_type": "execute_result",
          "data": {
            "text/plain": [
              "(2000, 3197)"
            ]
          },
          "metadata": {
            "tags": []
          },
          "execution_count": 559
        }
      ]
    },
    {
      "cell_type": "code",
      "metadata": {
        "id": "_VugxuYj8qRs"
      },
      "source": [
        "#Code that encodes the captions in a binary fashion. \n",
        "one_hot_test = tokenizer.texts_to_matrix(list(df_cap_test.caption.values),mode='binary')"
      ],
      "execution_count": null,
      "outputs": []
    },
    {
      "cell_type": "code",
      "metadata": {
        "id": "WaGNFjUD8qaE"
      },
      "source": [
        "X_new = one_hot_test"
      ],
      "execution_count": null,
      "outputs": []
    },
    {
      "cell_type": "code",
      "metadata": {
        "id": "K5vfDuM-US8G"
      },
      "source": [
        "#Creating an array with zeros to fit the input layer of the previous model \n",
        "pad = np.zeros((2000, 1994), dtype=X_new.dtype)"
      ],
      "execution_count": null,
      "outputs": []
    },
    {
      "cell_type": "code",
      "metadata": {
        "id": "LSqSb02lUrxk",
        "colab": {
          "base_uri": "https://localhost:8080/",
          "height": 34
        },
        "outputId": "739d39c1-6c57-412c-f742-6598f2a6c3f8"
      },
      "source": [
        "#Combining the arrays to fit the input layer. Note that the extension of the array will contain all zeros so won't impact the model as the new elements contain no information. \n",
        "x_shaped = np.concatenate((X_new, pad),axis = 1)\n",
        "x_shaped.shape"
      ],
      "execution_count": null,
      "outputs": [
        {
          "output_type": "execute_result",
          "data": {
            "text/plain": [
              "(2000, 5191)"
            ]
          },
          "metadata": {
            "tags": []
          },
          "execution_count": 590
        }
      ]
    },
    {
      "cell_type": "code",
      "metadata": {
        "id": "unu2Ku0x8qUv"
      },
      "source": [
        "# Takes the new cleaned and processed features from the test set and used them in the previous highest performing model. \n",
        "y_new = one_hot_model.predict_proba(x_shaped)"
      ],
      "execution_count": null,
      "outputs": []
    },
    {
      "cell_type": "code",
      "metadata": {
        "id": "RtXYOexd8qKr",
        "colab": {
          "base_uri": "https://localhost:8080/",
          "height": 204
        },
        "outputId": "0bb78dd3-0abb-4b9b-e642-fd5d5b1a3f09"
      },
      "source": [
        "#Transforms the array into a data frame to output the results as a CSV to submit for the assignment. \n",
        "results_df = pd.DataFrame(data=y_new[1:,1:],    # values\n",
        "             index=y_new[1:,0],    # 1st column as index\n",
        "           columns=y_new[0,1:])  # 1st row as the column names\n",
        "results_df.head()"
      ],
      "execution_count": null,
      "outputs": [
        {
          "output_type": "execute_result",
          "data": {
            "text/html": [
              "<div>\n",
              "<style scoped>\n",
              "    .dataframe tbody tr th:only-of-type {\n",
              "        vertical-align: middle;\n",
              "    }\n",
              "\n",
              "    .dataframe tbody tr th {\n",
              "        vertical-align: top;\n",
              "    }\n",
              "\n",
              "    .dataframe thead th {\n",
              "        text-align: right;\n",
              "    }\n",
              "</style>\n",
              "<table border=\"1\" class=\"dataframe\">\n",
              "  <thead>\n",
              "    <tr style=\"text-align: right;\">\n",
              "      <th></th>\n",
              "      <th>0.7760899662971497</th>\n",
              "    </tr>\n",
              "  </thead>\n",
              "  <tbody>\n",
              "    <tr>\n",
              "      <th>0.858546</th>\n",
              "      <td>0.777682</td>\n",
              "    </tr>\n",
              "    <tr>\n",
              "      <th>0.857851</th>\n",
              "      <td>0.777042</td>\n",
              "    </tr>\n",
              "    <tr>\n",
              "      <th>0.858479</th>\n",
              "      <td>0.777620</td>\n",
              "    </tr>\n",
              "    <tr>\n",
              "      <th>0.857734</th>\n",
              "      <td>0.776935</td>\n",
              "    </tr>\n",
              "    <tr>\n",
              "      <th>0.858653</th>\n",
              "      <td>0.777781</td>\n",
              "    </tr>\n",
              "  </tbody>\n",
              "</table>\n",
              "</div>"
            ],
            "text/plain": [
              "           0.77609\n",
              "0.858546  0.777682\n",
              "0.857851  0.777042\n",
              "0.858479  0.777620\n",
              "0.857734  0.776935\n",
              "0.858653  0.777781"
            ]
          },
          "metadata": {
            "tags": []
          },
          "execution_count": 592
        }
      ]
    },
    {
      "cell_type": "code",
      "metadata": {
        "id": "g6QfOdH48qGI"
      },
      "source": [
        "results_df.to_csv('results_v4.csv')"
      ],
      "execution_count": null,
      "outputs": []
    },
    {
      "cell_type": "code",
      "metadata": {
        "id": "BfqwUDHO8p2F"
      },
      "source": [
        ""
      ],
      "execution_count": null,
      "outputs": []
    }
  ]
}